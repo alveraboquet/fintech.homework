{
 "cells": [
  {
   "cell_type": "markdown",
   "metadata": {},
   "source": [
    "# Loan Approver"
   ]
  },
  {
   "cell_type": "code",
   "execution_count": 23,
   "metadata": {},
   "outputs": [],
   "source": [
    "from pathlib import Path\n",
    "import numpy as np\n",
    "import pandas as pd\n",
    "from sklearn.model_selection import train_test_split\n",
    "from sklearn.linear_model import LogisticRegression\n",
    "from sklearn.metrics import confusion_matrix\n",
    "from sklearn.metrics import classification_report"
   ]
  },
  {
   "cell_type": "code",
   "execution_count": 3,
   "metadata": {},
   "outputs": [],
   "source": [
    "# Note: The following data has been normalized between 0 and 1\n",
    "data = Path('./Resources/loans.csv')\n",
    "df = pd.read_csv(data)"
   ]
  },
  {
   "cell_type": "code",
   "execution_count": 39,
   "metadata": {},
   "outputs": [
    {
     "output_type": "execute_result",
     "data": {
      "text/plain": [
       "     assets  liabilities    income  credit_score  mortgage   status\n",
       "0  0.210859     0.452865  0.281367      0.628039  0.302682     deny\n",
       "1  0.395018     0.661153  0.330622      0.638439  0.502831  approve\n",
       "2  0.291186     0.593432  0.438436      0.434863  0.315574  approve\n",
       "3  0.458640     0.576156  0.744167      0.291324  0.394891  approve\n",
       "4  0.463470     0.292414  0.489887      0.811384  0.566605  approve"
      ],
      "text/html": "<div>\n<style scoped>\n    .dataframe tbody tr th:only-of-type {\n        vertical-align: middle;\n    }\n\n    .dataframe tbody tr th {\n        vertical-align: top;\n    }\n\n    .dataframe thead th {\n        text-align: right;\n    }\n</style>\n<table border=\"1\" class=\"dataframe\">\n  <thead>\n    <tr style=\"text-align: right;\">\n      <th></th>\n      <th>assets</th>\n      <th>liabilities</th>\n      <th>income</th>\n      <th>credit_score</th>\n      <th>mortgage</th>\n      <th>status</th>\n    </tr>\n  </thead>\n  <tbody>\n    <tr>\n      <th>0</th>\n      <td>0.210859</td>\n      <td>0.452865</td>\n      <td>0.281367</td>\n      <td>0.628039</td>\n      <td>0.302682</td>\n      <td>deny</td>\n    </tr>\n    <tr>\n      <th>1</th>\n      <td>0.395018</td>\n      <td>0.661153</td>\n      <td>0.330622</td>\n      <td>0.638439</td>\n      <td>0.502831</td>\n      <td>approve</td>\n    </tr>\n    <tr>\n      <th>2</th>\n      <td>0.291186</td>\n      <td>0.593432</td>\n      <td>0.438436</td>\n      <td>0.434863</td>\n      <td>0.315574</td>\n      <td>approve</td>\n    </tr>\n    <tr>\n      <th>3</th>\n      <td>0.458640</td>\n      <td>0.576156</td>\n      <td>0.744167</td>\n      <td>0.291324</td>\n      <td>0.394891</td>\n      <td>approve</td>\n    </tr>\n    <tr>\n      <th>4</th>\n      <td>0.463470</td>\n      <td>0.292414</td>\n      <td>0.489887</td>\n      <td>0.811384</td>\n      <td>0.566605</td>\n      <td>approve</td>\n    </tr>\n  </tbody>\n</table>\n</div>"
     },
     "metadata": {},
     "execution_count": 39
    }
   ],
   "source": [
    "df.head()"
   ]
  },
  {
   "cell_type": "markdown",
   "metadata": {},
   "source": [
    "## Separate the Features (X) from the Target (y)"
   ]
  },
  {
   "cell_type": "code",
   "execution_count": 26,
   "metadata": {},
   "outputs": [],
   "source": [
    "X = df.drop(columns=\"status\", axis=1)\n",
    "y = df[\"status\"][:]"
   ]
  },
  {
   "cell_type": "code",
   "execution_count": 27,
   "metadata": {},
   "outputs": [
    {
     "output_type": "execute_result",
     "data": {
      "text/plain": [
       "     assets  liabilities    income  credit_score  mortgage\n",
       "0  0.210859     0.452865  0.281367      0.628039  0.302682\n",
       "1  0.395018     0.661153  0.330622      0.638439  0.502831\n",
       "2  0.291186     0.593432  0.438436      0.434863  0.315574\n",
       "3  0.458640     0.576156  0.744167      0.291324  0.394891\n",
       "4  0.463470     0.292414  0.489887      0.811384  0.566605"
      ],
      "text/html": "<div>\n<style scoped>\n    .dataframe tbody tr th:only-of-type {\n        vertical-align: middle;\n    }\n\n    .dataframe tbody tr th {\n        vertical-align: top;\n    }\n\n    .dataframe thead th {\n        text-align: right;\n    }\n</style>\n<table border=\"1\" class=\"dataframe\">\n  <thead>\n    <tr style=\"text-align: right;\">\n      <th></th>\n      <th>assets</th>\n      <th>liabilities</th>\n      <th>income</th>\n      <th>credit_score</th>\n      <th>mortgage</th>\n    </tr>\n  </thead>\n  <tbody>\n    <tr>\n      <th>0</th>\n      <td>0.210859</td>\n      <td>0.452865</td>\n      <td>0.281367</td>\n      <td>0.628039</td>\n      <td>0.302682</td>\n    </tr>\n    <tr>\n      <th>1</th>\n      <td>0.395018</td>\n      <td>0.661153</td>\n      <td>0.330622</td>\n      <td>0.638439</td>\n      <td>0.502831</td>\n    </tr>\n    <tr>\n      <th>2</th>\n      <td>0.291186</td>\n      <td>0.593432</td>\n      <td>0.438436</td>\n      <td>0.434863</td>\n      <td>0.315574</td>\n    </tr>\n    <tr>\n      <th>3</th>\n      <td>0.458640</td>\n      <td>0.576156</td>\n      <td>0.744167</td>\n      <td>0.291324</td>\n      <td>0.394891</td>\n    </tr>\n    <tr>\n      <th>4</th>\n      <td>0.463470</td>\n      <td>0.292414</td>\n      <td>0.489887</td>\n      <td>0.811384</td>\n      <td>0.566605</td>\n    </tr>\n  </tbody>\n</table>\n</div>"
     },
     "metadata": {},
     "execution_count": 27
    }
   ],
   "source": [
    "X.head()"
   ]
  },
  {
   "cell_type": "code",
   "execution_count": 28,
   "metadata": {},
   "outputs": [
    {
     "output_type": "execute_result",
     "data": {
      "text/plain": [
       "0       deny\n",
       "1    approve\n",
       "2    approve\n",
       "3    approve\n",
       "4    approve\n",
       "Name: status, dtype: object"
      ]
     },
     "metadata": {},
     "execution_count": 28
    }
   ],
   "source": [
    "y.head()"
   ]
  },
  {
   "cell_type": "markdown",
   "metadata": {
    "slideshow": {
     "slide_type": "subslide"
    }
   },
   "source": [
    "## Split our data into training and testing"
   ]
  },
  {
   "cell_type": "code",
   "execution_count": 29,
   "metadata": {
    "collapsed": true,
    "slideshow": {
     "slide_type": "fragment"
    }
   },
   "outputs": [],
   "source": [
    "# YOUR CODE HERE!# Split data into test and train subsets\n",
    "X_train, X_test, y_train, y_test = train_test_split(X, y, random_state=1, stratify=y)"
   ]
  },
  {
   "cell_type": "markdown",
   "metadata": {
    "slideshow": {
     "slide_type": "subslide"
    }
   },
   "source": [
    "## Create a Logistic Regression Classifier"
   ]
  },
  {
   "cell_type": "code",
   "execution_count": 30,
   "metadata": {
    "slideshow": {
     "slide_type": "fragment"
    }
   },
   "outputs": [],
   "source": [
    "classifier = LogisticRegression(random_state=1)"
   ]
  },
  {
   "cell_type": "markdown",
   "metadata": {
    "slideshow": {
     "slide_type": "subslide"
    }
   },
   "source": [
    "## Fit (train) or model using the training data"
   ]
  },
  {
   "cell_type": "code",
   "execution_count": 31,
   "metadata": {
    "slideshow": {
     "slide_type": "fragment"
    }
   },
   "outputs": [
    {
     "output_type": "execute_result",
     "data": {
      "text/plain": [
       "LogisticRegression(random_state=1)"
      ]
     },
     "metadata": {},
     "execution_count": 31
    }
   ],
   "source": [
    "classifier.fit(X_train, y_train)"
   ]
  },
  {
   "cell_type": "markdown",
   "metadata": {
    "slideshow": {
     "slide_type": "subslide"
    }
   },
   "source": [
    "## Score the model using the test data"
   ]
  },
  {
   "cell_type": "code",
   "execution_count": 32,
   "metadata": {
    "slideshow": {
     "slide_type": "fragment"
    }
   },
   "outputs": [
    {
     "output_type": "stream",
     "name": "stdout",
     "text": [
      "Training Data Score: 0.5466666666666666\nTesting Data Score: 0.52\n"
     ]
    }
   ],
   "source": [
    "print(f'Training Data Score: {classifier.score(X_train, y_train)}')\n",
    "print(f'Testing Data Score: {classifier.score(X_test, y_test)}')"
   ]
  },
  {
   "cell_type": "markdown",
   "metadata": {
    "slideshow": {
     "slide_type": "subslide"
    }
   },
   "source": [
    "## Make predictions"
   ]
  },
  {
   "cell_type": "code",
   "execution_count": 37,
   "metadata": {
    "slideshow": {
     "slide_type": "subslide"
    }
   },
   "outputs": [
    {
     "output_type": "execute_result",
     "data": {
      "text/plain": [
       "   Prediction   Actual\n",
       "0        deny     deny\n",
       "1        deny  approve\n",
       "2        deny     deny\n",
       "3     approve     deny\n",
       "4        deny     deny\n",
       "5        deny  approve\n",
       "6        deny     deny\n",
       "7     approve     deny\n",
       "8        deny     deny\n",
       "9     approve  approve\n",
       "10       deny  approve\n",
       "11       deny     deny\n",
       "12       deny     deny\n",
       "13       deny  approve\n",
       "14       deny     deny\n",
       "15    approve  approve\n",
       "16       deny  approve\n",
       "17    approve  approve\n",
       "18       deny  approve\n",
       "19       deny  approve\n",
       "20       deny     deny\n",
       "21    approve     deny\n",
       "22       deny  approve\n",
       "23       deny  approve\n",
       "24       deny     deny"
      ],
      "text/html": "<div>\n<style scoped>\n    .dataframe tbody tr th:only-of-type {\n        vertical-align: middle;\n    }\n\n    .dataframe tbody tr th {\n        vertical-align: top;\n    }\n\n    .dataframe thead th {\n        text-align: right;\n    }\n</style>\n<table border=\"1\" class=\"dataframe\">\n  <thead>\n    <tr style=\"text-align: right;\">\n      <th></th>\n      <th>Prediction</th>\n      <th>Actual</th>\n    </tr>\n  </thead>\n  <tbody>\n    <tr>\n      <th>0</th>\n      <td>deny</td>\n      <td>deny</td>\n    </tr>\n    <tr>\n      <th>1</th>\n      <td>deny</td>\n      <td>approve</td>\n    </tr>\n    <tr>\n      <th>2</th>\n      <td>deny</td>\n      <td>deny</td>\n    </tr>\n    <tr>\n      <th>3</th>\n      <td>approve</td>\n      <td>deny</td>\n    </tr>\n    <tr>\n      <th>4</th>\n      <td>deny</td>\n      <td>deny</td>\n    </tr>\n    <tr>\n      <th>5</th>\n      <td>deny</td>\n      <td>approve</td>\n    </tr>\n    <tr>\n      <th>6</th>\n      <td>deny</td>\n      <td>deny</td>\n    </tr>\n    <tr>\n      <th>7</th>\n      <td>approve</td>\n      <td>deny</td>\n    </tr>\n    <tr>\n      <th>8</th>\n      <td>deny</td>\n      <td>deny</td>\n    </tr>\n    <tr>\n      <th>9</th>\n      <td>approve</td>\n      <td>approve</td>\n    </tr>\n    <tr>\n      <th>10</th>\n      <td>deny</td>\n      <td>approve</td>\n    </tr>\n    <tr>\n      <th>11</th>\n      <td>deny</td>\n      <td>deny</td>\n    </tr>\n    <tr>\n      <th>12</th>\n      <td>deny</td>\n      <td>deny</td>\n    </tr>\n    <tr>\n      <th>13</th>\n      <td>deny</td>\n      <td>approve</td>\n    </tr>\n    <tr>\n      <th>14</th>\n      <td>deny</td>\n      <td>deny</td>\n    </tr>\n    <tr>\n      <th>15</th>\n      <td>approve</td>\n      <td>approve</td>\n    </tr>\n    <tr>\n      <th>16</th>\n      <td>deny</td>\n      <td>approve</td>\n    </tr>\n    <tr>\n      <th>17</th>\n      <td>approve</td>\n      <td>approve</td>\n    </tr>\n    <tr>\n      <th>18</th>\n      <td>deny</td>\n      <td>approve</td>\n    </tr>\n    <tr>\n      <th>19</th>\n      <td>deny</td>\n      <td>approve</td>\n    </tr>\n    <tr>\n      <th>20</th>\n      <td>deny</td>\n      <td>deny</td>\n    </tr>\n    <tr>\n      <th>21</th>\n      <td>approve</td>\n      <td>deny</td>\n    </tr>\n    <tr>\n      <th>22</th>\n      <td>deny</td>\n      <td>approve</td>\n    </tr>\n    <tr>\n      <th>23</th>\n      <td>deny</td>\n      <td>approve</td>\n    </tr>\n    <tr>\n      <th>24</th>\n      <td>deny</td>\n      <td>deny</td>\n    </tr>\n  </tbody>\n</table>\n</div>"
     },
     "metadata": {},
     "execution_count": 37
    }
   ],
   "source": [
    "# Make LR predictions\n",
    "predictions = classifier.predict(X_test)\n",
    "results = pd.DataFrame({\"Prediction\": predictions, \"Actual\": y_test}).reset_index(drop=True)\n",
    "results"
   ]
  },
  {
   "cell_type": "markdown",
   "metadata": {},
   "source": [
    "# Confusion Matrix"
   ]
  },
  {
   "cell_type": "code",
   "execution_count": 21,
   "metadata": {},
   "outputs": [
    {
     "output_type": "execute_result",
     "data": {
      "text/plain": [
       "array([[ 3,  9],\n",
       "       [ 3, 10]], dtype=int64)"
      ]
     },
     "metadata": {},
     "execution_count": 21
    }
   ],
   "source": [
    "confusion_matrix(y_test, predictions)"
   ]
  },
  {
   "cell_type": "markdown",
   "metadata": {},
   "source": [
    "# Classification Report"
   ]
  },
  {
   "cell_type": "code",
   "execution_count": 36,
   "metadata": {},
   "outputs": [
    {
     "output_type": "stream",
     "name": "stdout",
     "text": [
      "              precision    recall  f1-score   support\n\n     approve       0.50      0.25      0.33        12\n        deny       0.53      0.77      0.62        13\n\n    accuracy                           0.52        25\n   macro avg       0.51      0.51      0.48        25\nweighted avg       0.51      0.52      0.48        25\n\n"
     ]
    }
   ],
   "source": [
    "# Create the classification report\n",
    "target_names = [\"Approve\", \"Deny\"]\n",
    "# print(classification_report(y_test, predictions, target_names=target_names))\n",
    "print(classification_report(y_test, predictions))"
   ]
  },
  {
   "cell_type": "code",
   "execution_count": null,
   "metadata": {},
   "outputs": [],
   "source": []
  }
 ],
 "metadata": {
  "celltoolbar": "Slideshow",
  "kernelspec": {
   "display_name": "Python 3",
   "language": "python",
   "name": "python3"
  },
  "language_info": {
   "codemirror_mode": {
    "name": "ipython",
    "version": 3
   },
   "file_extension": ".py",
   "mimetype": "text/x-python",
   "name": "python",
   "nbconvert_exporter": "python",
   "pygments_lexer": "ipython3",
   "version": "3.7.9-final"
  },
  "varInspector": {
   "cols": {
    "lenName": 16,
    "lenType": 16,
    "lenVar": 40
   },
   "kernels_config": {
    "python": {
     "delete_cmd_postfix": "",
     "delete_cmd_prefix": "del ",
     "library": "var_list.py",
     "varRefreshCmd": "print(var_dic_list())"
    },
    "r": {
     "delete_cmd_postfix": ") ",
     "delete_cmd_prefix": "rm(",
     "library": "var_list.r",
     "varRefreshCmd": "cat(var_dic_list()) "
    }
   },
   "types_to_exclude": [
    "module",
    "function",
    "builtin_function_or_method",
    "instance",
    "_Feature"
   ],
   "window_display": false
  }
 },
 "nbformat": 4,
 "nbformat_minor": 2
}