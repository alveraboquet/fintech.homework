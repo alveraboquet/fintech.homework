{
 "cells": [
  {
   "source": [
    "## Plotting a Visual Takeover"
   ],
   "cell_type": "markdown",
   "metadata": {}
  },
  {
   "cell_type": "code",
   "execution_count": 4,
   "metadata": {},
   "outputs": [],
   "source": [
    "# Import libraries and dependencies\n",
    "import pandas as pd\n",
    "from pathlib import Path\n",
    "import hvplot.pandas"
   ]
  },
  {
   "cell_type": "code",
   "execution_count": 7,
   "metadata": {},
   "outputs": [
    {
     "output_type": "execute_result",
     "data": {
      "text/plain": [
       "          Market Cap\n",
       "Symbol              \n",
       "AAPL    809508034020\n",
       "GOOGL   733823966137\n",
       "GOOG    728535558140\n",
       "MSFT    689978437468\n",
       "AMZN    685873374731"
      ],
      "text/html": "<div>\n<style scoped>\n    .dataframe tbody tr th:only-of-type {\n        vertical-align: middle;\n    }\n\n    .dataframe tbody tr th {\n        vertical-align: top;\n    }\n\n    .dataframe thead th {\n        text-align: right;\n    }\n</style>\n<table border=\"1\" class=\"dataframe\">\n  <thead>\n    <tr style=\"text-align: right;\">\n      <th></th>\n      <th>Market Cap</th>\n    </tr>\n    <tr>\n      <th>Symbol</th>\n      <th></th>\n    </tr>\n  </thead>\n  <tbody>\n    <tr>\n      <th>AAPL</th>\n      <td>809508034020</td>\n    </tr>\n    <tr>\n      <th>GOOGL</th>\n      <td>733823966137</td>\n    </tr>\n    <tr>\n      <th>GOOG</th>\n      <td>728535558140</td>\n    </tr>\n    <tr>\n      <th>MSFT</th>\n      <td>689978437468</td>\n    </tr>\n    <tr>\n      <th>AMZN</th>\n      <td>685873374731</td>\n    </tr>\n  </tbody>\n</table>\n</div>"
     },
     "metadata": {},
     "execution_count": 7
    }
   ],
   "source": [
    "# Set the path\n",
    "file_path = Path('./data/sp500_companies.csv')\n",
    "\n",
    "# Read in the CSV as a DataFrame\n",
    "sp500_companies_csv = pd.read_csv(file_path)\n",
    "\n",
    "# Count the frequency of each sector from the list of companies\n",
    "sector_count = sp500_companies_csv['Sector'].value_counts()\n",
    "\n",
    "# Grab the `Symbol` and `Market Cap` columns\n",
    "market_cap = sp500_companies_csv.loc[:, ['Symbol', 'Market Cap']]\n",
    "\n",
    "# Set the 'Symbol' as the index\n",
    "market_cap.set_index(market_cap['Symbol'], inplace=True)\n",
    "\n",
    "# Drop the extra 'Symbol' column\n",
    "market_cap.drop(columns=['Symbol'], inplace=True)\n",
    "\n",
    "# Filter down to 20 companies with the largest market caps\n",
    "top_20_market_cap = market_cap.nlargest(20, 'Market Cap')\n",
    "top_20_market_cap.head()"
   ]
  },
  {
   "source": [
    "## Plotting Relocation"
   ],
   "cell_type": "markdown",
   "metadata": {}
  },
  {
   "cell_type": "code",
   "execution_count": 20,
   "metadata": {},
   "outputs": [],
   "source": [
    "import pandas as pd\n",
    "import hvplot.pandas\n",
    "from pathlib import Path"
   ]
  },
  {
   "cell_type": "code",
   "execution_count": 43,
   "metadata": {},
   "outputs": [
    {
     "output_type": "execute_result",
     "data": {
      "text/plain": [
       "                             DRG Definition  Provider Id  \\\n",
       "0  039 - EXTRACRANIAL PROCEDURES W/O CC/MCC        10001   \n",
       "1  039 - EXTRACRANIAL PROCEDURES W/O CC/MCC        10005   \n",
       "2  039 - EXTRACRANIAL PROCEDURES W/O CC/MCC        10006   \n",
       "3  039 - EXTRACRANIAL PROCEDURES W/O CC/MCC        10011   \n",
       "4  039 - EXTRACRANIAL PROCEDURES W/O CC/MCC        10016   \n",
       "\n",
       "                      Provider Name     Provider Street Address Provider City  \\\n",
       "0  SOUTHEAST ALABAMA MEDICAL CENTER      1108 ROSS CLARK CIRCLE        DOTHAN   \n",
       "1     MARSHALL MEDICAL CENTER SOUTH  2505 U S HIGHWAY 431 NORTH          BOAZ   \n",
       "2    ELIZA COFFEE MEMORIAL HOSPITAL          205 MARENGO STREET      FLORENCE   \n",
       "3                 ST VINCENT'S EAST  50 MEDICAL PARK EAST DRIVE    BIRMINGHAM   \n",
       "4     SHELBY BAPTIST MEDICAL CENTER     1000 FIRST STREET NORTH     ALABASTER   \n",
       "\n",
       "  Provider State  Provider Zip Code Hospital Referral Region Description  \\\n",
       "0             AL              36301                          AL - Dothan   \n",
       "1             AL              35957                      AL - Birmingham   \n",
       "2             AL              35631                      AL - Birmingham   \n",
       "3             AL              35235                      AL - Birmingham   \n",
       "4             AL              35007                      AL - Birmingham   \n",
       "\n",
       "   Total Discharges  Average Covered Charges  Average Total Payments  \\\n",
       "0                91                 32963.07                 5777.24   \n",
       "1                14                 15131.85                 5787.57   \n",
       "2                24                 37560.37                 5434.95   \n",
       "3                25                 13998.28                 5417.56   \n",
       "4                18                 31633.27                 5658.33   \n",
       "\n",
       "   Average Medicare Payments  \n",
       "0                    4763.73  \n",
       "1                    4976.71  \n",
       "2                    4453.79  \n",
       "3                    4129.16  \n",
       "4                    4851.44  "
      ],
      "text/html": "<div>\n<style scoped>\n    .dataframe tbody tr th:only-of-type {\n        vertical-align: middle;\n    }\n\n    .dataframe tbody tr th {\n        vertical-align: top;\n    }\n\n    .dataframe thead th {\n        text-align: right;\n    }\n</style>\n<table border=\"1\" class=\"dataframe\">\n  <thead>\n    <tr style=\"text-align: right;\">\n      <th></th>\n      <th>DRG Definition</th>\n      <th>Provider Id</th>\n      <th>Provider Name</th>\n      <th>Provider Street Address</th>\n      <th>Provider City</th>\n      <th>Provider State</th>\n      <th>Provider Zip Code</th>\n      <th>Hospital Referral Region Description</th>\n      <th>Total Discharges</th>\n      <th>Average Covered Charges</th>\n      <th>Average Total Payments</th>\n      <th>Average Medicare Payments</th>\n    </tr>\n  </thead>\n  <tbody>\n    <tr>\n      <th>0</th>\n      <td>039 - EXTRACRANIAL PROCEDURES W/O CC/MCC</td>\n      <td>10001</td>\n      <td>SOUTHEAST ALABAMA MEDICAL CENTER</td>\n      <td>1108 ROSS CLARK CIRCLE</td>\n      <td>DOTHAN</td>\n      <td>AL</td>\n      <td>36301</td>\n      <td>AL - Dothan</td>\n      <td>91</td>\n      <td>32963.07</td>\n      <td>5777.24</td>\n      <td>4763.73</td>\n    </tr>\n    <tr>\n      <th>1</th>\n      <td>039 - EXTRACRANIAL PROCEDURES W/O CC/MCC</td>\n      <td>10005</td>\n      <td>MARSHALL MEDICAL CENTER SOUTH</td>\n      <td>2505 U S HIGHWAY 431 NORTH</td>\n      <td>BOAZ</td>\n      <td>AL</td>\n      <td>35957</td>\n      <td>AL - Birmingham</td>\n      <td>14</td>\n      <td>15131.85</td>\n      <td>5787.57</td>\n      <td>4976.71</td>\n    </tr>\n    <tr>\n      <th>2</th>\n      <td>039 - EXTRACRANIAL PROCEDURES W/O CC/MCC</td>\n      <td>10006</td>\n      <td>ELIZA COFFEE MEMORIAL HOSPITAL</td>\n      <td>205 MARENGO STREET</td>\n      <td>FLORENCE</td>\n      <td>AL</td>\n      <td>35631</td>\n      <td>AL - Birmingham</td>\n      <td>24</td>\n      <td>37560.37</td>\n      <td>5434.95</td>\n      <td>4453.79</td>\n    </tr>\n    <tr>\n      <th>3</th>\n      <td>039 - EXTRACRANIAL PROCEDURES W/O CC/MCC</td>\n      <td>10011</td>\n      <td>ST VINCENT'S EAST</td>\n      <td>50 MEDICAL PARK EAST DRIVE</td>\n      <td>BIRMINGHAM</td>\n      <td>AL</td>\n      <td>35235</td>\n      <td>AL - Birmingham</td>\n      <td>25</td>\n      <td>13998.28</td>\n      <td>5417.56</td>\n      <td>4129.16</td>\n    </tr>\n    <tr>\n      <th>4</th>\n      <td>039 - EXTRACRANIAL PROCEDURES W/O CC/MCC</td>\n      <td>10016</td>\n      <td>SHELBY BAPTIST MEDICAL CENTER</td>\n      <td>1000 FIRST STREET NORTH</td>\n      <td>ALABASTER</td>\n      <td>AL</td>\n      <td>35007</td>\n      <td>AL - Birmingham</td>\n      <td>18</td>\n      <td>31633.27</td>\n      <td>5658.33</td>\n      <td>4851.44</td>\n    </tr>\n  </tbody>\n</table>\n</div>"
     },
     "metadata": {},
     "execution_count": 43
    }
   ],
   "source": [
    "# Read in hospital claims data\n",
    "hospital_data = pd.read_csv(Path(\"./data/hospital_claims.csv\"), header=0)\n",
    "hospital_data.head()"
   ]
  },
  {
   "cell_type": "code",
   "execution_count": 45,
   "metadata": {},
   "outputs": [],
   "source": [
    "# Slice the data\n",
    "procedure_699_charges = hospital_data[\n",
    "    hospital_data[\"DRG Definition\"] == \"638 - DIABETES W CC\"\n",
    "]\n",
    "\n",
    "# Select data just for NJ to get a baseline for Diabetes costs\n",
    "procedure_NJ_charges = procedure_699_charges.loc[\n",
    "    hospital_data[\"Provider State\"] == \"NJ\"\n",
    "]\n",
    "\n",
    "# Select Average Medicare Payments and Provider ID Series\n",
    "procedure_medicare_charges = procedure_NJ_charges[\n",
    "    [\"Average Medicare Payments\", \"Provider Id\"]\n",
    "]"
   ]
  },
  {
   "cell_type": "code",
   "execution_count": 46,
   "metadata": {},
   "outputs": [
    {
     "output_type": "execute_result",
     "data": {
      "text/plain": [
       "        Average Medicare Payments  Provider Id\n",
       "128582                    5873.06       310001\n",
       "128583                    8989.73       310002\n",
       "128584                    6268.68       310003\n",
       "128585                    4423.58       310005\n",
       "128586                    5843.47       310006"
      ],
      "text/html": "<div>\n<style scoped>\n    .dataframe tbody tr th:only-of-type {\n        vertical-align: middle;\n    }\n\n    .dataframe tbody tr th {\n        vertical-align: top;\n    }\n\n    .dataframe thead th {\n        text-align: right;\n    }\n</style>\n<table border=\"1\" class=\"dataframe\">\n  <thead>\n    <tr style=\"text-align: right;\">\n      <th></th>\n      <th>Average Medicare Payments</th>\n      <th>Provider Id</th>\n    </tr>\n  </thead>\n  <tbody>\n    <tr>\n      <th>128582</th>\n      <td>5873.06</td>\n      <td>310001</td>\n    </tr>\n    <tr>\n      <th>128583</th>\n      <td>8989.73</td>\n      <td>310002</td>\n    </tr>\n    <tr>\n      <th>128584</th>\n      <td>6268.68</td>\n      <td>310003</td>\n    </tr>\n    <tr>\n      <th>128585</th>\n      <td>4423.58</td>\n      <td>310005</td>\n    </tr>\n    <tr>\n      <th>128586</th>\n      <td>5843.47</td>\n      <td>310006</td>\n    </tr>\n  </tbody>\n</table>\n</div>"
     },
     "metadata": {},
     "execution_count": 46
    }
   ],
   "source": [
    "procedure_medicare_charges.head()"
   ]
  },
  {
   "cell_type": "code",
   "execution_count": 53,
   "metadata": {},
   "outputs": [
    {
     "output_type": "execute_result",
     "data": {
      "text/plain": [
       "Provider State\n",
       "AK      15525.04\n",
       "AL     194535.26\n",
       "AR     111746.03\n",
       "AZ     158308.98\n",
       "CA    1201241.89\n",
       "Name: Average Total Payments, dtype: float64"
      ]
     },
     "metadata": {},
     "execution_count": 53
    }
   ],
   "source": [
    "state_data = procedure_699_charges.groupby(['Provider State'])['Average Total Payments'].sum()\n",
    "state_data.head()"
   ]
  },
  {
   "cell_type": "code",
   "execution_count": 55,
   "metadata": {},
   "outputs": [
    {
     "output_type": "display_data",
     "data": {},
     "metadata": {}
    },
    {
     "output_type": "execute_result",
     "data": {
      "text/html": "<div id='1071'>\n\n\n\n\n\n  <div class=\"bk-root\" id=\"835b4f4b-a4a2-40ec-ba98-fe652e9574aa\" data-root-id=\"1071\"></div>\n</div>\n<script type=\"application/javascript\">(function(root) {\n  function embed_document(root) {\n    var docs_json = {\"79d22616-7a5c-49a3-bf2e-e10588c4b932\":{\"roots\":{\"references\":[{\"attributes\":{},\"id\":\"1106\",\"type\":\"Selection\"},{\"attributes\":{\"end\":1320004.9989999994,\"reset_end\":1320004.9989999994,\"reset_start\":0.0,\"tags\":[[[\"Average Total Payments\",\"Average Total Payments\",null]]]},\"id\":\"1074\",\"type\":\"Range1d\"},{\"attributes\":{\"overlay\":{\"id\":\"1097\"}},\"id\":\"1095\",\"type\":\"BoxZoomTool\"},{\"attributes\":{\"data_source\":{\"id\":\"1105\"},\"glyph\":{\"id\":\"1108\"},\"hover_glyph\":null,\"muted_glyph\":{\"id\":\"1110\"},\"nonselection_glyph\":{\"id\":\"1109\"},\"selection_glyph\":null,\"view\":{\"id\":\"1112\"}},\"id\":\"1111\",\"type\":\"GlyphRenderer\"},{\"attributes\":{},\"id\":\"1094\",\"type\":\"WheelZoomTool\"},{\"attributes\":{\"children\":[{\"id\":\"1072\"},{\"id\":\"1076\"},{\"id\":\"1133\"}],\"margin\":[0,0,0,0],\"name\":\"Row1151939\",\"tags\":[\"embedded\"]},\"id\":\"1071\",\"type\":\"Row\"},{\"attributes\":{\"margin\":[5,5,5,5],\"name\":\"HSpacer1151943\",\"sizing_mode\":\"stretch_width\"},\"id\":\"1072\",\"type\":\"Spacer\"},{\"attributes\":{},\"id\":\"1115\",\"type\":\"BasicTickFormatter\"},{\"attributes\":{\"axis\":{\"id\":\"1088\"},\"dimension\":1,\"grid_line_color\":null,\"ticker\":null},\"id\":\"1091\",\"type\":\"Grid\"},{\"attributes\":{\"fill_color\":{\"value\":\"#1f77b3\"},\"top\":{\"field\":\"Average_Total_Payments\"},\"width\":{\"value\":0.8},\"x\":{\"field\":\"Provider_State\"}},\"id\":\"1108\",\"type\":\"VBar\"},{\"attributes\":{},\"id\":\"1083\",\"type\":\"LinearScale\"},{\"attributes\":{},\"id\":\"1089\",\"type\":\"BasicTicker\"},{\"attributes\":{},\"id\":\"1093\",\"type\":\"PanTool\"},{\"attributes\":{\"fill_alpha\":{\"value\":0.1},\"fill_color\":{\"value\":\"#1f77b3\"},\"line_alpha\":{\"value\":0.1},\"top\":{\"field\":\"Average_Total_Payments\"},\"width\":{\"value\":0.8},\"x\":{\"field\":\"Provider_State\"}},\"id\":\"1109\",\"type\":\"VBar\"},{\"attributes\":{\"data\":{\"Average_Total_Payments\":{\"__ndarray__\":\"61G4HoVSzkBJ4XoUOr8HQa9H4XogSPtAcT0K1ydTA0E7CtfjWVQyQa5H4XoYi/RASOF6FEIcAEFSuB6F40vmQML1KFx/8NxAMzMzs0ocJEGE61G4eQwTQexRuB5FKMtAuB6F69Wh9EA0MzMzA6XaQPYoXA9NvyBBR+F6FMpaCkFI4XoUjhfwQFyPwvUE0ghB9ShcjxhECEEoXI/Cnt0RQQAAAAB1KBNBCtejcCVD6EDtUbgepRUVQZmZmZkJS/lANjMzM4FADUEK16Nwz9ICQUjhehQe89NACtejcLR5FUF7FK5HUZrVQJqZmZlJYt5A7FG4Hn3B4kB6FK5HjS8XQZmZmZmtCPNApHA9CrP58kBG4XqUQ5UqQYzC9ShuHhpBmpmZmQMNAUHXo3A98gvrQO1RuB5K9x1BzMzMzGSX5kC5HoXroTkHQa5H4Xok59BA4XoUrhkVDUF8FK5HU/QlQVK4HoVT7eFAehSuRzH/DkHsUbgexc/TQPcoXI/cqQVBFK5H4Vz/AEEzMzMzI53zQGZmZmZmlcpA\",\"dtype\":\"float64\",\"order\":\"little\",\"shape\":[51]},\"Provider_State\":[\"AK\",\"AL\",\"AR\",\"AZ\",\"CA\",\"CO\",\"CT\",\"DC\",\"DE\",\"FL\",\"GA\",\"HI\",\"IA\",\"ID\",\"IL\",\"IN\",\"KS\",\"KY\",\"LA\",\"MA\",\"MD\",\"ME\",\"MI\",\"MN\",\"MO\",\"MS\",\"MT\",\"NC\",\"ND\",\"NE\",\"NH\",\"NJ\",\"NM\",\"NV\",\"NY\",\"OH\",\"OK\",\"OR\",\"PA\",\"RI\",\"SC\",\"SD\",\"TN\",\"TX\",\"UT\",\"VA\",\"VT\",\"WA\",\"WI\",\"WV\",\"WY\"]},\"selected\":{\"id\":\"1106\"},\"selection_policy\":{\"id\":\"1123\"}},\"id\":\"1105\",\"type\":\"ColumnDataSource\"},{\"attributes\":{},\"id\":\"1086\",\"type\":\"CategoricalTicker\"},{\"attributes\":{},\"id\":\"1096\",\"type\":\"ResetTool\"},{\"attributes\":{\"bottom_units\":\"screen\",\"fill_alpha\":0.5,\"fill_color\":\"lightgrey\",\"left_units\":\"screen\",\"level\":\"overlay\",\"line_alpha\":1.0,\"line_color\":\"black\",\"line_dash\":[4,4],\"line_width\":2,\"right_units\":\"screen\",\"top_units\":\"screen\"},\"id\":\"1097\",\"type\":\"BoxAnnotation\"},{\"attributes\":{\"axis_label\":\"\",\"bounds\":\"auto\",\"formatter\":{\"id\":\"1115\"},\"major_label_orientation\":\"horizontal\",\"ticker\":{\"id\":\"1089\"}},\"id\":\"1088\",\"type\":\"LinearAxis\"},{\"attributes\":{\"callback\":null,\"renderers\":[{\"id\":\"1111\"}],\"tags\":[\"hv_created\"],\"tooltips\":[[\"Provider State\",\"@{Provider_State}\"],[\"Average Total Payments\",\"@{Average_Total_Payments}\"]]},\"id\":\"1075\",\"type\":\"HoverTool\"},{\"attributes\":{},\"id\":\"1092\",\"type\":\"SaveTool\"},{\"attributes\":{\"margin\":[5,5,5,5],\"name\":\"HSpacer1151944\",\"sizing_mode\":\"stretch_width\"},\"id\":\"1133\",\"type\":\"Spacer\"},{\"attributes\":{\"factors\":[\"AK\",\"AL\",\"AR\",\"AZ\",\"CA\",\"CO\",\"CT\",\"DC\",\"DE\",\"FL\",\"GA\",\"HI\",\"IA\",\"ID\",\"IL\",\"IN\",\"KS\",\"KY\",\"LA\",\"MA\",\"MD\",\"ME\",\"MI\",\"MN\",\"MO\",\"MS\",\"MT\",\"NC\",\"ND\",\"NE\",\"NH\",\"NJ\",\"NM\",\"NV\",\"NY\",\"OH\",\"OK\",\"OR\",\"PA\",\"RI\",\"SC\",\"SD\",\"TN\",\"TX\",\"UT\",\"VA\",\"VT\",\"WA\",\"WI\",\"WV\",\"WY\"],\"tags\":[[[\"Provider State\",\"Provider State\",null]]]},\"id\":\"1073\",\"type\":\"FactorRange\"},{\"attributes\":{},\"id\":\"1113\",\"type\":\"CategoricalTickFormatter\"},{\"attributes\":{\"axis_label\":\"Provider State\",\"bounds\":\"auto\",\"formatter\":{\"id\":\"1113\"},\"major_label_orientation\":\"horizontal\",\"ticker\":{\"id\":\"1086\"}},\"id\":\"1085\",\"type\":\"CategoricalAxis\"},{\"attributes\":{\"source\":{\"id\":\"1105\"}},\"id\":\"1112\",\"type\":\"CDSView\"},{\"attributes\":{},\"id\":\"1123\",\"type\":\"UnionRenderers\"},{\"attributes\":{\"axis\":{\"id\":\"1085\"},\"grid_line_color\":null,\"ticker\":null},\"id\":\"1087\",\"type\":\"Grid\"},{\"attributes\":{\"active_drag\":\"auto\",\"active_inspect\":\"auto\",\"active_multi\":null,\"active_scroll\":\"auto\",\"active_tap\":\"auto\",\"tools\":[{\"id\":\"1075\"},{\"id\":\"1092\"},{\"id\":\"1093\"},{\"id\":\"1094\"},{\"id\":\"1095\"},{\"id\":\"1096\"}]},\"id\":\"1098\",\"type\":\"Toolbar\"},{\"attributes\":{},\"id\":\"1081\",\"type\":\"CategoricalScale\"},{\"attributes\":{\"below\":[{\"id\":\"1085\"}],\"center\":[{\"id\":\"1087\"},{\"id\":\"1091\"}],\"left\":[{\"id\":\"1088\"}],\"margin\":[5,5,5,5],\"min_border_bottom\":10,\"min_border_left\":10,\"min_border_right\":10,\"min_border_top\":10,\"plot_height\":300,\"plot_width\":700,\"renderers\":[{\"id\":\"1111\"}],\"sizing_mode\":\"fixed\",\"title\":{\"id\":\"1077\"},\"toolbar\":{\"id\":\"1098\"},\"x_range\":{\"id\":\"1073\"},\"x_scale\":{\"id\":\"1081\"},\"y_range\":{\"id\":\"1074\"},\"y_scale\":{\"id\":\"1083\"}},\"id\":\"1076\",\"subtype\":\"Figure\",\"type\":\"Plot\"},{\"attributes\":{\"text\":\"Average Total Payments\",\"text_color\":{\"value\":\"black\"},\"text_font_size\":{\"value\":\"12pt\"}},\"id\":\"1077\",\"type\":\"Title\"},{\"attributes\":{\"fill_alpha\":{\"value\":0.2},\"fill_color\":{\"value\":\"#1f77b3\"},\"line_alpha\":{\"value\":0.2},\"top\":{\"field\":\"Average_Total_Payments\"},\"width\":{\"value\":0.8},\"x\":{\"field\":\"Provider_State\"}},\"id\":\"1110\",\"type\":\"VBar\"}],\"root_ids\":[\"1071\"]},\"title\":\"Bokeh Application\",\"version\":\"2.2.3\"}};\n    var render_items = [{\"docid\":\"79d22616-7a5c-49a3-bf2e-e10588c4b932\",\"root_ids\":[\"1071\"],\"roots\":{\"1071\":\"835b4f4b-a4a2-40ec-ba98-fe652e9574aa\"}}];\n    root.Bokeh.embed.embed_items_notebook(docs_json, render_items);\n  }\n  if (root.Bokeh !== undefined && root.Bokeh.Panel !== undefined) {\n    embed_document(root);\n  } else {\n    var attempts = 0;\n    var timer = setInterval(function(root) {\n      if (root.Bokeh !== undefined && root.Bokeh.Panel !== undefined) {\n        clearInterval(timer);\n        embed_document(root);\n      } else if (document.readyState == \"complete\") {\n        attempts++;\n        if (attempts > 100) {\n          clearInterval(timer);\n          console.log(\"Bokeh: ERROR: Unable to run BokehJS code because BokehJS library is missing\");\n        }\n      }\n    }, 10, root)\n  }\n})(window);</script>",
      "application/vnd.holoviews_exec.v0+json": "",
      "text/plain": [
       ":Bars   [Provider State]   (Average Total Payments)"
      ]
     },
     "metadata": {
      "application/vnd.holoviews_exec.v0+json": {
       "id": "1071"
      }
     },
     "execution_count": 55
    }
   ],
   "source": [
    "# Plot data using hvplot.bar\n",
    "state_data.hvplot.bar()"
   ]
  },
  {
   "cell_type": "code",
   "execution_count": null,
   "metadata": {},
   "outputs": [],
   "source": [
    "# Sort data values"
   ]
  },
  {
   "source": [
    "## Composing Masterpieces"
   ],
   "cell_type": "markdown",
   "metadata": {}
  },
  {
   "cell_type": "code",
   "execution_count": 56,
   "metadata": {},
   "outputs": [
    {
     "output_type": "execute_result",
     "data": {
      "text/plain": [
       "            Total Active Loans  Total Average Loan Amount  2015 - 2016  \\\n",
       "State Code                                                               \n",
       "AK                         897                  148811.39    189583.49   \n",
       "AL                        7455                  435054.53    686066.79   \n",
       "AR                        6186                  263212.27    355445.70   \n",
       "AZ                        3982                  597591.94    507532.91   \n",
       "CA                        8875                 2805653.85   3008866.40   \n",
       "\n",
       "            2010 - 2014  Self Help Loan  Leveraged Loan  \n",
       "State Code                                               \n",
       "AK            172371.39              96             450  \n",
       "AL            648663.44              18             605  \n",
       "AR            351562.42             861             567  \n",
       "AZ            599688.64            1718            1057  \n",
       "CA           2881741.23            4134            2231  "
      ],
      "text/html": "<div>\n<style scoped>\n    .dataframe tbody tr th:only-of-type {\n        vertical-align: middle;\n    }\n\n    .dataframe tbody tr th {\n        vertical-align: top;\n    }\n\n    .dataframe thead th {\n        text-align: right;\n    }\n</style>\n<table border=\"1\" class=\"dataframe\">\n  <thead>\n    <tr style=\"text-align: right;\">\n      <th></th>\n      <th>Total Active Loans</th>\n      <th>Total Average Loan Amount</th>\n      <th>2015 - 2016</th>\n      <th>2010 - 2014</th>\n      <th>Self Help Loan</th>\n      <th>Leveraged Loan</th>\n    </tr>\n    <tr>\n      <th>State Code</th>\n      <th></th>\n      <th></th>\n      <th></th>\n      <th></th>\n      <th></th>\n      <th></th>\n    </tr>\n  </thead>\n  <tbody>\n    <tr>\n      <th>AK</th>\n      <td>897</td>\n      <td>148811.39</td>\n      <td>189583.49</td>\n      <td>172371.39</td>\n      <td>96</td>\n      <td>450</td>\n    </tr>\n    <tr>\n      <th>AL</th>\n      <td>7455</td>\n      <td>435054.53</td>\n      <td>686066.79</td>\n      <td>648663.44</td>\n      <td>18</td>\n      <td>605</td>\n    </tr>\n    <tr>\n      <th>AR</th>\n      <td>6186</td>\n      <td>263212.27</td>\n      <td>355445.70</td>\n      <td>351562.42</td>\n      <td>861</td>\n      <td>567</td>\n    </tr>\n    <tr>\n      <th>AZ</th>\n      <td>3982</td>\n      <td>597591.94</td>\n      <td>507532.91</td>\n      <td>599688.64</td>\n      <td>1718</td>\n      <td>1057</td>\n    </tr>\n    <tr>\n      <th>CA</th>\n      <td>8875</td>\n      <td>2805653.85</td>\n      <td>3008866.40</td>\n      <td>2881741.23</td>\n      <td>4134</td>\n      <td>2231</td>\n    </tr>\n  </tbody>\n</table>\n</div>"
     },
     "metadata": {},
     "execution_count": 56
    }
   ],
   "source": [
    "# Read in loan data\n",
    "loan_data = pd.read_csv(Path(\"./data/state_loan_data.csv\"))\n",
    "\n",
    "# Group data by state for state-level analysis\n",
    "loan_data = loan_data.groupby('State Code').sum()\n",
    "loan_data.head()"
   ]
  },
  {
   "cell_type": "code",
   "execution_count": 58,
   "metadata": {},
   "outputs": [
    {
     "output_type": "execute_result",
     "data": {
      "text/plain": [
       "State Code\n",
       "AK     148811.39\n",
       "AL     435054.53\n",
       "AR     263212.27\n",
       "AZ     597591.94\n",
       "CA    2805653.85\n",
       "Name: Total Average Loan Amount, dtype: float64"
      ]
     },
     "metadata": {},
     "execution_count": 58
    }
   ],
   "source": [
    "# Slice for Total Average Loan Amount\n",
    "loan_data_avg = loan_data['Total Average Loan Amount']\n",
    "loan_data_avg.head()"
   ]
  },
  {
   "cell_type": "code",
   "execution_count": 59,
   "metadata": {},
   "outputs": [
    {
     "output_type": "display_data",
     "data": {},
     "metadata": {}
    },
    {
     "output_type": "execute_result",
     "data": {
      "text/html": "<div id='1175'>\n\n\n\n\n\n  <div class=\"bk-root\" id=\"580e7781-c2a7-4ea8-b0a2-9bafefdcc60a\" data-root-id=\"1175\"></div>\n</div>\n<script type=\"application/javascript\">(function(root) {\n  function embed_document(root) {\n    var docs_json = {\"db93d3bc-e501-475a-a662-aaeab29b5654\":{\"roots\":{\"references\":[{\"attributes\":{\"margin\":[5,5,5,5],\"name\":\"HSpacer1152093\",\"sizing_mode\":\"stretch_width\"},\"id\":\"1176\",\"type\":\"Spacer\"},{\"attributes\":{\"text\":\"Total Average Loan Amount\",\"text_color\":{\"value\":\"black\"},\"text_font_size\":{\"value\":\"12pt\"}},\"id\":\"1181\",\"type\":\"Title\"},{\"attributes\":{},\"id\":\"1219\",\"type\":\"BasicTickFormatter\"},{\"attributes\":{},\"id\":\"1217\",\"type\":\"CategoricalTickFormatter\"},{\"attributes\":{},\"id\":\"1227\",\"type\":\"UnionRenderers\"},{\"attributes\":{},\"id\":\"1187\",\"type\":\"LinearScale\"},{\"attributes\":{\"end\":3081895.235000001,\"reset_end\":3081895.235000001,\"reset_start\":0.0,\"tags\":[[[\"Total Average Loan Amount\",\"Total Average Loan Amount\",null]]]},\"id\":\"1178\",\"type\":\"Range1d\"},{\"attributes\":{\"margin\":[5,5,5,5],\"name\":\"HSpacer1152094\",\"sizing_mode\":\"stretch_width\"},\"id\":\"1237\",\"type\":\"Spacer\"},{\"attributes\":{},\"id\":\"1190\",\"type\":\"CategoricalTicker\"},{\"attributes\":{},\"id\":\"1200\",\"type\":\"ResetTool\"},{\"attributes\":{},\"id\":\"1185\",\"type\":\"CategoricalScale\"},{\"attributes\":{\"fill_color\":{\"value\":\"#1f77b3\"},\"top\":{\"field\":\"Total_Average_Loan_Amount\"},\"width\":{\"value\":0.8},\"x\":{\"field\":\"State_Code\"}},\"id\":\"1212\",\"type\":\"VBar\"},{\"attributes\":{},\"id\":\"1210\",\"type\":\"Selection\"},{\"attributes\":{\"source\":{\"id\":\"1209\"}},\"id\":\"1216\",\"type\":\"CDSView\"},{\"attributes\":{\"data_source\":{\"id\":\"1209\"},\"glyph\":{\"id\":\"1212\"},\"hover_glyph\":null,\"muted_glyph\":{\"id\":\"1214\"},\"nonselection_glyph\":{\"id\":\"1213\"},\"selection_glyph\":null,\"view\":{\"id\":\"1216\"}},\"id\":\"1215\",\"type\":\"GlyphRenderer\"},{\"attributes\":{\"factors\":[\"AK\",\"AL\",\"AR\",\"AZ\",\"CA\",\"CO\",\"CT\",\"DE\",\"FL\",\"GA\",\"GU\",\"HI\",\"IA\",\"ID\",\"IL\",\"IN\",\"KS\",\"KY\",\"LA\",\"MA\",\"MD\",\"ME\",\"MI\",\"MN\",\"MO\",\"MP\",\"MS\",\"MT\",\"NC\",\"ND\",\"NE\",\"NH\",\"NJ\",\"NM\",\"NV\",\"NY\",\"OH\",\"OK\",\"OR\",\"PA\",\"PR\",\"RI\",\"SC\",\"SD\",\"TN\",\"TX\",\"UT\",\"VA\",\"VI\",\"VT\",\"WA\",\"WI\",\"WV\",\"WY\"],\"tags\":[[[\"State Code\",\"State Code\",null]]]},\"id\":\"1177\",\"type\":\"FactorRange\"},{\"attributes\":{\"below\":[{\"id\":\"1189\"}],\"center\":[{\"id\":\"1191\"},{\"id\":\"1195\"}],\"left\":[{\"id\":\"1192\"}],\"margin\":[5,5,5,5],\"min_border_bottom\":10,\"min_border_left\":10,\"min_border_right\":10,\"min_border_top\":10,\"plot_height\":300,\"plot_width\":700,\"renderers\":[{\"id\":\"1215\"}],\"sizing_mode\":\"fixed\",\"title\":{\"id\":\"1181\"},\"toolbar\":{\"id\":\"1202\"},\"x_range\":{\"id\":\"1177\"},\"x_scale\":{\"id\":\"1185\"},\"y_range\":{\"id\":\"1178\"},\"y_scale\":{\"id\":\"1187\"}},\"id\":\"1180\",\"subtype\":\"Figure\",\"type\":\"Plot\"},{\"attributes\":{\"fill_alpha\":{\"value\":0.1},\"fill_color\":{\"value\":\"#1f77b3\"},\"line_alpha\":{\"value\":0.1},\"top\":{\"field\":\"Total_Average_Loan_Amount\"},\"width\":{\"value\":0.8},\"x\":{\"field\":\"State_Code\"}},\"id\":\"1213\",\"type\":\"VBar\"},{\"attributes\":{\"callback\":null,\"renderers\":[{\"id\":\"1215\"}],\"tags\":[\"hv_created\"],\"tooltips\":[[\"State Code\",\"@{State_Code}\"],[\"Total Average Loan Amount\",\"@{Total_Average_Loan_Amount}\"]]},\"id\":\"1179\",\"type\":\"HoverTool\"},{\"attributes\":{},\"id\":\"1197\",\"type\":\"PanTool\"},{\"attributes\":{\"data\":{\"State_Code\":[\"AK\",\"AL\",\"AR\",\"AZ\",\"CA\",\"CO\",\"CT\",\"DE\",\"FL\",\"GA\",\"GU\",\"HI\",\"IA\",\"ID\",\"IL\",\"IN\",\"KS\",\"KY\",\"LA\",\"MA\",\"MD\",\"ME\",\"MI\",\"MN\",\"MO\",\"MP\",\"MS\",\"MT\",\"NC\",\"ND\",\"NE\",\"NH\",\"NJ\",\"NM\",\"NV\",\"NY\",\"OH\",\"OK\",\"OR\",\"PA\",\"PR\",\"RI\",\"SC\",\"SD\",\"TN\",\"TX\",\"UT\",\"VA\",\"VI\",\"VT\",\"WA\",\"WI\",\"WV\",\"WY\"],\"Total_Average_Loan_Amount\":{\"__ndarray__\":\"7FG4HlsqAkHrUbgeuo0aQUjhehSxEBBBFa5H4a88IkHOzMzsymdFQfYoXA/s+SFBH4XrUdBmIEFSuB6F+3QAQfYoXE887TdBwvUo3Ky1MEEAAAAAaEMGQa5H4XpvlhRBH4XrUQ3cEkGamZmZNUkJQVS4HgX9tylBwvUoXOn3JEEUrkfhNLYTQXsUrkerWx1B4XoUrmLYHEEpXI/CdRMxQShcj0JNKyhBFK5H4VpYCUFcj8K1NEMxQcP1KNwVEilBmZmZGceBIUEAAAAAAB3lQK5H4Xr2bQdBPQrXowy5+UCamZnZk9ExQR+F61Hs6PJAw/UoXPHkC0HC9ShcPz0OQRSuR6EWtzJBwvUoXLdjC0HsUbgehqwXQeJ6FC4aeTBBo3A9yvuhNUFmZmZm8vkVQbgehWtB1iJBXI/CdS94OUEAAAAAwFTsQJDC9Sg+VxVBMzMzM2lIIEGuR+F6WFL1QPYoXI9MiSRBT7geRTOMQ0GQwvUo5lAiQUjhepReNClBAAAAAFBM90DsUbgeYUP5QJDC9ShPozNBAAAAAFBfJUEAAAAACL4IQQAAAAAwJPlA\",\"dtype\":\"float64\",\"order\":\"little\",\"shape\":[54]}},\"selected\":{\"id\":\"1210\"},\"selection_policy\":{\"id\":\"1227\"}},\"id\":\"1209\",\"type\":\"ColumnDataSource\"},{\"attributes\":{},\"id\":\"1193\",\"type\":\"BasicTicker\"},{\"attributes\":{},\"id\":\"1196\",\"type\":\"SaveTool\"},{\"attributes\":{\"overlay\":{\"id\":\"1201\"}},\"id\":\"1199\",\"type\":\"BoxZoomTool\"},{\"attributes\":{\"fill_alpha\":{\"value\":0.2},\"fill_color\":{\"value\":\"#1f77b3\"},\"line_alpha\":{\"value\":0.2},\"top\":{\"field\":\"Total_Average_Loan_Amount\"},\"width\":{\"value\":0.8},\"x\":{\"field\":\"State_Code\"}},\"id\":\"1214\",\"type\":\"VBar\"},{\"attributes\":{\"axis\":{\"id\":\"1189\"},\"grid_line_color\":null,\"ticker\":null},\"id\":\"1191\",\"type\":\"Grid\"},{\"attributes\":{\"active_drag\":\"auto\",\"active_inspect\":\"auto\",\"active_multi\":null,\"active_scroll\":\"auto\",\"active_tap\":\"auto\",\"tools\":[{\"id\":\"1179\"},{\"id\":\"1196\"},{\"id\":\"1197\"},{\"id\":\"1198\"},{\"id\":\"1199\"},{\"id\":\"1200\"}]},\"id\":\"1202\",\"type\":\"Toolbar\"},{\"attributes\":{\"children\":[{\"id\":\"1176\"},{\"id\":\"1180\"},{\"id\":\"1237\"}],\"margin\":[0,0,0,0],\"name\":\"Row1152089\",\"tags\":[\"embedded\"]},\"id\":\"1175\",\"type\":\"Row\"},{\"attributes\":{\"axis_label\":\"\",\"bounds\":\"auto\",\"formatter\":{\"id\":\"1219\"},\"major_label_orientation\":\"horizontal\",\"ticker\":{\"id\":\"1193\"}},\"id\":\"1192\",\"type\":\"LinearAxis\"},{\"attributes\":{},\"id\":\"1198\",\"type\":\"WheelZoomTool\"},{\"attributes\":{\"axis\":{\"id\":\"1192\"},\"dimension\":1,\"grid_line_color\":null,\"ticker\":null},\"id\":\"1195\",\"type\":\"Grid\"},{\"attributes\":{\"axis_label\":\"State Code\",\"bounds\":\"auto\",\"formatter\":{\"id\":\"1217\"},\"major_label_orientation\":\"horizontal\",\"ticker\":{\"id\":\"1190\"}},\"id\":\"1189\",\"type\":\"CategoricalAxis\"},{\"attributes\":{\"bottom_units\":\"screen\",\"fill_alpha\":0.5,\"fill_color\":\"lightgrey\",\"left_units\":\"screen\",\"level\":\"overlay\",\"line_alpha\":1.0,\"line_color\":\"black\",\"line_dash\":[4,4],\"line_width\":2,\"right_units\":\"screen\",\"top_units\":\"screen\"},\"id\":\"1201\",\"type\":\"BoxAnnotation\"}],\"root_ids\":[\"1175\"]},\"title\":\"Bokeh Application\",\"version\":\"2.2.3\"}};\n    var render_items = [{\"docid\":\"db93d3bc-e501-475a-a662-aaeab29b5654\",\"root_ids\":[\"1175\"],\"roots\":{\"1175\":\"580e7781-c2a7-4ea8-b0a2-9bafefdcc60a\"}}];\n    root.Bokeh.embed.embed_items_notebook(docs_json, render_items);\n  }\n  if (root.Bokeh !== undefined && root.Bokeh.Panel !== undefined) {\n    embed_document(root);\n  } else {\n    var attempts = 0;\n    var timer = setInterval(function(root) {\n      if (root.Bokeh !== undefined && root.Bokeh.Panel !== undefined) {\n        clearInterval(timer);\n        embed_document(root);\n      } else if (document.readyState == \"complete\") {\n        attempts++;\n        if (attempts > 100) {\n          clearInterval(timer);\n          console.log(\"Bokeh: ERROR: Unable to run BokehJS code because BokehJS library is missing\");\n        }\n      }\n    }, 10, root)\n  }\n})(window);</script>",
      "application/vnd.holoviews_exec.v0+json": "",
      "text/plain": [
       ":Bars   [State Code]   (Total Average Loan Amount)"
      ]
     },
     "metadata": {
      "application/vnd.holoviews_exec.v0+json": {
       "id": "1175"
      }
     },
     "execution_count": 59
    }
   ],
   "source": [
    "# Plot Total Average Loan Amount\n",
    "loan_data_avg.hvplot.bar()"
   ]
  },
  {
   "cell_type": "code",
   "execution_count": 61,
   "metadata": {},
   "outputs": [
    {
     "output_type": "execute_result",
     "data": {
      "text/plain": [
       "State Code\n",
       "AK    189583.49\n",
       "AL    686066.79\n",
       "AR    355445.70\n",
       "Name: 2015 - 2016, dtype: float64"
      ]
     },
     "metadata": {},
     "execution_count": 61
    }
   ],
   "source": [
    "# Slice data for Total Average Loan Amount by 2015-2016 and 2010-2014 date ranges\n",
    "loan_data_15to16 = loan_data['2015 - 2016']\n",
    "loan_data_15to16.head(3)"
   ]
  },
  {
   "cell_type": "code",
   "execution_count": 63,
   "metadata": {},
   "outputs": [
    {
     "output_type": "display_data",
     "data": {},
     "metadata": {}
    },
    {
     "output_type": "execute_result",
     "data": {
      "text/html": "<div id='1279'>\n\n\n\n\n\n  <div class=\"bk-root\" id=\"27596d8c-580d-4bbb-96d5-686ce30016f4\" data-root-id=\"1279\"></div>\n</div>\n<script type=\"application/javascript\">(function(root) {\n  function embed_document(root) {\n    var docs_json = {\"b64194f5-eab6-420c-8e5b-20af99572067\":{\"roots\":{\"references\":[{\"attributes\":{\"below\":[{\"id\":\"1293\"}],\"center\":[{\"id\":\"1295\"},{\"id\":\"1299\"}],\"left\":[{\"id\":\"1296\"}],\"margin\":[5,5,5,5],\"min_border_bottom\":10,\"min_border_left\":10,\"min_border_right\":10,\"min_border_top\":10,\"plot_height\":300,\"plot_width\":700,\"renderers\":[{\"id\":\"1319\"}],\"sizing_mode\":\"fixed\",\"title\":{\"id\":\"1285\"},\"toolbar\":{\"id\":\"1306\"},\"x_range\":{\"id\":\"1281\"},\"x_scale\":{\"id\":\"1289\"},\"y_range\":{\"id\":\"1282\"},\"y_scale\":{\"id\":\"1291\"}},\"id\":\"1284\",\"subtype\":\"Figure\",\"type\":\"Plot\"},{\"attributes\":{},\"id\":\"1291\",\"type\":\"LinearScale\"},{\"attributes\":{\"factors\":[\"AK\",\"AL\",\"AR\",\"AZ\",\"CA\",\"CO\",\"CT\",\"DE\",\"FL\",\"GA\",\"GU\",\"HI\",\"IA\",\"ID\",\"IL\",\"IN\",\"KS\",\"KY\",\"LA\",\"MA\",\"MD\",\"ME\",\"MI\",\"MN\",\"MO\",\"MP\",\"MS\",\"MT\",\"NC\",\"ND\",\"NE\",\"NH\",\"NJ\",\"NM\",\"NV\",\"NY\",\"OH\",\"OK\",\"OR\",\"PA\",\"PR\",\"RI\",\"SC\",\"SD\",\"TN\",\"TX\",\"UT\",\"VA\",\"VI\",\"VT\",\"WA\",\"WI\",\"WV\",\"WY\"],\"tags\":[[[\"State Code\",\"State Code\",null]]]},\"id\":\"1281\",\"type\":\"FactorRange\"},{\"attributes\":{},\"id\":\"1301\",\"type\":\"PanTool\"},{\"attributes\":{\"axis_label\":\"\",\"bounds\":\"auto\",\"formatter\":{\"id\":\"1323\"},\"major_label_orientation\":\"horizontal\",\"ticker\":{\"id\":\"1297\"}},\"id\":\"1296\",\"type\":\"LinearAxis\"},{\"attributes\":{\"children\":[{\"id\":\"1280\"},{\"id\":\"1284\"},{\"id\":\"1341\"}],\"margin\":[0,0,0,0],\"name\":\"Row1152239\",\"tags\":[\"embedded\"]},\"id\":\"1279\",\"type\":\"Row\"},{\"attributes\":{},\"id\":\"1297\",\"type\":\"BasicTicker\"},{\"attributes\":{},\"id\":\"1294\",\"type\":\"CategoricalTicker\"},{\"attributes\":{},\"id\":\"1314\",\"type\":\"Selection\"},{\"attributes\":{\"source\":{\"id\":\"1313\"}},\"id\":\"1320\",\"type\":\"CDSView\"},{\"attributes\":{\"bottom_units\":\"screen\",\"fill_alpha\":0.5,\"fill_color\":\"lightgrey\",\"left_units\":\"screen\",\"level\":\"overlay\",\"line_alpha\":1.0,\"line_color\":\"black\",\"line_dash\":[4,4],\"line_width\":2,\"right_units\":\"screen\",\"top_units\":\"screen\"},\"id\":\"1305\",\"type\":\"BoxAnnotation\"},{\"attributes\":{\"data_source\":{\"id\":\"1313\"},\"glyph\":{\"id\":\"1316\"},\"hover_glyph\":null,\"muted_glyph\":{\"id\":\"1318\"},\"nonselection_glyph\":{\"id\":\"1317\"},\"selection_glyph\":null,\"view\":{\"id\":\"1320\"}},\"id\":\"1319\",\"type\":\"GlyphRenderer\"},{\"attributes\":{\"end\":3309753.04,\"reset_end\":3309753.04,\"reset_start\":0.0,\"tags\":[[[\"2015 - 2016\",\"2015 - 2016\",null]]]},\"id\":\"1282\",\"type\":\"Range1d\"},{\"attributes\":{\"active_drag\":\"auto\",\"active_inspect\":\"auto\",\"active_multi\":null,\"active_scroll\":\"auto\",\"active_tap\":\"auto\",\"tools\":[{\"id\":\"1283\"},{\"id\":\"1300\"},{\"id\":\"1301\"},{\"id\":\"1302\"},{\"id\":\"1303\"},{\"id\":\"1304\"}]},\"id\":\"1306\",\"type\":\"Toolbar\"},{\"attributes\":{\"margin\":[5,5,5,5],\"name\":\"HSpacer1152243\",\"sizing_mode\":\"stretch_width\"},\"id\":\"1280\",\"type\":\"Spacer\"},{\"attributes\":{\"axis\":{\"id\":\"1293\"},\"grid_line_color\":null,\"ticker\":null},\"id\":\"1295\",\"type\":\"Grid\"},{\"attributes\":{\"fill_color\":{\"value\":\"#1f77b3\"},\"top\":{\"field\":\"A_2015_hyphen_minus_2016\"},\"width\":{\"value\":0.8},\"x\":{\"field\":\"State_Code\"}},\"id\":\"1316\",\"type\":\"VBar\"},{\"attributes\":{\"callback\":null,\"renderers\":[{\"id\":\"1319\"}],\"tags\":[\"hv_created\"],\"tooltips\":[[\"State Code\",\"@{State_Code}\"],[\"2015 - 2016\",\"@{A_2015_hyphen_minus_2016}\"]]},\"id\":\"1283\",\"type\":\"HoverTool\"},{\"attributes\":{},\"id\":\"1323\",\"type\":\"BasicTickFormatter\"},{\"attributes\":{},\"id\":\"1304\",\"type\":\"ResetTool\"},{\"attributes\":{\"margin\":[5,5,5,5],\"name\":\"HSpacer1152244\",\"sizing_mode\":\"stretch_width\"},\"id\":\"1341\",\"type\":\"Spacer\"},{\"attributes\":{\"axis\":{\"id\":\"1296\"},\"dimension\":1,\"grid_line_color\":null,\"ticker\":null},\"id\":\"1299\",\"type\":\"Grid\"},{\"attributes\":{\"axis_label\":\"State Code\",\"bounds\":\"auto\",\"formatter\":{\"id\":\"1321\"},\"major_label_orientation\":\"horizontal\",\"ticker\":{\"id\":\"1294\"}},\"id\":\"1293\",\"type\":\"CategoricalAxis\"},{\"attributes\":{},\"id\":\"1321\",\"type\":\"CategoricalTickFormatter\"},{\"attributes\":{},\"id\":\"1331\",\"type\":\"UnionRenderers\"},{\"attributes\":{\"text\":\"2015 - 2016\",\"text_color\":{\"value\":\"black\"},\"text_font_size\":{\"value\":\"12pt\"}},\"id\":\"1285\",\"type\":\"Title\"},{\"attributes\":{},\"id\":\"1289\",\"type\":\"CategoricalScale\"},{\"attributes\":{\"fill_alpha\":{\"value\":0.1},\"fill_color\":{\"value\":\"#1f77b3\"},\"line_alpha\":{\"value\":0.1},\"top\":{\"field\":\"A_2015_hyphen_minus_2016\"},\"width\":{\"value\":0.8},\"x\":{\"field\":\"State_Code\"}},\"id\":\"1317\",\"type\":\"VBar\"},{\"attributes\":{\"fill_alpha\":{\"value\":0.2},\"fill_color\":{\"value\":\"#1f77b3\"},\"line_alpha\":{\"value\":0.2},\"top\":{\"field\":\"A_2015_hyphen_minus_2016\"},\"width\":{\"value\":0.8},\"x\":{\"field\":\"State_Code\"}},\"id\":\"1318\",\"type\":\"VBar\"},{\"attributes\":{},\"id\":\"1300\",\"type\":\"SaveTool\"},{\"attributes\":{},\"id\":\"1302\",\"type\":\"WheelZoomTool\"},{\"attributes\":{\"data\":{\"A_2015_hyphen_minus_2016\":{\"__ndarray__\":\"uB6F63skB0FH4XqU5e8kQc3MzMzWsRVBPQrXozP6HkEzMzMzsfRGQYXrUTi+vCdBexSux6iuJUHXo3A9zCQEQWZmZoagoEBBNDMzM0B2L0EAAAAASBwLQRSuR+HIvBtBCtejcJQbFkFwPQrXoewPQUjhehScLSdBNDMzMwPIKkHXo3A9r9IZQfYoXA+1hSJBhetROEEuJkGQwvWoWlUvQXA9CldwzC5BKVyPwhGGEEH2KFwPZtkyQY/C9aivqyRBuB6Fa8CYIkEAAAAAAAAAAHsUrkePoRNBCtejcB8CAkFcj8L16Is4QeF6FK4TYv5AwvUoXBn8D0EAAAAAZCERQcL1KBwDeDJBPgrXoyFsE0HiehSuc7UeQaRwPYpoBTJBo3A9SsR1OUGZmZmZ6O8eQT0K1yMZ+ihBAAAAwMm9PEEAAAAAUPD0QML1KFxsmBpBPgrXoy6qKEHD9Shc8xj8QJmZmRl2wS5BZmZmpndfRkHsUbieBhMmQYbrUThRJjRBAAAAAGBx+0Bcj8L1ToYAQc3MzMz7STdBAAAAAKg6KEEAAAAANF8QQQAAAAAIHwRB\",\"dtype\":\"float64\",\"order\":\"little\",\"shape\":[54]},\"State_Code\":[\"AK\",\"AL\",\"AR\",\"AZ\",\"CA\",\"CO\",\"CT\",\"DE\",\"FL\",\"GA\",\"GU\",\"HI\",\"IA\",\"ID\",\"IL\",\"IN\",\"KS\",\"KY\",\"LA\",\"MA\",\"MD\",\"ME\",\"MI\",\"MN\",\"MO\",\"MP\",\"MS\",\"MT\",\"NC\",\"ND\",\"NE\",\"NH\",\"NJ\",\"NM\",\"NV\",\"NY\",\"OH\",\"OK\",\"OR\",\"PA\",\"PR\",\"RI\",\"SC\",\"SD\",\"TN\",\"TX\",\"UT\",\"VA\",\"VI\",\"VT\",\"WA\",\"WI\",\"WV\",\"WY\"]},\"selected\":{\"id\":\"1314\"},\"selection_policy\":{\"id\":\"1331\"}},\"id\":\"1313\",\"type\":\"ColumnDataSource\"},{\"attributes\":{\"overlay\":{\"id\":\"1305\"}},\"id\":\"1303\",\"type\":\"BoxZoomTool\"}],\"root_ids\":[\"1279\"]},\"title\":\"Bokeh Application\",\"version\":\"2.2.3\"}};\n    var render_items = [{\"docid\":\"b64194f5-eab6-420c-8e5b-20af99572067\",\"root_ids\":[\"1279\"],\"roots\":{\"1279\":\"27596d8c-580d-4bbb-96d5-686ce30016f4\"}}];\n    root.Bokeh.embed.embed_items_notebook(docs_json, render_items);\n  }\n  if (root.Bokeh !== undefined && root.Bokeh.Panel !== undefined) {\n    embed_document(root);\n  } else {\n    var attempts = 0;\n    var timer = setInterval(function(root) {\n      if (root.Bokeh !== undefined && root.Bokeh.Panel !== undefined) {\n        clearInterval(timer);\n        embed_document(root);\n      } else if (document.readyState == \"complete\") {\n        attempts++;\n        if (attempts > 100) {\n          clearInterval(timer);\n          console.log(\"Bokeh: ERROR: Unable to run BokehJS code because BokehJS library is missing\");\n        }\n      }\n    }, 10, root)\n  }\n})(window);</script>",
      "application/vnd.holoviews_exec.v0+json": "",
      "text/plain": [
       ":Bars   [State Code]   (2015 - 2016)"
      ]
     },
     "metadata": {
      "application/vnd.holoviews_exec.v0+json": {
       "id": "1279"
      }
     },
     "execution_count": 63
    }
   ],
   "source": [
    "loan_data_15to16.hvplot.bar()"
   ]
  },
  {
   "cell_type": "code",
   "execution_count": 77,
   "metadata": {},
   "outputs": [
    {
     "output_type": "execute_result",
     "data": {
      "text/plain": [
       "State Code\n",
       "AK    172371.39\n",
       "AL    648663.44\n",
       "AR    351562.42\n",
       "Name: 2010 - 2014, dtype: float64"
      ]
     },
     "metadata": {},
     "execution_count": 77
    }
   ],
   "source": [
    "loan_data_10to14 = loan_data['2010 - 2014']\n",
    "loan_data_10to14.head(3)"
   ]
  },
  {
   "cell_type": "code",
   "execution_count": 78,
   "metadata": {},
   "outputs": [
    {
     "output_type": "display_data",
     "data": {},
     "metadata": {}
    },
    {
     "output_type": "execute_result",
     "data": {
      "text/html": "<div id='4609'>\n\n\n\n\n\n  <div class=\"bk-root\" id=\"756f927c-db82-4df6-ba0b-5d3e0d6c1796\" data-root-id=\"4609\"></div>\n</div>\n<script type=\"application/javascript\">(function(root) {\n  function embed_document(root) {\n    var docs_json = {\"d5906740-f3c1-49e9-be0f-f7e826a3d746\":{\"roots\":{\"references\":[{\"attributes\":{\"margin\":[5,5,5,5],\"name\":\"HSpacer1158580\",\"sizing_mode\":\"stretch_width\"},\"id\":\"4610\",\"type\":\"Spacer\"},{\"attributes\":{\"margin\":[5,5,5,5],\"name\":\"HSpacer1158581\",\"sizing_mode\":\"stretch_width\"},\"id\":\"4671\",\"type\":\"Spacer\"},{\"attributes\":{\"text\":\"2010 - 2014\",\"text_color\":{\"value\":\"black\"},\"text_font_size\":{\"value\":\"12pt\"}},\"id\":\"4615\",\"type\":\"Title\"},{\"attributes\":{\"end\":3523678.784,\"reset_end\":3523678.784,\"reset_start\":0.0,\"tags\":[[[\"2010 - 2014\",\"2010 - 2014\",null]]]},\"id\":\"4612\",\"type\":\"Range1d\"},{\"attributes\":{},\"id\":\"4651\",\"type\":\"CategoricalTickFormatter\"},{\"attributes\":{},\"id\":\"4644\",\"type\":\"Selection\"},{\"attributes\":{\"data_source\":{\"id\":\"4643\"},\"glyph\":{\"id\":\"4646\"},\"hover_glyph\":null,\"muted_glyph\":{\"id\":\"4648\"},\"nonselection_glyph\":{\"id\":\"4647\"},\"selection_glyph\":null,\"view\":{\"id\":\"4650\"}},\"id\":\"4649\",\"type\":\"GlyphRenderer\"},{\"attributes\":{\"callback\":null,\"renderers\":[{\"id\":\"4649\"}],\"tags\":[\"hv_created\"],\"tooltips\":[[\"State Code\",\"@{State_Code}\"],[\"2010 - 2014\",\"@{A_2010_hyphen_minus_2014}\"]]},\"id\":\"4613\",\"type\":\"HoverTool\"},{\"attributes\":{},\"id\":\"4630\",\"type\":\"SaveTool\"},{\"attributes\":{\"source\":{\"id\":\"4643\"}},\"id\":\"4650\",\"type\":\"CDSView\"},{\"attributes\":{\"axis_label\":\"State Code\",\"bounds\":\"auto\",\"formatter\":{\"id\":\"4651\"},\"major_label_orientation\":\"horizontal\",\"ticker\":{\"id\":\"4624\"}},\"id\":\"4623\",\"type\":\"CategoricalAxis\"},{\"attributes\":{\"axis_label\":\"\",\"bounds\":\"auto\",\"formatter\":{\"id\":\"4653\"},\"major_label_orientation\":\"horizontal\",\"ticker\":{\"id\":\"4627\"}},\"id\":\"4626\",\"type\":\"LinearAxis\"},{\"attributes\":{\"fill_alpha\":{\"value\":0.1},\"fill_color\":{\"value\":\"#1f77b3\"},\"line_alpha\":{\"value\":0.1},\"top\":{\"field\":\"A_2010_hyphen_minus_2014\"},\"width\":{\"value\":0.8},\"x\":{\"field\":\"State_Code\"}},\"id\":\"4647\",\"type\":\"VBar\"},{\"attributes\":{},\"id\":\"4624\",\"type\":\"CategoricalTicker\"},{\"attributes\":{\"below\":[{\"id\":\"4623\"}],\"center\":[{\"id\":\"4625\"},{\"id\":\"4629\"}],\"left\":[{\"id\":\"4626\"}],\"margin\":[5,5,5,5],\"min_border_bottom\":10,\"min_border_left\":10,\"min_border_right\":10,\"min_border_top\":10,\"plot_height\":300,\"plot_width\":700,\"renderers\":[{\"id\":\"4649\"}],\"sizing_mode\":\"fixed\",\"title\":{\"id\":\"4615\"},\"toolbar\":{\"id\":\"4636\"},\"x_range\":{\"id\":\"4611\"},\"x_scale\":{\"id\":\"4619\"},\"y_range\":{\"id\":\"4612\"},\"y_scale\":{\"id\":\"4621\"}},\"id\":\"4614\",\"subtype\":\"Figure\",\"type\":\"Plot\"},{\"attributes\":{\"fill_color\":{\"value\":\"#1f77b3\"},\"top\":{\"field\":\"A_2010_hyphen_minus_2014\"},\"width\":{\"value\":0.8},\"x\":{\"field\":\"State_Code\"}},\"id\":\"4646\",\"type\":\"VBar\"},{\"attributes\":{\"active_drag\":\"auto\",\"active_inspect\":\"auto\",\"active_multi\":null,\"active_scroll\":\"auto\",\"active_tap\":\"auto\",\"tools\":[{\"id\":\"4613\"},{\"id\":\"4630\"},{\"id\":\"4631\"},{\"id\":\"4632\"},{\"id\":\"4633\"},{\"id\":\"4634\"}]},\"id\":\"4636\",\"type\":\"Toolbar\"},{\"attributes\":{},\"id\":\"4653\",\"type\":\"BasicTickFormatter\"},{\"attributes\":{},\"id\":\"4627\",\"type\":\"BasicTicker\"},{\"attributes\":{},\"id\":\"4634\",\"type\":\"ResetTool\"},{\"attributes\":{\"children\":[{\"id\":\"4610\"},{\"id\":\"4614\"},{\"id\":\"4671\"}],\"margin\":[0,0,0,0],\"name\":\"Row1158576\",\"tags\":[\"embedded\"]},\"id\":\"4609\",\"type\":\"Row\"},{\"attributes\":{\"factors\":[\"AK\",\"AL\",\"AR\",\"AZ\",\"CA\",\"CO\",\"CT\",\"DE\",\"FL\",\"GA\",\"GU\",\"HI\",\"IA\",\"ID\",\"IL\",\"IN\",\"KS\",\"KY\",\"LA\",\"MA\",\"MD\",\"ME\",\"MI\",\"MN\",\"MO\",\"MP\",\"MS\",\"MT\",\"NC\",\"ND\",\"NE\",\"NH\",\"NJ\",\"NM\",\"NV\",\"NY\",\"OH\",\"OK\",\"OR\",\"PA\",\"PR\",\"RI\",\"SC\",\"SD\",\"TN\",\"TX\",\"UT\",\"VA\",\"VI\",\"VT\",\"WA\",\"WI\",\"WV\",\"WY\"],\"tags\":[[[\"State Code\",\"State Code\",null]]]},\"id\":\"4611\",\"type\":\"FactorRange\"},{\"attributes\":{},\"id\":\"4631\",\"type\":\"PanTool\"},{\"attributes\":{\"bottom_units\":\"screen\",\"fill_alpha\":0.5,\"fill_color\":\"lightgrey\",\"left_units\":\"screen\",\"level\":\"overlay\",\"line_alpha\":1.0,\"line_color\":\"black\",\"line_dash\":[4,4],\"line_width\":2,\"right_units\":\"screen\",\"top_units\":\"screen\"},\"id\":\"4635\",\"type\":\"BoxAnnotation\"},{\"attributes\":{\"axis\":{\"id\":\"4626\"},\"dimension\":1,\"grid_line_color\":null,\"ticker\":null},\"id\":\"4629\",\"type\":\"Grid\"},{\"attributes\":{},\"id\":\"4621\",\"type\":\"LinearScale\"},{\"attributes\":{\"data\":{\"A_2010_hyphen_minus_2014\":{\"__ndarray__\":\"7FG4HpsKBUEVrkfhrssjQeF6FK4pdRVBexSuRxFNIkHXo3CdZvxFQcL1KFw2lSVBUrgehZxAJUEfhetRytYDQRWuRyGWpD1BrUfhupCSMUEAAAAA8M0HQR+F61GBGxpBZ2ZmZoWTFUHsUbgep5wOQexRuB7D5SlBZWZmZtumKEHhehSuMNkYQfYoXA9pNSJBcD0K1wonJUE+CtfjgGY0QSCF61Gd3ilBFK5H4du/EEFnZmZmr5kxQexRuJ5t9iJBXI/CdS42IUEAAAAAQMXaQAAAAADi0xFBH4XrUYovAUFmZmZmgAY3QdejcD16Hv1AehSuRytREEEehetRD5QRQQvXo/BySzRBPgrXo8h5EkEqXI/Cv0cYQWdmZiaJWDJBFa5HYU4PNkEpXI/CqnAcQaRwPQrxaCdBAAAAwKYZP0EAAAAAULzzQFyPwvUgYxhBAAAAgEoSJ0H2KFyPsrr5QChcj0Lu0StBhetROGZ1SEG4HoVrN0YkQXE9ChcITzJBAAAAACA8/EBSuB6FA0IAQZDC9agWEDdBAAAAAJg9KUEAAAAA0JkQQQAAAABISQBB\",\"dtype\":\"float64\",\"order\":\"little\",\"shape\":[54]},\"State_Code\":[\"AK\",\"AL\",\"AR\",\"AZ\",\"CA\",\"CO\",\"CT\",\"DE\",\"FL\",\"GA\",\"GU\",\"HI\",\"IA\",\"ID\",\"IL\",\"IN\",\"KS\",\"KY\",\"LA\",\"MA\",\"MD\",\"ME\",\"MI\",\"MN\",\"MO\",\"MP\",\"MS\",\"MT\",\"NC\",\"ND\",\"NE\",\"NH\",\"NJ\",\"NM\",\"NV\",\"NY\",\"OH\",\"OK\",\"OR\",\"PA\",\"PR\",\"RI\",\"SC\",\"SD\",\"TN\",\"TX\",\"UT\",\"VA\",\"VI\",\"VT\",\"WA\",\"WI\",\"WV\",\"WY\"]},\"selected\":{\"id\":\"4644\"},\"selection_policy\":{\"id\":\"4661\"}},\"id\":\"4643\",\"type\":\"ColumnDataSource\"},{\"attributes\":{\"overlay\":{\"id\":\"4635\"}},\"id\":\"4633\",\"type\":\"BoxZoomTool\"},{\"attributes\":{},\"id\":\"4661\",\"type\":\"UnionRenderers\"},{\"attributes\":{\"axis\":{\"id\":\"4623\"},\"grid_line_color\":null,\"ticker\":null},\"id\":\"4625\",\"type\":\"Grid\"},{\"attributes\":{},\"id\":\"4619\",\"type\":\"CategoricalScale\"},{\"attributes\":{\"fill_alpha\":{\"value\":0.2},\"fill_color\":{\"value\":\"#1f77b3\"},\"line_alpha\":{\"value\":0.2},\"top\":{\"field\":\"A_2010_hyphen_minus_2014\"},\"width\":{\"value\":0.8},\"x\":{\"field\":\"State_Code\"}},\"id\":\"4648\",\"type\":\"VBar\"},{\"attributes\":{},\"id\":\"4632\",\"type\":\"WheelZoomTool\"}],\"root_ids\":[\"4609\"]},\"title\":\"Bokeh Application\",\"version\":\"2.2.3\"}};\n    var render_items = [{\"docid\":\"d5906740-f3c1-49e9-be0f-f7e826a3d746\",\"root_ids\":[\"4609\"],\"roots\":{\"4609\":\"756f927c-db82-4df6-ba0b-5d3e0d6c1796\"}}];\n    root.Bokeh.embed.embed_items_notebook(docs_json, render_items);\n  }\n  if (root.Bokeh !== undefined && root.Bokeh.Panel !== undefined) {\n    embed_document(root);\n  } else {\n    var attempts = 0;\n    var timer = setInterval(function(root) {\n      if (root.Bokeh !== undefined && root.Bokeh.Panel !== undefined) {\n        clearInterval(timer);\n        embed_document(root);\n      } else if (document.readyState == \"complete\") {\n        attempts++;\n        if (attempts > 100) {\n          clearInterval(timer);\n          console.log(\"Bokeh: ERROR: Unable to run BokehJS code because BokehJS library is missing\");\n        }\n      }\n    }, 10, root)\n  }\n})(window);</script>",
      "application/vnd.holoviews_exec.v0+json": "",
      "text/plain": [
       ":Bars   [State Code]   (2010 - 2014)"
      ]
     },
     "metadata": {
      "application/vnd.holoviews_exec.v0+json": {
       "id": "4609"
      }
     },
     "execution_count": 78
    }
   ],
   "source": [
    "loan_data_10to14.hvplot.bar()"
   ]
  },
  {
   "cell_type": "code",
   "execution_count": 79,
   "metadata": {},
   "outputs": [
    {
     "output_type": "display_data",
     "data": {},
     "metadata": {}
    },
    {
     "output_type": "execute_result",
     "data": {
      "text/html": "<div id='4713'>\n\n\n\n\n\n  <div class=\"bk-root\" id=\"f19e65a2-e650-43df-97ae-c66dbcf17cfd\" data-root-id=\"4713\"></div>\n</div>\n<script type=\"application/javascript\">(function(root) {\n  function embed_document(root) {\n    var docs_json = {\"a885d087-ae0a-4b2b-bf0e-99f767a38fc4\":{\"roots\":{\"references\":[{\"attributes\":{\"below\":[{\"id\":\"4771\"}],\"center\":[{\"id\":\"4773\"},{\"id\":\"4777\"}],\"left\":[{\"id\":\"4774\"}],\"margin\":null,\"min_border_bottom\":10,\"min_border_left\":10,\"min_border_right\":10,\"min_border_top\":10,\"plot_height\":300,\"plot_width\":700,\"renderers\":[{\"id\":\"4797\"}],\"sizing_mode\":\"fixed\",\"title\":{\"id\":\"4763\"},\"toolbar\":{\"id\":\"4784\"},\"toolbar_location\":null,\"x_range\":{\"id\":\"4715\"},\"x_scale\":{\"id\":\"4767\"},\"y_range\":{\"id\":\"4760\"},\"y_scale\":{\"id\":\"4769\"}},\"id\":\"4762\",\"subtype\":\"Figure\",\"type\":\"Plot\"},{\"attributes\":{\"end\":3523678.784,\"reset_end\":3523678.784,\"reset_start\":0.0,\"tags\":[[[\"2010 - 2014\",\"2010 - 2014\",null]]]},\"id\":\"4716\",\"type\":\"Range1d\"},{\"attributes\":{},\"id\":\"4767\",\"type\":\"CategoricalScale\"},{\"attributes\":{\"data\":{\"A_2010_hyphen_minus_2014\":{\"__ndarray__\":\"7FG4HpsKBUEVrkfhrssjQeF6FK4pdRVBexSuRxFNIkHXo3CdZvxFQcL1KFw2lSVBUrgehZxAJUEfhetRytYDQRWuRyGWpD1BrUfhupCSMUEAAAAA8M0HQR+F61GBGxpBZ2ZmZoWTFUHsUbgep5wOQexRuB7D5SlBZWZmZtumKEHhehSuMNkYQfYoXA9pNSJBcD0K1wonJUE+CtfjgGY0QSCF61Gd3ilBFK5H4du/EEFnZmZmr5kxQexRuJ5t9iJBXI/CdS42IUEAAAAAQMXaQAAAAADi0xFBH4XrUYovAUFmZmZmgAY3QdejcD16Hv1AehSuRytREEEehetRD5QRQQvXo/BySzRBPgrXo8h5EkEqXI/Cv0cYQWdmZiaJWDJBFa5HYU4PNkEpXI/CqnAcQaRwPQrxaCdBAAAAwKYZP0EAAAAAULzzQFyPwvUgYxhBAAAAgEoSJ0H2KFyPsrr5QChcj0Lu0StBhetROGZ1SEG4HoVrN0YkQXE9ChcITzJBAAAAACA8/EBSuB6FA0IAQZDC9agWEDdBAAAAAJg9KUEAAAAA0JkQQQAAAABISQBB\",\"dtype\":\"float64\",\"order\":\"little\",\"shape\":[54]},\"State_Code\":[\"AK\",\"AL\",\"AR\",\"AZ\",\"CA\",\"CO\",\"CT\",\"DE\",\"FL\",\"GA\",\"GU\",\"HI\",\"IA\",\"ID\",\"IL\",\"IN\",\"KS\",\"KY\",\"LA\",\"MA\",\"MD\",\"ME\",\"MI\",\"MN\",\"MO\",\"MP\",\"MS\",\"MT\",\"NC\",\"ND\",\"NE\",\"NH\",\"NJ\",\"NM\",\"NV\",\"NY\",\"OH\",\"OK\",\"OR\",\"PA\",\"PR\",\"RI\",\"SC\",\"SD\",\"TN\",\"TX\",\"UT\",\"VA\",\"VI\",\"VT\",\"WA\",\"WI\",\"WV\",\"WY\"]},\"selected\":{\"id\":\"4748\"},\"selection_policy\":{\"id\":\"4809\"}},\"id\":\"4747\",\"type\":\"ColumnDataSource\"},{\"attributes\":{\"margin\":[5,5,5,5],\"name\":\"HSpacer1158808\",\"sizing_mode\":\"stretch_width\"},\"id\":\"4969\",\"type\":\"Spacer\"},{\"attributes\":{\"data_source\":{\"id\":\"4747\"},\"glyph\":{\"id\":\"4750\"},\"hover_glyph\":null,\"muted_glyph\":{\"id\":\"4752\"},\"nonselection_glyph\":{\"id\":\"4751\"},\"selection_glyph\":null,\"view\":{\"id\":\"4754\"}},\"id\":\"4753\",\"type\":\"GlyphRenderer\"},{\"attributes\":{\"axis\":{\"id\":\"4730\"},\"dimension\":1,\"grid_line_color\":null,\"ticker\":null},\"id\":\"4733\",\"type\":\"Grid\"},{\"attributes\":{\"axis\":{\"id\":\"4771\"},\"grid_line_color\":null,\"ticker\":null},\"id\":\"4773\",\"type\":\"Grid\"},{\"attributes\":{\"fill_alpha\":{\"value\":0.1},\"fill_color\":{\"value\":\"#1f77b3\"},\"line_alpha\":{\"value\":0.1},\"top\":{\"field\":\"A_2010_hyphen_minus_2014\"},\"width\":{\"value\":0.8},\"x\":{\"field\":\"State_Code\"}},\"id\":\"4751\",\"type\":\"VBar\"},{\"attributes\":{},\"id\":\"4731\",\"type\":\"BasicTicker\"},{\"attributes\":{\"fill_alpha\":{\"value\":0.2},\"fill_color\":{\"value\":\"#1f77b3\"},\"line_alpha\":{\"value\":0.2},\"top\":{\"field\":\"A_2015_hyphen_minus_2016\"},\"width\":{\"value\":0.8},\"x\":{\"field\":\"State_Code\"}},\"id\":\"4796\",\"type\":\"VBar\"},{\"attributes\":{},\"id\":\"4799\",\"type\":\"CategoricalTickFormatter\"},{\"attributes\":{\"children\":[{\"id\":\"4823\"},{\"id\":\"4821\"}]},\"id\":\"4824\",\"type\":\"Column\"},{\"attributes\":{},\"id\":\"4735\",\"type\":\"PanTool\"},{\"attributes\":{},\"id\":\"4779\",\"type\":\"PanTool\"},{\"attributes\":{\"axis_label\":\"State Code\",\"bounds\":\"auto\",\"formatter\":{\"id\":\"4755\"},\"major_label_orientation\":1.5707963267948966,\"ticker\":{\"id\":\"4728\"}},\"id\":\"4727\",\"type\":\"CategoricalAxis\"},{\"attributes\":{\"children\":[{\"id\":\"4714\"},{\"id\":\"4824\"},{\"id\":\"4969\"}],\"margin\":[0,0,0,0],\"name\":\"Row1158803\",\"tags\":[\"embedded\"]},\"id\":\"4713\",\"type\":\"Row\"},{\"attributes\":{\"toolbar\":{\"id\":\"4822\"},\"toolbar_location\":\"above\"},\"id\":\"4823\",\"type\":\"ToolbarBox\"},{\"attributes\":{},\"id\":\"4738\",\"type\":\"ResetTool\"},{\"attributes\":{},\"id\":\"4782\",\"type\":\"ResetTool\"},{\"attributes\":{},\"id\":\"4769\",\"type\":\"LinearScale\"},{\"attributes\":{\"source\":{\"id\":\"4747\"}},\"id\":\"4754\",\"type\":\"CDSView\"},{\"attributes\":{},\"id\":\"4792\",\"type\":\"Selection\"},{\"attributes\":{\"margin\":[5,5,5,5],\"name\":\"HSpacer1158807\",\"sizing_mode\":\"stretch_width\"},\"id\":\"4714\",\"type\":\"Spacer\"},{\"attributes\":{\"children\":[[{\"id\":\"4718\"},0,0],[{\"id\":\"4762\"},0,1]]},\"id\":\"4821\",\"type\":\"GridBox\"},{\"attributes\":{},\"id\":\"4734\",\"type\":\"SaveTool\"},{\"attributes\":{},\"id\":\"4778\",\"type\":\"SaveTool\"},{\"attributes\":{\"axis\":{\"id\":\"4774\"},\"dimension\":1,\"grid_line_color\":null,\"ticker\":null},\"id\":\"4777\",\"type\":\"Grid\"},{\"attributes\":{\"axis_label\":\"\",\"bounds\":\"auto\",\"formatter\":{\"id\":\"4801\"},\"major_label_orientation\":\"horizontal\",\"ticker\":{\"id\":\"4775\"}},\"id\":\"4774\",\"type\":\"LinearAxis\"},{\"attributes\":{\"fill_alpha\":{\"value\":0.2},\"fill_color\":{\"value\":\"#1f77b3\"},\"line_alpha\":{\"value\":0.2},\"top\":{\"field\":\"A_2010_hyphen_minus_2014\"},\"width\":{\"value\":0.8},\"x\":{\"field\":\"State_Code\"}},\"id\":\"4752\",\"type\":\"VBar\"},{\"attributes\":{},\"id\":\"4757\",\"type\":\"BasicTickFormatter\"},{\"attributes\":{},\"id\":\"4755\",\"type\":\"CategoricalTickFormatter\"},{\"attributes\":{\"active_drag\":\"auto\",\"active_inspect\":\"auto\",\"active_multi\":null,\"active_scroll\":\"auto\",\"active_tap\":\"auto\",\"tools\":[{\"id\":\"4717\"},{\"id\":\"4734\"},{\"id\":\"4735\"},{\"id\":\"4736\"},{\"id\":\"4737\"},{\"id\":\"4738\"}]},\"id\":\"4740\",\"type\":\"Toolbar\"},{\"attributes\":{\"active_drag\":\"auto\",\"active_inspect\":\"auto\",\"active_multi\":null,\"active_scroll\":\"auto\",\"active_tap\":\"auto\",\"tools\":[{\"id\":\"4761\"},{\"id\":\"4778\"},{\"id\":\"4779\"},{\"id\":\"4780\"},{\"id\":\"4781\"},{\"id\":\"4782\"}]},\"id\":\"4784\",\"type\":\"Toolbar\"},{\"attributes\":{\"callback\":null,\"renderers\":[{\"id\":\"4797\"}],\"tags\":[\"hv_created\"],\"tooltips\":[[\"State Code\",\"@{State_Code}\"],[\"2015 - 2016\",\"@{A_2015_hyphen_minus_2016}\"]]},\"id\":\"4761\",\"type\":\"HoverTool\"},{\"attributes\":{},\"id\":\"4725\",\"type\":\"LinearScale\"},{\"attributes\":{\"below\":[{\"id\":\"4727\"}],\"center\":[{\"id\":\"4729\"},{\"id\":\"4733\"}],\"left\":[{\"id\":\"4730\"}],\"margin\":null,\"min_border_bottom\":10,\"min_border_left\":10,\"min_border_right\":10,\"min_border_top\":10,\"plot_height\":300,\"plot_width\":700,\"renderers\":[{\"id\":\"4753\"}],\"sizing_mode\":\"fixed\",\"title\":{\"id\":\"4719\"},\"toolbar\":{\"id\":\"4740\"},\"toolbar_location\":null,\"x_range\":{\"id\":\"4715\"},\"x_scale\":{\"id\":\"4723\"},\"y_range\":{\"id\":\"4716\"},\"y_scale\":{\"id\":\"4725\"}},\"id\":\"4718\",\"subtype\":\"Figure\",\"type\":\"Plot\"},{\"attributes\":{\"axis\":{\"id\":\"4727\"},\"grid_line_color\":null,\"ticker\":null},\"id\":\"4729\",\"type\":\"Grid\"},{\"attributes\":{\"fill_alpha\":{\"value\":0.1},\"fill_color\":{\"value\":\"#1f77b3\"},\"line_alpha\":{\"value\":0.1},\"top\":{\"field\":\"A_2015_hyphen_minus_2016\"},\"width\":{\"value\":0.8},\"x\":{\"field\":\"State_Code\"}},\"id\":\"4795\",\"type\":\"VBar\"},{\"attributes\":{},\"id\":\"4775\",\"type\":\"BasicTicker\"},{\"attributes\":{\"callback\":null,\"renderers\":[{\"id\":\"4753\"}],\"tags\":[\"hv_created\"],\"tooltips\":[[\"State Code\",\"@{State_Code}\"],[\"2010 - 2014\",\"@{A_2010_hyphen_minus_2014}\"]]},\"id\":\"4717\",\"type\":\"HoverTool\"},{\"attributes\":{\"data_source\":{\"id\":\"4791\"},\"glyph\":{\"id\":\"4794\"},\"hover_glyph\":null,\"muted_glyph\":{\"id\":\"4796\"},\"nonselection_glyph\":{\"id\":\"4795\"},\"selection_glyph\":null,\"view\":{\"id\":\"4798\"}},\"id\":\"4797\",\"type\":\"GlyphRenderer\"},{\"attributes\":{\"bottom_units\":\"screen\",\"fill_alpha\":0.5,\"fill_color\":\"lightgrey\",\"left_units\":\"screen\",\"level\":\"overlay\",\"line_alpha\":1.0,\"line_color\":\"black\",\"line_dash\":[4,4],\"line_width\":2,\"right_units\":\"screen\",\"top_units\":\"screen\"},\"id\":\"4739\",\"type\":\"BoxAnnotation\"},{\"attributes\":{\"bottom_units\":\"screen\",\"fill_alpha\":0.5,\"fill_color\":\"lightgrey\",\"left_units\":\"screen\",\"level\":\"overlay\",\"line_alpha\":1.0,\"line_color\":\"black\",\"line_dash\":[4,4],\"line_width\":2,\"right_units\":\"screen\",\"top_units\":\"screen\"},\"id\":\"4783\",\"type\":\"BoxAnnotation\"},{\"attributes\":{\"text\":\"2015 - 2016\",\"text_color\":{\"value\":\"black\"},\"text_font_size\":{\"value\":\"12pt\"}},\"id\":\"4763\",\"type\":\"Title\"},{\"attributes\":{\"fill_color\":{\"value\":\"#1f77b3\"},\"top\":{\"field\":\"A_2010_hyphen_minus_2014\"},\"width\":{\"value\":0.8},\"x\":{\"field\":\"State_Code\"}},\"id\":\"4750\",\"type\":\"VBar\"},{\"attributes\":{\"fill_color\":{\"value\":\"#1f77b3\"},\"top\":{\"field\":\"A_2015_hyphen_minus_2016\"},\"width\":{\"value\":0.8},\"x\":{\"field\":\"State_Code\"}},\"id\":\"4794\",\"type\":\"VBar\"},{\"attributes\":{},\"id\":\"4801\",\"type\":\"BasicTickFormatter\"},{\"attributes\":{},\"id\":\"4809\",\"type\":\"UnionRenderers\"},{\"attributes\":{\"overlay\":{\"id\":\"4739\"}},\"id\":\"4737\",\"type\":\"BoxZoomTool\"},{\"attributes\":{\"overlay\":{\"id\":\"4783\"}},\"id\":\"4781\",\"type\":\"BoxZoomTool\"},{\"attributes\":{\"axis_label\":\"State Code\",\"bounds\":\"auto\",\"formatter\":{\"id\":\"4799\"},\"major_label_orientation\":1.5707963267948966,\"ticker\":{\"id\":\"4772\"}},\"id\":\"4771\",\"type\":\"CategoricalAxis\"},{\"attributes\":{\"end\":3309753.04,\"reset_end\":3309753.04,\"reset_start\":0.0,\"tags\":[[[\"2015 - 2016\",\"2015 - 2016\",null]]]},\"id\":\"4760\",\"type\":\"Range1d\"},{\"attributes\":{\"toolbars\":[{\"id\":\"4740\"},{\"id\":\"4784\"}],\"tools\":[{\"id\":\"4717\"},{\"id\":\"4734\"},{\"id\":\"4735\"},{\"id\":\"4736\"},{\"id\":\"4737\"},{\"id\":\"4738\"},{\"id\":\"4761\"},{\"id\":\"4778\"},{\"id\":\"4779\"},{\"id\":\"4780\"},{\"id\":\"4781\"},{\"id\":\"4782\"}]},\"id\":\"4822\",\"type\":\"ProxyToolbar\"},{\"attributes\":{},\"id\":\"4723\",\"type\":\"CategoricalScale\"},{\"attributes\":{\"source\":{\"id\":\"4791\"}},\"id\":\"4798\",\"type\":\"CDSView\"},{\"attributes\":{},\"id\":\"4748\",\"type\":\"Selection\"},{\"attributes\":{},\"id\":\"4728\",\"type\":\"CategoricalTicker\"},{\"attributes\":{},\"id\":\"4736\",\"type\":\"WheelZoomTool\"},{\"attributes\":{},\"id\":\"4780\",\"type\":\"WheelZoomTool\"},{\"attributes\":{\"axis_label\":\"\",\"bounds\":\"auto\",\"formatter\":{\"id\":\"4757\"},\"major_label_orientation\":\"horizontal\",\"ticker\":{\"id\":\"4731\"}},\"id\":\"4730\",\"type\":\"LinearAxis\"},{\"attributes\":{\"factors\":[\"AK\",\"AL\",\"AR\",\"AZ\",\"CA\",\"CO\",\"CT\",\"DE\",\"FL\",\"GA\",\"GU\",\"HI\",\"IA\",\"ID\",\"IL\",\"IN\",\"KS\",\"KY\",\"LA\",\"MA\",\"MD\",\"ME\",\"MI\",\"MN\",\"MO\",\"MP\",\"MS\",\"MT\",\"NC\",\"ND\",\"NE\",\"NH\",\"NJ\",\"NM\",\"NV\",\"NY\",\"OH\",\"OK\",\"OR\",\"PA\",\"PR\",\"RI\",\"SC\",\"SD\",\"TN\",\"TX\",\"UT\",\"VA\",\"VI\",\"VT\",\"WA\",\"WI\",\"WV\",\"WY\"],\"tags\":[[[\"State Code\",\"State Code\",null]]]},\"id\":\"4715\",\"type\":\"FactorRange\"},{\"attributes\":{\"text\":\"2010 - 2014\",\"text_color\":{\"value\":\"black\"},\"text_font_size\":{\"value\":\"12pt\"}},\"id\":\"4719\",\"type\":\"Title\"},{\"attributes\":{\"data\":{\"A_2015_hyphen_minus_2016\":{\"__ndarray__\":\"uB6F63skB0FH4XqU5e8kQc3MzMzWsRVBPQrXozP6HkEzMzMzsfRGQYXrUTi+vCdBexSux6iuJUHXo3A9zCQEQWZmZoagoEBBNDMzM0B2L0EAAAAASBwLQRSuR+HIvBtBCtejcJQbFkFwPQrXoewPQUjhehScLSdBNDMzMwPIKkHXo3A9r9IZQfYoXA+1hSJBhetROEEuJkGQwvWoWlUvQXA9CldwzC5BKVyPwhGGEEH2KFwPZtkyQY/C9aivqyRBuB6Fa8CYIkEAAAAAAAAAAHsUrkePoRNBCtejcB8CAkFcj8L16Is4QeF6FK4TYv5AwvUoXBn8D0EAAAAAZCERQcL1KBwDeDJBPgrXoyFsE0HiehSuc7UeQaRwPYpoBTJBo3A9SsR1OUGZmZmZ6O8eQT0K1yMZ+ihBAAAAwMm9PEEAAAAAUPD0QML1KFxsmBpBPgrXoy6qKEHD9Shc8xj8QJmZmRl2wS5BZmZmpndfRkHsUbieBhMmQYbrUThRJjRBAAAAAGBx+0Bcj8L1ToYAQc3MzMz7STdBAAAAAKg6KEEAAAAANF8QQQAAAAAIHwRB\",\"dtype\":\"float64\",\"order\":\"little\",\"shape\":[54]},\"State_Code\":[\"AK\",\"AL\",\"AR\",\"AZ\",\"CA\",\"CO\",\"CT\",\"DE\",\"FL\",\"GA\",\"GU\",\"HI\",\"IA\",\"ID\",\"IL\",\"IN\",\"KS\",\"KY\",\"LA\",\"MA\",\"MD\",\"ME\",\"MI\",\"MN\",\"MO\",\"MP\",\"MS\",\"MT\",\"NC\",\"ND\",\"NE\",\"NH\",\"NJ\",\"NM\",\"NV\",\"NY\",\"OH\",\"OK\",\"OR\",\"PA\",\"PR\",\"RI\",\"SC\",\"SD\",\"TN\",\"TX\",\"UT\",\"VA\",\"VI\",\"VT\",\"WA\",\"WI\",\"WV\",\"WY\"]},\"selected\":{\"id\":\"4792\"},\"selection_policy\":{\"id\":\"4818\"}},\"id\":\"4791\",\"type\":\"ColumnDataSource\"},{\"attributes\":{},\"id\":\"4772\",\"type\":\"CategoricalTicker\"},{\"attributes\":{},\"id\":\"4818\",\"type\":\"UnionRenderers\"}],\"root_ids\":[\"4713\"]},\"title\":\"Bokeh Application\",\"version\":\"2.2.3\"}};\n    var render_items = [{\"docid\":\"a885d087-ae0a-4b2b-bf0e-99f767a38fc4\",\"root_ids\":[\"4713\"],\"roots\":{\"4713\":\"f19e65a2-e650-43df-97ae-c66dbcf17cfd\"}}];\n    root.Bokeh.embed.embed_items_notebook(docs_json, render_items);\n  }\n  if (root.Bokeh !== undefined && root.Bokeh.Panel !== undefined) {\n    embed_document(root);\n  } else {\n    var attempts = 0;\n    var timer = setInterval(function(root) {\n      if (root.Bokeh !== undefined && root.Bokeh.Panel !== undefined) {\n        clearInterval(timer);\n        embed_document(root);\n      } else if (document.readyState == \"complete\") {\n        attempts++;\n        if (attempts > 100) {\n          clearInterval(timer);\n          console.log(\"Bokeh: ERROR: Unable to run BokehJS code because BokehJS library is missing\");\n        }\n      }\n    }, 10, root)\n  }\n})(window);</script>",
      "application/vnd.holoviews_exec.v0+json": "",
      "text/plain": [
       ":Layout\n",
       "   .Bars.A_2010_hyphen_minus_2014 :Bars   [State Code]   (2010 - 2014)\n",
       "   .Bars.A_2015_hyphen_minus_2016 :Bars   [State Code]   (2015 - 2016)"
      ]
     },
     "metadata": {
      "application/vnd.holoviews_exec.v0+json": {
       "id": "4713"
      }
     },
     "execution_count": 79
    }
   ],
   "source": [
    "loan_data_10to14.hvplot.bar(rot=90) + loan_data_15to16.hvplot.bar(rot=90)"
   ]
  },
  {
   "cell_type": "code",
   "execution_count": 80,
   "metadata": {},
   "outputs": [
    {
     "output_type": "display_data",
     "data": {},
     "metadata": {}
    },
    {
     "output_type": "execute_result",
     "data": {
      "text/html": "<div id='5051'>\n\n\n\n\n\n  <div class=\"bk-root\" id=\"d333fe33-ded3-4459-8680-ae8b884abf53\" data-root-id=\"5051\"></div>\n</div>\n<script type=\"application/javascript\">(function(root) {\n  function embed_document(root) {\n    var docs_json = {\"275a1e32-76c6-41f8-83de-78b9f58bc817\":{\"roots\":{\"references\":[{\"attributes\":{\"active_drag\":\"auto\",\"active_inspect\":\"auto\",\"active_multi\":null,\"active_scroll\":\"auto\",\"active_tap\":\"auto\",\"tools\":[{\"id\":\"5143\"},{\"id\":\"5160\"},{\"id\":\"5161\"},{\"id\":\"5162\"},{\"id\":\"5163\"},{\"id\":\"5164\"}]},\"id\":\"5166\",\"type\":\"Toolbar\"},{\"attributes\":{\"fill_alpha\":{\"value\":0.1},\"fill_color\":{\"value\":\"#1f77b3\"},\"line_alpha\":{\"value\":0.1},\"top\":{\"field\":\"Total_Average_Loan_Amount\"},\"width\":{\"value\":0.8},\"x\":{\"field\":\"State_Code\"}},\"id\":\"5177\",\"type\":\"VBar\"},{\"attributes\":{\"fill_alpha\":{\"value\":0.2},\"fill_color\":{\"value\":\"#1f77b3\"},\"line_alpha\":{\"value\":0.2},\"top\":{\"field\":\"A_2015_hyphen_minus_2016\"},\"width\":{\"value\":0.8},\"x\":{\"field\":\"State_Code\"}},\"id\":\"5134\",\"type\":\"VBar\"},{\"attributes\":{\"below\":[{\"id\":\"5065\"}],\"center\":[{\"id\":\"5067\"},{\"id\":\"5071\"}],\"left\":[{\"id\":\"5068\"}],\"margin\":null,\"min_border_bottom\":10,\"min_border_left\":10,\"min_border_right\":10,\"min_border_top\":10,\"plot_height\":300,\"plot_width\":700,\"renderers\":[{\"id\":\"5091\"}],\"sizing_mode\":\"fixed\",\"title\":{\"id\":\"5057\"},\"toolbar\":{\"id\":\"5078\"},\"toolbar_location\":null,\"x_range\":{\"id\":\"5053\"},\"x_scale\":{\"id\":\"5061\"},\"y_range\":{\"id\":\"5054\"},\"y_scale\":{\"id\":\"5063\"}},\"id\":\"5056\",\"subtype\":\"Figure\",\"type\":\"Plot\"},{\"attributes\":{\"callback\":null,\"renderers\":[{\"id\":\"5091\"}],\"tags\":[\"hv_created\"],\"tooltips\":[[\"State Code\",\"@{State_Code}\"],[\"2010 - 2014\",\"@{A_2010_hyphen_minus_2014}\"]]},\"id\":\"5055\",\"type\":\"HoverTool\"},{\"attributes\":{\"margin\":[5,5,5,5],\"name\":\"HSpacer1159264\",\"sizing_mode\":\"stretch_width\"},\"id\":\"5052\",\"type\":\"Spacer\"},{\"attributes\":{\"text\":\"2015 - 2016\",\"text_color\":{\"value\":\"black\"},\"text_font_size\":{\"value\":\"12pt\"}},\"id\":\"5101\",\"type\":\"Title\"},{\"attributes\":{\"axis\":{\"id\":\"5153\"},\"grid_line_color\":null,\"ticker\":null},\"id\":\"5155\",\"type\":\"Grid\"},{\"attributes\":{},\"id\":\"5069\",\"type\":\"BasicTicker\"},{\"attributes\":{\"source\":{\"id\":\"5129\"}},\"id\":\"5136\",\"type\":\"CDSView\"},{\"attributes\":{},\"id\":\"5209\",\"type\":\"UnionRenderers\"},{\"attributes\":{\"axis\":{\"id\":\"5109\"},\"grid_line_color\":null,\"ticker\":null},\"id\":\"5111\",\"type\":\"Grid\"},{\"attributes\":{},\"id\":\"5181\",\"type\":\"CategoricalTickFormatter\"},{\"attributes\":{},\"id\":\"5095\",\"type\":\"BasicTickFormatter\"},{\"attributes\":{\"children\":[{\"id\":\"5052\"},{\"id\":\"5215\"},{\"id\":\"5432\"}],\"margin\":[0,0,0,0],\"name\":\"Row1159260\",\"tags\":[\"embedded\"]},\"id\":\"5051\",\"type\":\"Row\"},{\"attributes\":{\"axis_label\":\"State Code\",\"bounds\":\"auto\",\"formatter\":{\"id\":\"5093\"},\"major_label_orientation\":1.5707963267948966,\"ticker\":{\"id\":\"5066\"}},\"id\":\"5065\",\"type\":\"CategoricalAxis\"},{\"attributes\":{\"children\":[[{\"id\":\"5056\"},0,0],[{\"id\":\"5100\"},0,1],[{\"id\":\"5144\"},0,2]]},\"id\":\"5212\",\"type\":\"GridBox\"},{\"attributes\":{\"axis_label\":\"State Code\",\"bounds\":\"auto\",\"formatter\":{\"id\":\"5181\"},\"major_label_orientation\":1.5707963267948966,\"ticker\":{\"id\":\"5154\"}},\"id\":\"5153\",\"type\":\"CategoricalAxis\"},{\"attributes\":{\"source\":{\"id\":\"5173\"}},\"id\":\"5180\",\"type\":\"CDSView\"},{\"attributes\":{},\"id\":\"5086\",\"type\":\"Selection\"},{\"attributes\":{\"overlay\":{\"id\":\"5121\"}},\"id\":\"5119\",\"type\":\"BoxZoomTool\"},{\"attributes\":{},\"id\":\"5107\",\"type\":\"LinearScale\"},{\"attributes\":{},\"id\":\"5149\",\"type\":\"CategoricalScale\"},{\"attributes\":{\"factors\":[\"AK\",\"AL\",\"AR\",\"AZ\",\"CA\",\"CO\",\"CT\",\"DE\",\"FL\",\"GA\",\"GU\",\"HI\",\"IA\",\"ID\",\"IL\",\"IN\",\"KS\",\"KY\",\"LA\",\"MA\",\"MD\",\"ME\",\"MI\",\"MN\",\"MO\",\"MP\",\"MS\",\"MT\",\"NC\",\"ND\",\"NE\",\"NH\",\"NJ\",\"NM\",\"NV\",\"NY\",\"OH\",\"OK\",\"OR\",\"PA\",\"PR\",\"RI\",\"SC\",\"SD\",\"TN\",\"TX\",\"UT\",\"VA\",\"VI\",\"VT\",\"WA\",\"WI\",\"WV\",\"WY\"],\"tags\":[[[\"State Code\",\"State Code\",null]]]},\"id\":\"5053\",\"type\":\"FactorRange\"},{\"attributes\":{\"data_source\":{\"id\":\"5129\"},\"glyph\":{\"id\":\"5132\"},\"hover_glyph\":null,\"muted_glyph\":{\"id\":\"5134\"},\"nonselection_glyph\":{\"id\":\"5133\"},\"selection_glyph\":null,\"view\":{\"id\":\"5136\"}},\"id\":\"5135\",\"type\":\"GlyphRenderer\"},{\"attributes\":{},\"id\":\"5137\",\"type\":\"CategoricalTickFormatter\"},{\"attributes\":{},\"id\":\"5200\",\"type\":\"UnionRenderers\"},{\"attributes\":{\"children\":[{\"id\":\"5214\"},{\"id\":\"5212\"}]},\"id\":\"5215\",\"type\":\"Column\"},{\"attributes\":{\"below\":[{\"id\":\"5153\"}],\"center\":[{\"id\":\"5155\"},{\"id\":\"5159\"}],\"left\":[{\"id\":\"5156\"}],\"margin\":null,\"min_border_bottom\":10,\"min_border_left\":10,\"min_border_right\":10,\"min_border_top\":10,\"plot_height\":300,\"plot_width\":700,\"renderers\":[{\"id\":\"5179\"}],\"sizing_mode\":\"fixed\",\"title\":{\"id\":\"5145\"},\"toolbar\":{\"id\":\"5166\"},\"toolbar_location\":null,\"x_range\":{\"id\":\"5053\"},\"x_scale\":{\"id\":\"5149\"},\"y_range\":{\"id\":\"5142\"},\"y_scale\":{\"id\":\"5151\"}},\"id\":\"5144\",\"subtype\":\"Figure\",\"type\":\"Plot\"},{\"attributes\":{\"overlay\":{\"id\":\"5077\"}},\"id\":\"5075\",\"type\":\"BoxZoomTool\"},{\"attributes\":{},\"id\":\"5162\",\"type\":\"WheelZoomTool\"},{\"attributes\":{\"data\":{\"A_2010_hyphen_minus_2014\":{\"__ndarray__\":\"7FG4HpsKBUEVrkfhrssjQeF6FK4pdRVBexSuRxFNIkHXo3CdZvxFQcL1KFw2lSVBUrgehZxAJUEfhetRytYDQRWuRyGWpD1BrUfhupCSMUEAAAAA8M0HQR+F61GBGxpBZ2ZmZoWTFUHsUbgep5wOQexRuB7D5SlBZWZmZtumKEHhehSuMNkYQfYoXA9pNSJBcD0K1wonJUE+CtfjgGY0QSCF61Gd3ilBFK5H4du/EEFnZmZmr5kxQexRuJ5t9iJBXI/CdS42IUEAAAAAQMXaQAAAAADi0xFBH4XrUYovAUFmZmZmgAY3QdejcD16Hv1AehSuRytREEEehetRD5QRQQvXo/BySzRBPgrXo8h5EkEqXI/Cv0cYQWdmZiaJWDJBFa5HYU4PNkEpXI/CqnAcQaRwPQrxaCdBAAAAwKYZP0EAAAAAULzzQFyPwvUgYxhBAAAAgEoSJ0H2KFyPsrr5QChcj0Lu0StBhetROGZ1SEG4HoVrN0YkQXE9ChcITzJBAAAAACA8/EBSuB6FA0IAQZDC9agWEDdBAAAAAJg9KUEAAAAA0JkQQQAAAABISQBB\",\"dtype\":\"float64\",\"order\":\"little\",\"shape\":[54]},\"State_Code\":[\"AK\",\"AL\",\"AR\",\"AZ\",\"CA\",\"CO\",\"CT\",\"DE\",\"FL\",\"GA\",\"GU\",\"HI\",\"IA\",\"ID\",\"IL\",\"IN\",\"KS\",\"KY\",\"LA\",\"MA\",\"MD\",\"ME\",\"MI\",\"MN\",\"MO\",\"MP\",\"MS\",\"MT\",\"NC\",\"ND\",\"NE\",\"NH\",\"NJ\",\"NM\",\"NV\",\"NY\",\"OH\",\"OK\",\"OR\",\"PA\",\"PR\",\"RI\",\"SC\",\"SD\",\"TN\",\"TX\",\"UT\",\"VA\",\"VI\",\"VT\",\"WA\",\"WI\",\"WV\",\"WY\"]},\"selected\":{\"id\":\"5086\"},\"selection_policy\":{\"id\":\"5191\"}},\"id\":\"5085\",\"type\":\"ColumnDataSource\"},{\"attributes\":{},\"id\":\"5110\",\"type\":\"CategoricalTicker\"},{\"attributes\":{\"fill_color\":{\"value\":\"#1f77b3\"},\"top\":{\"field\":\"Total_Average_Loan_Amount\"},\"width\":{\"value\":0.8},\"x\":{\"field\":\"State_Code\"}},\"id\":\"5176\",\"type\":\"VBar\"},{\"attributes\":{},\"id\":\"5183\",\"type\":\"BasicTickFormatter\"},{\"attributes\":{},\"id\":\"5118\",\"type\":\"WheelZoomTool\"},{\"attributes\":{},\"id\":\"5164\",\"type\":\"ResetTool\"},{\"attributes\":{\"end\":3309753.04,\"reset_end\":3309753.04,\"reset_start\":0.0,\"tags\":[[[\"2015 - 2016\",\"2015 - 2016\",null]]]},\"id\":\"5098\",\"type\":\"Range1d\"},{\"attributes\":{\"data_source\":{\"id\":\"5173\"},\"glyph\":{\"id\":\"5176\"},\"hover_glyph\":null,\"muted_glyph\":{\"id\":\"5178\"},\"nonselection_glyph\":{\"id\":\"5177\"},\"selection_glyph\":null,\"view\":{\"id\":\"5180\"}},\"id\":\"5179\",\"type\":\"GlyphRenderer\"},{\"attributes\":{\"fill_alpha\":{\"value\":0.1},\"fill_color\":{\"value\":\"#1f77b3\"},\"line_alpha\":{\"value\":0.1},\"top\":{\"field\":\"A_2010_hyphen_minus_2014\"},\"width\":{\"value\":0.8},\"x\":{\"field\":\"State_Code\"}},\"id\":\"5089\",\"type\":\"VBar\"},{\"attributes\":{},\"id\":\"5066\",\"type\":\"CategoricalTicker\"},{\"attributes\":{\"bottom_units\":\"screen\",\"fill_alpha\":0.5,\"fill_color\":\"lightgrey\",\"left_units\":\"screen\",\"level\":\"overlay\",\"line_alpha\":1.0,\"line_color\":\"black\",\"line_dash\":[4,4],\"line_width\":2,\"right_units\":\"screen\",\"top_units\":\"screen\"},\"id\":\"5077\",\"type\":\"BoxAnnotation\"},{\"attributes\":{},\"id\":\"5063\",\"type\":\"LinearScale\"},{\"attributes\":{\"axis_label\":\"\",\"bounds\":\"auto\",\"formatter\":{\"id\":\"5139\"},\"major_label_orientation\":\"horizontal\",\"ticker\":{\"id\":\"5113\"}},\"id\":\"5112\",\"type\":\"LinearAxis\"},{\"attributes\":{\"below\":[{\"id\":\"5109\"}],\"center\":[{\"id\":\"5111\"},{\"id\":\"5115\"}],\"left\":[{\"id\":\"5112\"}],\"margin\":null,\"min_border_bottom\":10,\"min_border_left\":10,\"min_border_right\":10,\"min_border_top\":10,\"plot_height\":300,\"plot_width\":700,\"renderers\":[{\"id\":\"5135\"}],\"sizing_mode\":\"fixed\",\"title\":{\"id\":\"5101\"},\"toolbar\":{\"id\":\"5122\"},\"toolbar_location\":null,\"x_range\":{\"id\":\"5053\"},\"x_scale\":{\"id\":\"5105\"},\"y_range\":{\"id\":\"5098\"},\"y_scale\":{\"id\":\"5107\"}},\"id\":\"5100\",\"subtype\":\"Figure\",\"type\":\"Plot\"},{\"attributes\":{},\"id\":\"5074\",\"type\":\"WheelZoomTool\"},{\"attributes\":{},\"id\":\"5120\",\"type\":\"ResetTool\"},{\"attributes\":{\"callback\":null,\"renderers\":[{\"id\":\"5135\"}],\"tags\":[\"hv_created\"],\"tooltips\":[[\"State Code\",\"@{State_Code}\"],[\"2015 - 2016\",\"@{A_2015_hyphen_minus_2016}\"]]},\"id\":\"5099\",\"type\":\"HoverTool\"},{\"attributes\":{},\"id\":\"5160\",\"type\":\"SaveTool\"},{\"attributes\":{\"axis\":{\"id\":\"5065\"},\"grid_line_color\":null,\"ticker\":null},\"id\":\"5067\",\"type\":\"Grid\"},{\"attributes\":{\"axis_label\":\"State Code\",\"bounds\":\"auto\",\"formatter\":{\"id\":\"5137\"},\"major_label_orientation\":1.5707963267948966,\"ticker\":{\"id\":\"5110\"}},\"id\":\"5109\",\"type\":\"CategoricalAxis\"},{\"attributes\":{},\"id\":\"5139\",\"type\":\"BasicTickFormatter\"},{\"attributes\":{},\"id\":\"5130\",\"type\":\"Selection\"},{\"attributes\":{\"bottom_units\":\"screen\",\"fill_alpha\":0.5,\"fill_color\":\"lightgrey\",\"left_units\":\"screen\",\"level\":\"overlay\",\"line_alpha\":1.0,\"line_color\":\"black\",\"line_dash\":[4,4],\"line_width\":2,\"right_units\":\"screen\",\"top_units\":\"screen\"},\"id\":\"5121\",\"type\":\"BoxAnnotation\"},{\"attributes\":{\"end\":3523678.784,\"reset_end\":3523678.784,\"reset_start\":0.0,\"tags\":[[[\"2010 - 2014\",\"2010 - 2014\",null]]]},\"id\":\"5054\",\"type\":\"Range1d\"},{\"attributes\":{},\"id\":\"5093\",\"type\":\"CategoricalTickFormatter\"},{\"attributes\":{\"fill_alpha\":{\"value\":0.2},\"fill_color\":{\"value\":\"#1f77b3\"},\"line_alpha\":{\"value\":0.2},\"top\":{\"field\":\"Total_Average_Loan_Amount\"},\"width\":{\"value\":0.8},\"x\":{\"field\":\"State_Code\"}},\"id\":\"5178\",\"type\":\"VBar\"},{\"attributes\":{},\"id\":\"5073\",\"type\":\"PanTool\"},{\"attributes\":{\"axis_label\":\"\",\"bounds\":\"auto\",\"formatter\":{\"id\":\"5095\"},\"major_label_orientation\":\"horizontal\",\"ticker\":{\"id\":\"5069\"}},\"id\":\"5068\",\"type\":\"LinearAxis\"},{\"attributes\":{\"axis\":{\"id\":\"5112\"},\"dimension\":1,\"grid_line_color\":null,\"ticker\":null},\"id\":\"5115\",\"type\":\"Grid\"},{\"attributes\":{},\"id\":\"5116\",\"type\":\"SaveTool\"},{\"attributes\":{\"callback\":null,\"renderers\":[{\"id\":\"5179\"}],\"tags\":[\"hv_created\"],\"tooltips\":[[\"State Code\",\"@{State_Code}\"],[\"Total Average Loan Amount\",\"@{Total_Average_Loan_Amount}\"]]},\"id\":\"5143\",\"type\":\"HoverTool\"},{\"attributes\":{},\"id\":\"5076\",\"type\":\"ResetTool\"},{\"attributes\":{},\"id\":\"5154\",\"type\":\"CategoricalTicker\"},{\"attributes\":{},\"id\":\"5161\",\"type\":\"PanTool\"},{\"attributes\":{\"fill_color\":{\"value\":\"#1f77b3\"},\"top\":{\"field\":\"A_2015_hyphen_minus_2016\"},\"width\":{\"value\":0.8},\"x\":{\"field\":\"State_Code\"}},\"id\":\"5132\",\"type\":\"VBar\"},{\"attributes\":{},\"id\":\"5157\",\"type\":\"BasicTicker\"},{\"attributes\":{},\"id\":\"5191\",\"type\":\"UnionRenderers\"},{\"attributes\":{\"fill_alpha\":{\"value\":0.2},\"fill_color\":{\"value\":\"#1f77b3\"},\"line_alpha\":{\"value\":0.2},\"top\":{\"field\":\"A_2010_hyphen_minus_2014\"},\"width\":{\"value\":0.8},\"x\":{\"field\":\"State_Code\"}},\"id\":\"5090\",\"type\":\"VBar\"},{\"attributes\":{\"axis\":{\"id\":\"5156\"},\"dimension\":1,\"grid_line_color\":null,\"ticker\":null},\"id\":\"5159\",\"type\":\"Grid\"},{\"attributes\":{},\"id\":\"5151\",\"type\":\"LinearScale\"},{\"attributes\":{\"bottom_units\":\"screen\",\"fill_alpha\":0.5,\"fill_color\":\"lightgrey\",\"left_units\":\"screen\",\"level\":\"overlay\",\"line_alpha\":1.0,\"line_color\":\"black\",\"line_dash\":[4,4],\"line_width\":2,\"right_units\":\"screen\",\"top_units\":\"screen\"},\"id\":\"5165\",\"type\":\"BoxAnnotation\"},{\"attributes\":{\"margin\":[5,5,5,5],\"name\":\"HSpacer1159265\",\"sizing_mode\":\"stretch_width\"},\"id\":\"5432\",\"type\":\"Spacer\"},{\"attributes\":{\"toolbars\":[{\"id\":\"5078\"},{\"id\":\"5122\"},{\"id\":\"5166\"}],\"tools\":[{\"id\":\"5055\"},{\"id\":\"5072\"},{\"id\":\"5073\"},{\"id\":\"5074\"},{\"id\":\"5075\"},{\"id\":\"5076\"},{\"id\":\"5099\"},{\"id\":\"5116\"},{\"id\":\"5117\"},{\"id\":\"5118\"},{\"id\":\"5119\"},{\"id\":\"5120\"},{\"id\":\"5143\"},{\"id\":\"5160\"},{\"id\":\"5161\"},{\"id\":\"5162\"},{\"id\":\"5163\"},{\"id\":\"5164\"}]},\"id\":\"5213\",\"type\":\"ProxyToolbar\"},{\"attributes\":{},\"id\":\"5061\",\"type\":\"CategoricalScale\"},{\"attributes\":{},\"id\":\"5105\",\"type\":\"CategoricalScale\"},{\"attributes\":{\"text\":\"Total Average Loan Amount\",\"text_color\":{\"value\":\"black\"},\"text_font_size\":{\"value\":\"12pt\"}},\"id\":\"5145\",\"type\":\"Title\"},{\"attributes\":{\"fill_color\":{\"value\":\"#1f77b3\"},\"top\":{\"field\":\"A_2010_hyphen_minus_2014\"},\"width\":{\"value\":0.8},\"x\":{\"field\":\"State_Code\"}},\"id\":\"5088\",\"type\":\"VBar\"},{\"attributes\":{\"active_drag\":\"auto\",\"active_inspect\":\"auto\",\"active_multi\":null,\"active_scroll\":\"auto\",\"active_tap\":\"auto\",\"tools\":[{\"id\":\"5099\"},{\"id\":\"5116\"},{\"id\":\"5117\"},{\"id\":\"5118\"},{\"id\":\"5119\"},{\"id\":\"5120\"}]},\"id\":\"5122\",\"type\":\"Toolbar\"},{\"attributes\":{\"axis\":{\"id\":\"5068\"},\"dimension\":1,\"grid_line_color\":null,\"ticker\":null},\"id\":\"5071\",\"type\":\"Grid\"},{\"attributes\":{\"source\":{\"id\":\"5085\"}},\"id\":\"5092\",\"type\":\"CDSView\"},{\"attributes\":{},\"id\":\"5113\",\"type\":\"BasicTicker\"},{\"attributes\":{},\"id\":\"5072\",\"type\":\"SaveTool\"},{\"attributes\":{\"active_drag\":\"auto\",\"active_inspect\":\"auto\",\"active_multi\":null,\"active_scroll\":\"auto\",\"active_tap\":\"auto\",\"tools\":[{\"id\":\"5055\"},{\"id\":\"5072\"},{\"id\":\"5073\"},{\"id\":\"5074\"},{\"id\":\"5075\"},{\"id\":\"5076\"}]},\"id\":\"5078\",\"type\":\"Toolbar\"},{\"attributes\":{\"data_source\":{\"id\":\"5085\"},\"glyph\":{\"id\":\"5088\"},\"hover_glyph\":null,\"muted_glyph\":{\"id\":\"5090\"},\"nonselection_glyph\":{\"id\":\"5089\"},\"selection_glyph\":null,\"view\":{\"id\":\"5092\"}},\"id\":\"5091\",\"type\":\"GlyphRenderer\"},{\"attributes\":{\"data\":{\"A_2015_hyphen_minus_2016\":{\"__ndarray__\":\"uB6F63skB0FH4XqU5e8kQc3MzMzWsRVBPQrXozP6HkEzMzMzsfRGQYXrUTi+vCdBexSux6iuJUHXo3A9zCQEQWZmZoagoEBBNDMzM0B2L0EAAAAASBwLQRSuR+HIvBtBCtejcJQbFkFwPQrXoewPQUjhehScLSdBNDMzMwPIKkHXo3A9r9IZQfYoXA+1hSJBhetROEEuJkGQwvWoWlUvQXA9CldwzC5BKVyPwhGGEEH2KFwPZtkyQY/C9aivqyRBuB6Fa8CYIkEAAAAAAAAAAHsUrkePoRNBCtejcB8CAkFcj8L16Is4QeF6FK4TYv5AwvUoXBn8D0EAAAAAZCERQcL1KBwDeDJBPgrXoyFsE0HiehSuc7UeQaRwPYpoBTJBo3A9SsR1OUGZmZmZ6O8eQT0K1yMZ+ihBAAAAwMm9PEEAAAAAUPD0QML1KFxsmBpBPgrXoy6qKEHD9Shc8xj8QJmZmRl2wS5BZmZmpndfRkHsUbieBhMmQYbrUThRJjRBAAAAAGBx+0Bcj8L1ToYAQc3MzMz7STdBAAAAAKg6KEEAAAAANF8QQQAAAAAIHwRB\",\"dtype\":\"float64\",\"order\":\"little\",\"shape\":[54]},\"State_Code\":[\"AK\",\"AL\",\"AR\",\"AZ\",\"CA\",\"CO\",\"CT\",\"DE\",\"FL\",\"GA\",\"GU\",\"HI\",\"IA\",\"ID\",\"IL\",\"IN\",\"KS\",\"KY\",\"LA\",\"MA\",\"MD\",\"ME\",\"MI\",\"MN\",\"MO\",\"MP\",\"MS\",\"MT\",\"NC\",\"ND\",\"NE\",\"NH\",\"NJ\",\"NM\",\"NV\",\"NY\",\"OH\",\"OK\",\"OR\",\"PA\",\"PR\",\"RI\",\"SC\",\"SD\",\"TN\",\"TX\",\"UT\",\"VA\",\"VI\",\"VT\",\"WA\",\"WI\",\"WV\",\"WY\"]},\"selected\":{\"id\":\"5130\"},\"selection_policy\":{\"id\":\"5200\"}},\"id\":\"5129\",\"type\":\"ColumnDataSource\"},{\"attributes\":{\"overlay\":{\"id\":\"5165\"}},\"id\":\"5163\",\"type\":\"BoxZoomTool\"},{\"attributes\":{},\"id\":\"5117\",\"type\":\"PanTool\"},{\"attributes\":{\"text\":\"2010 - 2014\",\"text_color\":{\"value\":\"black\"},\"text_font_size\":{\"value\":\"12pt\"}},\"id\":\"5057\",\"type\":\"Title\"},{\"attributes\":{},\"id\":\"5174\",\"type\":\"Selection\"},{\"attributes\":{\"axis_label\":\"\",\"bounds\":\"auto\",\"formatter\":{\"id\":\"5183\"},\"major_label_orientation\":\"horizontal\",\"ticker\":{\"id\":\"5157\"}},\"id\":\"5156\",\"type\":\"LinearAxis\"},{\"attributes\":{\"fill_alpha\":{\"value\":0.1},\"fill_color\":{\"value\":\"#1f77b3\"},\"line_alpha\":{\"value\":0.1},\"top\":{\"field\":\"A_2015_hyphen_minus_2016\"},\"width\":{\"value\":0.8},\"x\":{\"field\":\"State_Code\"}},\"id\":\"5133\",\"type\":\"VBar\"},{\"attributes\":{\"toolbar\":{\"id\":\"5213\"},\"toolbar_location\":\"above\"},\"id\":\"5214\",\"type\":\"ToolbarBox\"},{\"attributes\":{\"data\":{\"State_Code\":[\"AK\",\"AL\",\"AR\",\"AZ\",\"CA\",\"CO\",\"CT\",\"DE\",\"FL\",\"GA\",\"GU\",\"HI\",\"IA\",\"ID\",\"IL\",\"IN\",\"KS\",\"KY\",\"LA\",\"MA\",\"MD\",\"ME\",\"MI\",\"MN\",\"MO\",\"MP\",\"MS\",\"MT\",\"NC\",\"ND\",\"NE\",\"NH\",\"NJ\",\"NM\",\"NV\",\"NY\",\"OH\",\"OK\",\"OR\",\"PA\",\"PR\",\"RI\",\"SC\",\"SD\",\"TN\",\"TX\",\"UT\",\"VA\",\"VI\",\"VT\",\"WA\",\"WI\",\"WV\",\"WY\"],\"Total_Average_Loan_Amount\":{\"__ndarray__\":\"7FG4HlsqAkHrUbgeuo0aQUjhehSxEBBBFa5H4a88IkHOzMzsymdFQfYoXA/s+SFBH4XrUdBmIEFSuB6F+3QAQfYoXE887TdBwvUo3Ky1MEEAAAAAaEMGQa5H4XpvlhRBH4XrUQ3cEkGamZmZNUkJQVS4HgX9tylBwvUoXOn3JEEUrkfhNLYTQXsUrkerWx1B4XoUrmLYHEEpXI/CdRMxQShcj0JNKyhBFK5H4VpYCUFcj8K1NEMxQcP1KNwVEilBmZmZGceBIUEAAAAAAB3lQK5H4Xr2bQdBPQrXowy5+UCamZnZk9ExQR+F61Hs6PJAw/UoXPHkC0HC9ShcPz0OQRSuR6EWtzJBwvUoXLdjC0HsUbgehqwXQeJ6FC4aeTBBo3A9yvuhNUFmZmZm8vkVQbgehWtB1iJBXI/CdS94OUEAAAAAwFTsQJDC9Sg+VxVBMzMzM2lIIEGuR+F6WFL1QPYoXI9MiSRBT7geRTOMQ0GQwvUo5lAiQUjhepReNClBAAAAAFBM90DsUbgeYUP5QJDC9ShPozNBAAAAAFBfJUEAAAAACL4IQQAAAAAwJPlA\",\"dtype\":\"float64\",\"order\":\"little\",\"shape\":[54]}},\"selected\":{\"id\":\"5174\"},\"selection_policy\":{\"id\":\"5209\"}},\"id\":\"5173\",\"type\":\"ColumnDataSource\"},{\"attributes\":{\"end\":3081895.235000001,\"reset_end\":3081895.235000001,\"reset_start\":0.0,\"tags\":[[[\"Total Average Loan Amount\",\"Total Average Loan Amount\",null]]]},\"id\":\"5142\",\"type\":\"Range1d\"}],\"root_ids\":[\"5051\"]},\"title\":\"Bokeh Application\",\"version\":\"2.2.3\"}};\n    var render_items = [{\"docid\":\"275a1e32-76c6-41f8-83de-78b9f58bc817\",\"root_ids\":[\"5051\"],\"roots\":{\"5051\":\"d333fe33-ded3-4459-8680-ae8b884abf53\"}}];\n    root.Bokeh.embed.embed_items_notebook(docs_json, render_items);\n  }\n  if (root.Bokeh !== undefined && root.Bokeh.Panel !== undefined) {\n    embed_document(root);\n  } else {\n    var attempts = 0;\n    var timer = setInterval(function(root) {\n      if (root.Bokeh !== undefined && root.Bokeh.Panel !== undefined) {\n        clearInterval(timer);\n        embed_document(root);\n      } else if (document.readyState == \"complete\") {\n        attempts++;\n        if (attempts > 100) {\n          clearInterval(timer);\n          console.log(\"Bokeh: ERROR: Unable to run BokehJS code because BokehJS library is missing\");\n        }\n      }\n    }, 10, root)\n  }\n})(window);</script>",
      "application/vnd.holoviews_exec.v0+json": "",
      "text/plain": [
       ":Layout\n",
       "   .Bars.A_2010_hyphen_minus_2014  :Bars   [State Code]   (2010 - 2014)\n",
       "   .Bars.A_2015_hyphen_minus_2016  :Bars   [State Code]   (2015 - 2016)\n",
       "   .Bars.Total_Average_Loan_Amount :Bars   [State Code]   (Total Average Loan Amount)"
      ]
     },
     "metadata": {
      "application/vnd.holoviews_exec.v0+json": {
       "id": "5051"
      }
     },
     "execution_count": 80
    }
   ],
   "source": [
    "loan_data_10to14.hvplot.bar(rot=90) + loan_data_15to16.hvplot.bar(rot=90) + loan_data_avg.hvplot.bar(rot=90)"
   ]
  },
  {
   "cell_type": "code",
   "execution_count": 86,
   "metadata": {},
   "outputs": [
    {
     "output_type": "display_data",
     "data": {},
     "metadata": {}
    },
    {
     "output_type": "execute_result",
     "data": {
      "text/html": "<div id='6904'>\n\n\n\n\n\n  <div class=\"bk-root\" id=\"78d04597-3a25-4567-a4fa-cc785be83cae\" data-root-id=\"6904\"></div>\n</div>\n<script type=\"application/javascript\">(function(root) {\n  function embed_document(root) {\n    var docs_json = {\"5556fb1b-f710-42d1-985b-29ca14ea4b4b\":{\"roots\":{\"references\":[{\"attributes\":{\"axis\":{\"id\":\"6920\"},\"grid_line_color\":null,\"ticker\":null},\"id\":\"6922\",\"type\":\"Grid\"},{\"attributes\":{},\"id\":\"6916\",\"type\":\"CategoricalScale\"},{\"attributes\":{\"fill_alpha\":{\"value\":0.2},\"fill_color\":{\"value\":\"#1f77b3\"},\"line_alpha\":{\"value\":0.2},\"top\":{\"field\":\"A_2010_hyphen_minus_2014\"},\"width\":{\"value\":0.8},\"x\":{\"field\":\"State_Code\"}},\"id\":\"6951\",\"type\":\"VBar\"},{\"attributes\":{},\"id\":\"6921\",\"type\":\"CategoricalTicker\"},{\"attributes\":{\"margin\":[5,5,5,5],\"name\":\"HSpacer1163240\",\"sizing_mode\":\"stretch_width\"},\"id\":\"7112\",\"type\":\"Spacer\"},{\"attributes\":{\"axis\":{\"id\":\"6923\"},\"dimension\":1,\"grid_line_color\":null,\"ticker\":null},\"id\":\"6926\",\"type\":\"Grid\"},{\"attributes\":{},\"id\":\"6918\",\"type\":\"LinearScale\"},{\"attributes\":{\"active_drag\":\"auto\",\"active_inspect\":\"auto\",\"active_multi\":null,\"active_scroll\":\"auto\",\"active_tap\":\"auto\",\"tools\":[{\"id\":\"6908\"},{\"id\":\"6909\"},{\"id\":\"6910\"},{\"id\":\"6927\"},{\"id\":\"6928\"},{\"id\":\"6929\"},{\"id\":\"6930\"},{\"id\":\"6931\"}]},\"id\":\"6933\",\"type\":\"Toolbar\"},{\"attributes\":{\"label\":{\"value\":\"Total Average Loan Amount\"},\"renderers\":[{\"id\":\"6989\"}]},\"id\":\"7003\",\"type\":\"LegendItem\"},{\"attributes\":{},\"id\":\"6929\",\"type\":\"WheelZoomTool\"},{\"attributes\":{\"end\":3526420.084,\"reset_end\":3526420.084,\"reset_start\":0.0,\"tags\":[[[\"2010 - 2014\",\"2010 - 2014\",null]]]},\"id\":\"6907\",\"type\":\"Range1d\"},{\"attributes\":{\"data\":{\"State Code\":[\"AK\",\"AL\",\"AR\",\"AZ\",\"CA\",\"CO\",\"CT\",\"DE\",\"FL\",\"GA\",\"GU\",\"HI\",\"IA\",\"ID\",\"IL\",\"IN\",\"KS\",\"KY\",\"LA\",\"MA\",\"MD\",\"ME\",\"MI\",\"MN\",\"MO\",\"MP\",\"MS\",\"MT\",\"NC\",\"ND\",\"NE\",\"NH\",\"NJ\",\"NM\",\"NV\",\"NY\",\"OH\",\"OK\",\"OR\",\"PA\",\"PR\",\"RI\",\"SC\",\"SD\",\"TN\",\"TX\",\"UT\",\"VA\",\"VI\",\"VT\",\"WA\",\"WI\",\"WV\",\"WY\"],\"State_Code\":[\"AK\",\"AL\",\"AR\",\"AZ\",\"CA\",\"CO\",\"CT\",\"DE\",\"FL\",\"GA\",\"GU\",\"HI\",\"IA\",\"ID\",\"IL\",\"IN\",\"KS\",\"KY\",\"LA\",\"MA\",\"MD\",\"ME\",\"MI\",\"MN\",\"MO\",\"MP\",\"MS\",\"MT\",\"NC\",\"ND\",\"NE\",\"NH\",\"NJ\",\"NM\",\"NV\",\"NY\",\"OH\",\"OK\",\"OR\",\"PA\",\"PR\",\"RI\",\"SC\",\"SD\",\"TN\",\"TX\",\"UT\",\"VA\",\"VI\",\"VT\",\"WA\",\"WI\",\"WV\",\"WY\"],\"Total Average Loan Amount\":{\"__ndarray__\":\"7FG4HlsqAkHrUbgeuo0aQUjhehSxEBBBFa5H4a88IkHOzMzsymdFQfYoXA/s+SFBH4XrUdBmIEFSuB6F+3QAQfYoXE887TdBwvUo3Ky1MEEAAAAAaEMGQa5H4XpvlhRBH4XrUQ3cEkGamZmZNUkJQVS4HgX9tylBwvUoXOn3JEEUrkfhNLYTQXsUrkerWx1B4XoUrmLYHEEpXI/CdRMxQShcj0JNKyhBFK5H4VpYCUFcj8K1NEMxQcP1KNwVEilBmZmZGceBIUEAAAAAAB3lQK5H4Xr2bQdBPQrXowy5+UCamZnZk9ExQR+F61Hs6PJAw/UoXPHkC0HC9ShcPz0OQRSuR6EWtzJBwvUoXLdjC0HsUbgehqwXQeJ6FC4aeTBBo3A9yvuhNUFmZmZm8vkVQbgehWtB1iJBXI/CdS94OUEAAAAAwFTsQJDC9Sg+VxVBMzMzM2lIIEGuR+F6WFL1QPYoXI9MiSRBT7geRTOMQ0GQwvUo5lAiQUjhepReNClBAAAAAFBM90DsUbgeYUP5QJDC9ShPozNBAAAAAFBfJUEAAAAACL4IQQAAAAAwJPlA\",\"dtype\":\"float64\",\"order\":\"little\",\"shape\":[54]},\"Total_Average_Loan_Amount\":{\"__ndarray__\":\"7FG4HlsqAkHrUbgeuo0aQUjhehSxEBBBFa5H4a88IkHOzMzsymdFQfYoXA/s+SFBH4XrUdBmIEFSuB6F+3QAQfYoXE887TdBwvUo3Ky1MEEAAAAAaEMGQa5H4XpvlhRBH4XrUQ3cEkGamZmZNUkJQVS4HgX9tylBwvUoXOn3JEEUrkfhNLYTQXsUrkerWx1B4XoUrmLYHEEpXI/CdRMxQShcj0JNKyhBFK5H4VpYCUFcj8K1NEMxQcP1KNwVEilBmZmZGceBIUEAAAAAAB3lQK5H4Xr2bQdBPQrXowy5+UCamZnZk9ExQR+F61Hs6PJAw/UoXPHkC0HC9ShcPz0OQRSuR6EWtzJBwvUoXLdjC0HsUbgehqwXQeJ6FC4aeTBBo3A9yvuhNUFmZmZm8vkVQbgehWtB1iJBXI/CdS94OUEAAAAAwFTsQJDC9Sg+VxVBMzMzM2lIIEGuR+F6WFL1QPYoXI9MiSRBT7geRTOMQ0GQwvUo5lAiQUjhepReNClBAAAAAFBM90DsUbgeYUP5QJDC9ShPozNBAAAAAFBfJUEAAAAACL4IQQAAAAAwJPlA\",\"dtype\":\"float64\",\"order\":\"little\",\"shape\":[54]}},\"selected\":{\"id\":\"6984\"},\"selection_policy\":{\"id\":\"7001\"}},\"id\":\"6983\",\"type\":\"ColumnDataSource\"},{\"attributes\":{\"margin\":[5,5,5,5],\"name\":\"HSpacer1163239\",\"sizing_mode\":\"stretch_width\"},\"id\":\"6905\",\"type\":\"Spacer\"},{\"attributes\":{\"data_source\":{\"id\":\"6983\"},\"glyph\":{\"id\":\"6986\"},\"hover_glyph\":null,\"muted_glyph\":{\"id\":\"6988\"},\"nonselection_glyph\":{\"id\":\"6987\"},\"selection_glyph\":null,\"view\":{\"id\":\"6990\"}},\"id\":\"6989\",\"type\":\"GlyphRenderer\"},{\"attributes\":{\"children\":[{\"id\":\"6905\"},{\"id\":\"6911\"},{\"id\":\"7112\"}],\"margin\":[0,0,0,0],\"name\":\"Row1163235\",\"tags\":[\"embedded\"]},\"id\":\"6904\",\"type\":\"Row\"},{\"attributes\":{\"axis_label\":\"State Code\",\"bounds\":\"auto\",\"formatter\":{\"id\":\"6942\"},\"major_label_orientation\":1.5707963267948966,\"ticker\":{\"id\":\"6921\"}},\"id\":\"6920\",\"type\":\"CategoricalAxis\"},{\"attributes\":{\"fill_color\":{\"value\":\"#1f77b3\"},\"top\":{\"field\":\"A_2010_hyphen_minus_2014\"},\"width\":{\"value\":0.8},\"x\":{\"field\":\"State_Code\"}},\"id\":\"6949\",\"type\":\"VBar\"},{\"attributes\":{\"source\":{\"id\":\"6964\"}},\"id\":\"6971\",\"type\":\"CDSView\"},{\"attributes\":{\"fill_alpha\":{\"value\":0.2},\"fill_color\":{\"value\":\"#ff7e0e\"},\"line_alpha\":{\"value\":0.2},\"top\":{\"field\":\"A_2015_hyphen_minus_2016\"},\"width\":{\"value\":0.8},\"x\":{\"field\":\"State_Code\"}},\"id\":\"6969\",\"type\":\"VBar\"},{\"attributes\":{\"data_source\":{\"id\":\"6964\"},\"glyph\":{\"id\":\"6967\"},\"hover_glyph\":null,\"muted_glyph\":{\"id\":\"6969\"},\"nonselection_glyph\":{\"id\":\"6968\"},\"selection_glyph\":null,\"view\":{\"id\":\"6971\"}},\"id\":\"6970\",\"type\":\"GlyphRenderer\"},{\"attributes\":{\"axis_label\":\"\",\"bounds\":\"auto\",\"formatter\":{\"id\":\"6944\"},\"major_label_orientation\":\"horizontal\",\"ticker\":{\"id\":\"6924\"}},\"id\":\"6923\",\"type\":\"LinearAxis\"},{\"attributes\":{},\"id\":\"6944\",\"type\":\"BasicTickFormatter\"},{\"attributes\":{},\"id\":\"6924\",\"type\":\"BasicTicker\"},{\"attributes\":{},\"id\":\"6942\",\"type\":\"CategoricalTickFormatter\"},{\"attributes\":{\"callback\":null,\"renderers\":[{\"id\":\"6952\"}],\"tags\":[\"hv_created\"],\"tooltips\":[[\"State Code\",\"@{State_Code}\"],[\"2010 - 2014\",\"@{A_2010_hyphen_minus_2014}\"]]},\"id\":\"6908\",\"type\":\"HoverTool\"},{\"attributes\":{},\"id\":\"6947\",\"type\":\"Selection\"},{\"attributes\":{\"data_source\":{\"id\":\"6946\"},\"glyph\":{\"id\":\"6949\"},\"hover_glyph\":null,\"muted_glyph\":{\"id\":\"6951\"},\"nonselection_glyph\":{\"id\":\"6950\"},\"selection_glyph\":null,\"view\":{\"id\":\"6953\"}},\"id\":\"6952\",\"type\":\"GlyphRenderer\"},{\"attributes\":{\"below\":[{\"id\":\"6920\"}],\"center\":[{\"id\":\"6922\"},{\"id\":\"6926\"}],\"frame_width\":1200,\"left\":[{\"id\":\"6923\"}],\"margin\":[5,5,5,5],\"min_border_bottom\":10,\"min_border_left\":10,\"min_border_right\":10,\"min_border_top\":10,\"plot_height\":300,\"plot_width\":null,\"renderers\":[{\"id\":\"6952\"},{\"id\":\"6970\"},{\"id\":\"6989\"}],\"right\":[{\"id\":\"6962\"}],\"sizing_mode\":\"fixed\",\"title\":{\"id\":\"6912\"},\"toolbar\":{\"id\":\"6933\"},\"x_range\":{\"id\":\"6906\"},\"x_scale\":{\"id\":\"6916\"},\"y_range\":{\"id\":\"6907\"},\"y_scale\":{\"id\":\"6918\"}},\"id\":\"6911\",\"subtype\":\"Figure\",\"type\":\"Plot\"},{\"attributes\":{},\"id\":\"6928\",\"type\":\"PanTool\"},{\"attributes\":{\"source\":{\"id\":\"6946\"}},\"id\":\"6953\",\"type\":\"CDSView\"},{\"attributes\":{\"line_color\":\"#1f77b3\",\"line_width\":2,\"x\":{\"field\":\"State Code\"},\"y\":{\"field\":\"Total Average Loan Amount\"}},\"id\":\"6986\",\"type\":\"Line\"},{\"attributes\":{\"bottom_units\":\"screen\",\"fill_alpha\":0.5,\"fill_color\":\"lightgrey\",\"left_units\":\"screen\",\"level\":\"overlay\",\"line_alpha\":1.0,\"line_color\":\"black\",\"line_dash\":[4,4],\"line_width\":2,\"right_units\":\"screen\",\"top_units\":\"screen\"},\"id\":\"6932\",\"type\":\"BoxAnnotation\"},{\"attributes\":{\"data\":{\"A_2015_hyphen_minus_2016\":{\"__ndarray__\":\"uB6F63skB0FH4XqU5e8kQc3MzMzWsRVBPQrXozP6HkEzMzMzsfRGQYXrUTi+vCdBexSux6iuJUHXo3A9zCQEQWZmZoagoEBBNDMzM0B2L0EAAAAASBwLQRSuR+HIvBtBCtejcJQbFkFwPQrXoewPQUjhehScLSdBNDMzMwPIKkHXo3A9r9IZQfYoXA+1hSJBhetROEEuJkGQwvWoWlUvQXA9CldwzC5BKVyPwhGGEEH2KFwPZtkyQY/C9aivqyRBuB6Fa8CYIkEAAAAAAAAAAHsUrkePoRNBCtejcB8CAkFcj8L16Is4QeF6FK4TYv5AwvUoXBn8D0EAAAAAZCERQcL1KBwDeDJBPgrXoyFsE0HiehSuc7UeQaRwPYpoBTJBo3A9SsR1OUGZmZmZ6O8eQT0K1yMZ+ihBAAAAwMm9PEEAAAAAUPD0QML1KFxsmBpBPgrXoy6qKEHD9Shc8xj8QJmZmRl2wS5BZmZmpndfRkHsUbieBhMmQYbrUThRJjRBAAAAAGBx+0Bcj8L1ToYAQc3MzMz7STdBAAAAAKg6KEEAAAAANF8QQQAAAAAIHwRB\",\"dtype\":\"float64\",\"order\":\"little\",\"shape\":[54]},\"State_Code\":[\"AK\",\"AL\",\"AR\",\"AZ\",\"CA\",\"CO\",\"CT\",\"DE\",\"FL\",\"GA\",\"GU\",\"HI\",\"IA\",\"ID\",\"IL\",\"IN\",\"KS\",\"KY\",\"LA\",\"MA\",\"MD\",\"ME\",\"MI\",\"MN\",\"MO\",\"MP\",\"MS\",\"MT\",\"NC\",\"ND\",\"NE\",\"NH\",\"NJ\",\"NM\",\"NV\",\"NY\",\"OH\",\"OK\",\"OR\",\"PA\",\"PR\",\"RI\",\"SC\",\"SD\",\"TN\",\"TX\",\"UT\",\"VA\",\"VI\",\"VT\",\"WA\",\"WI\",\"WV\",\"WY\"]},\"selected\":{\"id\":\"6965\"},\"selection_policy\":{\"id\":\"6980\"}},\"id\":\"6964\",\"type\":\"ColumnDataSource\"},{\"attributes\":{\"fill_color\":{\"value\":\"#ff7e0e\"},\"top\":{\"field\":\"A_2015_hyphen_minus_2016\"},\"width\":{\"value\":0.8},\"x\":{\"field\":\"State_Code\"}},\"id\":\"6967\",\"type\":\"VBar\"},{\"attributes\":{\"source\":{\"id\":\"6983\"}},\"id\":\"6990\",\"type\":\"CDSView\"},{\"attributes\":{\"callback\":null,\"renderers\":[{\"id\":\"6970\"}],\"tags\":[\"hv_created\"],\"tooltips\":[[\"State Code\",\"@{State_Code}\"],[\"2015 - 2016\",\"@{A_2015_hyphen_minus_2016}\"]]},\"id\":\"6909\",\"type\":\"HoverTool\"},{\"attributes\":{\"fill_alpha\":{\"value\":0.1},\"fill_color\":{\"value\":\"#1f77b3\"},\"line_alpha\":{\"value\":0.1},\"top\":{\"field\":\"A_2010_hyphen_minus_2014\"},\"width\":{\"value\":0.8},\"x\":{\"field\":\"State_Code\"}},\"id\":\"6950\",\"type\":\"VBar\"},{\"attributes\":{\"line_alpha\":0.1,\"line_color\":\"#1f77b3\",\"line_width\":2,\"x\":{\"field\":\"State Code\"},\"y\":{\"field\":\"Total Average Loan Amount\"}},\"id\":\"6987\",\"type\":\"Line\"},{\"attributes\":{\"callback\":null,\"renderers\":[{\"id\":\"6989\"}],\"tags\":[\"hv_created\"],\"tooltips\":[[\"State Code\",\"@{State_Code}\"],[\"Total Average Loan Amount\",\"@{Total_Average_Loan_Amount}\"]]},\"id\":\"6910\",\"type\":\"HoverTool\"},{\"attributes\":{\"overlay\":{\"id\":\"6932\"}},\"id\":\"6930\",\"type\":\"BoxZoomTool\"},{\"attributes\":{},\"id\":\"6931\",\"type\":\"ResetTool\"},{\"attributes\":{},\"id\":\"6960\",\"type\":\"UnionRenderers\"},{\"attributes\":{\"label\":{\"value\":\"2015 - 2016\"},\"renderers\":[{\"id\":\"6970\"}]},\"id\":\"6982\",\"type\":\"LegendItem\"},{\"attributes\":{},\"id\":\"6965\",\"type\":\"Selection\"},{\"attributes\":{},\"id\":\"6984\",\"type\":\"Selection\"},{\"attributes\":{\"click_policy\":\"mute\",\"items\":[{\"id\":\"6963\"},{\"id\":\"6982\"},{\"id\":\"7003\"}],\"location\":[0,0]},\"id\":\"6962\",\"type\":\"Legend\"},{\"attributes\":{\"factors\":[\"AK\",\"AL\",\"AR\",\"AZ\",\"CA\",\"CO\",\"CT\",\"DE\",\"FL\",\"GA\",\"GU\",\"HI\",\"IA\",\"ID\",\"IL\",\"IN\",\"KS\",\"KY\",\"LA\",\"MA\",\"MD\",\"ME\",\"MI\",\"MN\",\"MO\",\"MP\",\"MS\",\"MT\",\"NC\",\"ND\",\"NE\",\"NH\",\"NJ\",\"NM\",\"NV\",\"NY\",\"OH\",\"OK\",\"OR\",\"PA\",\"PR\",\"RI\",\"SC\",\"SD\",\"TN\",\"TX\",\"UT\",\"VA\",\"VI\",\"VT\",\"WA\",\"WI\",\"WV\",\"WY\"],\"tags\":[[[\"State Code\",\"State Code\",null]]]},\"id\":\"6906\",\"type\":\"FactorRange\"},{\"attributes\":{\"label\":{\"value\":\"2010 - 2014\"},\"renderers\":[{\"id\":\"6952\"}]},\"id\":\"6963\",\"type\":\"LegendItem\"},{\"attributes\":{\"data\":{\"A_2010_hyphen_minus_2014\":{\"__ndarray__\":\"7FG4HpsKBUEVrkfhrssjQeF6FK4pdRVBexSuRxFNIkHXo3CdZvxFQcL1KFw2lSVBUrgehZxAJUEfhetRytYDQRWuRyGWpD1BrUfhupCSMUEAAAAA8M0HQR+F61GBGxpBZ2ZmZoWTFUHsUbgep5wOQexRuB7D5SlBZWZmZtumKEHhehSuMNkYQfYoXA9pNSJBcD0K1wonJUE+CtfjgGY0QSCF61Gd3ilBFK5H4du/EEFnZmZmr5kxQexRuJ5t9iJBXI/CdS42IUEAAAAAQMXaQAAAAADi0xFBH4XrUYovAUFmZmZmgAY3QdejcD16Hv1AehSuRytREEEehetRD5QRQQvXo/BySzRBPgrXo8h5EkEqXI/Cv0cYQWdmZiaJWDJBFa5HYU4PNkEpXI/CqnAcQaRwPQrxaCdBAAAAwKYZP0EAAAAAULzzQFyPwvUgYxhBAAAAgEoSJ0H2KFyPsrr5QChcj0Lu0StBhetROGZ1SEG4HoVrN0YkQXE9ChcITzJBAAAAACA8/EBSuB6FA0IAQZDC9agWEDdBAAAAAJg9KUEAAAAA0JkQQQAAAABISQBB\",\"dtype\":\"float64\",\"order\":\"little\",\"shape\":[54]},\"State_Code\":[\"AK\",\"AL\",\"AR\",\"AZ\",\"CA\",\"CO\",\"CT\",\"DE\",\"FL\",\"GA\",\"GU\",\"HI\",\"IA\",\"ID\",\"IL\",\"IN\",\"KS\",\"KY\",\"LA\",\"MA\",\"MD\",\"ME\",\"MI\",\"MN\",\"MO\",\"MP\",\"MS\",\"MT\",\"NC\",\"ND\",\"NE\",\"NH\",\"NJ\",\"NM\",\"NV\",\"NY\",\"OH\",\"OK\",\"OR\",\"PA\",\"PR\",\"RI\",\"SC\",\"SD\",\"TN\",\"TX\",\"UT\",\"VA\",\"VI\",\"VT\",\"WA\",\"WI\",\"WV\",\"WY\"]},\"selected\":{\"id\":\"6947\"},\"selection_policy\":{\"id\":\"6960\"}},\"id\":\"6946\",\"type\":\"ColumnDataSource\"},{\"attributes\":{\"fill_alpha\":{\"value\":0.1},\"fill_color\":{\"value\":\"#ff7e0e\"},\"line_alpha\":{\"value\":0.1},\"top\":{\"field\":\"A_2015_hyphen_minus_2016\"},\"width\":{\"value\":0.8},\"x\":{\"field\":\"State_Code\"}},\"id\":\"6968\",\"type\":\"VBar\"},{\"attributes\":{\"line_alpha\":0.2,\"line_color\":\"#1f77b3\",\"line_width\":2,\"x\":{\"field\":\"State Code\"},\"y\":{\"field\":\"Total Average Loan Amount\"}},\"id\":\"6988\",\"type\":\"Line\"},{\"attributes\":{\"text\":\"\",\"text_color\":{\"value\":\"black\"},\"text_font_size\":{\"value\":\"12pt\"}},\"id\":\"6912\",\"type\":\"Title\"},{\"attributes\":{},\"id\":\"6927\",\"type\":\"SaveTool\"},{\"attributes\":{},\"id\":\"6980\",\"type\":\"UnionRenderers\"},{\"attributes\":{},\"id\":\"7001\",\"type\":\"UnionRenderers\"}],\"root_ids\":[\"6904\"]},\"title\":\"Bokeh Application\",\"version\":\"2.2.3\"}};\n    var render_items = [{\"docid\":\"5556fb1b-f710-42d1-985b-29ca14ea4b4b\",\"root_ids\":[\"6904\"],\"roots\":{\"6904\":\"78d04597-3a25-4567-a4fa-cc785be83cae\"}}];\n    root.Bokeh.embed.embed_items_notebook(docs_json, render_items);\n  }\n  if (root.Bokeh !== undefined && root.Bokeh.Panel !== undefined) {\n    embed_document(root);\n  } else {\n    var attempts = 0;\n    var timer = setInterval(function(root) {\n      if (root.Bokeh !== undefined && root.Bokeh.Panel !== undefined) {\n        clearInterval(timer);\n        embed_document(root);\n      } else if (document.readyState == \"complete\") {\n        attempts++;\n        if (attempts > 100) {\n          clearInterval(timer);\n          console.log(\"Bokeh: ERROR: Unable to run BokehJS code because BokehJS library is missing\");\n        }\n      }\n    }, 10, root)\n  }\n})(window);</script>",
      "application/vnd.holoviews_exec.v0+json": "",
      "text/plain": [
       ":Overlay\n",
       "   .Bars.A_2010_hyphen_minus_2014   :Bars   [State Code]   (2010 - 2014)\n",
       "   .Bars.A_2015_hyphen_minus_2016   :Bars   [State Code]   (2015 - 2016)\n",
       "   .Curve.Total_Average_Loan_Amount :Curve   [State Code]   (Total Average Loan Amount)"
      ]
     },
     "metadata": {
      "application/vnd.holoviews_exec.v0+json": {
       "id": "6904"
      }
     },
     "execution_count": 86
    }
   ],
   "source": [
    "loan_data_10to14.hvplot.bar(rot=90,frame_width=1200) * loan_data_15to16.hvplot.bar(rot=90) * loan_data_avg.hvplot.line(rot=90)"
   ]
  },
  {
   "source": [
    "## "
   ],
   "cell_type": "markdown",
   "metadata": {}
  },
  {
   "source": [
    "## Picture Perfect"
   ],
   "cell_type": "markdown",
   "metadata": {}
  },
  {
   "cell_type": "code",
   "execution_count": 88,
   "metadata": {},
   "outputs": [
    {
     "output_type": "execute_result",
     "data": {
      "text/plain": [
       "            Total Active Loans  Total Average Loan Amount  2015 - 2016  \\\n",
       "State Code                                                               \n",
       "AK                         897                  148811.39    189583.49   \n",
       "AL                        7455                  435054.53    686066.79   \n",
       "AR                        6186                  263212.27    355445.70   \n",
       "AZ                        3982                  597591.94    507532.91   \n",
       "CA                        8875                 2805653.85   3008866.40   \n",
       "\n",
       "            2010 - 2014  Self Help Loan  Leveraged Loan  \n",
       "State Code                                               \n",
       "AK            172371.39              96             450  \n",
       "AL            648663.44              18             605  \n",
       "AR            351562.42             861             567  \n",
       "AZ            599688.64            1718            1057  \n",
       "CA           2881741.23            4134            2231  "
      ],
      "text/html": "<div>\n<style scoped>\n    .dataframe tbody tr th:only-of-type {\n        vertical-align: middle;\n    }\n\n    .dataframe tbody tr th {\n        vertical-align: top;\n    }\n\n    .dataframe thead th {\n        text-align: right;\n    }\n</style>\n<table border=\"1\" class=\"dataframe\">\n  <thead>\n    <tr style=\"text-align: right;\">\n      <th></th>\n      <th>Total Active Loans</th>\n      <th>Total Average Loan Amount</th>\n      <th>2015 - 2016</th>\n      <th>2010 - 2014</th>\n      <th>Self Help Loan</th>\n      <th>Leveraged Loan</th>\n    </tr>\n    <tr>\n      <th>State Code</th>\n      <th></th>\n      <th></th>\n      <th></th>\n      <th></th>\n      <th></th>\n      <th></th>\n    </tr>\n  </thead>\n  <tbody>\n    <tr>\n      <th>AK</th>\n      <td>897</td>\n      <td>148811.39</td>\n      <td>189583.49</td>\n      <td>172371.39</td>\n      <td>96</td>\n      <td>450</td>\n    </tr>\n    <tr>\n      <th>AL</th>\n      <td>7455</td>\n      <td>435054.53</td>\n      <td>686066.79</td>\n      <td>648663.44</td>\n      <td>18</td>\n      <td>605</td>\n    </tr>\n    <tr>\n      <th>AR</th>\n      <td>6186</td>\n      <td>263212.27</td>\n      <td>355445.70</td>\n      <td>351562.42</td>\n      <td>861</td>\n      <td>567</td>\n    </tr>\n    <tr>\n      <th>AZ</th>\n      <td>3982</td>\n      <td>597591.94</td>\n      <td>507532.91</td>\n      <td>599688.64</td>\n      <td>1718</td>\n      <td>1057</td>\n    </tr>\n    <tr>\n      <th>CA</th>\n      <td>8875</td>\n      <td>2805653.85</td>\n      <td>3008866.40</td>\n      <td>2881741.23</td>\n      <td>4134</td>\n      <td>2231</td>\n    </tr>\n  </tbody>\n</table>\n</div>"
     },
     "metadata": {},
     "execution_count": 88
    }
   ],
   "source": [
    "# Read in loan data\n",
    "loan_data = pd.read_csv(Path(\"./data/state_loan_data.csv\"))\n",
    "\n",
    "# Group data by state for state-level analysis\n",
    "loan_data = loan_data.groupby('State Code').sum()\n",
    "loan_data.head()"
   ]
  },
  {
   "cell_type": "code",
   "execution_count": 105,
   "metadata": {},
   "outputs": [
    {
     "output_type": "display_data",
     "data": {},
     "metadata": {}
    },
    {
     "output_type": "execute_result",
     "data": {
      "text/html": "<div id='10316'>\n\n\n\n\n\n  <div class=\"bk-root\" id=\"cd8bd2cb-94bd-4dfd-96f8-63a808155cf9\" data-root-id=\"10316\"></div>\n</div>\n<script type=\"application/javascript\">(function(root) {\n  function embed_document(root) {\n    var docs_json = {\"21e15337-7a1e-45c2-a436-44dc8a892be0\":{\"roots\":{\"references\":[{\"attributes\":{\"children\":[{\"id\":\"10317\"},{\"id\":\"10321\"},{\"id\":\"10378\"}],\"margin\":[0,0,0,0],\"name\":\"Row1170418\",\"tags\":[\"embedded\"]},\"id\":\"10316\",\"type\":\"Row\"},{\"attributes\":{\"axis_label\":\"\",\"bounds\":\"auto\",\"formatter\":{\"id\":\"10360\"},\"major_label_orientation\":\"horizontal\",\"ticker\":{\"id\":\"10334\"}},\"id\":\"10333\",\"type\":\"LinearAxis\"},{\"attributes\":{\"axis_label\":\"State Code\",\"bounds\":\"auto\",\"formatter\":{\"id\":\"10358\"},\"major_label_orientation\":\"horizontal\",\"ticker\":{\"id\":\"10331\"}},\"id\":\"10330\",\"type\":\"CategoricalAxis\"},{\"attributes\":{\"active_drag\":\"auto\",\"active_inspect\":\"auto\",\"active_multi\":null,\"active_scroll\":\"auto\",\"active_tap\":\"auto\",\"tools\":[{\"id\":\"10320\"},{\"id\":\"10337\"},{\"id\":\"10338\"},{\"id\":\"10339\"},{\"id\":\"10340\"},{\"id\":\"10341\"}]},\"id\":\"10343\",\"type\":\"Toolbar\"},{\"attributes\":{\"margin\":[5,5,5,5],\"name\":\"HSpacer1170423\",\"sizing_mode\":\"stretch_width\"},\"id\":\"10378\",\"type\":\"Spacer\"},{\"attributes\":{},\"id\":\"10338\",\"type\":\"PanTool\"},{\"attributes\":{\"end\":3081895.235000001,\"reset_end\":3081895.235000001,\"reset_start\":0.0,\"tags\":[[[\"Total Average Loan Amount\",\"Total Average Loan Amount\",null]]]},\"id\":\"10319\",\"type\":\"Range1d\"},{\"attributes\":{},\"id\":\"10328\",\"type\":\"LinearScale\"},{\"attributes\":{},\"id\":\"10326\",\"type\":\"CategoricalScale\"},{\"attributes\":{},\"id\":\"10360\",\"type\":\"BasicTickFormatter\"},{\"attributes\":{\"source\":{\"id\":\"10350\"}},\"id\":\"10357\",\"type\":\"CDSView\"},{\"attributes\":{},\"id\":\"10331\",\"type\":\"CategoricalTicker\"},{\"attributes\":{},\"id\":\"10337\",\"type\":\"SaveTool\"},{\"attributes\":{\"fill_alpha\":{\"value\":0.1},\"fill_color\":{\"value\":\"#1f77b3\"},\"line_alpha\":{\"value\":0.1},\"top\":{\"field\":\"Total_Average_Loan_Amount\"},\"width\":{\"value\":0.8},\"x\":{\"field\":\"State_Code\"}},\"id\":\"10354\",\"type\":\"VBar\"},{\"attributes\":{},\"id\":\"10334\",\"type\":\"BasicTicker\"},{\"attributes\":{},\"id\":\"10358\",\"type\":\"CategoricalTickFormatter\"},{\"attributes\":{},\"id\":\"10368\",\"type\":\"UnionRenderers\"},{\"attributes\":{\"bottom_units\":\"screen\",\"fill_alpha\":0.5,\"fill_color\":\"lightgrey\",\"left_units\":\"screen\",\"level\":\"overlay\",\"line_alpha\":1.0,\"line_color\":\"black\",\"line_dash\":[4,4],\"line_width\":2,\"right_units\":\"screen\",\"top_units\":\"screen\"},\"id\":\"10342\",\"type\":\"BoxAnnotation\"},{\"attributes\":{\"fill_alpha\":{\"value\":0.2},\"fill_color\":{\"value\":\"#1f77b3\"},\"line_alpha\":{\"value\":0.2},\"top\":{\"field\":\"Total_Average_Loan_Amount\"},\"width\":{\"value\":0.8},\"x\":{\"field\":\"State_Code\"}},\"id\":\"10355\",\"type\":\"VBar\"},{\"attributes\":{\"fill_color\":{\"value\":\"#1f77b3\"},\"top\":{\"field\":\"Total_Average_Loan_Amount\"},\"width\":{\"value\":0.8},\"x\":{\"field\":\"State_Code\"}},\"id\":\"10353\",\"type\":\"VBar\"},{\"attributes\":{\"callback\":null,\"renderers\":[{\"id\":\"10356\"}],\"tags\":[\"hv_created\"],\"tooltips\":[[\"State Code\",\"@{State_Code}\"],[\"Total Average Loan Amount\",\"@{Total_Average_Loan_Amount}\"]]},\"id\":\"10320\",\"type\":\"HoverTool\"},{\"attributes\":{\"data_source\":{\"id\":\"10350\"},\"glyph\":{\"id\":\"10353\"},\"hover_glyph\":null,\"muted_glyph\":{\"id\":\"10355\"},\"nonselection_glyph\":{\"id\":\"10354\"},\"selection_glyph\":null,\"view\":{\"id\":\"10357\"}},\"id\":\"10356\",\"type\":\"GlyphRenderer\"},{\"attributes\":{},\"id\":\"10341\",\"type\":\"ResetTool\"},{\"attributes\":{\"below\":[{\"id\":\"10330\"}],\"center\":[{\"id\":\"10332\"},{\"id\":\"10336\"}],\"left\":[{\"id\":\"10333\"}],\"margin\":[5,5,5,5],\"min_border_bottom\":10,\"min_border_left\":10,\"min_border_right\":10,\"min_border_top\":10,\"plot_height\":300,\"plot_width\":700,\"renderers\":[{\"id\":\"10356\"}],\"sizing_mode\":\"fixed\",\"title\":{\"id\":\"10322\"},\"toolbar\":{\"id\":\"10343\"},\"x_range\":{\"id\":\"10318\"},\"x_scale\":{\"id\":\"10326\"},\"y_range\":{\"id\":\"10319\"},\"y_scale\":{\"id\":\"10328\"}},\"id\":\"10321\",\"subtype\":\"Figure\",\"type\":\"Plot\"},{\"attributes\":{\"margin\":[5,5,5,5],\"name\":\"HSpacer1170422\",\"sizing_mode\":\"stretch_width\"},\"id\":\"10317\",\"type\":\"Spacer\"},{\"attributes\":{\"text\":\"2019 Total Average Amount\",\"text_color\":{\"value\":\"black\"},\"text_font_size\":{\"value\":\"12pt\"}},\"id\":\"10322\",\"type\":\"Title\"},{\"attributes\":{\"axis\":{\"id\":\"10333\"},\"dimension\":1,\"grid_line_color\":null,\"ticker\":null},\"id\":\"10336\",\"type\":\"Grid\"},{\"attributes\":{\"overlay\":{\"id\":\"10342\"}},\"id\":\"10340\",\"type\":\"BoxZoomTool\"},{\"attributes\":{},\"id\":\"10351\",\"type\":\"Selection\"},{\"attributes\":{\"data\":{\"State_Code\":[\"MP\",\"PR\",\"ND\",\"SD\",\"VI\",\"WY\",\"VT\",\"MT\",\"DE\",\"AK\",\"GU\",\"MS\",\"WV\",\"ID\",\"ME\",\"NM\",\"NE\",\"NH\",\"AR\",\"IA\",\"KS\",\"HI\",\"RI\",\"OK\",\"NV\",\"AL\",\"LA\",\"KY\",\"SC\",\"CT\",\"MO\",\"CO\",\"AZ\",\"UT\",\"OR\",\"TN\",\"IN\",\"WI\",\"MD\",\"MN\",\"VA\",\"IL\",\"NY\",\"GA\",\"MA\",\"MI\",\"NC\",\"NJ\",\"WA\",\"OH\",\"FL\",\"PA\",\"TX\",\"CA\"],\"Total_Average_Loan_Amount\":{\"__ndarray__\":\"AAAAAAAd5UAAAAAAwFTsQB+F61Hs6PJArkfhelhS9UAAAAAAUEz3QAAAAAAwJPlA7FG4HmFD+UA9CtejDLn5QFK4HoX7dABB7FG4HlsqAkEAAAAAaEMGQa5H4Xr2bQdBAAAAAAi+CEGamZmZNUkJQRSuR+FaWAlBwvUoXLdjC0HD9Shc8eQLQcL1KFw/PQ5BSOF6FLEQEEEfhetRDdwSQRSuR+E0thNBrkfhem+WFEGQwvUoPlcVQWZmZmby+RVB7FG4HoasF0HrUbgeuo0aQeF6FK5i2BxBexSuR6tbHUEzMzMzaUggQR+F61HQZiBBmZmZGceBIUH2KFwP7PkhQRWuR+GvPCJBkML1KOZQIkG4HoVrQdYiQfYoXI9MiSRBwvUoXOn3JEEAAAAAUF8lQShcj0JNKyhBw/Uo3BUSKUFI4XqUXjQpQVS4HgX9tylB4noULhp5MEHC9SjcrLUwQSlcj8J1EzFBXI/CtTRDMUGamZnZk9ExQRSuR6EWtzJBkML1KE+jM0GjcD3K+6E1QfYoXE887TdBXI/CdS94OUFPuB5FM4xDQc7MzOzKZ0VB\",\"dtype\":\"float64\",\"order\":\"little\",\"shape\":[54]}},\"selected\":{\"id\":\"10351\"},\"selection_policy\":{\"id\":\"10368\"}},\"id\":\"10350\",\"type\":\"ColumnDataSource\"},{\"attributes\":{\"axis\":{\"id\":\"10330\"},\"grid_line_color\":null,\"ticker\":null},\"id\":\"10332\",\"type\":\"Grid\"},{\"attributes\":{\"factors\":[\"MP\",\"PR\",\"ND\",\"SD\",\"VI\",\"WY\",\"VT\",\"MT\",\"DE\",\"AK\",\"GU\",\"MS\",\"WV\",\"ID\",\"ME\",\"NM\",\"NE\",\"NH\",\"AR\",\"IA\",\"KS\",\"HI\",\"RI\",\"OK\",\"NV\",\"AL\",\"LA\",\"KY\",\"SC\",\"CT\",\"MO\",\"CO\",\"AZ\",\"UT\",\"OR\",\"TN\",\"IN\",\"WI\",\"MD\",\"MN\",\"VA\",\"IL\",\"NY\",\"GA\",\"MA\",\"MI\",\"NC\",\"NJ\",\"WA\",\"OH\",\"FL\",\"PA\",\"TX\",\"CA\"],\"tags\":[[[\"State Code\",\"State Code\",null]]]},\"id\":\"10318\",\"type\":\"FactorRange\"},{\"attributes\":{},\"id\":\"10339\",\"type\":\"WheelZoomTool\"}],\"root_ids\":[\"10316\"]},\"title\":\"Bokeh Application\",\"version\":\"2.2.3\"}};\n    var render_items = [{\"docid\":\"21e15337-7a1e-45c2-a436-44dc8a892be0\",\"root_ids\":[\"10316\"],\"roots\":{\"10316\":\"cd8bd2cb-94bd-4dfd-96f8-63a808155cf9\"}}];\n    root.Bokeh.embed.embed_items_notebook(docs_json, render_items);\n  }\n  if (root.Bokeh !== undefined && root.Bokeh.Panel !== undefined) {\n    embed_document(root);\n  } else {\n    var attempts = 0;\n    var timer = setInterval(function(root) {\n      if (root.Bokeh !== undefined && root.Bokeh.Panel !== undefined) {\n        clearInterval(timer);\n        embed_document(root);\n      } else if (document.readyState == \"complete\") {\n        attempts++;\n        if (attempts > 100) {\n          clearInterval(timer);\n          console.log(\"Bokeh: ERROR: Unable to run BokehJS code because BokehJS library is missing\");\n        }\n      }\n    }, 10, root)\n  }\n})(window);</script>",
      "application/vnd.holoviews_exec.v0+json": "",
      "text/plain": [
       ":Bars   [State Code]   (Total Average Loan Amount)"
      ]
     },
     "metadata": {
      "application/vnd.holoviews_exec.v0+json": {
       "id": "10316"
      }
     },
     "execution_count": 105
    }
   ],
   "source": [
    "# Slice for Total Average Loan Amount\n",
    "loan_data_state = loan_data['Total Average Loan Amount']\n",
    "loan_data_avg_grp = loan_data_state.sort_values()\n",
    "\n",
    "# Use rot and yformatter attributes/options\n",
    "plot_state_avgs = loan_data_avg_grp.hvplot.bar(label='2019 Total Average Amount', legend='bottom')\n",
    "plot_state_avgs"
   ]
  },
  {
   "cell_type": "code",
   "execution_count": 106,
   "metadata": {},
   "outputs": [
    {
     "output_type": "display_data",
     "data": {},
     "metadata": {}
    },
    {
     "output_type": "execute_result",
     "data": {
      "text/html": "<div id='10420'>\n\n\n\n\n\n  <div class=\"bk-root\" id=\"13017f64-4a1e-42c4-b369-fa87e5ec836d\" data-root-id=\"10420\"></div>\n</div>\n<script type=\"application/javascript\">(function(root) {\n  function embed_document(root) {\n    var docs_json = {\"3085ddc6-2683-4261-86f2-8ca1553ddae1\":{\"roots\":{\"references\":[{\"attributes\":{\"below\":[{\"id\":\"10434\"}],\"center\":[{\"id\":\"10436\"},{\"id\":\"10440\"}],\"left\":[{\"id\":\"10437\"}],\"margin\":null,\"min_border_bottom\":10,\"min_border_left\":10,\"min_border_right\":10,\"min_border_top\":10,\"plot_height\":300,\"plot_width\":700,\"renderers\":[{\"id\":\"10460\"}],\"sizing_mode\":\"fixed\",\"title\":{\"id\":\"10426\"},\"toolbar\":{\"id\":\"10447\"},\"toolbar_location\":null,\"x_range\":{\"id\":\"10422\"},\"x_scale\":{\"id\":\"10430\"},\"y_range\":{\"id\":\"10423\"},\"y_scale\":{\"id\":\"10432\"}},\"id\":\"10425\",\"subtype\":\"Figure\",\"type\":\"Plot\"},{\"attributes\":{},\"id\":\"10490\",\"type\":\"WheelZoomTool\"},{\"attributes\":{},\"id\":\"10482\",\"type\":\"CategoricalTicker\"},{\"attributes\":{},\"id\":\"10455\",\"type\":\"Selection\"},{\"attributes\":{},\"id\":\"10488\",\"type\":\"SaveTool\"},{\"attributes\":{\"below\":[{\"id\":\"10481\"}],\"center\":[{\"id\":\"10483\"},{\"id\":\"10487\"}],\"left\":[{\"id\":\"10484\"}],\"margin\":null,\"min_border_bottom\":10,\"min_border_left\":10,\"min_border_right\":10,\"min_border_top\":10,\"plot_height\":300,\"plot_width\":700,\"renderers\":[{\"id\":\"10507\"}],\"sizing_mode\":\"fixed\",\"title\":{\"id\":\"10473\"},\"toolbar\":{\"id\":\"10494\"},\"toolbar_location\":null,\"x_range\":{\"id\":\"10422\"},\"x_scale\":{\"id\":\"10477\"},\"y_range\":{\"id\":\"10470\"},\"y_scale\":{\"id\":\"10479\"}},\"id\":\"10472\",\"subtype\":\"Figure\",\"type\":\"Plot\"},{\"attributes\":{\"callback\":null,\"renderers\":[{\"id\":\"10460\"}],\"tags\":[\"hv_created\"],\"tooltips\":[[\"State Code\",\"@{State_Code}\"],[\"2015 - 2016\",\"@{A_2015_hyphen_minus_2016}\"]]},\"id\":\"10424\",\"type\":\"HoverTool\"},{\"attributes\":{},\"id\":\"10492\",\"type\":\"ResetTool\"},{\"attributes\":{\"axis\":{\"id\":\"10481\"},\"grid_line_color\":null,\"ticker\":null},\"id\":\"10483\",\"type\":\"Grid\"},{\"attributes\":{\"line_color\":\"#1f77b3\",\"line_width\":2,\"x\":{\"field\":\"State Code\"},\"y\":{\"field\":\"2015 - 2016\"}},\"id\":\"10457\",\"type\":\"Line\"},{\"attributes\":{\"children\":[{\"id\":\"10421\"},{\"id\":\"10535\"},{\"id\":\"10662\"}],\"margin\":[0,0,0,0],\"name\":\"Row1170733\",\"tags\":[\"embedded\"]},\"id\":\"10420\",\"type\":\"Row\"},{\"attributes\":{},\"id\":\"10432\",\"type\":\"LinearScale\"},{\"attributes\":{\"line_alpha\":0.2,\"line_color\":\"#1f77b3\",\"line_width\":2,\"x\":{\"field\":\"State Code\"},\"y\":{\"field\":\"2010 - 2014\"}},\"id\":\"10506\",\"type\":\"Line\"},{\"attributes\":{\"toolbars\":[{\"id\":\"10447\"},{\"id\":\"10494\"}],\"tools\":[{\"id\":\"10424\"},{\"id\":\"10441\"},{\"id\":\"10442\"},{\"id\":\"10443\"},{\"id\":\"10444\"},{\"id\":\"10445\"},{\"id\":\"10471\"},{\"id\":\"10488\"},{\"id\":\"10489\"},{\"id\":\"10490\"},{\"id\":\"10491\"},{\"id\":\"10492\"}]},\"id\":\"10533\",\"type\":\"ProxyToolbar\"},{\"attributes\":{\"text\":\"2015 - 2016\",\"text_color\":{\"value\":\"black\"},\"text_font_size\":{\"value\":\"12pt\"}},\"id\":\"10426\",\"type\":\"Title\"},{\"attributes\":{\"axis_label\":\"State Code\",\"bounds\":\"auto\",\"formatter\":{\"id\":\"10510\"},\"major_label_orientation\":1.5707963267948966,\"ticker\":{\"id\":\"10482\"}},\"id\":\"10481\",\"type\":\"CategoricalAxis\"},{\"attributes\":{\"format\":\"%.0f\"},\"id\":\"10462\",\"type\":\"PrintfTickFormatter\"},{\"attributes\":{\"format\":\"%.0f\"},\"id\":\"10509\",\"type\":\"PrintfTickFormatter\"},{\"attributes\":{},\"id\":\"10529\",\"type\":\"UnionRenderers\"},{\"attributes\":{\"toolbar\":{\"id\":\"10533\"},\"toolbar_location\":\"above\"},\"id\":\"10534\",\"type\":\"ToolbarBox\"},{\"attributes\":{\"active_drag\":\"auto\",\"active_inspect\":\"auto\",\"active_multi\":null,\"active_scroll\":\"auto\",\"active_tap\":\"auto\",\"tools\":[{\"id\":\"10424\"},{\"id\":\"10441\"},{\"id\":\"10442\"},{\"id\":\"10443\"},{\"id\":\"10444\"},{\"id\":\"10445\"}]},\"id\":\"10447\",\"type\":\"Toolbar\"},{\"attributes\":{\"active_drag\":\"auto\",\"active_inspect\":\"auto\",\"active_multi\":null,\"active_scroll\":\"auto\",\"active_tap\":\"auto\",\"tools\":[{\"id\":\"10471\"},{\"id\":\"10488\"},{\"id\":\"10489\"},{\"id\":\"10490\"},{\"id\":\"10491\"},{\"id\":\"10492\"}]},\"id\":\"10494\",\"type\":\"Toolbar\"},{\"attributes\":{\"overlay\":{\"id\":\"10446\"}},\"id\":\"10444\",\"type\":\"BoxZoomTool\"},{\"attributes\":{},\"id\":\"10445\",\"type\":\"ResetTool\"},{\"attributes\":{\"axis\":{\"id\":\"10437\"},\"dimension\":1,\"grid_line_color\":null,\"ticker\":null},\"id\":\"10440\",\"type\":\"Grid\"},{\"attributes\":{},\"id\":\"10477\",\"type\":\"CategoricalScale\"},{\"attributes\":{\"source\":{\"id\":\"10454\"}},\"id\":\"10461\",\"type\":\"CDSView\"},{\"attributes\":{},\"id\":\"10463\",\"type\":\"CategoricalTickFormatter\"},{\"attributes\":{\"source\":{\"id\":\"10501\"}},\"id\":\"10508\",\"type\":\"CDSView\"},{\"attributes\":{},\"id\":\"10443\",\"type\":\"WheelZoomTool\"},{\"attributes\":{\"overlay\":{\"id\":\"10493\"}},\"id\":\"10491\",\"type\":\"BoxZoomTool\"},{\"attributes\":{\"axis_label\":\"\",\"bounds\":\"auto\",\"formatter\":{\"id\":\"10462\"},\"major_label_orientation\":\"horizontal\",\"ticker\":{\"id\":\"10438\"}},\"id\":\"10437\",\"type\":\"LinearAxis\"},{\"attributes\":{\"line_alpha\":0.1,\"line_color\":\"#1f77b3\",\"line_width\":2,\"x\":{\"field\":\"State Code\"},\"y\":{\"field\":\"2010 - 2014\"}},\"id\":\"10505\",\"type\":\"Line\"},{\"attributes\":{\"data_source\":{\"id\":\"10454\"},\"glyph\":{\"id\":\"10457\"},\"hover_glyph\":null,\"muted_glyph\":{\"id\":\"10459\"},\"nonselection_glyph\":{\"id\":\"10458\"},\"selection_glyph\":null,\"view\":{\"id\":\"10461\"}},\"id\":\"10460\",\"type\":\"GlyphRenderer\"},{\"attributes\":{\"axis_label\":\"State Code\",\"bounds\":\"auto\",\"formatter\":{\"id\":\"10463\"},\"major_label_orientation\":1.5707963267948966,\"ticker\":{\"id\":\"10435\"}},\"id\":\"10434\",\"type\":\"CategoricalAxis\"},{\"attributes\":{},\"id\":\"10521\",\"type\":\"UnionRenderers\"},{\"attributes\":{},\"id\":\"10502\",\"type\":\"Selection\"},{\"attributes\":{\"data\":{\"2010 - 2014\":{\"__ndarray__\":\"AAAAAEDF2kAAAAAAULzzQPYoXI+yuvlAAAAAACA8/EDXo3A9eh79QFK4HoUDQgBBAAAAAEhJAEEfhetRii8BQR+F61HK1gNB7FG4HpsKBUEAAAAA8M0HQexRuB6nnA5BehSuRytREEEAAAAA0JkQQRSuR+HbvxBBHoXrUQ+UEUEAAAAA4tMRQT4K16PIeRJB4XoUril1FUFnZmZmhZMVQSpcj8K/RxhBXI/C9SBjGEHhehSuMNkYQR+F61GBGxpBKVyPwqpwHEFcj8J1LjYhQfYoXA9pNSJBexSuRxFNIkHsUbiebfYiQRWuR+GuyyNBuB6FazdGJEFwPQrXCiclQVK4HoWcQCVBwvUoXDaVJUEAAACAShInQaRwPQrxaCdBZWZmZtumKEEAAAAAmD0pQSCF61Gd3ilB7FG4HsPlKUEoXI9C7tErQa1H4bqQkjFBZ2ZmZq+ZMUFxPQoXCE8yQWdmZiaJWDJBC9ej8HJLNEE+CtfjgGY0QRWuR2FODzZBZmZmZoAGN0GQwvWoFhA3QRWuRyGWpD1BAAAAwKYZP0HXo3CdZvxFQYXrUThmdUhB\",\"dtype\":\"float64\",\"order\":\"little\",\"shape\":[54]},\"A_2010_hyphen_minus_2014\":{\"__ndarray__\":\"AAAAAEDF2kAAAAAAULzzQPYoXI+yuvlAAAAAACA8/EDXo3A9eh79QFK4HoUDQgBBAAAAAEhJAEEfhetRii8BQR+F61HK1gNB7FG4HpsKBUEAAAAA8M0HQexRuB6nnA5BehSuRytREEEAAAAA0JkQQRSuR+HbvxBBHoXrUQ+UEUEAAAAA4tMRQT4K16PIeRJB4XoUril1FUFnZmZmhZMVQSpcj8K/RxhBXI/C9SBjGEHhehSuMNkYQR+F61GBGxpBKVyPwqpwHEFcj8J1LjYhQfYoXA9pNSJBexSuRxFNIkHsUbiebfYiQRWuR+GuyyNBuB6FazdGJEFwPQrXCiclQVK4HoWcQCVBwvUoXDaVJUEAAACAShInQaRwPQrxaCdBZWZmZtumKEEAAAAAmD0pQSCF61Gd3ilB7FG4HsPlKUEoXI9C7tErQa1H4bqQkjFBZ2ZmZq+ZMUFxPQoXCE8yQWdmZiaJWDJBC9ej8HJLNEE+CtfjgGY0QRWuR2FODzZBZmZmZoAGN0GQwvWoFhA3QRWuRyGWpD1BAAAAwKYZP0HXo3CdZvxFQYXrUThmdUhB\",\"dtype\":\"float64\",\"order\":\"little\",\"shape\":[54]},\"State Code\":[\"MP\",\"PR\",\"SD\",\"VI\",\"ND\",\"VT\",\"WY\",\"MT\",\"DE\",\"AK\",\"GU\",\"ID\",\"NE\",\"WV\",\"ME\",\"NH\",\"MS\",\"NM\",\"AR\",\"IA\",\"NV\",\"RI\",\"KS\",\"HI\",\"OK\",\"MO\",\"KY\",\"AZ\",\"MN\",\"AL\",\"UT\",\"LA\",\"CT\",\"CO\",\"SC\",\"OR\",\"IN\",\"WI\",\"MD\",\"IL\",\"TN\",\"GA\",\"MI\",\"VA\",\"NY\",\"NJ\",\"MA\",\"OH\",\"NC\",\"WA\",\"FL\",\"PA\",\"CA\",\"TX\"],\"State_Code\":[\"MP\",\"PR\",\"SD\",\"VI\",\"ND\",\"VT\",\"WY\",\"MT\",\"DE\",\"AK\",\"GU\",\"ID\",\"NE\",\"WV\",\"ME\",\"NH\",\"MS\",\"NM\",\"AR\",\"IA\",\"NV\",\"RI\",\"KS\",\"HI\",\"OK\",\"MO\",\"KY\",\"AZ\",\"MN\",\"AL\",\"UT\",\"LA\",\"CT\",\"CO\",\"SC\",\"OR\",\"IN\",\"WI\",\"MD\",\"IL\",\"TN\",\"GA\",\"MI\",\"VA\",\"NY\",\"NJ\",\"MA\",\"OH\",\"NC\",\"WA\",\"FL\",\"PA\",\"CA\",\"TX\"]},\"selected\":{\"id\":\"10502\"},\"selection_policy\":{\"id\":\"10529\"}},\"id\":\"10501\",\"type\":\"ColumnDataSource\"},{\"attributes\":{\"children\":[{\"id\":\"10534\"},{\"id\":\"10532\"}]},\"id\":\"10535\",\"type\":\"Column\"},{\"attributes\":{},\"id\":\"10442\",\"type\":\"PanTool\"},{\"attributes\":{},\"id\":\"10430\",\"type\":\"CategoricalScale\"},{\"attributes\":{\"children\":[[{\"id\":\"10425\"},0,0],[{\"id\":\"10472\"},0,1]]},\"id\":\"10532\",\"type\":\"GridBox\"},{\"attributes\":{\"data_source\":{\"id\":\"10501\"},\"glyph\":{\"id\":\"10504\"},\"hover_glyph\":null,\"muted_glyph\":{\"id\":\"10506\"},\"nonselection_glyph\":{\"id\":\"10505\"},\"selection_glyph\":null,\"view\":{\"id\":\"10508\"}},\"id\":\"10507\",\"type\":\"GlyphRenderer\"},{\"attributes\":{\"end\":3523678.784,\"reset_end\":3523678.784,\"reset_start\":-290429.34400000004,\"start\":-290429.34400000004,\"tags\":[[[\"2010 - 2014\",\"2010 - 2014\",null]]]},\"id\":\"10470\",\"type\":\"Range1d\"},{\"attributes\":{\"data\":{\"2015 - 2016\":{\"__ndarray__\":\"AAAAAAAAAAAAAAAAUPD0QAAAAABgcftAw/UoXPMY/EDhehSuE2L+QFyPwvVOhgBBCtejcB8CAkEAAAAACB8EQdejcD3MJARBuB6F63skB0EAAAAASBwLQXA9Cteh7A9BwvUoXBn8D0EAAAAANF8QQSlcj8IRhhBBAAAAAGQhEUE+CtejIWwTQXsUrkePoRNBzczMzNaxFUEK16NwlBsWQdejcD2v0hlBwvUoXGyYGkEUrkfhyLwbQeJ6FK5ztR5BmZmZmejvHkE9CtejM/oeQfYoXA+1hSJBuB6Fa8CYIkGPwvWor6skQUfhepTl7yRBexSux6iuJUHsUbieBhMmQYXrUThBLiZBSOF6FJwtJ0GF61E4vrwnQQAAAACoOihBPgrXoy6qKEE9CtcjGfooQTQzMzMDyCpBmZmZGXbBLkFwPQpXcMwuQZDC9ahaVS9BNDMzM0B2L0GkcD2KaAUyQcL1KBwDeDJB9ihcD2bZMkGG61E4USY0Qc3MzMz7STdBXI/C9eiLOEGjcD1KxHU5QQAAAMDJvTxBZmZmhqCgQEFmZmamd19GQTMzMzOx9EZB\",\"dtype\":\"float64\",\"order\":\"little\",\"shape\":[54]},\"A_2015_hyphen_minus_2016\":{\"__ndarray__\":\"AAAAAAAAAAAAAAAAUPD0QAAAAABgcftAw/UoXPMY/EDhehSuE2L+QFyPwvVOhgBBCtejcB8CAkEAAAAACB8EQdejcD3MJARBuB6F63skB0EAAAAASBwLQXA9Cteh7A9BwvUoXBn8D0EAAAAANF8QQSlcj8IRhhBBAAAAAGQhEUE+CtejIWwTQXsUrkePoRNBzczMzNaxFUEK16NwlBsWQdejcD2v0hlBwvUoXGyYGkEUrkfhyLwbQeJ6FK5ztR5BmZmZmejvHkE9CtejM/oeQfYoXA+1hSJBuB6Fa8CYIkGPwvWor6skQUfhepTl7yRBexSux6iuJUHsUbieBhMmQYXrUThBLiZBSOF6FJwtJ0GF61E4vrwnQQAAAACoOihBPgrXoy6qKEE9CtcjGfooQTQzMzMDyCpBmZmZGXbBLkFwPQpXcMwuQZDC9ahaVS9BNDMzM0B2L0GkcD2KaAUyQcL1KBwDeDJB9ihcD2bZMkGG61E4USY0Qc3MzMz7STdBXI/C9eiLOEGjcD1KxHU5QQAAAMDJvTxBZmZmhqCgQEFmZmamd19GQTMzMzOx9EZB\",\"dtype\":\"float64\",\"order\":\"little\",\"shape\":[54]},\"State Code\":[\"MP\",\"PR\",\"VI\",\"SD\",\"ND\",\"VT\",\"MT\",\"WY\",\"DE\",\"AK\",\"GU\",\"ID\",\"NE\",\"WV\",\"ME\",\"NH\",\"NM\",\"MS\",\"AR\",\"IA\",\"KS\",\"RI\",\"HI\",\"NV\",\"OK\",\"AZ\",\"KY\",\"MO\",\"MN\",\"AL\",\"CT\",\"UT\",\"LA\",\"IL\",\"CO\",\"WI\",\"SC\",\"OR\",\"IN\",\"TN\",\"MD\",\"MA\",\"GA\",\"NY\",\"NJ\",\"MI\",\"VA\",\"WA\",\"NC\",\"OH\",\"PA\",\"FL\",\"TX\",\"CA\"],\"State_Code\":[\"MP\",\"PR\",\"VI\",\"SD\",\"ND\",\"VT\",\"MT\",\"WY\",\"DE\",\"AK\",\"GU\",\"ID\",\"NE\",\"WV\",\"ME\",\"NH\",\"NM\",\"MS\",\"AR\",\"IA\",\"KS\",\"RI\",\"HI\",\"NV\",\"OK\",\"AZ\",\"KY\",\"MO\",\"MN\",\"AL\",\"CT\",\"UT\",\"LA\",\"IL\",\"CO\",\"WI\",\"SC\",\"OR\",\"IN\",\"TN\",\"MD\",\"MA\",\"GA\",\"NY\",\"NJ\",\"MI\",\"VA\",\"WA\",\"NC\",\"OH\",\"PA\",\"FL\",\"TX\",\"CA\"]},\"selected\":{\"id\":\"10455\"},\"selection_policy\":{\"id\":\"10521\"}},\"id\":\"10454\",\"type\":\"ColumnDataSource\"},{\"attributes\":{},\"id\":\"10438\",\"type\":\"BasicTicker\"},{\"attributes\":{},\"id\":\"10485\",\"type\":\"BasicTicker\"},{\"attributes\":{\"end\":3309753.04,\"reset_end\":3309753.04,\"reset_start\":-300886.64,\"start\":-300886.64,\"tags\":[[[\"2015 - 2016\",\"2015 - 2016\",null]]]},\"id\":\"10423\",\"type\":\"Range1d\"},{\"attributes\":{\"axis\":{\"id\":\"10484\"},\"dimension\":1,\"grid_line_color\":null,\"ticker\":null},\"id\":\"10487\",\"type\":\"Grid\"},{\"attributes\":{},\"id\":\"10479\",\"type\":\"LinearScale\"},{\"attributes\":{\"line_alpha\":0.2,\"line_color\":\"#1f77b3\",\"line_width\":2,\"x\":{\"field\":\"State Code\"},\"y\":{\"field\":\"2015 - 2016\"}},\"id\":\"10459\",\"type\":\"Line\"},{\"attributes\":{\"margin\":[5,5,5,5],\"name\":\"HSpacer1170738\",\"sizing_mode\":\"stretch_width\"},\"id\":\"10662\",\"type\":\"Spacer\"},{\"attributes\":{},\"id\":\"10441\",\"type\":\"SaveTool\"},{\"attributes\":{\"callback\":null,\"renderers\":[{\"id\":\"10507\"}],\"tags\":[\"hv_created\"],\"tooltips\":[[\"State Code\",\"@{State_Code}\"],[\"2010 - 2014\",\"@{A_2010_hyphen_minus_2014}\"]]},\"id\":\"10471\",\"type\":\"HoverTool\"},{\"attributes\":{},\"id\":\"10489\",\"type\":\"PanTool\"},{\"attributes\":{\"factors\":[\"MP\",\"PR\",\"VI\",\"SD\",\"ND\",\"VT\",\"MT\",\"WY\",\"DE\",\"AK\",\"GU\",\"ID\",\"NE\",\"WV\",\"ME\",\"NH\",\"NM\",\"MS\",\"AR\",\"IA\",\"KS\",\"RI\",\"HI\",\"NV\",\"OK\",\"AZ\",\"KY\",\"MO\",\"MN\",\"AL\",\"CT\",\"UT\",\"LA\",\"IL\",\"CO\",\"WI\",\"SC\",\"OR\",\"IN\",\"TN\",\"MD\",\"MA\",\"GA\",\"NY\",\"NJ\",\"MI\",\"VA\",\"WA\",\"NC\",\"OH\",\"PA\",\"FL\",\"TX\",\"CA\"],\"tags\":[[[\"State Code\",\"State Code\",null]]]},\"id\":\"10422\",\"type\":\"FactorRange\"},{\"attributes\":{},\"id\":\"10435\",\"type\":\"CategoricalTicker\"},{\"attributes\":{\"axis_label\":\"\",\"bounds\":\"auto\",\"formatter\":{\"id\":\"10509\"},\"major_label_orientation\":\"horizontal\",\"ticker\":{\"id\":\"10485\"}},\"id\":\"10484\",\"type\":\"LinearAxis\"},{\"attributes\":{\"line_alpha\":0.1,\"line_color\":\"#1f77b3\",\"line_width\":2,\"x\":{\"field\":\"State Code\"},\"y\":{\"field\":\"2015 - 2016\"}},\"id\":\"10458\",\"type\":\"Line\"},{\"attributes\":{\"margin\":[5,5,5,5],\"name\":\"HSpacer1170737\",\"sizing_mode\":\"stretch_width\"},\"id\":\"10421\",\"type\":\"Spacer\"},{\"attributes\":{\"axis\":{\"id\":\"10434\"},\"grid_line_color\":null,\"ticker\":null},\"id\":\"10436\",\"type\":\"Grid\"},{\"attributes\":{\"text\":\"2010 - 2014\",\"text_color\":{\"value\":\"black\"},\"text_font_size\":{\"value\":\"12pt\"}},\"id\":\"10473\",\"type\":\"Title\"},{\"attributes\":{\"bottom_units\":\"screen\",\"fill_alpha\":0.5,\"fill_color\":\"lightgrey\",\"left_units\":\"screen\",\"level\":\"overlay\",\"line_alpha\":1.0,\"line_color\":\"black\",\"line_dash\":[4,4],\"line_width\":2,\"right_units\":\"screen\",\"top_units\":\"screen\"},\"id\":\"10446\",\"type\":\"BoxAnnotation\"},{\"attributes\":{\"bottom_units\":\"screen\",\"fill_alpha\":0.5,\"fill_color\":\"lightgrey\",\"left_units\":\"screen\",\"level\":\"overlay\",\"line_alpha\":1.0,\"line_color\":\"black\",\"line_dash\":[4,4],\"line_width\":2,\"right_units\":\"screen\",\"top_units\":\"screen\"},\"id\":\"10493\",\"type\":\"BoxAnnotation\"},{\"attributes\":{\"line_color\":\"#1f77b3\",\"line_width\":2,\"x\":{\"field\":\"State Code\"},\"y\":{\"field\":\"2010 - 2014\"}},\"id\":\"10504\",\"type\":\"Line\"},{\"attributes\":{},\"id\":\"10510\",\"type\":\"CategoricalTickFormatter\"}],\"root_ids\":[\"10420\"]},\"title\":\"Bokeh Application\",\"version\":\"2.2.3\"}};\n    var render_items = [{\"docid\":\"3085ddc6-2683-4261-86f2-8ca1553ddae1\",\"root_ids\":[\"10420\"],\"roots\":{\"10420\":\"13017f64-4a1e-42c4-b369-fa87e5ec836d\"}}];\n    root.Bokeh.embed.embed_items_notebook(docs_json, render_items);\n  }\n  if (root.Bokeh !== undefined && root.Bokeh.Panel !== undefined) {\n    embed_document(root);\n  } else {\n    var attempts = 0;\n    var timer = setInterval(function(root) {\n      if (root.Bokeh !== undefined && root.Bokeh.Panel !== undefined) {\n        clearInterval(timer);\n        embed_document(root);\n      } else if (document.readyState == \"complete\") {\n        attempts++;\n        if (attempts > 100) {\n          clearInterval(timer);\n          console.log(\"Bokeh: ERROR: Unable to run BokehJS code because BokehJS library is missing\");\n        }\n      }\n    }, 10, root)\n  }\n})(window);</script>",
      "application/vnd.holoviews_exec.v0+json": "",
      "text/plain": [
       ":Layout\n",
       "   .Curve.A_2015_hyphen_minus_2016 :Curve   [State Code]   (2015 - 2016)\n",
       "   .Curve.A_2010_hyphen_minus_2014 :Curve   [State Code]   (2010 - 2014)"
      ]
     },
     "metadata": {
      "application/vnd.holoviews_exec.v0+json": {
       "id": "10420"
      }
     },
     "execution_count": 106
    }
   ],
   "source": [
    "# Slice data for Total Average Loan Amount by 2015-2016 and 2010-2014 date ranges\n",
    "loan_data_range_1 = loan_data['2015 - 2016']\n",
    "loan_data_range_2 = loan_data['2010 - 2014']\n",
    "loan_data_range_grp = loan_data_range_1.sort_values()\n",
    "loan_data_range_grp_2 = loan_data_range_2.sort_values()\n",
    "\n",
    "# Use rot argument and yformatter option to customize formatting\n",
    "plot_2015_2016 = loan_data_range_grp.hvplot(label='2015 - 2016', rot=90, legend='bottom').opts(yformatter='%.0f')\n",
    "plot_2010_2014 = loan_data_range_grp_2.hvplot(label='2010 - 2014', rot=90, legend='bottom').opts(yformatter='%.0f')\n",
    "\n",
    "plot_2015_2016 + plot_2010_2014"
   ]
  },
  {
   "cell_type": "code",
   "execution_count": 108,
   "metadata": {},
   "outputs": [
    {
     "output_type": "display_data",
     "data": {},
     "metadata": {}
    },
    {
     "output_type": "execute_result",
     "data": {
      "text/html": "<div id='10990'>\n\n\n\n\n\n  <div class=\"bk-root\" id=\"468bc7ec-93e0-4555-95c1-45f2f2961f9e\" data-root-id=\"10990\"></div>\n</div>\n<script type=\"application/javascript\">(function(root) {\n  function embed_document(root) {\n    var docs_json = {\"fbd553d2-4bc0-4196-a6b9-86d8c714bee3\":{\"roots\":{\"references\":[{\"attributes\":{\"margin\":[5,5,5,5],\"name\":\"HSpacer1171844\",\"sizing_mode\":\"stretch_width\"},\"id\":\"10991\",\"type\":\"Spacer\"},{\"attributes\":{\"source\":{\"id\":\"11052\"}},\"id\":\"11059\",\"type\":\"CDSView\"},{\"attributes\":{},\"id\":\"11010\",\"type\":\"BasicTicker\"},{\"attributes\":{\"line_alpha\":0.1,\"line_color\":\"#1f77b3\",\"line_width\":2,\"x\":{\"field\":\"State Code\"},\"y\":{\"field\":\"2015 - 2016\"}},\"id\":\"11056\",\"type\":\"Line\"},{\"attributes\":{},\"id\":\"11087\",\"type\":\"UnionRenderers\"},{\"attributes\":{\"data_source\":{\"id\":\"11035\"},\"glyph\":{\"id\":\"11038\"},\"hover_glyph\":null,\"muted_glyph\":{\"id\":\"11040\"},\"nonselection_glyph\":{\"id\":\"11039\"},\"selection_glyph\":null,\"view\":{\"id\":\"11042\"}},\"id\":\"11041\",\"type\":\"GlyphRenderer\"},{\"attributes\":{\"data_source\":{\"id\":\"11070\"},\"glyph\":{\"id\":\"11073\"},\"hover_glyph\":null,\"muted_glyph\":{\"id\":\"11075\"},\"nonselection_glyph\":{\"id\":\"11074\"},\"selection_glyph\":null,\"view\":{\"id\":\"11077\"}},\"id\":\"11076\",\"type\":\"GlyphRenderer\"},{\"attributes\":{\"source\":{\"id\":\"11035\"}},\"id\":\"11042\",\"type\":\"CDSView\"},{\"attributes\":{\"fill_color\":{\"value\":\"#1f77b3\"},\"top\":{\"field\":\"Total_Average_Loan_Amount\"},\"width\":{\"value\":0.8},\"x\":{\"field\":\"State_Code\"}},\"id\":\"11038\",\"type\":\"VBar\"},{\"attributes\":{\"line_color\":\"#1f77b3\",\"line_width\":2,\"x\":{\"field\":\"State Code\"},\"y\":{\"field\":\"2015 - 2016\"}},\"id\":\"11055\",\"type\":\"Line\"},{\"attributes\":{\"children\":[{\"id\":\"10991\"},{\"id\":\"10997\"},{\"id\":\"11189\"}],\"margin\":[0,0,0,0],\"name\":\"Row1171840\",\"tags\":[\"embedded\"]},\"id\":\"10990\",\"type\":\"Row\"},{\"attributes\":{\"axis_label\":\"\",\"bounds\":\"auto\",\"formatter\":{\"id\":\"11028\"},\"major_label_orientation\":\"horizontal\",\"ticker\":{\"id\":\"11010\"}},\"id\":\"11009\",\"type\":\"LinearAxis\"},{\"attributes\":{\"click_policy\":\"mute\",\"items\":[{\"id\":\"11051\"},{\"id\":\"11069\"},{\"id\":\"11089\"}],\"location\":[0,0],\"orientation\":\"horizontal\"},\"id\":\"11050\",\"type\":\"Legend\"},{\"attributes\":{\"fill_alpha\":{\"value\":0.1},\"fill_color\":{\"value\":\"#1f77b3\"},\"line_alpha\":{\"value\":0.1},\"top\":{\"field\":\"Total_Average_Loan_Amount\"},\"width\":{\"value\":0.8},\"x\":{\"field\":\"State_Code\"}},\"id\":\"11039\",\"type\":\"VBar\"},{\"attributes\":{\"below\":[{\"id\":\"11006\"},{\"id\":\"11050\"}],\"center\":[{\"id\":\"11008\"},{\"id\":\"11012\"}],\"frame_width\":1000,\"left\":[{\"id\":\"11009\"}],\"margin\":[5,5,5,5],\"min_border_bottom\":10,\"min_border_left\":10,\"min_border_right\":10,\"min_border_top\":10,\"plot_height\":300,\"plot_width\":null,\"renderers\":[{\"id\":\"11041\"},{\"id\":\"11058\"},{\"id\":\"11076\"}],\"sizing_mode\":\"fixed\",\"title\":{\"id\":\"10998\"},\"toolbar\":{\"id\":\"11019\"},\"x_range\":{\"id\":\"10992\"},\"x_scale\":{\"id\":\"11002\"},\"y_range\":{\"id\":\"10993\"},\"y_scale\":{\"id\":\"11004\"}},\"id\":\"10997\",\"subtype\":\"Figure\",\"type\":\"Plot\"},{\"attributes\":{\"axis\":{\"id\":\"11009\"},\"dimension\":1,\"grid_line_color\":null,\"ticker\":null},\"id\":\"11012\",\"type\":\"Grid\"},{\"attributes\":{\"active_drag\":\"auto\",\"active_inspect\":\"auto\",\"active_multi\":null,\"active_scroll\":\"auto\",\"active_tap\":\"auto\",\"tools\":[{\"id\":\"10994\"},{\"id\":\"10995\"},{\"id\":\"10996\"},{\"id\":\"11013\"},{\"id\":\"11014\"},{\"id\":\"11015\"},{\"id\":\"11016\"},{\"id\":\"11017\"}]},\"id\":\"11019\",\"type\":\"Toolbar\"},{\"attributes\":{\"data\":{\"2010 - 2014\":{\"__ndarray__\":\"AAAAAEDF2kAAAAAAULzzQPYoXI+yuvlAAAAAACA8/EDXo3A9eh79QFK4HoUDQgBBAAAAAEhJAEEfhetRii8BQR+F61HK1gNB7FG4HpsKBUEAAAAA8M0HQexRuB6nnA5BehSuRytREEEAAAAA0JkQQRSuR+HbvxBBHoXrUQ+UEUEAAAAA4tMRQT4K16PIeRJB4XoUril1FUFnZmZmhZMVQSpcj8K/RxhBXI/C9SBjGEHhehSuMNkYQR+F61GBGxpBKVyPwqpwHEFcj8J1LjYhQfYoXA9pNSJBexSuRxFNIkHsUbiebfYiQRWuR+GuyyNBuB6FazdGJEFwPQrXCiclQVK4HoWcQCVBwvUoXDaVJUEAAACAShInQaRwPQrxaCdBZWZmZtumKEEAAAAAmD0pQSCF61Gd3ilB7FG4HsPlKUEoXI9C7tErQa1H4bqQkjFBZ2ZmZq+ZMUFxPQoXCE8yQWdmZiaJWDJBC9ej8HJLNEE+CtfjgGY0QRWuR2FODzZBZmZmZoAGN0GQwvWoFhA3QRWuRyGWpD1BAAAAwKYZP0HXo3CdZvxFQYXrUThmdUhB\",\"dtype\":\"float64\",\"order\":\"little\",\"shape\":[54]},\"A_2010_hyphen_minus_2014\":{\"__ndarray__\":\"AAAAAEDF2kAAAAAAULzzQPYoXI+yuvlAAAAAACA8/EDXo3A9eh79QFK4HoUDQgBBAAAAAEhJAEEfhetRii8BQR+F61HK1gNB7FG4HpsKBUEAAAAA8M0HQexRuB6nnA5BehSuRytREEEAAAAA0JkQQRSuR+HbvxBBHoXrUQ+UEUEAAAAA4tMRQT4K16PIeRJB4XoUril1FUFnZmZmhZMVQSpcj8K/RxhBXI/C9SBjGEHhehSuMNkYQR+F61GBGxpBKVyPwqpwHEFcj8J1LjYhQfYoXA9pNSJBexSuRxFNIkHsUbiebfYiQRWuR+GuyyNBuB6FazdGJEFwPQrXCiclQVK4HoWcQCVBwvUoXDaVJUEAAACAShInQaRwPQrxaCdBZWZmZtumKEEAAAAAmD0pQSCF61Gd3ilB7FG4HsPlKUEoXI9C7tErQa1H4bqQkjFBZ2ZmZq+ZMUFxPQoXCE8yQWdmZiaJWDJBC9ej8HJLNEE+CtfjgGY0QRWuR2FODzZBZmZmZoAGN0GQwvWoFhA3QRWuRyGWpD1BAAAAwKYZP0HXo3CdZvxFQYXrUThmdUhB\",\"dtype\":\"float64\",\"order\":\"little\",\"shape\":[54]},\"State Code\":[\"MP\",\"PR\",\"SD\",\"VI\",\"ND\",\"VT\",\"WY\",\"MT\",\"DE\",\"AK\",\"GU\",\"ID\",\"NE\",\"WV\",\"ME\",\"NH\",\"MS\",\"NM\",\"AR\",\"IA\",\"NV\",\"RI\",\"KS\",\"HI\",\"OK\",\"MO\",\"KY\",\"AZ\",\"MN\",\"AL\",\"UT\",\"LA\",\"CT\",\"CO\",\"SC\",\"OR\",\"IN\",\"WI\",\"MD\",\"IL\",\"TN\",\"GA\",\"MI\",\"VA\",\"NY\",\"NJ\",\"MA\",\"OH\",\"NC\",\"WA\",\"FL\",\"PA\",\"CA\",\"TX\"],\"State_Code\":[\"MP\",\"PR\",\"SD\",\"VI\",\"ND\",\"VT\",\"WY\",\"MT\",\"DE\",\"AK\",\"GU\",\"ID\",\"NE\",\"WV\",\"ME\",\"NH\",\"MS\",\"NM\",\"AR\",\"IA\",\"NV\",\"RI\",\"KS\",\"HI\",\"OK\",\"MO\",\"KY\",\"AZ\",\"MN\",\"AL\",\"UT\",\"LA\",\"CT\",\"CO\",\"SC\",\"OR\",\"IN\",\"WI\",\"MD\",\"IL\",\"TN\",\"GA\",\"MI\",\"VA\",\"NY\",\"NJ\",\"MA\",\"OH\",\"NC\",\"WA\",\"FL\",\"PA\",\"CA\",\"TX\"]},\"selected\":{\"id\":\"11071\"},\"selection_policy\":{\"id\":\"11087\"}},\"id\":\"11070\",\"type\":\"ColumnDataSource\"},{\"attributes\":{\"format\":\"%.0f\"},\"id\":\"11028\",\"type\":\"PrintfTickFormatter\"},{\"attributes\":{},\"id\":\"11029\",\"type\":\"CategoricalTickFormatter\"},{\"attributes\":{\"callback\":null,\"renderers\":[{\"id\":\"11041\"}],\"tags\":[\"hv_created\"],\"tooltips\":[[\"State Code\",\"@{State_Code}\"],[\"Total Average Loan Amount\",\"@{Total_Average_Loan_Amount}\"]]},\"id\":\"10994\",\"type\":\"HoverTool\"},{\"attributes\":{\"label\":{\"value\":\"2015 - 2016\"},\"renderers\":[{\"id\":\"11058\"}]},\"id\":\"11069\",\"type\":\"LegendItem\"},{\"attributes\":{\"callback\":null,\"renderers\":[{\"id\":\"11058\"}],\"tags\":[\"hv_created\"],\"tooltips\":[[\"State Code\",\"@{State_Code}\"],[\"2015 - 2016\",\"@{A_2015_hyphen_minus_2016}\"]]},\"id\":\"10995\",\"type\":\"HoverTool\"},{\"attributes\":{\"data_source\":{\"id\":\"11052\"},\"glyph\":{\"id\":\"11055\"},\"hover_glyph\":null,\"muted_glyph\":{\"id\":\"11057\"},\"nonselection_glyph\":{\"id\":\"11056\"},\"selection_glyph\":null,\"view\":{\"id\":\"11059\"}},\"id\":\"11058\",\"type\":\"GlyphRenderer\"},{\"attributes\":{\"axis\":{\"id\":\"11006\"},\"grid_line_color\":null,\"ticker\":null},\"id\":\"11008\",\"type\":\"Grid\"},{\"attributes\":{\"fill_alpha\":{\"value\":0.2},\"fill_color\":{\"value\":\"#1f77b3\"},\"line_alpha\":{\"value\":0.2},\"top\":{\"field\":\"Total_Average_Loan_Amount\"},\"width\":{\"value\":0.8},\"x\":{\"field\":\"State_Code\"}},\"id\":\"11040\",\"type\":\"VBar\"},{\"attributes\":{\"line_alpha\":0.2,\"line_color\":\"#1f77b3\",\"line_width\":2,\"x\":{\"field\":\"State Code\"},\"y\":{\"field\":\"2015 - 2016\"}},\"id\":\"11057\",\"type\":\"Line\"},{\"attributes\":{\"factors\":[\"MP\",\"PR\",\"ND\",\"SD\",\"VI\",\"WY\",\"VT\",\"MT\",\"DE\",\"AK\",\"GU\",\"MS\",\"WV\",\"ID\",\"ME\",\"NM\",\"NE\",\"NH\",\"AR\",\"IA\",\"KS\",\"HI\",\"RI\",\"OK\",\"NV\",\"AL\",\"LA\",\"KY\",\"SC\",\"CT\",\"MO\",\"CO\",\"AZ\",\"UT\",\"OR\",\"TN\",\"IN\",\"WI\",\"MD\",\"MN\",\"VA\",\"IL\",\"NY\",\"GA\",\"MA\",\"MI\",\"NC\",\"NJ\",\"WA\",\"OH\",\"FL\",\"PA\",\"TX\",\"CA\"],\"tags\":[[[\"State Code\",\"State Code\",null]]]},\"id\":\"10992\",\"type\":\"FactorRange\"},{\"attributes\":{\"end\":3526420.084,\"reset_end\":3526420.084,\"reset_start\":0.0,\"tags\":[[[\"Total Average Loan Amount\",\"Total Average Loan Amount\",null]]]},\"id\":\"10993\",\"type\":\"Range1d\"},{\"attributes\":{},\"id\":\"11002\",\"type\":\"CategoricalScale\"},{\"attributes\":{\"line_alpha\":0.1,\"line_color\":\"#ff7e0e\",\"line_width\":2,\"x\":{\"field\":\"State Code\"},\"y\":{\"field\":\"2010 - 2014\"}},\"id\":\"11074\",\"type\":\"Line\"},{\"attributes\":{\"callback\":null,\"renderers\":[{\"id\":\"11076\"}],\"tags\":[\"hv_created\"],\"tooltips\":[[\"State Code\",\"@{State_Code}\"],[\"2010 - 2014\",\"@{A_2010_hyphen_minus_2014}\"]]},\"id\":\"10996\",\"type\":\"HoverTool\"},{\"attributes\":{},\"id\":\"11014\",\"type\":\"PanTool\"},{\"attributes\":{},\"id\":\"11036\",\"type\":\"Selection\"},{\"attributes\":{},\"id\":\"11067\",\"type\":\"UnionRenderers\"},{\"attributes\":{\"data\":{\"2015 - 2016\":{\"__ndarray__\":\"AAAAAAAAAAAAAAAAUPD0QAAAAABgcftAw/UoXPMY/EDhehSuE2L+QFyPwvVOhgBBCtejcB8CAkEAAAAACB8EQdejcD3MJARBuB6F63skB0EAAAAASBwLQXA9Cteh7A9BwvUoXBn8D0EAAAAANF8QQSlcj8IRhhBBAAAAAGQhEUE+CtejIWwTQXsUrkePoRNBzczMzNaxFUEK16NwlBsWQdejcD2v0hlBwvUoXGyYGkEUrkfhyLwbQeJ6FK5ztR5BmZmZmejvHkE9CtejM/oeQfYoXA+1hSJBuB6Fa8CYIkGPwvWor6skQUfhepTl7yRBexSux6iuJUHsUbieBhMmQYXrUThBLiZBSOF6FJwtJ0GF61E4vrwnQQAAAACoOihBPgrXoy6qKEE9CtcjGfooQTQzMzMDyCpBmZmZGXbBLkFwPQpXcMwuQZDC9ahaVS9BNDMzM0B2L0GkcD2KaAUyQcL1KBwDeDJB9ihcD2bZMkGG61E4USY0Qc3MzMz7STdBXI/C9eiLOEGjcD1KxHU5QQAAAMDJvTxBZmZmhqCgQEFmZmamd19GQTMzMzOx9EZB\",\"dtype\":\"float64\",\"order\":\"little\",\"shape\":[54]},\"A_2015_hyphen_minus_2016\":{\"__ndarray__\":\"AAAAAAAAAAAAAAAAUPD0QAAAAABgcftAw/UoXPMY/EDhehSuE2L+QFyPwvVOhgBBCtejcB8CAkEAAAAACB8EQdejcD3MJARBuB6F63skB0EAAAAASBwLQXA9Cteh7A9BwvUoXBn8D0EAAAAANF8QQSlcj8IRhhBBAAAAAGQhEUE+CtejIWwTQXsUrkePoRNBzczMzNaxFUEK16NwlBsWQdejcD2v0hlBwvUoXGyYGkEUrkfhyLwbQeJ6FK5ztR5BmZmZmejvHkE9CtejM/oeQfYoXA+1hSJBuB6Fa8CYIkGPwvWor6skQUfhepTl7yRBexSux6iuJUHsUbieBhMmQYXrUThBLiZBSOF6FJwtJ0GF61E4vrwnQQAAAACoOihBPgrXoy6qKEE9CtcjGfooQTQzMzMDyCpBmZmZGXbBLkFwPQpXcMwuQZDC9ahaVS9BNDMzM0B2L0GkcD2KaAUyQcL1KBwDeDJB9ihcD2bZMkGG61E4USY0Qc3MzMz7STdBXI/C9eiLOEGjcD1KxHU5QQAAAMDJvTxBZmZmhqCgQEFmZmamd19GQTMzMzOx9EZB\",\"dtype\":\"float64\",\"order\":\"little\",\"shape\":[54]},\"State Code\":[\"MP\",\"PR\",\"VI\",\"SD\",\"ND\",\"VT\",\"MT\",\"WY\",\"DE\",\"AK\",\"GU\",\"ID\",\"NE\",\"WV\",\"ME\",\"NH\",\"NM\",\"MS\",\"AR\",\"IA\",\"KS\",\"RI\",\"HI\",\"NV\",\"OK\",\"AZ\",\"KY\",\"MO\",\"MN\",\"AL\",\"CT\",\"UT\",\"LA\",\"IL\",\"CO\",\"WI\",\"SC\",\"OR\",\"IN\",\"TN\",\"MD\",\"MA\",\"GA\",\"NY\",\"NJ\",\"MI\",\"VA\",\"WA\",\"NC\",\"OH\",\"PA\",\"FL\",\"TX\",\"CA\"],\"State_Code\":[\"MP\",\"PR\",\"VI\",\"SD\",\"ND\",\"VT\",\"MT\",\"WY\",\"DE\",\"AK\",\"GU\",\"ID\",\"NE\",\"WV\",\"ME\",\"NH\",\"NM\",\"MS\",\"AR\",\"IA\",\"KS\",\"RI\",\"HI\",\"NV\",\"OK\",\"AZ\",\"KY\",\"MO\",\"MN\",\"AL\",\"CT\",\"UT\",\"LA\",\"IL\",\"CO\",\"WI\",\"SC\",\"OR\",\"IN\",\"TN\",\"MD\",\"MA\",\"GA\",\"NY\",\"NJ\",\"MI\",\"VA\",\"WA\",\"NC\",\"OH\",\"PA\",\"FL\",\"TX\",\"CA\"]},\"selected\":{\"id\":\"11053\"},\"selection_policy\":{\"id\":\"11067\"}},\"id\":\"11052\",\"type\":\"ColumnDataSource\"},{\"attributes\":{\"source\":{\"id\":\"11070\"}},\"id\":\"11077\",\"type\":\"CDSView\"},{\"attributes\":{\"line_alpha\":0.2,\"line_color\":\"#ff7e0e\",\"line_width\":2,\"x\":{\"field\":\"State Code\"},\"y\":{\"field\":\"2010 - 2014\"}},\"id\":\"11075\",\"type\":\"Line\"},{\"attributes\":{},\"id\":\"11013\",\"type\":\"SaveTool\"},{\"attributes\":{\"data\":{\"State_Code\":[\"MP\",\"PR\",\"ND\",\"SD\",\"VI\",\"WY\",\"VT\",\"MT\",\"DE\",\"AK\",\"GU\",\"MS\",\"WV\",\"ID\",\"ME\",\"NM\",\"NE\",\"NH\",\"AR\",\"IA\",\"KS\",\"HI\",\"RI\",\"OK\",\"NV\",\"AL\",\"LA\",\"KY\",\"SC\",\"CT\",\"MO\",\"CO\",\"AZ\",\"UT\",\"OR\",\"TN\",\"IN\",\"WI\",\"MD\",\"MN\",\"VA\",\"IL\",\"NY\",\"GA\",\"MA\",\"MI\",\"NC\",\"NJ\",\"WA\",\"OH\",\"FL\",\"PA\",\"TX\",\"CA\"],\"Total_Average_Loan_Amount\":{\"__ndarray__\":\"AAAAAAAd5UAAAAAAwFTsQB+F61Hs6PJArkfhelhS9UAAAAAAUEz3QAAAAAAwJPlA7FG4HmFD+UA9CtejDLn5QFK4HoX7dABB7FG4HlsqAkEAAAAAaEMGQa5H4Xr2bQdBAAAAAAi+CEGamZmZNUkJQRSuR+FaWAlBwvUoXLdjC0HD9Shc8eQLQcL1KFw/PQ5BSOF6FLEQEEEfhetRDdwSQRSuR+E0thNBrkfhem+WFEGQwvUoPlcVQWZmZmby+RVB7FG4HoasF0HrUbgeuo0aQeF6FK5i2BxBexSuR6tbHUEzMzMzaUggQR+F61HQZiBBmZmZGceBIUH2KFwP7PkhQRWuR+GvPCJBkML1KOZQIkG4HoVrQdYiQfYoXI9MiSRBwvUoXOn3JEEAAAAAUF8lQShcj0JNKyhBw/Uo3BUSKUFI4XqUXjQpQVS4HgX9tylB4noULhp5MEHC9SjcrLUwQSlcj8J1EzFBXI/CtTRDMUGamZnZk9ExQRSuR6EWtzJBkML1KE+jM0GjcD3K+6E1QfYoXE887TdBXI/CdS94OUFPuB5FM4xDQc7MzOzKZ0VB\",\"dtype\":\"float64\",\"order\":\"little\",\"shape\":[54]}},\"selected\":{\"id\":\"11036\"},\"selection_policy\":{\"id\":\"11048\"}},\"id\":\"11035\",\"type\":\"ColumnDataSource\"},{\"attributes\":{\"label\":{\"value\":\"2019 Total Average Amount\"},\"renderers\":[{\"id\":\"11041\"}]},\"id\":\"11051\",\"type\":\"LegendItem\"},{\"attributes\":{\"label\":{\"value\":\"2010 - 2014\"},\"renderers\":[{\"id\":\"11076\"}]},\"id\":\"11089\",\"type\":\"LegendItem\"},{\"attributes\":{},\"id\":\"11015\",\"type\":\"WheelZoomTool\"},{\"attributes\":{\"overlay\":{\"id\":\"11018\"}},\"id\":\"11016\",\"type\":\"BoxZoomTool\"},{\"attributes\":{},\"id\":\"11017\",\"type\":\"ResetTool\"},{\"attributes\":{},\"id\":\"11053\",\"type\":\"Selection\"},{\"attributes\":{},\"id\":\"11071\",\"type\":\"Selection\"},{\"attributes\":{\"bottom_units\":\"screen\",\"fill_alpha\":0.5,\"fill_color\":\"lightgrey\",\"left_units\":\"screen\",\"level\":\"overlay\",\"line_alpha\":1.0,\"line_color\":\"black\",\"line_dash\":[4,4],\"line_width\":2,\"right_units\":\"screen\",\"top_units\":\"screen\"},\"id\":\"11018\",\"type\":\"BoxAnnotation\"},{\"attributes\":{},\"id\":\"11004\",\"type\":\"LinearScale\"},{\"attributes\":{\"axis_label\":\"State Code\",\"bounds\":\"auto\",\"formatter\":{\"id\":\"11029\"},\"major_label_orientation\":1.5707963267948966,\"ticker\":{\"id\":\"11007\"}},\"id\":\"11006\",\"type\":\"CategoricalAxis\"},{\"attributes\":{},\"id\":\"11007\",\"type\":\"CategoricalTicker\"},{\"attributes\":{\"margin\":[5,5,5,5],\"name\":\"HSpacer1171845\",\"sizing_mode\":\"stretch_width\"},\"id\":\"11189\",\"type\":\"Spacer\"},{\"attributes\":{\"text\":\"Loan Data By State\",\"text_color\":{\"value\":\"black\"},\"text_font_size\":{\"value\":\"12pt\"}},\"id\":\"10998\",\"type\":\"Title\"},{\"attributes\":{\"line_color\":\"#ff7e0e\",\"line_width\":2,\"x\":{\"field\":\"State Code\"},\"y\":{\"field\":\"2010 - 2014\"}},\"id\":\"11073\",\"type\":\"Line\"},{\"attributes\":{},\"id\":\"11048\",\"type\":\"UnionRenderers\"}],\"root_ids\":[\"10990\"]},\"title\":\"Bokeh Application\",\"version\":\"2.2.3\"}};\n    var render_items = [{\"docid\":\"fbd553d2-4bc0-4196-a6b9-86d8c714bee3\",\"root_ids\":[\"10990\"],\"roots\":{\"10990\":\"468bc7ec-93e0-4555-95c1-45f2f2961f9e\"}}];\n    root.Bokeh.embed.embed_items_notebook(docs_json, render_items);\n  }\n  if (root.Bokeh !== undefined && root.Bokeh.Panel !== undefined) {\n    embed_document(root);\n  } else {\n    var attempts = 0;\n    var timer = setInterval(function(root) {\n      if (root.Bokeh !== undefined && root.Bokeh.Panel !== undefined) {\n        clearInterval(timer);\n        embed_document(root);\n      } else if (document.readyState == \"complete\") {\n        attempts++;\n        if (attempts > 100) {\n          clearInterval(timer);\n          console.log(\"Bokeh: ERROR: Unable to run BokehJS code because BokehJS library is missing\");\n        }\n      }\n    }, 10, root)\n  }\n})(window);</script>",
      "application/vnd.holoviews_exec.v0+json": "",
      "text/plain": [
       ":Overlay\n",
       "   .Bars.A_2019_Total_Average_Amount :Bars   [State Code]   (Total Average Loan Amount)\n",
       "   .Curve.A_2015_hyphen_minus_2016   :Curve   [State Code]   (2015 - 2016)\n",
       "   .Curve.A_2010_hyphen_minus_2014   :Curve   [State Code]   (2010 - 2014)"
      ]
     },
     "metadata": {
      "application/vnd.holoviews_exec.v0+json": {
       "id": "10990"
      }
     },
     "execution_count": 108
    }
   ],
   "source": [
    "# Use opts function to customize title and width\n",
    "(plot_state_avgs * plot_2015_2016 * plot_2010_2014).opts(title='Loan Data By State', frame_width=1000)"
   ]
  },
  {
   "cell_type": "code",
   "execution_count": null,
   "metadata": {},
   "outputs": [],
   "source": []
  }
 ],
 "metadata": {
  "kernelspec": {
   "name": "python3",
   "display_name": "Python 3.7.9 64-bit ('pyvizenv': conda)",
   "metadata": {
    "interpreter": {
     "hash": "a3d83b3bb7a284bee10f9f12036d8156a359fe396990fa5060485ae25a957122"
    }
   }
  },
  "language_info": {
   "codemirror_mode": {
    "name": "ipython",
    "version": 3
   },
   "file_extension": ".py",
   "mimetype": "text/x-python",
   "name": "python",
   "nbconvert_exporter": "python",
   "pygments_lexer": "ipython3",
   "version": "3.7.9-final"
  }
 },
 "nbformat": 4,
 "nbformat_minor": 4
}