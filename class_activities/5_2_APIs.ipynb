{
 "cells": [
  {
   "cell_type": "markdown",
   "metadata": {},
   "source": [
    "## 5.2 - Pandas II\n"
   ]
  },
  {
   "cell_type": "code",
   "execution_count": 1,
   "metadata": {},
   "outputs": [
    {
     "output_type": "stream",
     "name": "stdout",
     "text": [
      "Requirement already satisfied: python-dotenv in c:\\users\\nospm\\anaconda3\\lib\\site-packages (0.15.0)\n",
      "Requirement already satisfied: alpaca-trade-api in c:\\users\\nospm\\anaconda3\\lib\\site-packages (0.51.0)\n",
      "Requirement already satisfied: urllib3<1.26,>1.24 in c:\\users\\nospm\\anaconda3\\lib\\site-packages (from alpaca-trade-api) (1.25.11)\n",
      "Requirement already satisfied: websockets<9,>=8.0 in c:\\users\\nospm\\anaconda3\\lib\\site-packages (from alpaca-trade-api) (8.1)\n",
      "Requirement already satisfied: pandas in c:\\users\\nospm\\anaconda3\\lib\\site-packages (from alpaca-trade-api) (1.1.3)\n",
      "Requirement already satisfied: websocket-client<1,>=0.56.0 in c:\\users\\nospm\\anaconda3\\lib\\site-packages (from alpaca-trade-api) (0.57.0)\n",
      "Requirement already satisfied: requests<3,>2 in c:\\users\\nospm\\anaconda3\\lib\\site-packages (from alpaca-trade-api) (2.24.0)\n",
      "Requirement already satisfied: python-dateutil>=2.7.3 in c:\\users\\nospm\\anaconda3\\lib\\site-packages (from pandas->alpaca-trade-api) (2.8.1)\n",
      "Requirement already satisfied: pytz>=2017.2 in c:\\users\\nospm\\anaconda3\\lib\\site-packages (from pandas->alpaca-trade-api) (2020.1)\n",
      "Requirement already satisfied: numpy>=1.15.4 in c:\\users\\nospm\\anaconda3\\lib\\site-packages (from pandas->alpaca-trade-api) (1.19.2)\n",
      "Requirement already satisfied: six in c:\\users\\nospm\\anaconda3\\lib\\site-packages (from websocket-client<1,>=0.56.0->alpaca-trade-api) (1.15.0)\n",
      "Requirement already satisfied: chardet<4,>=3.0.2 in c:\\users\\nospm\\anaconda3\\lib\\site-packages (from requests<3,>2->alpaca-trade-api) (3.0.4)\n",
      "Requirement already satisfied: idna<3,>=2.5 in c:\\users\\nospm\\anaconda3\\lib\\site-packages (from requests<3,>2->alpaca-trade-api) (2.10)\n",
      "Requirement already satisfied: certifi>=2017.4.17 in c:\\users\\nospm\\anaconda3\\lib\\site-packages (from requests<3,>2->alpaca-trade-api) (2020.6.20)\n"
     ]
    }
   ],
   "source": [
    "!pip install python-dotenv\n",
    "!pip install alpaca-trade-api"
   ]
  },
  {
   "cell_type": "code",
   "execution_count": 2,
   "metadata": {},
   "outputs": [],
   "source": [
    "from dotenv import load_dotenv\n",
    "import alpaca_trade_api as tradeapi\n",
    "import pandas as pd\n",
    "import os\n",
    "import requests\n",
    "import json\n",
    "\n",
    "%matplotlib inline"
   ]
  },
  {
   "cell_type": "code",
   "execution_count": 14,
   "metadata": {},
   "outputs": [
    {
     "data": {
      "text/plain": [
       "True"
      ]
     },
     "execution_count": 14,
     "metadata": {},
     "output_type": "execute_result"
    }
   ],
   "source": [
    "load_dotenv()"
   ]
  },
  {
   "cell_type": "code",
   "execution_count": 15,
   "metadata": {},
   "outputs": [
    {
     "data": {
      "text/plain": [
       "str"
      ]
     },
     "execution_count": 15,
     "metadata": {},
     "output_type": "execute_result"
    }
   ],
   "source": [
    "api_key = os.getenv('QUANDL_API_KEY')\n",
    "type(api_key)"
   ]
  },
  {
   "cell_type": "code",
   "execution_count": 16,
   "metadata": {
    "tags": []
   },
   "outputs": [],
   "source": [
    "# Define the base request URL\n",
    "request_url = f\"https://www.quandl.com/api/v3/datasets/WIKI/MSFT.json?api_key={api_key}\"\n",
    "\n",
    "# Concatenate request_url and api_key. Store as new variable\n",
    "response = requests.get(request_url)\n",
    "response_content = response.content\n",
    "data = response.json()"
   ]
  },
  {
   "source": [
    "## Investment Value Exercise"
   ],
   "cell_type": "markdown",
   "metadata": {}
  },
  {
   "cell_type": "code",
   "execution_count": 28,
   "metadata": {},
   "outputs": [],
   "source": [
    "# Set current amount of shares data\n",
    "msft_shares = 200\n",
    "aapl_shares = 320\n",
    "\n",
    "# Set the tickers\n",
    "tickers = ['MSFT','AAPL']\n",
    "\n",
    "# Create the shares DataFrame\n",
    "# closing_prices_summary_df = pd.DataFrame()\n",
    "# closing_prices_summary_df['MSFT'] = msft_shares\n",
    "# closing_prices_summary_df['AAPL'] = aapl_shares\n",
    "# closing_prices_summary_df\n",
    "# Display shares data\n",
    "# YOUR CODE HERE!"
   ]
  },
  {
   "cell_type": "code",
   "execution_count": 7,
   "metadata": {},
   "outputs": [
    {
     "output_type": "execute_result",
     "data": {
      "text/plain": [
       "True"
      ]
     },
     "metadata": {},
     "execution_count": 7
    }
   ],
   "source": [
    "load_dotenv()"
   ]
  },
  {
   "cell_type": "code",
   "execution_count": 8,
   "metadata": {},
   "outputs": [],
   "source": [
    "# Load .env environment variables\n",
    "alpaca_api_key = os.getenv('ALPACA_API_KEY')\n",
    "alpaca_secret_key = os.getenv('ALPACA_SECRET_KEY')"
   ]
  },
  {
   "cell_type": "code",
   "execution_count": 9,
   "metadata": {},
   "outputs": [
    {
     "output_type": "execute_result",
     "data": {
      "text/plain": [
       "str"
      ]
     },
     "metadata": {},
     "execution_count": 9
    }
   ],
   "source": [
    "type(alpaca_api_key)"
   ]
  },
  {
   "cell_type": "code",
   "execution_count": 10,
   "metadata": {},
   "outputs": [
    {
     "output_type": "execute_result",
     "data": {
      "text/plain": [
       "str"
      ]
     },
     "metadata": {},
     "execution_count": 10
    }
   ],
   "source": [
    "type(alpaca_secret_key)"
   ]
  },
  {
   "cell_type": "code",
   "execution_count": 11,
   "metadata": {},
   "outputs": [],
   "source": [
    "# Create the Alpaca API object\n",
    "alpaca = tradeapi.REST(\n",
    "    alpaca_api_key,\n",
    "    alpaca_secret_key,\n",
    "    api_version='v2'\n",
    ")"
   ]
  },
  {
   "cell_type": "code",
   "execution_count": 15,
   "metadata": {},
   "outputs": [
    {
     "output_type": "execute_result",
     "data": {
      "text/plain": [
       "'2020-12-15T00:00:00-05:00'"
      ]
     },
     "metadata": {},
     "execution_count": 15
    }
   ],
   "source": [
    "# Format current date as ISO format\n",
    "today2 = pd.Timestamp('2020-12-15', tz='America/New_York').isoformat()\n",
    "today2"
   ]
  },
  {
   "cell_type": "code",
   "execution_count": 16,
   "metadata": {},
   "outputs": [],
   "source": [
    "# Set timeframe to one day ('1D') for the Alpaca API\n",
    "timeframe2 = '1D'"
   ]
  },
  {
   "cell_type": "code",
   "execution_count": 22,
   "metadata": {},
   "outputs": [],
   "source": [
    "# Get current price data for MSFT and AAPL\n",
    "closing_prices_df = alpaca.get_barset(\n",
    "    tickers,\n",
    "    timeframe2,\n",
    "    start = today2,\n",
    "    end = today2\n",
    ").df"
   ]
  },
  {
   "cell_type": "code",
   "execution_count": 24,
   "metadata": {},
   "outputs": [
    {
     "output_type": "execute_result",
     "data": {
      "text/plain": [
       "                             AAPL                                       MSFT  \\\n",
       "                             open   high     low   close     volume     open   \n",
       "time                                                                           \n",
       "2020-12-15 00:00:00-05:00  124.34  127.9  124.13  127.89  140585059  215.165   \n",
       "\n",
       "                                                             \n",
       "                             high     low   close    volume  \n",
       "time                                                         \n",
       "2020-12-15 00:00:00-05:00  215.42  212.24  214.16  20310863  "
      ],
      "text/html": "<div>\n<style scoped>\n    .dataframe tbody tr th:only-of-type {\n        vertical-align: middle;\n    }\n\n    .dataframe tbody tr th {\n        vertical-align: top;\n    }\n\n    .dataframe thead tr th {\n        text-align: left;\n    }\n\n    .dataframe thead tr:last-of-type th {\n        text-align: right;\n    }\n</style>\n<table border=\"1\" class=\"dataframe\">\n  <thead>\n    <tr>\n      <th></th>\n      <th colspan=\"5\" halign=\"left\">AAPL</th>\n      <th colspan=\"5\" halign=\"left\">MSFT</th>\n    </tr>\n    <tr>\n      <th></th>\n      <th>open</th>\n      <th>high</th>\n      <th>low</th>\n      <th>close</th>\n      <th>volume</th>\n      <th>open</th>\n      <th>high</th>\n      <th>low</th>\n      <th>close</th>\n      <th>volume</th>\n    </tr>\n    <tr>\n      <th>time</th>\n      <th></th>\n      <th></th>\n      <th></th>\n      <th></th>\n      <th></th>\n      <th></th>\n      <th></th>\n      <th></th>\n      <th></th>\n      <th></th>\n    </tr>\n  </thead>\n  <tbody>\n    <tr>\n      <th>2020-12-15 00:00:00-05:00</th>\n      <td>124.34</td>\n      <td>127.9</td>\n      <td>124.13</td>\n      <td>127.89</td>\n      <td>140585059</td>\n      <td>215.165</td>\n      <td>215.42</td>\n      <td>212.24</td>\n      <td>214.16</td>\n      <td>20310863</td>\n    </tr>\n  </tbody>\n</table>\n</div>"
     },
     "metadata": {},
     "execution_count": 24
    }
   ],
   "source": [
    "closing_prices_df"
   ]
  },
  {
   "cell_type": "code",
   "execution_count": 41,
   "metadata": {},
   "outputs": [
    {
     "output_type": "execute_result",
     "data": {
      "text/plain": [
       "              MSFT    AAPL\n",
       "2020-12-15  214.16  127.89"
      ],
      "text/html": "<div>\n<style scoped>\n    .dataframe tbody tr th:only-of-type {\n        vertical-align: middle;\n    }\n\n    .dataframe tbody tr th {\n        vertical-align: top;\n    }\n\n    .dataframe thead th {\n        text-align: right;\n    }\n</style>\n<table border=\"1\" class=\"dataframe\">\n  <thead>\n    <tr style=\"text-align: right;\">\n      <th></th>\n      <th>MSFT</th>\n      <th>AAPL</th>\n    </tr>\n  </thead>\n  <tbody>\n    <tr>\n      <th>2020-12-15</th>\n      <td>214.16</td>\n      <td>127.89</td>\n    </tr>\n  </tbody>\n</table>\n</div>"
     },
     "metadata": {},
     "execution_count": 41
    }
   ],
   "source": [
    "closing_prices_summary_df = pd.DataFrame()\n",
    "closing_prices_summary_df[\"MSFT\"] = closing_prices_df['MSFT']['close']\n",
    "closing_prices_summary_df[\"AAPL\"] = closing_prices_df['AAPL']['close']\n",
    "closing_prices_summary_df.index = closing_prices_df.index.date\n",
    "\n",
    "closing_prices_summary_df.head()"
   ]
  },
  {
   "cell_type": "code",
   "execution_count": 42,
   "metadata": {},
   "outputs": [
    {
     "output_type": "execute_result",
     "data": {
      "text/plain": [
       "              MSFT    AAPL  MSFT-Shares  AAPL-Shares\n",
       "2020-12-15  214.16  127.89          200          320"
      ],
      "text/html": "<div>\n<style scoped>\n    .dataframe tbody tr th:only-of-type {\n        vertical-align: middle;\n    }\n\n    .dataframe tbody tr th {\n        vertical-align: top;\n    }\n\n    .dataframe thead th {\n        text-align: right;\n    }\n</style>\n<table border=\"1\" class=\"dataframe\">\n  <thead>\n    <tr style=\"text-align: right;\">\n      <th></th>\n      <th>MSFT</th>\n      <th>AAPL</th>\n      <th>MSFT-Shares</th>\n      <th>AAPL-Shares</th>\n    </tr>\n  </thead>\n  <tbody>\n    <tr>\n      <th>2020-12-15</th>\n      <td>214.16</td>\n      <td>127.89</td>\n      <td>200</td>\n      <td>320</td>\n    </tr>\n  </tbody>\n</table>\n</div>"
     },
     "metadata": {},
     "execution_count": 42
    }
   ],
   "source": [
    "closing_prices_summary_df['MSFT-Shares'] = msft_shares\n",
    "closing_prices_summary_df['AAPL-Shares'] = aapl_shares\n",
    "closing_prices_summary_df"
   ]
  },
  {
   "cell_type": "code",
   "execution_count": 43,
   "metadata": {},
   "outputs": [
    {
     "output_type": "execute_result",
     "data": {
      "text/plain": [
       "              MSFT    AAPL  MSFT-Shares  AAPL-Shares  MSFT-Value  AAPLE-Value\n",
       "2020-12-15  214.16  127.89          200          320     42832.0      40924.8"
      ],
      "text/html": "<div>\n<style scoped>\n    .dataframe tbody tr th:only-of-type {\n        vertical-align: middle;\n    }\n\n    .dataframe tbody tr th {\n        vertical-align: top;\n    }\n\n    .dataframe thead th {\n        text-align: right;\n    }\n</style>\n<table border=\"1\" class=\"dataframe\">\n  <thead>\n    <tr style=\"text-align: right;\">\n      <th></th>\n      <th>MSFT</th>\n      <th>AAPL</th>\n      <th>MSFT-Shares</th>\n      <th>AAPL-Shares</th>\n      <th>MSFT-Value</th>\n      <th>AAPLE-Value</th>\n    </tr>\n  </thead>\n  <tbody>\n    <tr>\n      <th>2020-12-15</th>\n      <td>214.16</td>\n      <td>127.89</td>\n      <td>200</td>\n      <td>320</td>\n      <td>42832.0</td>\n      <td>40924.8</td>\n    </tr>\n  </tbody>\n</table>\n</div>"
     },
     "metadata": {},
     "execution_count": 43
    }
   ],
   "source": [
    "closing_prices_summary_df['MSFT-Value'] = closing_prices_summary_df['MSFT-Shares'] * closing_prices_summary_df['MSFT']\n",
    "closing_prices_summary_df['AAPLE-Value'] = closing_prices_summary_df['AAPL-Shares'] * closing_prices_summary_df['AAPL']\n",
    "closing_prices_summary_df"
   ]
  },
  {
   "cell_type": "code",
   "execution_count": null,
   "metadata": {},
   "outputs": [],
   "source": []
  }
 ],
 "metadata": {
  "kernelspec": {
   "display_name": "Python 3",
   "language": "python",
   "name": "python3"
  },
  "language_info": {
   "codemirror_mode": {
    "name": "ipython",
    "version": 3
   },
   "file_extension": ".py",
   "mimetype": "text/x-python",
   "name": "python",
   "nbconvert_exporter": "python",
   "pygments_lexer": "ipython3",
   "version": "3.8.3-final"
  }
 },
 "nbformat": 4,
 "nbformat_minor": 4
}