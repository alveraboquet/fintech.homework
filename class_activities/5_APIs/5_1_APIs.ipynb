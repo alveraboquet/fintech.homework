{
 "metadata": {
  "language_info": {
   "codemirror_mode": {
    "name": "ipython",
    "version": 3
   },
   "file_extension": ".py",
   "mimetype": "text/x-python",
   "name": "python",
   "nbconvert_exporter": "python",
   "pygments_lexer": "ipython3",
   "version": "3.8.3-final"
  },
  "orig_nbformat": 2,
  "kernelspec": {
   "name": "python3",
   "display_name": "Python 3",
   "language": "python"
  }
 },
 "nbformat": 4,
 "nbformat_minor": 2,
 "cells": [
  {
   "cell_type": "code",
   "execution_count": 7,
   "metadata": {},
   "outputs": [],
   "source": [
    "import requests\n",
    "import json"
   ]
  },
  {
   "cell_type": "code",
   "execution_count": 16,
   "metadata": {},
   "outputs": [
    {
     "output_type": "stream",
     "name": "stdout",
     "text": [
      "b'[{\"id\":15,\"type\":\"programming\",\"setup\":\"What\\'s the best thing about a Boolean?\",\"punchline\":\"Even if you\\'re wrong, you\\'re only off by a bit.\"}]'\n"
     ]
    }
   ],
   "source": [
    "url = \"https://official-joke-api.appspot.com/jokes/programming/random\"\n",
    "response = requests.get(url)\n",
    "response_content = response.content\n",
    "print(response_content)"
   ]
  },
  {
   "cell_type": "code",
   "execution_count": 17,
   "metadata": {},
   "outputs": [
    {
     "output_type": "stream",
     "name": "stdout",
     "text": [
      "[\n    {\n        \"id\": 15,\n        \"type\": \"programming\",\n        \"setup\": \"What's the best thing about a Boolean?\",\n        \"punchline\": \"Even if you're wrong, you're only off by a bit.\"\n    }\n]\n"
     ]
    }
   ],
   "source": [
    "data = response.json()\n",
    "print(json.dumps(data, indent=4))"
   ]
  },
  {
   "cell_type": "code",
   "execution_count": 23,
   "metadata": {},
   "outputs": [
    {
     "output_type": "stream",
     "name": "stdout",
     "text": [
      "\nSetup: What's the best thing about a Boolean?\nPunchline: Even if you're wrong, you're only off by a bit.\n"
     ]
    }
   ],
   "source": [
    "setup = data[0][\"setup\"]\n",
    "punchline = data[0][\"punchline\"]\n",
    "print(f'\\nSetup: {setup}\\nPunchline: {punchline}')"
   ]
  },
  {
   "cell_type": "code",
   "execution_count": 30,
   "metadata": {},
   "outputs": [
    {
     "output_type": "stream",
     "name": "stdout",
     "text": [
      "b'[{\"id\":73,\"type\":\"programming\",\"setup\":\"The punchline often arrives before the set-up.\",\"punchline\":\"Do you know the problem with UDP jokes?\"}]'\n"
     ]
    }
   ],
   "source": [
    "url2 = \"http://api.worldbank.org/v2/country/us?format=json\"\n",
    "response2 = requests.get(url2)\n",
    "response_content2 = response.content\n",
    "print(response_content2)"
   ]
  },
  {
   "cell_type": "code",
   "execution_count": 31,
   "metadata": {},
   "outputs": [
    {
     "output_type": "stream",
     "name": "stdout",
     "text": [
      "[\n    {\n        \"page\": 1,\n        \"pages\": 1,\n        \"per_page\": \"50\",\n        \"total\": 1\n    },\n    [\n        {\n            \"id\": \"USA\",\n            \"iso2Code\": \"US\",\n            \"name\": \"United States\",\n            \"region\": {\n                \"id\": \"NAC\",\n                \"iso2code\": \"XU\",\n                \"value\": \"North America\"\n            },\n            \"adminregion\": {\n                \"id\": \"\",\n                \"iso2code\": \"\",\n                \"value\": \"\"\n            },\n            \"incomeLevel\": {\n                \"id\": \"HIC\",\n                \"iso2code\": \"XD\",\n                \"value\": \"High income\"\n            },\n            \"lendingType\": {\n                \"id\": \"LNX\",\n                \"iso2code\": \"XX\",\n                \"value\": \"Not classified\"\n            },\n            \"capitalCity\": \"Washington D.C.\",\n            \"longitude\": \"-77.032\",\n            \"latitude\": \"38.8895\"\n        }\n    ]\n]\n"
     ]
    }
   ],
   "source": [
    "data2 = response2.json()\n",
    "print(json.dumps(data2, indent=4))"
   ]
  },
  {
   "source": [
    "## House of Requests\n"
   ],
   "cell_type": "markdown",
   "metadata": {}
  },
  {
   "cell_type": "code",
   "execution_count": 36,
   "metadata": {},
   "outputs": [
    {
     "output_type": "execute_result",
     "data": {
      "text/plain": [
       "{'success': True,\n",
       " 'deck_id': '1n44z65b5ces',\n",
       " 'remaining': 312,\n",
       " 'shuffled': True}"
      ]
     },
     "metadata": {},
     "execution_count": 36
    }
   ],
   "source": [
    "deck_url = 'https://deckofcardsapi.com/api/deck/new/shuffle/?deck_count=6'\n",
    "deck_response = requests.get(deck_url)\n",
    "deck_response_content = deck_response.content\n",
    "deck_data = deck_response.json()\n",
    "deck_data"
   ]
  },
  {
   "cell_type": "code",
   "execution_count": 38,
   "metadata": {},
   "outputs": [
    {
     "output_type": "execute_result",
     "data": {
      "text/plain": [
       "'1n44z65b5ces'"
      ]
     },
     "metadata": {},
     "execution_count": 38
    }
   ],
   "source": [
    "deck_id = deck_data['deck_id']\n",
    "deck_id"
   ]
  },
  {
   "cell_type": "code",
   "execution_count": 59,
   "metadata": {},
   "outputs": [],
   "source": [
    "def getCardValue(input, current_total):\n",
    "    if input == 'JACK' or input == 'QUEEN' or input == 'KING':\n",
    "        return 10\n",
    "    elif input == 'ACE':\n",
    "        if current_total + 11 <= 21:\n",
    "            return 11\n",
    "        else:\n",
    "            return 1\n",
    "    else:\n",
    "        return int(input)"
   ]
  },
  {
   "cell_type": "code",
   "execution_count": 64,
   "metadata": {},
   "outputs": [
    {
     "output_type": "execute_result",
     "data": {
      "text/plain": [
       "{'success': True,\n",
       " 'deck_id': '1n44z65b5ces',\n",
       " 'cards': [{'code': '6D',\n",
       "   'image': 'https://deckofcardsapi.com/static/img/6D.png',\n",
       "   'images': {'svg': 'https://deckofcardsapi.com/static/img/6D.svg',\n",
       "    'png': 'https://deckofcardsapi.com/static/img/6D.png'},\n",
       "   'value': '6',\n",
       "   'suit': 'DIAMONDS'},\n",
       "  {'code': '5D',\n",
       "   'image': 'https://deckofcardsapi.com/static/img/5D.png',\n",
       "   'images': {'svg': 'https://deckofcardsapi.com/static/img/5D.svg',\n",
       "    'png': 'https://deckofcardsapi.com/static/img/5D.png'},\n",
       "   'value': '5',\n",
       "   'suit': 'DIAMONDS'}],\n",
       " 'remaining': 307}"
      ]
     },
     "metadata": {},
     "execution_count": 64
    }
   ],
   "source": [
    "# Player 1 Turn\n",
    "draw_cards_url = f'https://deckofcardsapi.com/api/deck/{deck_id}/draw/?count=2'\n",
    "draw_response = requests.get(draw_cards_url)\n",
    "draw_data = draw_response.json()\n",
    "draw_data"
   ]
  },
  {
   "cell_type": "code",
   "execution_count": 65,
   "metadata": {},
   "outputs": [
    {
     "output_type": "execute_result",
     "data": {
      "text/plain": [
       "{'suit': 'DIAMONDS', 'value': '6'}"
      ]
     },
     "metadata": {},
     "execution_count": 65
    }
   ],
   "source": [
    "player_1_card_1 = { \"suit\": draw_data['cards'][0]['suit'], \"value\": draw_data['cards'][0]['value']}\n",
    "player_1_card_1"
   ]
  },
  {
   "cell_type": "code",
   "execution_count": 66,
   "metadata": {},
   "outputs": [
    {
     "output_type": "execute_result",
     "data": {
      "text/plain": [
       "{'suit': 'DIAMONDS', 'value': '5'}"
      ]
     },
     "metadata": {},
     "execution_count": 66
    }
   ],
   "source": [
    "player_1_card_2 = { \"suit\": draw_data['cards'][1]['suit'], \"value\": draw_data['cards'][1]['value']}\n",
    "player_1_card_2"
   ]
  },
  {
   "cell_type": "code",
   "execution_count": 67,
   "metadata": {},
   "outputs": [
    {
     "output_type": "execute_result",
     "data": {
      "text/plain": [
       "11"
      ]
     },
     "metadata": {},
     "execution_count": 67
    }
   ],
   "source": [
    "sum = getCardValue(player_1_card_1['value'], 0) + getCardValue(player_1_card_2['value'], 0)\n",
    "sum"
   ]
  },
  {
   "cell_type": "code",
   "execution_count": 68,
   "metadata": {},
   "outputs": [
    {
     "output_type": "execute_result",
     "data": {
      "text/plain": [
       "{'success': True,\n",
       " 'deck_id': '1n44z65b5ces',\n",
       " 'cards': [{'code': '8C',\n",
       "   'image': 'https://deckofcardsapi.com/static/img/8C.png',\n",
       "   'images': {'svg': 'https://deckofcardsapi.com/static/img/8C.svg',\n",
       "    'png': 'https://deckofcardsapi.com/static/img/8C.png'},\n",
       "   'value': '8',\n",
       "   'suit': 'CLUBS'}],\n",
       " 'remaining': 306}"
      ]
     },
     "metadata": {},
     "execution_count": 68
    }
   ],
   "source": [
    "# Get another card\n",
    "draw_cards_url = f'https://deckofcardsapi.com/api/deck/{deck_id}/draw/?count=1'\n",
    "draw_response = requests.get(draw_cards_url)\n",
    "draw_data = draw_response.json()\n",
    "draw_data"
   ]
  },
  {
   "cell_type": "code",
   "execution_count": 69,
   "metadata": {},
   "outputs": [
    {
     "output_type": "execute_result",
     "data": {
      "text/plain": [
       "{'suit': 'CLUBS', 'value': '8'}"
      ]
     },
     "metadata": {},
     "execution_count": 69
    }
   ],
   "source": [
    "player_1_card_3 = { \"suit\": draw_data['cards'][0]['suit'], \"value\": draw_data['cards'][0]['value']}\n",
    "player_1_card_3"
   ]
  },
  {
   "cell_type": "code",
   "execution_count": 70,
   "metadata": {},
   "outputs": [
    {
     "output_type": "execute_result",
     "data": {
      "text/plain": [
       "19"
      ]
     },
     "metadata": {},
     "execution_count": 70
    }
   ],
   "source": [
    "sum += getCardValue(player_1_card_3['value'], sum)\n",
    "sum"
   ]
  },
  {
   "cell_type": "code",
   "execution_count": 71,
   "metadata": {},
   "outputs": [
    {
     "output_type": "execute_result",
     "data": {
      "text/plain": [
       "{'success': True,\n",
       " 'deck_id': '1n44z65b5ces',\n",
       " 'cards': [{'code': '9D',\n",
       "   'image': 'https://deckofcardsapi.com/static/img/9D.png',\n",
       "   'images': {'svg': 'https://deckofcardsapi.com/static/img/9D.svg',\n",
       "    'png': 'https://deckofcardsapi.com/static/img/9D.png'},\n",
       "   'value': '9',\n",
       "   'suit': 'DIAMONDS'},\n",
       "  {'code': '4C',\n",
       "   'image': 'https://deckofcardsapi.com/static/img/4C.png',\n",
       "   'images': {'svg': 'https://deckofcardsapi.com/static/img/4C.svg',\n",
       "    'png': 'https://deckofcardsapi.com/static/img/4C.png'},\n",
       "   'value': '4',\n",
       "   'suit': 'CLUBS'}],\n",
       " 'remaining': 304}"
      ]
     },
     "metadata": {},
     "execution_count": 71
    }
   ],
   "source": [
    "# Player 2 Turn\n",
    "draw_cards_url = f'https://deckofcardsapi.com/api/deck/{deck_id}/draw/?count=2'\n",
    "draw_response = requests.get(draw_cards_url)\n",
    "draw_data = draw_response.json()\n",
    "draw_data"
   ]
  },
  {
   "cell_type": "code",
   "execution_count": 72,
   "metadata": {},
   "outputs": [
    {
     "output_type": "execute_result",
     "data": {
      "text/plain": [
       "{'suit': 'DIAMONDS', 'value': '9'}"
      ]
     },
     "metadata": {},
     "execution_count": 72
    }
   ],
   "source": [
    "player_2_card_1 = { \"suit\": draw_data['cards'][0]['suit'], \"value\": draw_data['cards'][0]['value']}\n",
    "player_2_card_1"
   ]
  },
  {
   "cell_type": "code",
   "execution_count": 73,
   "metadata": {},
   "outputs": [
    {
     "output_type": "execute_result",
     "data": {
      "text/plain": [
       "{'suit': 'CLUBS', 'value': '4'}"
      ]
     },
     "metadata": {},
     "execution_count": 73
    }
   ],
   "source": [
    "player_2_card_2 = { \"suit\": draw_data['cards'][1]['suit'], \"value\": draw_data['cards'][1]['value']}\n",
    "player_2_card_2"
   ]
  },
  {
   "cell_type": "code",
   "execution_count": 74,
   "metadata": {},
   "outputs": [
    {
     "output_type": "execute_result",
     "data": {
      "text/plain": [
       "13"
      ]
     },
     "metadata": {},
     "execution_count": 74
    }
   ],
   "source": [
    "p2_sum = getCardValue(player_2_card_1['value'], 0) + getCardValue(player_2_card_2['value'], 0)\n",
    "p2_sum"
   ]
  },
  {
   "cell_type": "code",
   "execution_count": 75,
   "metadata": {},
   "outputs": [
    {
     "output_type": "execute_result",
     "data": {
      "text/plain": [
       "{'success': True,\n",
       " 'deck_id': '1n44z65b5ces',\n",
       " 'cards': [{'code': 'KD',\n",
       "   'image': 'https://deckofcardsapi.com/static/img/KD.png',\n",
       "   'images': {'svg': 'https://deckofcardsapi.com/static/img/KD.svg',\n",
       "    'png': 'https://deckofcardsapi.com/static/img/KD.png'},\n",
       "   'value': 'KING',\n",
       "   'suit': 'DIAMONDS'}],\n",
       " 'remaining': 303}"
      ]
     },
     "metadata": {},
     "execution_count": 75
    }
   ],
   "source": [
    "# Get another card\n",
    "draw_cards_url = f'https://deckofcardsapi.com/api/deck/{deck_id}/draw/?count=1'\n",
    "draw_response = requests.get(draw_cards_url)\n",
    "draw_data = draw_response.json()\n",
    "draw_data"
   ]
  },
  {
   "cell_type": "code",
   "execution_count": 76,
   "metadata": {},
   "outputs": [
    {
     "output_type": "execute_result",
     "data": {
      "text/plain": [
       "{'suit': 'DIAMONDS', 'value': 'KING'}"
      ]
     },
     "metadata": {},
     "execution_count": 76
    }
   ],
   "source": [
    "player_2_card_3 = { \"suit\": draw_data['cards'][0]['suit'], \"value\": draw_data['cards'][0]['value']}\n",
    "player_2_card_3"
   ]
  },
  {
   "cell_type": "code",
   "execution_count": 77,
   "metadata": {},
   "outputs": [
    {
     "output_type": "execute_result",
     "data": {
      "text/plain": [
       "23"
      ]
     },
     "metadata": {},
     "execution_count": 77
    }
   ],
   "source": [
    "p2_sum += getCardValue(player_2_card_3['value'], sum)\n",
    "p2_sum"
   ]
  },
  {
   "cell_type": "code",
   "execution_count": null,
   "metadata": {},
   "outputs": [],
   "source": [
    "# p2 bust, p1 wins!"
   ]
  }
 ]
}