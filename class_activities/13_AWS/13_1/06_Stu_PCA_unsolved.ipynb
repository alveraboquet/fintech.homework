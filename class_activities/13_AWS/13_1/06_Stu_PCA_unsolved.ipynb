{
 "cells": [
  {
   "cell_type": "markdown",
   "metadata": {},
   "source": [
    "# Students Do: PCA in Action\n",
    "\n",
    "In this activity, you will use PCA to reduce the dimensions of the consumers shopping dataset from `4` to `2` features. After applying PCA, you will use the principal components data, to fit a K-Means model with `k=6` and make some conclusions."
   ]
  },
  {
   "cell_type": "code",
   "execution_count": 54,
   "metadata": {},
   "outputs": [],
   "source": [
    "# Initial imports\n",
    "import pandas as pd\n",
    "from pathlib import Path\n",
    "from sklearn.preprocessing import StandardScaler\n",
    "from sklearn.decomposition import PCA\n",
    "from sklearn.cluster import KMeans\n",
    "import plotly.express as px\n",
    "import hvplot.pandas"
   ]
  },
  {
   "cell_type": "markdown",
   "metadata": {},
   "source": [
    "## Instructions\n",
    "\n",
    "1. Import the preprocessed data from the customers shopping dataset into a DataFrame called `df_shopping`."
   ]
  },
  {
   "cell_type": "code",
   "execution_count": 55,
   "metadata": {},
   "outputs": [
    {
     "output_type": "execute_result",
     "data": {
      "text/plain": [
       "   Gender  Age  Annual Income  Spending Score (1-100)\n",
       "0       1   19           15.0                      39\n",
       "1       1   21           15.0                      81\n",
       "2       0   20           16.0                       6\n",
       "3       0   23           16.0                      77\n",
       "4       0   31           17.0                      40"
      ],
      "text/html": "<div>\n<style scoped>\n    .dataframe tbody tr th:only-of-type {\n        vertical-align: middle;\n    }\n\n    .dataframe tbody tr th {\n        vertical-align: top;\n    }\n\n    .dataframe thead th {\n        text-align: right;\n    }\n</style>\n<table border=\"1\" class=\"dataframe\">\n  <thead>\n    <tr style=\"text-align: right;\">\n      <th></th>\n      <th>Gender</th>\n      <th>Age</th>\n      <th>Annual Income</th>\n      <th>Spending Score (1-100)</th>\n    </tr>\n  </thead>\n  <tbody>\n    <tr>\n      <th>0</th>\n      <td>1</td>\n      <td>19</td>\n      <td>15.0</td>\n      <td>39</td>\n    </tr>\n    <tr>\n      <th>1</th>\n      <td>1</td>\n      <td>21</td>\n      <td>15.0</td>\n      <td>81</td>\n    </tr>\n    <tr>\n      <th>2</th>\n      <td>0</td>\n      <td>20</td>\n      <td>16.0</td>\n      <td>6</td>\n    </tr>\n    <tr>\n      <th>3</th>\n      <td>0</td>\n      <td>23</td>\n      <td>16.0</td>\n      <td>77</td>\n    </tr>\n    <tr>\n      <th>4</th>\n      <td>0</td>\n      <td>31</td>\n      <td>17.0</td>\n      <td>40</td>\n    </tr>\n  </tbody>\n</table>\n</div>"
     },
     "metadata": {},
     "execution_count": 55
    }
   ],
   "source": [
    "# Import data\n",
    "file_path = Path(\"./Resources/shopping_data_cleaned.csv\")\n",
    "df_shopping = pd.read_csv(file_path)\n",
    "df_shopping.head()"
   ]
  },
  {
   "cell_type": "markdown",
   "metadata": {},
   "source": [
    "2. Standardize the data of all the DataFrame features."
   ]
  },
  {
   "cell_type": "code",
   "execution_count": 56,
   "metadata": {},
   "outputs": [
    {
     "output_type": "execute_result",
     "data": {
      "text/plain": [
       "array([[ 1.12815215, -1.42456879, -1.73899919, -0.43480148],\n",
       "       [ 1.12815215, -1.28103541, -1.73899919,  1.19570407],\n",
       "       [-0.88640526, -1.3528021 , -1.70082976, -1.71591298]])"
      ]
     },
     "metadata": {},
     "execution_count": 56
    }
   ],
   "source": [
    "# Standardize data\n",
    "shopping_scaled = StandardScaler().fit_transform(df_shopping)\n",
    "shopping_scaled[0:3]"
   ]
  },
  {
   "cell_type": "markdown",
   "metadata": {},
   "source": [
    "3. Apply PCA to reduce dimensions from 4 to 2 and create a DataFrame with the principal components data."
   ]
  },
  {
   "cell_type": "code",
   "execution_count": 57,
   "metadata": {},
   "outputs": [],
   "source": [
    "# Initialize PCA model\n",
    "pca = PCA(n_components=2)\n",
    "\n",
    "# Get two principal components for the data.\n",
    "shopping_pca = pca.fit_transform(shopping_scaled)"
   ]
  },
  {
   "cell_type": "code",
   "execution_count": 58,
   "metadata": {},
   "outputs": [
    {
     "output_type": "execute_result",
     "data": {
      "text/plain": [
       "   principal component 1  principal component 2\n",
       "0              -0.406383              -0.520714\n",
       "1              -1.427673              -0.367310\n",
       "2               0.050761              -1.894068\n",
       "3              -1.694513              -1.631908\n",
       "4              -0.313108              -1.810483"
      ],
      "text/html": "<div>\n<style scoped>\n    .dataframe tbody tr th:only-of-type {\n        vertical-align: middle;\n    }\n\n    .dataframe tbody tr th {\n        vertical-align: top;\n    }\n\n    .dataframe thead th {\n        text-align: right;\n    }\n</style>\n<table border=\"1\" class=\"dataframe\">\n  <thead>\n    <tr style=\"text-align: right;\">\n      <th></th>\n      <th>principal component 1</th>\n      <th>principal component 2</th>\n    </tr>\n  </thead>\n  <tbody>\n    <tr>\n      <th>0</th>\n      <td>-0.406383</td>\n      <td>-0.520714</td>\n    </tr>\n    <tr>\n      <th>1</th>\n      <td>-1.427673</td>\n      <td>-0.367310</td>\n    </tr>\n    <tr>\n      <th>2</th>\n      <td>0.050761</td>\n      <td>-1.894068</td>\n    </tr>\n    <tr>\n      <th>3</th>\n      <td>-1.694513</td>\n      <td>-1.631908</td>\n    </tr>\n    <tr>\n      <th>4</th>\n      <td>-0.313108</td>\n      <td>-1.810483</td>\n    </tr>\n  </tbody>\n</table>\n</div>"
     },
     "metadata": {},
     "execution_count": 58
    }
   ],
   "source": [
    "# Transform PCA data to a DataFrame\n",
    "df_shopping_pca = pd.DataFrame(\n",
    "    data=shopping_pca, \n",
    "    columns=[\"principal component 1\", \"principal component 2\"])\n",
    "    \n",
    "df_shopping_pca.head()"
   ]
  },
  {
   "cell_type": "markdown",
   "metadata": {},
   "source": [
    "4. Fetch the explained variance, analyze its value and answer the following question: Are two principal components the best number of new dimensions?"
   ]
  },
  {
   "cell_type": "code",
   "execution_count": 59,
   "metadata": {},
   "outputs": [],
   "source": [
    "# Fetch the explained variance\n",
    "ratio = pca.explained_variance_ratio_"
   ]
  },
  {
   "cell_type": "markdown",
   "metadata": {},
   "source": [
    "**Write Your Answer Here**\n",
    "\n"
   ]
  },
  {
   "cell_type": "code",
   "execution_count": 60,
   "metadata": {},
   "outputs": [
    {
     "output_type": "stream",
     "name": "stdout",
     "text": [
      "Total for two components: 59.92069019819846%\nWe can do better\n"
     ]
    }
   ],
   "source": [
    "print(f'Total for two components: {(ratio[0] + ratio[1])*100}%')\n",
    "print(f'We can do better')"
   ]
  },
  {
   "cell_type": "markdown",
   "metadata": {},
   "source": [
    "5. If you conclude that two principal components is the appropriate number of new dimensions, proceed to step 6, on the contrary, explore what happens if you modify the number of principal components. Once you finish, write your conclusions."
   ]
  },
  {
   "cell_type": "code",
   "execution_count": 61,
   "metadata": {},
   "outputs": [],
   "source": [
    "# Initialize PCA model\n",
    "pca = PCA(n_components=3)\n",
    "\n",
    "# Get two principal components for the iris data.\n",
    "shopping_pca = pca.fit_transform(shopping_scaled)"
   ]
  },
  {
   "cell_type": "code",
   "execution_count": 62,
   "metadata": {},
   "outputs": [
    {
     "output_type": "execute_result",
     "data": {
      "text/plain": [
       "   principal component 1  principal component 2  principal component 3\n",
       "0              -0.406383              -0.520714              -2.072527\n",
       "1              -1.427673              -0.367310              -2.277644\n",
       "2               0.050761              -1.894068              -0.367375\n",
       "3              -1.694513              -1.631908              -0.717467\n",
       "4              -0.313108              -1.810483              -0.426460"
      ],
      "text/html": "<div>\n<style scoped>\n    .dataframe tbody tr th:only-of-type {\n        vertical-align: middle;\n    }\n\n    .dataframe tbody tr th {\n        vertical-align: top;\n    }\n\n    .dataframe thead th {\n        text-align: right;\n    }\n</style>\n<table border=\"1\" class=\"dataframe\">\n  <thead>\n    <tr style=\"text-align: right;\">\n      <th></th>\n      <th>principal component 1</th>\n      <th>principal component 2</th>\n      <th>principal component 3</th>\n    </tr>\n  </thead>\n  <tbody>\n    <tr>\n      <th>0</th>\n      <td>-0.406383</td>\n      <td>-0.520714</td>\n      <td>-2.072527</td>\n    </tr>\n    <tr>\n      <th>1</th>\n      <td>-1.427673</td>\n      <td>-0.367310</td>\n      <td>-2.277644</td>\n    </tr>\n    <tr>\n      <th>2</th>\n      <td>0.050761</td>\n      <td>-1.894068</td>\n      <td>-0.367375</td>\n    </tr>\n    <tr>\n      <th>3</th>\n      <td>-1.694513</td>\n      <td>-1.631908</td>\n      <td>-0.717467</td>\n    </tr>\n    <tr>\n      <th>4</th>\n      <td>-0.313108</td>\n      <td>-1.810483</td>\n      <td>-0.426460</td>\n    </tr>\n  </tbody>\n</table>\n</div>"
     },
     "metadata": {},
     "execution_count": 62
    }
   ],
   "source": [
    "# Transform PCA data to a DataFrame\n",
    "df_shopping_pca = pd.DataFrame(\n",
    "    shopping_pca,\n",
    "    columns=[\"principal component 1\", \"principal component 2\", \"principal component 3\"])\n",
    "df_shopping_pca.head()"
   ]
  },
  {
   "cell_type": "code",
   "execution_count": 63,
   "metadata": {},
   "outputs": [],
   "source": [
    "# Fetch the explained variance\n",
    "ratio = pca.explained_variance_ratio_"
   ]
  },
  {
   "cell_type": "markdown",
   "metadata": {},
   "source": [
    "**Write Your Conclusions Here**\n",
    "\n"
   ]
  },
  {
   "cell_type": "code",
   "execution_count": 64,
   "metadata": {},
   "outputs": [
    {
     "output_type": "stream",
     "name": "stdout",
     "text": [
      "Total for two components: 83.18132878845951%\nImproved accuracy with three attributes\n"
     ]
    }
   ],
   "source": [
    "print(f'Total for two components: {(ratio[0] + ratio[1] + ratio[2])*100}%')\n",
    "print(f'Improved accuracy with three attributes')"
   ]
  },
  {
   "cell_type": "markdown",
   "metadata": {},
   "source": [
    "6. Fit the K-Means algorithm with `k=6` and the principal components data."
   ]
  },
  {
   "cell_type": "code",
   "execution_count": 65,
   "metadata": {},
   "outputs": [],
   "source": [
    "def getInertiaPlot(data):\n",
    "    inertia = []\n",
    "    k = list(range(1, 11))\n",
    "\n",
    "    # Calculate the inertia for the range of k values\n",
    "    for i in k:\n",
    "        km = KMeans(n_clusters=i, random_state=0)\n",
    "        km.fit(data)\n",
    "        inertia.append(km.inertia_)\n",
    "\n",
    "    # Create the Elbow Curve using hvPlot\n",
    "    elbow_data = {\"k\": k, \"inertia\": inertia}\n",
    "    df_elbow = pd.DataFrame(elbow_data)\n",
    "    fig = df_elbow.hvplot.line(x=\"k\", y=\"inertia\", title=\"Elbow Curve\", xticks=k)\n",
    "    return fig"
   ]
  },
  {
   "cell_type": "code",
   "execution_count": 66,
   "metadata": {},
   "outputs": [
    {
     "output_type": "display_data",
     "data": {},
     "metadata": {}
    },
    {
     "output_type": "execute_result",
     "data": {
      "text/html": "<div id='1102'>\n\n\n\n\n\n  <div class=\"bk-root\" id=\"acf4f239-b782-48ea-b9f8-12bd45a07dc7\" data-root-id=\"1102\"></div>\n</div>\n<script type=\"application/javascript\">(function(root) {\n  function embed_document(root) {\n    var docs_json = {\"46fa8480-23f3-46f8-b0fe-f9ff856b47c9\":{\"roots\":{\"references\":[{\"attributes\":{\"ticks\":[1,2,3,4,5,6,7,8,9,10]},\"id\":\"1145\",\"type\":\"FixedTicker\"},{\"attributes\":{},\"id\":\"1114\",\"type\":\"LinearScale\"},{\"attributes\":{\"margin\":[5,5,5,5],\"name\":\"HSpacer01943\",\"sizing_mode\":\"stretch_width\"},\"id\":\"1166\",\"type\":\"Spacer\"},{\"attributes\":{},\"id\":\"1121\",\"type\":\"BasicTicker\"},{\"attributes\":{},\"id\":\"1138\",\"type\":\"Selection\"},{\"attributes\":{\"line_alpha\":0.1,\"line_color\":\"#1f77b3\",\"line_width\":2,\"x\":{\"field\":\"k\"},\"y\":{\"field\":\"inertia\"}},\"id\":\"1141\",\"type\":\"Line\"},{\"attributes\":{},\"id\":\"1124\",\"type\":\"SaveTool\"},{\"attributes\":{\"below\":[{\"id\":\"1116\"}],\"center\":[{\"id\":\"1119\"},{\"id\":\"1123\"}],\"left\":[{\"id\":\"1120\"}],\"margin\":[5,5,5,5],\"min_border_bottom\":10,\"min_border_left\":10,\"min_border_right\":10,\"min_border_top\":10,\"plot_height\":300,\"plot_width\":700,\"renderers\":[{\"id\":\"1143\"}],\"sizing_mode\":\"fixed\",\"title\":{\"id\":\"1108\"},\"toolbar\":{\"id\":\"1130\"},\"x_range\":{\"id\":\"1104\"},\"x_scale\":{\"id\":\"1112\"},\"y_range\":{\"id\":\"1105\"},\"y_scale\":{\"id\":\"1114\"}},\"id\":\"1107\",\"subtype\":\"Figure\",\"type\":\"Plot\"},{\"attributes\":{\"axis\":{\"id\":\"1120\"},\"dimension\":1,\"grid_line_color\":null,\"ticker\":null},\"id\":\"1123\",\"type\":\"Grid\"},{\"attributes\":{\"text\":\"Elbow Curve\",\"text_color\":{\"value\":\"black\"},\"text_font_size\":{\"value\":\"12pt\"}},\"id\":\"1108\",\"type\":\"Title\"},{\"attributes\":{\"overlay\":{\"id\":\"1129\"}},\"id\":\"1127\",\"type\":\"BoxZoomTool\"},{\"attributes\":{},\"id\":\"1146\",\"type\":\"BasicTickFormatter\"},{\"attributes\":{\"bottom_units\":\"screen\",\"fill_alpha\":0.5,\"fill_color\":\"lightgrey\",\"left_units\":\"screen\",\"level\":\"overlay\",\"line_alpha\":1.0,\"line_color\":\"black\",\"line_dash\":[4,4],\"line_width\":2,\"right_units\":\"screen\",\"top_units\":\"screen\"},\"id\":\"1129\",\"type\":\"BoxAnnotation\"},{\"attributes\":{\"data\":{\"inertia\":{\"__ndarray__\":\"bRAQ5JrLhEDlhK6+PWR8QArWxzMwb3VA+5nQ5yyTb0Ba+ejRYwZqQPDmot4zv2VAlebGlWL4YUDWJbjK9+1dQJomCzMDdFpAFkDmtXPlV0A=\",\"dtype\":\"float64\",\"order\":\"little\",\"shape\":[10]},\"k\":[1,2,3,4,5,6,7,8,9,10]},\"selected\":{\"id\":\"1138\"},\"selection_policy\":{\"id\":\"1156\"}},\"id\":\"1137\",\"type\":\"ColumnDataSource\"},{\"attributes\":{\"end\":722.4371745973262,\"reset_end\":722.4371745973262,\"reset_start\":38.59864312151823,\"start\":38.59864312151823,\"tags\":[[[\"inertia\",\"inertia\",null]]]},\"id\":\"1105\",\"type\":\"Range1d\"},{\"attributes\":{},\"id\":\"1128\",\"type\":\"ResetTool\"},{\"attributes\":{\"active_drag\":\"auto\",\"active_inspect\":\"auto\",\"active_multi\":null,\"active_scroll\":\"auto\",\"active_tap\":\"auto\",\"tools\":[{\"id\":\"1106\"},{\"id\":\"1124\"},{\"id\":\"1125\"},{\"id\":\"1126\"},{\"id\":\"1127\"},{\"id\":\"1128\"}]},\"id\":\"1130\",\"type\":\"Toolbar\"},{\"attributes\":{\"callback\":null,\"renderers\":[{\"id\":\"1143\"}],\"tags\":[\"hv_created\"],\"tooltips\":[[\"k\",\"@{k}\"],[\"inertia\",\"@{inertia}\"]]},\"id\":\"1106\",\"type\":\"HoverTool\"},{\"attributes\":{},\"id\":\"1125\",\"type\":\"PanTool\"},{\"attributes\":{},\"id\":\"1156\",\"type\":\"UnionRenderers\"},{\"attributes\":{\"axis\":{\"id\":\"1116\"},\"grid_line_color\":null,\"ticker\":null},\"id\":\"1119\",\"type\":\"Grid\"},{\"attributes\":{\"line_alpha\":0.2,\"line_color\":\"#1f77b3\",\"line_width\":2,\"x\":{\"field\":\"k\"},\"y\":{\"field\":\"inertia\"}},\"id\":\"1142\",\"type\":\"Line\"},{\"attributes\":{\"end\":10.0,\"reset_end\":10.0,\"reset_start\":1.0,\"start\":1.0,\"tags\":[[[\"k\",\"k\",null]]]},\"id\":\"1104\",\"type\":\"Range1d\"},{\"attributes\":{\"margin\":[5,5,5,5],\"name\":\"HSpacer01942\",\"sizing_mode\":\"stretch_width\"},\"id\":\"1103\",\"type\":\"Spacer\"},{\"attributes\":{\"line_color\":\"#1f77b3\",\"line_width\":2,\"x\":{\"field\":\"k\"},\"y\":{\"field\":\"inertia\"}},\"id\":\"1140\",\"type\":\"Line\"},{\"attributes\":{\"children\":[{\"id\":\"1103\"},{\"id\":\"1107\"},{\"id\":\"1166\"}],\"margin\":[0,0,0,0],\"name\":\"Row01938\",\"tags\":[\"embedded\"]},\"id\":\"1102\",\"type\":\"Row\"},{\"attributes\":{},\"id\":\"1126\",\"type\":\"WheelZoomTool\"},{\"attributes\":{\"data_source\":{\"id\":\"1137\"},\"glyph\":{\"id\":\"1140\"},\"hover_glyph\":null,\"muted_glyph\":{\"id\":\"1142\"},\"nonselection_glyph\":{\"id\":\"1141\"},\"selection_glyph\":null,\"view\":{\"id\":\"1144\"}},\"id\":\"1143\",\"type\":\"GlyphRenderer\"},{\"attributes\":{},\"id\":\"1112\",\"type\":\"LinearScale\"},{\"attributes\":{\"source\":{\"id\":\"1137\"}},\"id\":\"1144\",\"type\":\"CDSView\"},{\"attributes\":{},\"id\":\"1150\",\"type\":\"BasicTickFormatter\"},{\"attributes\":{\"axis_label\":\"inertia\",\"bounds\":\"auto\",\"formatter\":{\"id\":\"1150\"},\"major_label_orientation\":\"horizontal\",\"ticker\":{\"id\":\"1121\"}},\"id\":\"1120\",\"type\":\"LinearAxis\"},{\"attributes\":{\"axis_label\":\"k\",\"bounds\":\"auto\",\"formatter\":{\"id\":\"1146\"},\"major_label_orientation\":\"horizontal\",\"ticker\":{\"id\":\"1145\"}},\"id\":\"1116\",\"type\":\"LinearAxis\"}],\"root_ids\":[\"1102\"]},\"title\":\"Bokeh Application\",\"version\":\"2.2.3\"}};\n    var render_items = [{\"docid\":\"46fa8480-23f3-46f8-b0fe-f9ff856b47c9\",\"root_ids\":[\"1102\"],\"roots\":{\"1102\":\"acf4f239-b782-48ea-b9f8-12bd45a07dc7\"}}];\n    root.Bokeh.embed.embed_items_notebook(docs_json, render_items);\n  }\n  if (root.Bokeh !== undefined && root.Bokeh.Panel !== undefined) {\n    embed_document(root);\n  } else {\n    var attempts = 0;\n    var timer = setInterval(function(root) {\n      if (root.Bokeh !== undefined && root.Bokeh.Panel !== undefined) {\n        clearInterval(timer);\n        embed_document(root);\n      } else if (document.readyState == \"complete\") {\n        attempts++;\n        if (attempts > 100) {\n          clearInterval(timer);\n          console.log(\"Bokeh: ERROR: Unable to run BokehJS code because BokehJS library is missing\");\n        }\n      }\n    }, 10, root)\n  }\n})(window);</script>",
      "application/vnd.holoviews_exec.v0+json": "",
      "text/plain": [
       ":Curve   [k]   (inertia)"
      ]
     },
     "metadata": {
      "application/vnd.holoviews_exec.v0+json": {
       "id": "1102"
      }
     },
     "execution_count": 66
    }
   ],
   "source": [
    "fig = getInertiaPlot(df_shopping_pca)\n",
    "fig"
   ]
  },
  {
   "cell_type": "code",
   "execution_count": 67,
   "metadata": {},
   "outputs": [
    {
     "output_type": "execute_result",
     "data": {
      "text/plain": [
       "   principal component 1  principal component 2  principal component 3  class\n",
       "0              -0.406383              -0.520714              -2.072527      3\n",
       "1              -1.427673              -0.367310              -2.277644      3\n",
       "2               0.050761              -1.894068              -0.367375      2\n",
       "3              -1.694513              -1.631908              -0.717467      3\n",
       "4              -0.313108              -1.810483              -0.426460      2"
      ],
      "text/html": "<div>\n<style scoped>\n    .dataframe tbody tr th:only-of-type {\n        vertical-align: middle;\n    }\n\n    .dataframe tbody tr th {\n        vertical-align: top;\n    }\n\n    .dataframe thead th {\n        text-align: right;\n    }\n</style>\n<table border=\"1\" class=\"dataframe\">\n  <thead>\n    <tr style=\"text-align: right;\">\n      <th></th>\n      <th>principal component 1</th>\n      <th>principal component 2</th>\n      <th>principal component 3</th>\n      <th>class</th>\n    </tr>\n  </thead>\n  <tbody>\n    <tr>\n      <th>0</th>\n      <td>-0.406383</td>\n      <td>-0.520714</td>\n      <td>-2.072527</td>\n      <td>3</td>\n    </tr>\n    <tr>\n      <th>1</th>\n      <td>-1.427673</td>\n      <td>-0.367310</td>\n      <td>-2.277644</td>\n      <td>3</td>\n    </tr>\n    <tr>\n      <th>2</th>\n      <td>0.050761</td>\n      <td>-1.894068</td>\n      <td>-0.367375</td>\n      <td>2</td>\n    </tr>\n    <tr>\n      <th>3</th>\n      <td>-1.694513</td>\n      <td>-1.631908</td>\n      <td>-0.717467</td>\n      <td>3</td>\n    </tr>\n    <tr>\n      <th>4</th>\n      <td>-0.313108</td>\n      <td>-1.810483</td>\n      <td>-0.426460</td>\n      <td>2</td>\n    </tr>\n  </tbody>\n</table>\n</div>"
     },
     "metadata": {},
     "execution_count": 67
    }
   ],
   "source": [
    "# Initialize the K-Means model\n",
    "model = KMeans(n_clusters=6, random_state=0)\n",
    "\n",
    "# Fit the model\n",
    "model.fit(df_shopping_pca)\n",
    "\n",
    "# Predict clusters\n",
    "predictions = model.predict(df_shopping_pca)\n",
    "\n",
    "# Add the predicted class columns\n",
    "df_shopping_pca[\"class\"] = model.labels_\n",
    "df_shopping_pca.head()"
   ]
  },
  {
   "cell_type": "markdown",
   "metadata": {},
   "source": [
    "7. Plot the resulting clusters, use the appropriate scatter plot depending on the number of dimensions you have."
   ]
  },
  {
   "cell_type": "code",
   "execution_count": 68,
   "metadata": {},
   "outputs": [
    {
     "output_type": "display_data",
     "data": {
      "application/vnd.plotly.v1+json": {
       "config": {
        "plotlyServerURL": "https://plot.ly"
       },
       "data": [
        {
         "hovertemplate": "class=%{marker.color}<br>principal component 1=%{x}<br>principal component 2=%{y}<br>principal component 3=%{z}<extra></extra>",
         "legendgroup": "3",
         "marker": {
          "color": [
           3,
           3,
           3,
           3,
           3,
           3,
           3,
           3,
           3,
           3,
           3,
           3,
           3,
           3,
           3,
           3,
           3,
           3,
           3,
           3,
           3,
           3,
           3,
           3
          ],
          "coloraxis": "coloraxis",
          "symbol": "circle"
         },
         "mode": "markers",
         "name": "3",
         "scene": "scene",
         "showlegend": true,
         "type": "scatter3d",
         "x": [
          -0.4063827151579566,
          -1.4276728699542152,
          -1.694513100169418,
          -1.717446272386949,
          -2.1483215883541997,
          -1.2162947672439093,
          -1.6894703776419473,
          -1.6460733883910437,
          -1.3261307015730728,
          -1.0784245398454686,
          -1.6637316850276511,
          -1.0189505128416605,
          -0.7229727219419851,
          -1.062411572539715,
          -0.20618822719626956,
          -1.9642041381454174,
          -1.6898306715897027,
          -1.873296950002156,
          -1.903865569374946,
          -1.2464443678738235,
          -1.7941586766122866,
          -1.5782477713162948,
          -0.8782291512115793,
          -1.3304766384693378
         ],
         "y": [
          -0.5207136347541836,
          -0.36731019850646707,
          -1.6319080463761144,
          -1.5992641803386478,
          -1.5053736875274357,
          -1.616404641306952,
          -1.5454278393385183,
          -1.5225125897317862,
          -0.23671914937156907,
          -0.24471564122901554,
          -1.432597744753726,
          -0.16624751103389862,
          -0.18168701739897908,
          -0.043115061391666314,
          -0.17190696972128797,
          -1.2121199030829253,
          -1.224123212743588,
          0.22485527030599056,
          -1.1044409860268525,
          -1.1742594020487034,
          -1.0042035247144603,
          0.32625267632891863,
          -1.083736530945967,
          -1.0156190695273393
         ],
         "z": [
          -2.0725266304121197,
          -2.2776436915659217,
          -0.7174666909600178,
          -0.6963794225535108,
          -0.758463596173181,
          -0.5557697021592258,
          -0.6550076466978729,
          -0.610409942745012,
          -2.135414569834017,
          -2.059486621813592,
          -0.5514320367125964,
          -1.9789796776369002,
          -1.9017125409802986,
          -1.8932914153746954,
          -1.729251033107369,
          -0.45109723909226224,
          -0.3698673076315062,
          -1.9200835549674988,
          -0.3385779552454499,
          -0.19254558605601396,
          -0.21727554972857668,
          -1.7445427917659528,
          0.002703370079205969,
          -0.07998641537254572
         ]
        },
        {
         "hovertemplate": "class=%{marker.color}<br>principal component 1=%{x}<br>principal component 2=%{y}<br>principal component 3=%{z}<extra></extra>",
         "legendgroup": "2",
         "marker": {
          "color": [
           2,
           2,
           2,
           2,
           2,
           2,
           2,
           2,
           2,
           2,
           2,
           2,
           2,
           2,
           2,
           2,
           2,
           2,
           2,
           2,
           2,
           2,
           2,
           2,
           2,
           2,
           2,
           2,
           2,
           2,
           2,
           2,
           2,
           2,
           2,
           2,
           2,
           2,
           2,
           2,
           2,
           2,
           2,
           2
          ],
          "coloraxis": "coloraxis",
          "symbol": "diamond"
         },
         "mode": "markers",
         "name": "2",
         "scene": "scene",
         "showlegend": true,
         "type": "scatter3d",
         "x": [
          0.05076057064984951,
          -0.31310838264528407,
          0.7908211244257652,
          1.6858225266861928,
          0.016772825250205604,
          1.3589149217937706,
          1.513159311117922,
          0.5888329082822432,
          0.3684264400959591,
          1.2651569258897135,
          0.839344590406612,
          0.3024324438401296,
          1.4938759431071396,
          0.8904217399754479,
          0.21954068055520404,
          -0.7025923326402411,
          -0.4705191605153133,
          -0.3717825125309369,
          0.24970996494043965,
          -0.6924866296286214,
          0.4855172696759464,
          0.4013169164741293,
          1.1371790315325585,
          0.3087196858373401,
          0.0054417123228098175,
          1.2929844217837339,
          -0.4576079371069292,
          0.4160212938629914,
          0.8709062189112116,
          0.6842350851144394,
          0.022783527502133784,
          0.5135971765800998,
          0.31215759494731476,
          0.3824337841231029,
          0.45536766904603254,
          1.1037596043989724,
          0.12122395198590562,
          -0.3270572496078204,
          0.28013108613445065,
          0.3517361231838095,
          -0.03177591786850567,
          0.05769931091423528,
          0.159937938455737,
          0.02086223262735434
         ],
         "y": [
          -1.8940677431734185,
          -1.810482722947553,
          -1.9472711231346216,
          -2.0239447888163222,
          -1.743445722550347,
          -1.8286693574393076,
          -1.7645119588687994,
          -1.625416136717785,
          -1.5630064477055965,
          -1.5812585396653864,
          -1.4879386679529725,
          -1.3196008889709383,
          -1.4701325172117243,
          -1.3499077218383477,
          -1.2199558687981904,
          -1.080856929119269,
          -1.1157739296227107,
          -1.1306568411100715,
          -1.1661164102701538,
          -0.9949473431804712,
          -1.172396362539345,
          -1.130594501169943,
          -1.1540164731713913,
          -1.0292298238810325,
          -0.9542259428324908,
          -1.1482759720309341,
          -0.8843903830616541,
          -0.9868370801359393,
          -1.0263190520842702,
          -0.9982713274617572,
          -0.7818330323281901,
          -0.8556738511382894,
          -0.8253358483008159,
          -0.7485858164579076,
          -0.7302511232810969,
          -0.7989267383413975,
          -0.6214590164695849,
          -0.553913734913709,
          -0.6455014820528351,
          -0.5979591195429755,
          -0.48172555698778313,
          -0.4662564394165915,
          -0.42329307457270005,
          -0.40211150830320896
         ],
         "z": [
          -0.36737523170666203,
          -0.4264599236710288,
          -0.18649159338327792,
          0.016939167337609466,
          -0.26654389324418326,
          0.08740357488137629,
          0.1836559171875877,
          0.009172120231072936,
          -0.004873098042663193,
          0.2625823420184648,
          0.20976294664328088,
          0.1830515855686409,
          0.4146126696736569,
          0.33576501367124084,
          0.22596298908858678,
          0.06636705819984025,
          0.11044321874161944,
          0.1280094620817411,
          0.282222631011993,
          0.1380908807064716,
          0.3526880434006107,
          0.35952965450525,
          0.5631608542542685,
          0.4118663884611575,
          0.3875383076897084,
          0.6177203163218916,
          0.3068299196400341,
          0.4896550685288401,
          0.5912901727935462,
          0.5541762887112256,
          0.5366090405262528,
          0.6300633450501428,
          0.5931100131592973,
          0.6716355599339119,
          0.7159121595038225,
          0.8508589052381693,
          0.7090296567176759,
          0.6281607164765263,
          0.7333976243257809,
          0.7947986974980434,
          0.7791330730418361,
          0.8101820995631055,
          0.8787060013863016,
          0.8634422598312077
         ]
        },
        {
         "hovertemplate": "class=%{marker.color}<br>principal component 1=%{x}<br>principal component 2=%{y}<br>principal component 3=%{z}<extra></extra>",
         "legendgroup": "0",
         "marker": {
          "color": [
           0,
           0,
           0,
           0,
           0,
           0,
           0,
           0,
           0,
           0,
           0,
           0,
           0,
           0,
           0,
           0,
           0,
           0,
           0,
           0,
           0,
           0,
           0,
           0,
           0,
           0,
           0,
           0,
           0,
           0,
           0,
           0,
           0,
           0,
           0,
           0,
           0,
           0,
           0,
           0,
           0,
           0,
           0,
           0,
           0
          ],
          "coloraxis": "coloraxis",
          "symbol": "square"
         },
         "mode": "markers",
         "name": "0",
         "scene": "scene",
         "showlegend": true,
         "type": "scatter3d",
         "x": [
          2.774286226088667,
          2.6290508449560184,
          1.17443627696503,
          1.4875878004377272,
          0.4880903105484129,
          2.5475919417038146,
          2.2013172145981375,
          1.099728921816945,
          1.001836557642553,
          0.9160954614703911,
          1.8686299121045251,
          1.078272422122608,
          1.6508608817087032,
          1.4381548317970305,
          1.676831727376453,
          1.3459578368199978,
          0.38129237614031253,
          1.1405519695231805,
          1.9009082577261656,
          0.8295735777340385,
          0.7481787449289861,
          0.9346177256723047,
          1.4190395463925514,
          0.610411629017495,
          1.1236941442060853,
          1.89485259458105,
          1.6627794224561225,
          1.5067418791514933,
          0.8721257089736004,
          2.302034208723258,
          1.7629489304732213,
          0.5362090958896749,
          0.5954509698400294,
          1.0909071057857096,
          1.350512124505411,
          1.480979057802047,
          1.3328740858254824,
          1.4544595776235605,
          1.2192846616012631,
          1.3069869943602057,
          1.189515612875784,
          2.142050063509918,
          2.2169249270629487,
          1.5473086450691247,
          1.0887092711656476
         ],
         "y": [
          -0.8829876717475769,
          -0.8612370431432405,
          -0.612790960539041,
          -0.5726760275517828,
          -0.3929211449929163,
          -0.527913521902615,
          -0.3881956474058455,
          -0.04751483040251392,
          0.08362969608219716,
          0.09679762674525595,
          -0.017671082502631254,
          0.15981066559026028,
          0.07337409597985403,
          0.16384865336354068,
          0.15699496246764433,
          0.3528425737074109,
          0.4982370506405557,
          0.38375275640763634,
          0.26927002093867036,
          0.4306917690846797,
          0.617967591076341,
          0.6191290945508302,
          0.575066566172578,
          0.6969923161491778,
          0.6489260874956163,
          0.5327252536744417,
          0.5676422541778832,
          0.5911109811344281,
          0.920380929616741,
          0.7051540104406664,
          0.7864378437583995,
          1.0297483338189117,
          1.1374256921110308,
          1.0624358372835676,
          1.0527228058378655,
          1.0332624554484897,
          1.0555868226795315,
          1.2411585725400625,
          1.3058585397672116,
          1.3219029547290615,
          1.339648324294135,
          1.2251796150462477,
          1.359777481984362,
          1.6065693649404345,
          2.1133989864408
         ],
         "z": [
          -1.388141124862503,
          -1.4201135776959675,
          -1.653736837721224,
          -1.5331165278069072,
          -1.6896730902036943,
          -1.1583231219844792,
          -1.1460997537661965,
          -1.2122683923896918,
          -1.1446280300420344,
          -1.1492878047164654,
          -0.958000638540549,
          -1.0493937719890494,
          -0.9531005380013308,
          -0.9389356592176267,
          -0.8740933346522907,
          -0.8054497723191263,
          -0.9776310674906133,
          -0.844223949420574,
          -0.7033728983166508,
          -0.8967621272494638,
          -0.7652576377530409,
          -0.7035753470344841,
          -0.6022613471527284,
          -0.7444515868928284,
          -0.6229477375029729,
          -0.48407808380112705,
          -0.5281542443429063,
          -0.5581452997742932,
          -0.4646930049401053,
          -0.19691545565117594,
          -0.2917089488112425,
          -0.4585084868690858,
          -0.35343313605615767,
          -0.27866894021271543,
          -0.19727845656048448,
          -0.16514545153554508,
          -0.1914948165457274,
          -0.011535609379389009,
          -0.025420275461649995,
          0.018695771916785106,
          -0.0005307644424634027,
          0.1907564017334528,
          0.3276835400250263,
          0.33104300805508524,
          0.6225024099701586
         ]
        },
        {
         "hovertemplate": "class=%{marker.color}<br>principal component 1=%{x}<br>principal component 2=%{y}<br>principal component 3=%{z}<extra></extra>",
         "legendgroup": "4",
         "marker": {
          "color": [
           4,
           4,
           4,
           4,
           4,
           4,
           4,
           4,
           4,
           4,
           4,
           4,
           4,
           4,
           4,
           4,
           4,
           4,
           4,
           4,
           4,
           4,
           4,
           4,
           4,
           4,
           4,
           4,
           4,
           4,
           4,
           4,
           4
          ],
          "coloraxis": "coloraxis",
          "symbol": "x"
         },
         "mode": "markers",
         "name": "4",
         "scene": "scene",
         "showlegend": true,
         "type": "scatter3d",
         "x": [
          -0.28150771310088546,
          -0.8402563370647824,
          -0.996758186476319,
          -0.9473898624841308,
          -0.46986798871898344,
          0.09588459435916408,
          -0.5193003831583228,
          -0.5166629453678605,
          -0.6343664799057359,
          -0.49839251797472245,
          -0.6044293485739538,
          -0.47685226407791254,
          -0.8182523512624227,
          -0.8760175526895829,
          -0.44140810411175274,
          -0.3920397801195645,
          -0.6847477445155684,
          0.35327209470348175,
          -1.2185581471846818,
          -1.5231649685727828,
          -1.0405160438763355,
          -0.7403398142591738,
          0.4849835474698582,
          -0.4213248389828153,
          -0.9388057928888915,
          -0.9972033830292619,
          -0.8284024409658716,
          -0.9946300156859507,
          -1.4295356877643852,
          -0.7553848018404693,
          -0.723719161176718,
          0.7670962256094701,
          -1.0650152362020764
         ],
         "y": [
          0.2478983173208868,
          0.4488815211043409,
          0.5307687042548902,
          0.5233272485112097,
          0.6264583378713788,
          0.5411676867504296,
          0.7799474928640234,
          0.8085829823343202,
          0.8555375799963959,
          0.8641389804506121,
          0.9385862666214342,
          1.0067504829951586,
          1.1161100933775623,
          1.1831143650407507,
          1.1178609204637886,
          1.1104194647201082,
          1.2129144755134436,
          1.0864331066756747,
          1.3514692877717707,
          1.455680838153361,
          1.412193607165768,
          1.3669726928409331,
          1.270863614338609,
          1.5817754908393122,
          1.6596231274526274,
          1.6682073841578584,
          1.6722329044740136,
          1.8428905728771197,
          2.0834009448000477,
          2.0405045961881445,
          2.765010382457773,
          2.861930094544693,
          3.1372561632411027
         ],
         "z": [
          -1.3975576000998517,
          -1.3957377597341007,
          -1.3765920018930151,
          -1.3678088802229542,
          -1.1324066715134538,
          -1.0323111949130557,
          -1.0109038269684494,
          -0.991958508155495,
          -0.9866166378785074,
          -0.9411614018638955,
          -0.9057885893188651,
          -0.8148382304529852,
          -0.8458733775513861,
          -0.809161376370179,
          -0.7206879509036702,
          -0.7119048292336093,
          -0.7136459007708996,
          -0.469233119104568,
          -0.7705487563050575,
          -0.7777523634741543,
          -0.6633713427352327,
          -0.6088517675042657,
          -0.27074435544925696,
          -0.3166683734602773,
          -0.41542466142449896,
          -0.4352934065496481,
          -0.3678274758163343,
          -0.28606212152162847,
          -0.21968117413683608,
          -0.034353084434871235,
          0.5831776675092882,
          1.1503412131664519,
          0.7881460462047813
         ]
        },
        {
         "hovertemplate": "class=%{marker.color}<br>principal component 1=%{x}<br>principal component 2=%{y}<br>principal component 3=%{z}<extra></extra>",
         "legendgroup": "1",
         "marker": {
          "color": [
           1,
           1,
           1,
           1,
           1,
           1,
           1,
           1,
           1,
           1,
           1,
           1,
           1,
           1,
           1,
           1,
           1,
           1,
           1,
           1,
           1,
           1,
           1,
           1,
           1,
           1,
           1,
           1,
           1,
           1,
           1,
           1,
           1,
           1,
           1,
           1
          ],
          "coloraxis": "coloraxis",
          "symbol": "cross"
         },
         "mode": "markers",
         "name": "1",
         "scene": "scene",
         "showlegend": true,
         "type": "scatter3d",
         "x": [
          -0.8106544702734039,
          -1.0366522954978954,
          -1.2687254676228235,
          -1.1667189931347757,
          -0.7078677824225225,
          -0.7872373081936436,
          -0.7451691668163107,
          -0.8705731196287974,
          -1.289549578603951,
          -1.1793783797343842,
          -1.1833446653984168,
          -0.3608769124011622,
          -0.42701873330661544,
          -1.312102773118405,
          -0.46208291556969777,
          -1.1525632502566503,
          -1.7048762333723557,
          -0.9822215652229151,
          -0.4749103847756095,
          -1.5308004157280415,
          -1.1843576060160608,
          -0.9417144247726061,
          -1.8314409514521097,
          -1.389995626366332,
          -1.2566591022257805,
          -1.5729326275525253,
          -1.7413333339561592,
          -1.0154088393030472,
          -1.6970920608952718,
          -1.6056555955257503,
          -1.5090083250224564,
          -1.7106800597086946,
          -1.2862606425463143,
          -1.0570570612653023,
          -1.349849354065136,
          -1.1795717394785517
         ],
         "y": [
          -0.8895742893243914,
          -0.6221278237704364,
          -0.5872108232669948,
          -0.515038230326101,
          -0.5550923821371837,
          -0.4846519137695776,
          -0.43252899482979673,
          -0.4136392655392197,
          -0.32146531231626296,
          -0.2796463071978751,
          -0.2790741273351232,
          -0.28645324313867504,
          -0.24693698369237327,
          -0.11414137508744213,
          -0.18336734996964915,
          -0.07976382571273463,
          0.03244421652630272,
          -0.04710437469023594,
          -0.06481389799338509,
          0.09374071578305163,
          0.070861312438244,
          0.06343544167959568,
          0.19738008630189052,
          0.13098072323547158,
          0.11094663421939087,
          0.1876654960922348,
          0.2712692188310397,
          0.2787761320427554,
          0.41044608343512173,
          0.4551275466312221,
          0.7031276880168806,
          0.7626749189513563,
          0.8446104158209553,
          0.8102671539442191,
          1.1458606921229129,
          1.3245678423943756
         ],
         "z": [
          0.19256956425593155,
          0.34868234722524655,
          0.30460618668346723,
          0.3976984951428998,
          0.5011544446182081,
          0.5418292406035701,
          0.6035514181587831,
          0.5806831913783298,
          0.5240615533904662,
          0.596227145634867,
          0.5944063004242648,
          0.8347096145178345,
          0.863722472532651,
          0.6794922407572245,
          0.9039156119435876,
          0.7604409546716862,
          0.6773093994821648,
          0.8394082711840702,
          0.9967267028567258,
          0.7826659678413875,
          0.8761601592019334,
          0.9428233289778714,
          0.777283205882893,
          0.8619543887367218,
          0.8884643059383793,
          0.8512297565012397,
          0.8649129787105188,
          1.1025379155317347,
          0.9947172883511582,
          1.0652225875764318,
          1.3039044906426795,
          1.2915195653880702,
          1.4917494005806715,
          1.5414486489457329,
          1.7231878096411664,
          1.932441092368616
         ]
        },
        {
         "hovertemplate": "class=%{marker.color}<br>principal component 1=%{x}<br>principal component 2=%{y}<br>principal component 3=%{z}<extra></extra>",
         "legendgroup": "5",
         "marker": {
          "color": [
           5,
           5,
           5,
           5,
           5,
           5,
           5,
           5,
           5,
           5,
           5,
           5,
           5,
           5,
           5,
           5,
           5,
           5
          ],
          "coloraxis": "coloraxis",
          "symbol": "circle"
         },
         "mode": "markers",
         "name": "5",
         "scene": "scene",
         "showlegend": true,
         "type": "scatter3d",
         "x": [
          1.1374308683413337,
          1.1755327240546343,
          0.5826485300414694,
          1.1957003175874021,
          1.8903588330351615,
          0.3008467399765979,
          0.8478645895547,
          1.1026387808437061,
          1.0400427519858495,
          0.2641574863393406,
          1.4271607847544416,
          0.17786775565644142,
          0.1882056117215148,
          1.2295390899347083,
          0.7739577057261275,
          0.2683756088121486,
          1.0928883525986561,
          0.6727511283562344
         ],
         "y": [
          -0.6872410034821088,
          -0.6345459046795762,
          -0.48682997956140645,
          -0.40372986168941144,
          -0.45006396576968527,
          -0.12316689671935406,
          -0.20559508976259086,
          -0.24394672820649677,
          -0.20558106354151193,
          0.14486733368238508,
          -0.0010821793645260805,
          0.4495522479248068,
          0.5062526057666024,
          0.4078298702445184,
          0.5349395264838558,
          0.6110706235089158,
          0.9828408518675934,
          1.221060945575561
         ],
         "z": [
          0.9580762056446505,
          1.017977537989261,
          0.9617168912210036,
          1.23851688319993,
          1.4124382450638562,
          1.1939979480755303,
          1.2924331316568014,
          1.3399904304283101,
          1.3428692467287946,
          1.4061699339401204,
          1.6454960554619706,
          1.6341272047708855,
          1.6812826206412808,
          1.924129767229516,
          1.896199882873519,
          1.8029061305411043,
          2.3718635091502316,
          2.4380839043435487
         ]
        }
       ],
       "layout": {
        "coloraxis": {
         "colorbar": {
          "title": {
           "text": "class"
          }
         },
         "colorscale": [
          [
           0,
           "#0d0887"
          ],
          [
           0.1111111111111111,
           "#46039f"
          ],
          [
           0.2222222222222222,
           "#7201a8"
          ],
          [
           0.3333333333333333,
           "#9c179e"
          ],
          [
           0.4444444444444444,
           "#bd3786"
          ],
          [
           0.5555555555555556,
           "#d8576b"
          ],
          [
           0.6666666666666666,
           "#ed7953"
          ],
          [
           0.7777777777777778,
           "#fb9f3a"
          ],
          [
           0.8888888888888888,
           "#fdca26"
          ],
          [
           1,
           "#f0f921"
          ]
         ]
        },
        "legend": {
         "title": {
          "text": "class"
         },
         "tracegroupgap": 0,
         "x": 0,
         "y": 1
        },
        "margin": {
         "t": 60
        },
        "scene": {
         "domain": {
          "x": [
           0,
           1
          ],
          "y": [
           0,
           1
          ]
         },
         "xaxis": {
          "title": {
           "text": "principal component 1"
          }
         },
         "yaxis": {
          "title": {
           "text": "principal component 2"
          }
         },
         "zaxis": {
          "title": {
           "text": "principal component 3"
          }
         }
        },
        "template": {
         "data": {
          "bar": [
           {
            "error_x": {
             "color": "#2a3f5f"
            },
            "error_y": {
             "color": "#2a3f5f"
            },
            "marker": {
             "line": {
              "color": "#E5ECF6",
              "width": 0.5
             }
            },
            "type": "bar"
           }
          ],
          "barpolar": [
           {
            "marker": {
             "line": {
              "color": "#E5ECF6",
              "width": 0.5
             }
            },
            "type": "barpolar"
           }
          ],
          "carpet": [
           {
            "aaxis": {
             "endlinecolor": "#2a3f5f",
             "gridcolor": "white",
             "linecolor": "white",
             "minorgridcolor": "white",
             "startlinecolor": "#2a3f5f"
            },
            "baxis": {
             "endlinecolor": "#2a3f5f",
             "gridcolor": "white",
             "linecolor": "white",
             "minorgridcolor": "white",
             "startlinecolor": "#2a3f5f"
            },
            "type": "carpet"
           }
          ],
          "choropleth": [
           {
            "colorbar": {
             "outlinewidth": 0,
             "ticks": ""
            },
            "type": "choropleth"
           }
          ],
          "contour": [
           {
            "colorbar": {
             "outlinewidth": 0,
             "ticks": ""
            },
            "colorscale": [
             [
              0,
              "#0d0887"
             ],
             [
              0.1111111111111111,
              "#46039f"
             ],
             [
              0.2222222222222222,
              "#7201a8"
             ],
             [
              0.3333333333333333,
              "#9c179e"
             ],
             [
              0.4444444444444444,
              "#bd3786"
             ],
             [
              0.5555555555555556,
              "#d8576b"
             ],
             [
              0.6666666666666666,
              "#ed7953"
             ],
             [
              0.7777777777777778,
              "#fb9f3a"
             ],
             [
              0.8888888888888888,
              "#fdca26"
             ],
             [
              1,
              "#f0f921"
             ]
            ],
            "type": "contour"
           }
          ],
          "contourcarpet": [
           {
            "colorbar": {
             "outlinewidth": 0,
             "ticks": ""
            },
            "type": "contourcarpet"
           }
          ],
          "heatmap": [
           {
            "colorbar": {
             "outlinewidth": 0,
             "ticks": ""
            },
            "colorscale": [
             [
              0,
              "#0d0887"
             ],
             [
              0.1111111111111111,
              "#46039f"
             ],
             [
              0.2222222222222222,
              "#7201a8"
             ],
             [
              0.3333333333333333,
              "#9c179e"
             ],
             [
              0.4444444444444444,
              "#bd3786"
             ],
             [
              0.5555555555555556,
              "#d8576b"
             ],
             [
              0.6666666666666666,
              "#ed7953"
             ],
             [
              0.7777777777777778,
              "#fb9f3a"
             ],
             [
              0.8888888888888888,
              "#fdca26"
             ],
             [
              1,
              "#f0f921"
             ]
            ],
            "type": "heatmap"
           }
          ],
          "heatmapgl": [
           {
            "colorbar": {
             "outlinewidth": 0,
             "ticks": ""
            },
            "colorscale": [
             [
              0,
              "#0d0887"
             ],
             [
              0.1111111111111111,
              "#46039f"
             ],
             [
              0.2222222222222222,
              "#7201a8"
             ],
             [
              0.3333333333333333,
              "#9c179e"
             ],
             [
              0.4444444444444444,
              "#bd3786"
             ],
             [
              0.5555555555555556,
              "#d8576b"
             ],
             [
              0.6666666666666666,
              "#ed7953"
             ],
             [
              0.7777777777777778,
              "#fb9f3a"
             ],
             [
              0.8888888888888888,
              "#fdca26"
             ],
             [
              1,
              "#f0f921"
             ]
            ],
            "type": "heatmapgl"
           }
          ],
          "histogram": [
           {
            "marker": {
             "colorbar": {
              "outlinewidth": 0,
              "ticks": ""
             }
            },
            "type": "histogram"
           }
          ],
          "histogram2d": [
           {
            "colorbar": {
             "outlinewidth": 0,
             "ticks": ""
            },
            "colorscale": [
             [
              0,
              "#0d0887"
             ],
             [
              0.1111111111111111,
              "#46039f"
             ],
             [
              0.2222222222222222,
              "#7201a8"
             ],
             [
              0.3333333333333333,
              "#9c179e"
             ],
             [
              0.4444444444444444,
              "#bd3786"
             ],
             [
              0.5555555555555556,
              "#d8576b"
             ],
             [
              0.6666666666666666,
              "#ed7953"
             ],
             [
              0.7777777777777778,
              "#fb9f3a"
             ],
             [
              0.8888888888888888,
              "#fdca26"
             ],
             [
              1,
              "#f0f921"
             ]
            ],
            "type": "histogram2d"
           }
          ],
          "histogram2dcontour": [
           {
            "colorbar": {
             "outlinewidth": 0,
             "ticks": ""
            },
            "colorscale": [
             [
              0,
              "#0d0887"
             ],
             [
              0.1111111111111111,
              "#46039f"
             ],
             [
              0.2222222222222222,
              "#7201a8"
             ],
             [
              0.3333333333333333,
              "#9c179e"
             ],
             [
              0.4444444444444444,
              "#bd3786"
             ],
             [
              0.5555555555555556,
              "#d8576b"
             ],
             [
              0.6666666666666666,
              "#ed7953"
             ],
             [
              0.7777777777777778,
              "#fb9f3a"
             ],
             [
              0.8888888888888888,
              "#fdca26"
             ],
             [
              1,
              "#f0f921"
             ]
            ],
            "type": "histogram2dcontour"
           }
          ],
          "mesh3d": [
           {
            "colorbar": {
             "outlinewidth": 0,
             "ticks": ""
            },
            "type": "mesh3d"
           }
          ],
          "parcoords": [
           {
            "line": {
             "colorbar": {
              "outlinewidth": 0,
              "ticks": ""
             }
            },
            "type": "parcoords"
           }
          ],
          "pie": [
           {
            "automargin": true,
            "type": "pie"
           }
          ],
          "scatter": [
           {
            "marker": {
             "colorbar": {
              "outlinewidth": 0,
              "ticks": ""
             }
            },
            "type": "scatter"
           }
          ],
          "scatter3d": [
           {
            "line": {
             "colorbar": {
              "outlinewidth": 0,
              "ticks": ""
             }
            },
            "marker": {
             "colorbar": {
              "outlinewidth": 0,
              "ticks": ""
             }
            },
            "type": "scatter3d"
           }
          ],
          "scattercarpet": [
           {
            "marker": {
             "colorbar": {
              "outlinewidth": 0,
              "ticks": ""
             }
            },
            "type": "scattercarpet"
           }
          ],
          "scattergeo": [
           {
            "marker": {
             "colorbar": {
              "outlinewidth": 0,
              "ticks": ""
             }
            },
            "type": "scattergeo"
           }
          ],
          "scattergl": [
           {
            "marker": {
             "colorbar": {
              "outlinewidth": 0,
              "ticks": ""
             }
            },
            "type": "scattergl"
           }
          ],
          "scattermapbox": [
           {
            "marker": {
             "colorbar": {
              "outlinewidth": 0,
              "ticks": ""
             }
            },
            "type": "scattermapbox"
           }
          ],
          "scatterpolar": [
           {
            "marker": {
             "colorbar": {
              "outlinewidth": 0,
              "ticks": ""
             }
            },
            "type": "scatterpolar"
           }
          ],
          "scatterpolargl": [
           {
            "marker": {
             "colorbar": {
              "outlinewidth": 0,
              "ticks": ""
             }
            },
            "type": "scatterpolargl"
           }
          ],
          "scatterternary": [
           {
            "marker": {
             "colorbar": {
              "outlinewidth": 0,
              "ticks": ""
             }
            },
            "type": "scatterternary"
           }
          ],
          "surface": [
           {
            "colorbar": {
             "outlinewidth": 0,
             "ticks": ""
            },
            "colorscale": [
             [
              0,
              "#0d0887"
             ],
             [
              0.1111111111111111,
              "#46039f"
             ],
             [
              0.2222222222222222,
              "#7201a8"
             ],
             [
              0.3333333333333333,
              "#9c179e"
             ],
             [
              0.4444444444444444,
              "#bd3786"
             ],
             [
              0.5555555555555556,
              "#d8576b"
             ],
             [
              0.6666666666666666,
              "#ed7953"
             ],
             [
              0.7777777777777778,
              "#fb9f3a"
             ],
             [
              0.8888888888888888,
              "#fdca26"
             ],
             [
              1,
              "#f0f921"
             ]
            ],
            "type": "surface"
           }
          ],
          "table": [
           {
            "cells": {
             "fill": {
              "color": "#EBF0F8"
             },
             "line": {
              "color": "white"
             }
            },
            "header": {
             "fill": {
              "color": "#C8D4E3"
             },
             "line": {
              "color": "white"
             }
            },
            "type": "table"
           }
          ]
         },
         "layout": {
          "annotationdefaults": {
           "arrowcolor": "#2a3f5f",
           "arrowhead": 0,
           "arrowwidth": 1
          },
          "autotypenumbers": "strict",
          "coloraxis": {
           "colorbar": {
            "outlinewidth": 0,
            "ticks": ""
           }
          },
          "colorscale": {
           "diverging": [
            [
             0,
             "#8e0152"
            ],
            [
             0.1,
             "#c51b7d"
            ],
            [
             0.2,
             "#de77ae"
            ],
            [
             0.3,
             "#f1b6da"
            ],
            [
             0.4,
             "#fde0ef"
            ],
            [
             0.5,
             "#f7f7f7"
            ],
            [
             0.6,
             "#e6f5d0"
            ],
            [
             0.7,
             "#b8e186"
            ],
            [
             0.8,
             "#7fbc41"
            ],
            [
             0.9,
             "#4d9221"
            ],
            [
             1,
             "#276419"
            ]
           ],
           "sequential": [
            [
             0,
             "#0d0887"
            ],
            [
             0.1111111111111111,
             "#46039f"
            ],
            [
             0.2222222222222222,
             "#7201a8"
            ],
            [
             0.3333333333333333,
             "#9c179e"
            ],
            [
             0.4444444444444444,
             "#bd3786"
            ],
            [
             0.5555555555555556,
             "#d8576b"
            ],
            [
             0.6666666666666666,
             "#ed7953"
            ],
            [
             0.7777777777777778,
             "#fb9f3a"
            ],
            [
             0.8888888888888888,
             "#fdca26"
            ],
            [
             1,
             "#f0f921"
            ]
           ],
           "sequentialminus": [
            [
             0,
             "#0d0887"
            ],
            [
             0.1111111111111111,
             "#46039f"
            ],
            [
             0.2222222222222222,
             "#7201a8"
            ],
            [
             0.3333333333333333,
             "#9c179e"
            ],
            [
             0.4444444444444444,
             "#bd3786"
            ],
            [
             0.5555555555555556,
             "#d8576b"
            ],
            [
             0.6666666666666666,
             "#ed7953"
            ],
            [
             0.7777777777777778,
             "#fb9f3a"
            ],
            [
             0.8888888888888888,
             "#fdca26"
            ],
            [
             1,
             "#f0f921"
            ]
           ]
          },
          "colorway": [
           "#636efa",
           "#EF553B",
           "#00cc96",
           "#ab63fa",
           "#FFA15A",
           "#19d3f3",
           "#FF6692",
           "#B6E880",
           "#FF97FF",
           "#FECB52"
          ],
          "font": {
           "color": "#2a3f5f"
          },
          "geo": {
           "bgcolor": "white",
           "lakecolor": "white",
           "landcolor": "#E5ECF6",
           "showlakes": true,
           "showland": true,
           "subunitcolor": "white"
          },
          "hoverlabel": {
           "align": "left"
          },
          "hovermode": "closest",
          "mapbox": {
           "style": "light"
          },
          "paper_bgcolor": "white",
          "plot_bgcolor": "#E5ECF6",
          "polar": {
           "angularaxis": {
            "gridcolor": "white",
            "linecolor": "white",
            "ticks": ""
           },
           "bgcolor": "#E5ECF6",
           "radialaxis": {
            "gridcolor": "white",
            "linecolor": "white",
            "ticks": ""
           }
          },
          "scene": {
           "xaxis": {
            "backgroundcolor": "#E5ECF6",
            "gridcolor": "white",
            "gridwidth": 2,
            "linecolor": "white",
            "showbackground": true,
            "ticks": "",
            "zerolinecolor": "white"
           },
           "yaxis": {
            "backgroundcolor": "#E5ECF6",
            "gridcolor": "white",
            "gridwidth": 2,
            "linecolor": "white",
            "showbackground": true,
            "ticks": "",
            "zerolinecolor": "white"
           },
           "zaxis": {
            "backgroundcolor": "#E5ECF6",
            "gridcolor": "white",
            "gridwidth": 2,
            "linecolor": "white",
            "showbackground": true,
            "ticks": "",
            "zerolinecolor": "white"
           }
          },
          "shapedefaults": {
           "line": {
            "color": "#2a3f5f"
           }
          },
          "ternary": {
           "aaxis": {
            "gridcolor": "white",
            "linecolor": "white",
            "ticks": ""
           },
           "baxis": {
            "gridcolor": "white",
            "linecolor": "white",
            "ticks": ""
           },
           "bgcolor": "#E5ECF6",
           "caxis": {
            "gridcolor": "white",
            "linecolor": "white",
            "ticks": ""
           }
          },
          "title": {
           "x": 0.05
          },
          "xaxis": {
           "automargin": true,
           "gridcolor": "white",
           "linecolor": "white",
           "ticks": "",
           "title": {
            "standoff": 15
           },
           "zerolinecolor": "white",
           "zerolinewidth": 2
          },
          "yaxis": {
           "automargin": true,
           "gridcolor": "white",
           "linecolor": "white",
           "ticks": "",
           "title": {
            "standoff": 15
           },
           "zerolinecolor": "white",
           "zerolinewidth": 2
          }
         }
        },
        "width": 1000
       }
      }
     },
     "metadata": {}
    }
   ],
   "source": [
    "fig = px.scatter_3d(\n",
    "    df_shopping_pca,\n",
    "    x=\"principal component 1\",\n",
    "    y=\"principal component 2\",\n",
    "    z=\"principal component 3\",\n",
    "    color=\"class\",\n",
    "    symbol=\"class\",\n",
    "    width=1000,\n",
    ")\n",
    "fig.update_layout(legend=dict(x=0, y=1))\n",
    "fig.show()\n"
   ]
  },
  {
   "cell_type": "code",
   "execution_count": 68,
   "metadata": {},
   "outputs": [],
   "source": [
    " "
   ]
  }
 ],
 "metadata": {
  "file_extension": ".py",
  "kernel_info": {
   "name": "python3"
  },
  "kernelspec": {
   "display_name": "Python 3",
   "language": "python",
   "name": "python3"
  },
  "language_info": {
   "codemirror_mode": {
    "name": "ipython",
    "version": 3
   },
   "file_extension": ".py",
   "mimetype": "text/x-python",
   "name": "python",
   "nbconvert_exporter": "python",
   "pygments_lexer": "ipython3",
   "version": "3.7.9-final"
  },
  "mimetype": "text/x-python",
  "name": "python",
  "npconvert_exporter": "python",
  "nteract": {
   "version": "0.12.3"
  },
  "pygments_lexer": "ipython3",
  "version": 3
 },
 "nbformat": 4,
 "nbformat_minor": 2
}