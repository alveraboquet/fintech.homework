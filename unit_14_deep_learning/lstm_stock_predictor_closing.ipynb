{
 "cells": [
  {
   "cell_type": "markdown",
   "metadata": {},
   "source": [
    "# LSTM Stock Predictor Using Closing Prices\n",
    "\n",
    "In this notebook, you will build and train a custom LSTM RNN that uses a 10 day window of Bitcoin closing prices to predict the 11th day closing price. \n",
    "\n",
    "You will need to:\n",
    "\n",
    "1. Prepare the data for training and testing\n",
    "2. Build and train a custom LSTM RNN\n",
    "3. Evaluate the performance of the model"
   ]
  },
  {
   "cell_type": "markdown",
   "metadata": {},
   "source": [
    "## Data Preparation\n",
    "\n",
    "In this section, you will need to prepare the training and testing data for the model. The model will use a rolling 10 day window to predict the 11th day closing price.\n",
    "\n",
    "You will need to:\n",
    "1. Use the `window_data` function to generate the X and y values for the model.\n",
    "2. Split the data into 70% training and 30% testing\n",
    "3. Apply the MinMaxScaler to the X and y values\n",
    "4. Reshape the X_train and X_test data for the model. Note: The required input format for the LSTM is:\n",
    "\n",
    "```python\n",
    "reshape((X_train.shape[0], X_train.shape[1], 1))\n",
    "```"
   ]
  },
  {
   "cell_type": "code",
   "execution_count": 223,
   "metadata": {},
   "outputs": [],
   "source": [
    "import numpy as np\n",
    "import pandas as pd\n",
    "import hvplot.pandas"
   ]
  },
  {
   "cell_type": "code",
   "execution_count": 224,
   "metadata": {},
   "outputs": [],
   "source": [
    "from pathlib import Path\n",
    "from numpy.random import seed"
   ]
  },
  {
   "cell_type": "code",
   "execution_count": 225,
   "metadata": {},
   "outputs": [],
   "source": [
    "from sklearn.preprocessing import MinMaxScaler"
   ]
  },
  {
   "cell_type": "code",
   "execution_count": 226,
   "metadata": {},
   "outputs": [],
   "source": [
    "from tensorflow import random\n",
    "from tensorflow.keras.models import Sequential\n",
    "from tensorflow.keras.layers import LSTM, Dense, Dropout"
   ]
  },
  {
   "cell_type": "code",
   "execution_count": 227,
   "metadata": {},
   "outputs": [],
   "source": [
    "# Set the random seed for reproducibility\n",
    "# Note: This is for the homework solution, but it is good practice to comment this out and run multiple experiments to evaluate your model\n",
    "seed(1)\n",
    "random.set_seed(2)"
   ]
  },
  {
   "cell_type": "code",
   "execution_count": 228,
   "metadata": {},
   "outputs": [
    {
     "output_type": "execute_result",
     "data": {
      "text/plain": [
       "             fng_value\n",
       "date                  \n",
       "2019-07-29          19\n",
       "2019-07-28          16\n",
       "2019-07-27          47\n",
       "2019-07-26          24\n",
       "2019-07-25          42"
      ],
      "text/html": "<div>\n<style scoped>\n    .dataframe tbody tr th:only-of-type {\n        vertical-align: middle;\n    }\n\n    .dataframe tbody tr th {\n        vertical-align: top;\n    }\n\n    .dataframe thead th {\n        text-align: right;\n    }\n</style>\n<table border=\"1\" class=\"dataframe\">\n  <thead>\n    <tr style=\"text-align: right;\">\n      <th></th>\n      <th>fng_value</th>\n    </tr>\n    <tr>\n      <th>date</th>\n      <th></th>\n    </tr>\n  </thead>\n  <tbody>\n    <tr>\n      <th>2019-07-29</th>\n      <td>19</td>\n    </tr>\n    <tr>\n      <th>2019-07-28</th>\n      <td>16</td>\n    </tr>\n    <tr>\n      <th>2019-07-27</th>\n      <td>47</td>\n    </tr>\n    <tr>\n      <th>2019-07-26</th>\n      <td>24</td>\n    </tr>\n    <tr>\n      <th>2019-07-25</th>\n      <td>42</td>\n    </tr>\n  </tbody>\n</table>\n</div>"
     },
     "metadata": {},
     "execution_count": 228
    }
   ],
   "source": [
    "# Load the fear and greed sentiment data for Bitcoin\n",
    "df = pd.read_csv(\n",
    "    Path('data/btc_sentiment.csv'), \n",
    "    index_col=\"date\", \n",
    "    infer_datetime_format=True, \n",
    "    parse_dates=True)\n",
    "\n",
    "# Drop classification, only need value\n",
    "df = df.drop(columns=\"fng_classification\")\n",
    "df.head()"
   ]
  },
  {
   "cell_type": "code",
   "execution_count": 229,
   "metadata": {},
   "outputs": [
    {
     "output_type": "execute_result",
     "data": {
      "text/plain": [
       "Date\n",
       "2019-07-25    9882.429688\n",
       "2019-07-26    9847.450195\n",
       "2019-07-27    9478.320313\n",
       "2019-07-28    9531.769531\n",
       "2019-07-29    9529.889648\n",
       "Name: Close, dtype: float64"
      ]
     },
     "metadata": {},
     "execution_count": 229
    }
   ],
   "source": [
    "# Load the historical closing prices for Bitcoin\n",
    "df2 = pd.read_csv(\n",
    "    'data/btc_historic.csv', \n",
    "    index_col=\"Date\", \n",
    "    infer_datetime_format=True, \n",
    "    parse_dates=True)['Close']\n",
    "    \n",
    "df2 = df2.sort_index()\n",
    "df2.tail()"
   ]
  },
  {
   "cell_type": "code",
   "execution_count": 230,
   "metadata": {},
   "outputs": [
    {
     "output_type": "execute_result",
     "data": {
      "text/plain": [
       "             fng_value        Close\n",
       "2019-07-25          42  9882.429688\n",
       "2019-07-26          24  9847.450195\n",
       "2019-07-27          47  9478.320313\n",
       "2019-07-28          16  9531.769531\n",
       "2019-07-29          19  9529.889648"
      ],
      "text/html": "<div>\n<style scoped>\n    .dataframe tbody tr th:only-of-type {\n        vertical-align: middle;\n    }\n\n    .dataframe tbody tr th {\n        vertical-align: top;\n    }\n\n    .dataframe thead th {\n        text-align: right;\n    }\n</style>\n<table border=\"1\" class=\"dataframe\">\n  <thead>\n    <tr style=\"text-align: right;\">\n      <th></th>\n      <th>fng_value</th>\n      <th>Close</th>\n    </tr>\n  </thead>\n  <tbody>\n    <tr>\n      <th>2019-07-25</th>\n      <td>42</td>\n      <td>9882.429688</td>\n    </tr>\n    <tr>\n      <th>2019-07-26</th>\n      <td>24</td>\n      <td>9847.450195</td>\n    </tr>\n    <tr>\n      <th>2019-07-27</th>\n      <td>47</td>\n      <td>9478.320313</td>\n    </tr>\n    <tr>\n      <th>2019-07-28</th>\n      <td>16</td>\n      <td>9531.769531</td>\n    </tr>\n    <tr>\n      <th>2019-07-29</th>\n      <td>19</td>\n      <td>9529.889648</td>\n    </tr>\n  </tbody>\n</table>\n</div>"
     },
     "metadata": {},
     "execution_count": 230
    }
   ],
   "source": [
    "# Join the data into a single DataFrame\n",
    "df = df.join(df2, how=\"inner\")\n",
    "df.tail()"
   ]
  },
  {
   "cell_type": "code",
   "execution_count": 231,
   "metadata": {},
   "outputs": [
    {
     "output_type": "execute_result",
     "data": {
      "text/plain": [
       "             fng_value        Close\n",
       "2018-02-01          30  9114.719727\n",
       "2018-02-02          15  8870.820313\n",
       "2018-02-03          40  9251.269531\n",
       "2018-02-04          24  8218.049805\n",
       "2018-02-05          11  6937.080078"
      ],
      "text/html": "<div>\n<style scoped>\n    .dataframe tbody tr th:only-of-type {\n        vertical-align: middle;\n    }\n\n    .dataframe tbody tr th {\n        vertical-align: top;\n    }\n\n    .dataframe thead th {\n        text-align: right;\n    }\n</style>\n<table border=\"1\" class=\"dataframe\">\n  <thead>\n    <tr style=\"text-align: right;\">\n      <th></th>\n      <th>fng_value</th>\n      <th>Close</th>\n    </tr>\n  </thead>\n  <tbody>\n    <tr>\n      <th>2018-02-01</th>\n      <td>30</td>\n      <td>9114.719727</td>\n    </tr>\n    <tr>\n      <th>2018-02-02</th>\n      <td>15</td>\n      <td>8870.820313</td>\n    </tr>\n    <tr>\n      <th>2018-02-03</th>\n      <td>40</td>\n      <td>9251.269531</td>\n    </tr>\n    <tr>\n      <th>2018-02-04</th>\n      <td>24</td>\n      <td>8218.049805</td>\n    </tr>\n    <tr>\n      <th>2018-02-05</th>\n      <td>11</td>\n      <td>6937.080078</td>\n    </tr>\n  </tbody>\n</table>\n</div>"
     },
     "metadata": {},
     "execution_count": 231
    }
   ],
   "source": [
    "df.head()"
   ]
  },
  {
   "cell_type": "code",
   "execution_count": 232,
   "metadata": {},
   "outputs": [],
   "source": [
    "# This function accepts the column number for the features (X) and the target (y)\n",
    "# It chunks the data up with a rolling window of Xt-n to predict Xt\n",
    "# It returns a numpy array of X any y\n",
    "def window_data(df, window, feature_col_number, target_col_number):\n",
    "    X = []\n",
    "    y = []\n",
    "    for i in range(len(df) - window - 1):\n",
    "        features = df.iloc[i:(i + window), feature_col_number]\n",
    "        target = df.iloc[(i + window), target_col_number]\n",
    "        X.append(features)\n",
    "        y.append(target)\n",
    "    return np.array(X), np.array(y).reshape(-1, 1)"
   ]
  },
  {
   "cell_type": "code",
   "execution_count": 233,
   "metadata": {},
   "outputs": [
    {
     "output_type": "stream",
     "name": "stdout",
     "text": [
      "Feature data type: <class 'numpy.ndarray'>\nTarget data type: <class 'numpy.ndarray'>\n"
     ]
    }
   ],
   "source": [
    "# Predict Closing Prices using a 10 day window of previous closing prices\n",
    "# Then, experiment with window sizes anywhere from 1 to 10 and see how the model performance changes\n",
    "window_size = 10\n",
    "\n",
    "# Column index 0 is the 'fng_value' column\n",
    "# Column index 1 is the `Close` column\n",
    "feature_column = 1\n",
    "target_column = 1\n",
    "X, y = window_data(df, window_size, feature_column, target_column)\n",
    "\n",
    "# Inspect type\n",
    "print(f'Feature data type: {type(X)}\\nTarget data type: {type(y)}')"
   ]
  },
  {
   "cell_type": "code",
   "execution_count": 234,
   "metadata": {},
   "outputs": [
    {
     "output_type": "execute_result",
     "data": {
      "text/plain": [
       "(537, 5)"
      ]
     },
     "metadata": {},
     "execution_count": 234
    }
   ],
   "source": [
    "# This makes sense, we have 532 rows, 10 cols (which match our rolling window)\n",
    "X.shape"
   ]
  },
  {
   "cell_type": "code",
   "execution_count": 235,
   "metadata": {},
   "outputs": [
    {
     "output_type": "execute_result",
     "data": {
      "text/plain": [
       "array([[9114.719727, 8870.820313, 9251.269531, 8218.049805, 6937.080078],\n",
       "       [8870.820313, 9251.269531, 8218.049805, 6937.080078, 7701.25    ],\n",
       "       [9251.269531, 8218.049805, 6937.080078, 7701.25    , 7592.720215]])"
      ]
     },
     "metadata": {},
     "execution_count": 235
    }
   ],
   "source": [
    "# Inspect data\n",
    "X[:3]"
   ]
  },
  {
   "cell_type": "code",
   "execution_count": 236,
   "metadata": {},
   "outputs": [
    {
     "output_type": "stream",
     "name": "stdout",
     "text": [
      "Feature data length: 537\nTarget data length: 537\n"
     ]
    }
   ],
   "source": [
    "# Verify length, looks good\n",
    "print(f'Feature data length: {len(X)}\\nTarget data length: {len(y)}')"
   ]
  },
  {
   "cell_type": "code",
   "execution_count": 237,
   "metadata": {},
   "outputs": [],
   "source": [
    "# Use 70% of the data for training and the remaineder for testing\n",
    "split = int(0.7 * len(X))\n",
    "X_train = X[: split]\n",
    "X_test = X[split:]\n",
    "y_train = y[: split]\n",
    "y_test = y[split:]"
   ]
  },
  {
   "cell_type": "code",
   "execution_count": 238,
   "metadata": {},
   "outputs": [],
   "source": [
    "# Use the MinMaxScaler to scale data between 0 and 1.\n",
    "scaler = MinMaxScaler()"
   ]
  },
  {
   "cell_type": "code",
   "execution_count": 239,
   "metadata": {},
   "outputs": [
    {
     "output_type": "execute_result",
     "data": {
      "text/plain": [
       "array([[0.60761794, 0.58242373, 0.62172321, 0.51499412, 0.38267307],\n",
       "       [0.58242373, 0.62172321, 0.51499412, 0.38267307, 0.46160996],\n",
       "       [0.62172321, 0.51499412, 0.38267307, 0.46160996, 0.4503991 ]])"
      ]
     },
     "metadata": {},
     "execution_count": 239
    }
   ],
   "source": [
    "# Fit and scale feature data\n",
    "scaler.fit(X)\n",
    "X_train = scaler.transform(X_train)\n",
    "X_test = scaler.transform(X_test)\n",
    "X_train[:3]"
   ]
  },
  {
   "cell_type": "code",
   "execution_count": 240,
   "metadata": {},
   "outputs": [
    {
     "output_type": "execute_result",
     "data": {
      "text/plain": [
       "array([[0.46160996],\n",
       "       [0.4503991 ],\n",
       "       [0.5193988 ]])"
      ]
     },
     "metadata": {},
     "execution_count": 240
    }
   ],
   "source": [
    "# Fit and scale target data\n",
    "scaler.fit(y)\n",
    "y_train = scaler.transform(y_train)\n",
    "y_test = scaler.transform(y_test)\n",
    "y_train[:3]"
   ]
  },
  {
   "cell_type": "code",
   "execution_count": 241,
   "metadata": {},
   "outputs": [
    {
     "output_type": "stream",
     "name": "stdout",
     "text": [
      "X_train shape: (375, 5)\nrows: 375\ncols: 5\n"
     ]
    }
   ],
   "source": [
    "# Make sure we understand np.array shape\n",
    "print (f'X_train shape: {X_train.shape}\\nrows: {X_train.shape[0]}\\ncols: {X_train.shape[1]}')"
   ]
  },
  {
   "cell_type": "code",
   "execution_count": 242,
   "metadata": {},
   "outputs": [],
   "source": [
    "# Reshape the features for the model\n",
    "# Keras needs vertical vector\n",
    "X_train = X_train.reshape((X_train.shape[0], X_train.shape[1], 1))\n",
    "X_test = X_test.reshape((X_test.shape[0], X_test.shape[1], 1))"
   ]
  },
  {
   "cell_type": "code",
   "execution_count": 243,
   "metadata": {},
   "outputs": [
    {
     "output_type": "stream",
     "name": "stdout",
     "text": [
      "X_train shape: (375, 5, 1)\nrows: 375\ncols: 5\n"
     ]
    }
   ],
   "source": [
    "print (f'X_train shape: {X_train.shape}\\nrows: {X_train.shape[0]}\\ncols: {X_train.shape[1]}')"
   ]
  },
  {
   "cell_type": "code",
   "execution_count": 244,
   "metadata": {},
   "outputs": [
    {
     "output_type": "stream",
     "name": "stdout",
     "text": [
      "X_train sample values:\n[[[0.60761794]\n  [0.58242373]\n  [0.62172321]\n  [0.51499412]\n  [0.38267307]]\n\n [[0.58242373]\n  [0.62172321]\n  [0.51499412]\n  [0.38267307]\n  [0.46160996]]] \n\nX_test sample values:\n[[[0.03856719]\n  [0.03679562]\n  [0.03728835]\n  [0.03974167]\n  [0.04528668]]\n\n [[0.03679562]\n  [0.03728835]\n  [0.03974167]\n  [0.04528668]\n  [0.04528668]]]\n"
     ]
    }
   ],
   "source": [
    "print (f\"X_train sample values:\\n{X_train[:2]} \\n\")\n",
    "print (f\"X_test sample values:\\n{X_test[:2]}\")"
   ]
  },
  {
   "cell_type": "markdown",
   "metadata": {},
   "source": [
    "---"
   ]
  },
  {
   "cell_type": "markdown",
   "metadata": {},
   "source": [
    "## Build and Train the LSTM RNN\n",
    "\n",
    "In this section, you will design a custom LSTM RNN and fit (train) it using the training data.\n",
    "\n",
    "You will need to:\n",
    "1. Define the model architecture\n",
    "2. Compile the model\n",
    "3. Fit the model to the training data\n",
    "\n",
    "### Hints:\n",
    "You will want to use the same model architecture and random seed for both notebooks. This is necessary to accurately compare the performance of the FNG model vs the closing price model. "
   ]
  },
  {
   "cell_type": "code",
   "execution_count": 245,
   "metadata": {},
   "outputs": [],
   "source": [
    "# Build the LSTM model. \n",
    "# The return sequences need to be set to True if you are adding additional LSTM layers, but \n",
    "# You don't have to do this for the final layer. \n",
    "# Note: The dropouts help prevent overfitting\n",
    "# Note: The input shape is the number of time steps and the number of indicators\n",
    "# Note: Batching inputs has a different input shape of Samples/TimeSteps/Features\n",
    "\n",
    "# Model params\n",
    "number_units = 10\n",
    "dropout_fraction = 0.2\n",
    "\n",
    "# Define LSTM RNN model.\n",
    "model = Sequential()\n",
    "\n",
    "# Layer 1\n",
    "model.add(LSTM(units=number_units, return_sequences=True, input_shape=(X_train.shape[1], 1)))\n",
    "model.add(Dropout(dropout_fraction))\n",
    "\n",
    "# Layer 2\n",
    "model.add(LSTM(units=number_units, return_sequences=True))\n",
    "model.add(Dropout(dropout_fraction))\n",
    "\n",
    "# Layer 3\n",
    "model.add(LSTM(units=number_units))\n",
    "model.add(Dropout(dropout_fraction))\n",
    "\n",
    "# Output layer\n",
    "model.add(Dense(1))"
   ]
  },
  {
   "cell_type": "code",
   "execution_count": 246,
   "metadata": {},
   "outputs": [],
   "source": [
    "# Compile the model\n",
    "model.compile(optimizer=\"adam\", loss=\"mean_squared_error\")"
   ]
  },
  {
   "cell_type": "code",
   "execution_count": 247,
   "metadata": {},
   "outputs": [
    {
     "output_type": "stream",
     "name": "stdout",
     "text": [
      "Model: \"sequential_7\"\n_________________________________________________________________\nLayer (type)                 Output Shape              Param #   \n=================================================================\nlstm_21 (LSTM)               (None, 5, 5)              140       \n_________________________________________________________________\ndropout_21 (Dropout)         (None, 5, 5)              0         \n_________________________________________________________________\nlstm_22 (LSTM)               (None, 5, 5)              220       \n_________________________________________________________________\ndropout_22 (Dropout)         (None, 5, 5)              0         \n_________________________________________________________________\nlstm_23 (LSTM)               (None, 5)                 220       \n_________________________________________________________________\ndropout_23 (Dropout)         (None, 5)                 0         \n_________________________________________________________________\ndense_7 (Dense)              (None, 1)                 6         \n=================================================================\nTotal params: 586\nTrainable params: 586\nNon-trainable params: 0\n_________________________________________________________________\n"
     ]
    }
   ],
   "source": [
    "# Summarize the model\n",
    "model.summary()"
   ]
  },
  {
   "cell_type": "code",
   "execution_count": 248,
   "metadata": {},
   "outputs": [
    {
     "output_type": "stream",
     "name": "stdout",
     "text": [
      "Epoch 1/100\n",
      "94/94 [==============================] - 7s 5ms/step - loss: 0.2500\n",
      "Epoch 2/100\n",
      "94/94 [==============================] - 0s 5ms/step - loss: 0.1079\n",
      "Epoch 3/100\n",
      "94/94 [==============================] - 0s 4ms/step - loss: 0.0981\n",
      "Epoch 4/100\n",
      "94/94 [==============================] - 0s 4ms/step - loss: 0.0868\n",
      "Epoch 5/100\n",
      "94/94 [==============================] - 0s 4ms/step - loss: 0.0790\n",
      "Epoch 6/100\n",
      "94/94 [==============================] - 0s 5ms/step - loss: 0.0649\n",
      "Epoch 7/100\n",
      "94/94 [==============================] - 0s 4ms/step - loss: 0.0435\n",
      "Epoch 8/100\n",
      "94/94 [==============================] - 0s 5ms/step - loss: 0.0308\n",
      "Epoch 9/100\n",
      "94/94 [==============================] - 0s 4ms/step - loss: 0.0248\n",
      "Epoch 10/100\n",
      "94/94 [==============================] - 0s 5ms/step - loss: 0.0227\n",
      "Epoch 11/100\n",
      "94/94 [==============================] - 0s 5ms/step - loss: 0.0226\n",
      "Epoch 12/100\n",
      "94/94 [==============================] - 0s 5ms/step - loss: 0.0237\n",
      "Epoch 13/100\n",
      "94/94 [==============================] - 0s 4ms/step - loss: 0.0173\n",
      "Epoch 14/100\n",
      "94/94 [==============================] - 0s 5ms/step - loss: 0.0180\n",
      "Epoch 15/100\n",
      "94/94 [==============================] - 0s 5ms/step - loss: 0.0166\n",
      "Epoch 16/100\n",
      "94/94 [==============================] - 0s 4ms/step - loss: 0.0190\n",
      "Epoch 17/100\n",
      "94/94 [==============================] - 0s 4ms/step - loss: 0.0154\n",
      "Epoch 18/100\n",
      "94/94 [==============================] - 0s 4ms/step - loss: 0.0211\n",
      "Epoch 19/100\n",
      "94/94 [==============================] - 0s 5ms/step - loss: 0.0143\n",
      "Epoch 20/100\n",
      "94/94 [==============================] - 0s 5ms/step - loss: 0.0132\n",
      "Epoch 21/100\n",
      "94/94 [==============================] - 0s 4ms/step - loss: 0.0165\n",
      "Epoch 22/100\n",
      "94/94 [==============================] - 0s 5ms/step - loss: 0.0155\n",
      "Epoch 23/100\n",
      "94/94 [==============================] - 0s 5ms/step - loss: 0.0158\n",
      "Epoch 24/100\n",
      "94/94 [==============================] - 0s 5ms/step - loss: 0.0141\n",
      "Epoch 25/100\n",
      "94/94 [==============================] - 0s 4ms/step - loss: 0.0148\n",
      "Epoch 26/100\n",
      "94/94 [==============================] - 0s 5ms/step - loss: 0.0162\n",
      "Epoch 27/100\n",
      "94/94 [==============================] - 0s 5ms/step - loss: 0.0109\n",
      "Epoch 28/100\n",
      "94/94 [==============================] - 0s 4ms/step - loss: 0.0156\n",
      "Epoch 29/100\n",
      "94/94 [==============================] - 0s 4ms/step - loss: 0.0126\n",
      "Epoch 30/100\n",
      "94/94 [==============================] - 0s 4ms/step - loss: 0.0135\n",
      "Epoch 31/100\n",
      "94/94 [==============================] - 0s 5ms/step - loss: 0.0151\n",
      "Epoch 32/100\n",
      "94/94 [==============================] - 0s 4ms/step - loss: 0.0162\n",
      "Epoch 33/100\n",
      "94/94 [==============================] - 0s 5ms/step - loss: 0.0123\n",
      "Epoch 34/100\n",
      "94/94 [==============================] - 0s 5ms/step - loss: 0.0095\n",
      "Epoch 35/100\n",
      "94/94 [==============================] - 0s 4ms/step - loss: 0.0149\n",
      "Epoch 36/100\n",
      "94/94 [==============================] - 0s 4ms/step - loss: 0.0116\n",
      "Epoch 37/100\n",
      "94/94 [==============================] - 0s 4ms/step - loss: 0.0124\n",
      "Epoch 38/100\n",
      "94/94 [==============================] - 0s 4ms/step - loss: 0.0122\n",
      "Epoch 39/100\n",
      "94/94 [==============================] - 0s 5ms/step - loss: 0.0105\n",
      "Epoch 40/100\n",
      "94/94 [==============================] - 0s 4ms/step - loss: 0.0121\n",
      "Epoch 41/100\n",
      "94/94 [==============================] - 0s 4ms/step - loss: 0.0106\n",
      "Epoch 42/100\n",
      "94/94 [==============================] - 1s 5ms/step - loss: 0.0102\n",
      "Epoch 43/100\n",
      "94/94 [==============================] - 1s 6ms/step - loss: 0.0127\n",
      "Epoch 44/100\n",
      "94/94 [==============================] - 1s 6ms/step - loss: 0.0106\n",
      "Epoch 45/100\n",
      "94/94 [==============================] - 1s 6ms/step - loss: 0.0086\n",
      "Epoch 46/100\n",
      "94/94 [==============================] - 1s 5ms/step - loss: 0.0104\n",
      "Epoch 47/100\n",
      "94/94 [==============================] - 1s 6ms/step - loss: 0.0109\n",
      "Epoch 48/100\n",
      "94/94 [==============================] - 1s 6ms/step - loss: 0.0102\n",
      "Epoch 49/100\n",
      "94/94 [==============================] - 0s 5ms/step - loss: 0.0114\n",
      "Epoch 50/100\n",
      "94/94 [==============================] - 1s 5ms/step - loss: 0.0110\n",
      "Epoch 51/100\n",
      "94/94 [==============================] - 1s 6ms/step - loss: 0.0113\n",
      "Epoch 52/100\n",
      "94/94 [==============================] - 1s 6ms/step - loss: 0.0111\n",
      "Epoch 53/100\n",
      "94/94 [==============================] - 1s 5ms/step - loss: 0.0095\n",
      "Epoch 54/100\n",
      "94/94 [==============================] - 0s 5ms/step - loss: 0.0100\n",
      "Epoch 55/100\n",
      "94/94 [==============================] - 0s 5ms/step - loss: 0.0116\n",
      "Epoch 56/100\n",
      "94/94 [==============================] - 0s 5ms/step - loss: 0.0089\n",
      "Epoch 57/100\n",
      "94/94 [==============================] - 0s 5ms/step - loss: 0.0126\n",
      "Epoch 58/100\n",
      "94/94 [==============================] - 1s 5ms/step - loss: 0.0087\n",
      "Epoch 59/100\n",
      "94/94 [==============================] - 0s 5ms/step - loss: 0.0091\n",
      "Epoch 60/100\n",
      "94/94 [==============================] - 1s 6ms/step - loss: 0.0107\n",
      "Epoch 61/100\n",
      "94/94 [==============================] - 1s 8ms/step - loss: 0.0084\n",
      "Epoch 62/100\n",
      "94/94 [==============================] - 1s 9ms/step - loss: 0.0106\n",
      "Epoch 63/100\n",
      "94/94 [==============================] - 1s 8ms/step - loss: 0.0095\n",
      "Epoch 64/100\n",
      "94/94 [==============================] - 1s 8ms/step - loss: 0.0098\n",
      "Epoch 65/100\n",
      "94/94 [==============================] - 1s 8ms/step - loss: 0.0108\n",
      "Epoch 66/100\n",
      "94/94 [==============================] - 1s 8ms/step - loss: 0.0096\n",
      "Epoch 67/100\n",
      "94/94 [==============================] - 1s 7ms/step - loss: 0.0107\n",
      "Epoch 68/100\n",
      "94/94 [==============================] - 1s 7ms/step - loss: 0.0088\n",
      "Epoch 69/100\n",
      "94/94 [==============================] - 1s 7ms/step - loss: 0.0093\n",
      "Epoch 70/100\n",
      "94/94 [==============================] - 1s 6ms/step - loss: 0.0075\n",
      "Epoch 71/100\n",
      "94/94 [==============================] - 1s 6ms/step - loss: 0.0098\n",
      "Epoch 72/100\n",
      "94/94 [==============================] - 1s 6ms/step - loss: 0.0102\n",
      "Epoch 73/100\n",
      "94/94 [==============================] - 1s 6ms/step - loss: 0.0083\n",
      "Epoch 74/100\n",
      "94/94 [==============================] - 1s 6ms/step - loss: 0.0094\n",
      "Epoch 75/100\n",
      "94/94 [==============================] - 1s 6ms/step - loss: 0.0112\n",
      "Epoch 76/100\n",
      "94/94 [==============================] - 1s 6ms/step - loss: 0.0117\n",
      "Epoch 77/100\n",
      "94/94 [==============================] - 1s 6ms/step - loss: 0.0109\n",
      "Epoch 78/100\n",
      "94/94 [==============================] - 1s 8ms/step - loss: 0.0124\n",
      "Epoch 79/100\n",
      "94/94 [==============================] - 1s 8ms/step - loss: 0.0112\n",
      "Epoch 80/100\n",
      "94/94 [==============================] - 1s 8ms/step - loss: 0.0077\n",
      "Epoch 81/100\n",
      "94/94 [==============================] - 1s 8ms/step - loss: 0.0081\n",
      "Epoch 82/100\n",
      "94/94 [==============================] - 1s 8ms/step - loss: 0.0099\n",
      "Epoch 83/100\n",
      "94/94 [==============================] - 1s 8ms/step - loss: 0.0085\n",
      "Epoch 84/100\n",
      "94/94 [==============================] - 1s 8ms/step - loss: 0.0083\n",
      "Epoch 85/100\n",
      "94/94 [==============================] - 1s 8ms/step - loss: 0.0097\n",
      "Epoch 86/100\n",
      "94/94 [==============================] - 1s 11ms/step - loss: 0.0094\n",
      "Epoch 87/100\n",
      "94/94 [==============================] - 1s 10ms/step - loss: 0.0091\n",
      "Epoch 88/100\n",
      "94/94 [==============================] - 1s 10ms/step - loss: 0.0087\n",
      "Epoch 89/100\n",
      "94/94 [==============================] - 1s 9ms/step - loss: 0.0081\n",
      "Epoch 90/100\n",
      "94/94 [==============================] - 1s 9ms/step - loss: 0.0092\n",
      "Epoch 91/100\n",
      "94/94 [==============================] - 1s 8ms/step - loss: 0.0081\n",
      "Epoch 92/100\n",
      "94/94 [==============================] - 1s 8ms/step - loss: 0.0091\n",
      "Epoch 93/100\n",
      "94/94 [==============================] - 1s 8ms/step - loss: 0.0094\n",
      "Epoch 94/100\n",
      "94/94 [==============================] - 1s 8ms/step - loss: 0.0112\n",
      "Epoch 95/100\n",
      "94/94 [==============================] - 1s 8ms/step - loss: 0.0090\n",
      "Epoch 96/100\n",
      "94/94 [==============================] - 1s 9ms/step - loss: 0.0079\n",
      "Epoch 97/100\n",
      "94/94 [==============================] - 1s 8ms/step - loss: 0.0078\n",
      "Epoch 98/100\n",
      "94/94 [==============================] - 1s 9ms/step - loss: 0.0091\n",
      "Epoch 99/100\n",
      "94/94 [==============================] - 1s 9ms/step - loss: 0.0099\n",
      "Epoch 100/100\n",
      "94/94 [==============================] - 1s 9ms/step - loss: 0.0085\n"
     ]
    },
    {
     "output_type": "execute_result",
     "data": {
      "text/plain": [
       "<tensorflow.python.keras.callbacks.History at 0x1ebc2516148>"
      ]
     },
     "metadata": {},
     "execution_count": 248
    }
   ],
   "source": [
    "# Train the model\n",
    "# Use at least 10 epochs\n",
    "# Do not shuffle the data\n",
    "# Experiement with the batch size, but a smaller batch size is recommended\n",
    "model.fit(X_train, y_train, epochs=100, shuffle=False, batch_size=4, verbose=1)"
   ]
  },
  {
   "cell_type": "markdown",
   "metadata": {},
   "source": [
    "---"
   ]
  },
  {
   "cell_type": "markdown",
   "metadata": {},
   "source": [
    "## Model Performance\n",
    "\n",
    "In this section, you will evaluate the model using the test data. \n",
    "\n",
    "You will need to:\n",
    "1. Evaluate the model using the `X_test` and `y_test` data.\n",
    "2. Use the X_test data to make predictions\n",
    "3. Create a DataFrame of Real (y_test) vs predicted values. \n",
    "4. Plot the Real vs predicted values as a line chart\n",
    "\n",
    "### Hints\n",
    "Remember to apply the `inverse_transform` function to the predicted and y_test values to recover the actual closing prices."
   ]
  },
  {
   "cell_type": "code",
   "execution_count": 249,
   "metadata": {},
   "outputs": [
    {
     "output_type": "stream",
     "name": "stdout",
     "text": [
      "6/6 [==============================] - 2s 3ms/step - loss: 0.0097 \n"
     ]
    },
    {
     "output_type": "execute_result",
     "data": {
      "text/plain": [
       "0.009697452187538147"
      ]
     },
     "metadata": {},
     "execution_count": 249
    }
   ],
   "source": [
    "# Evaluate the model\n",
    "model.evaluate(X_test, y_test)"
   ]
  },
  {
   "cell_type": "code",
   "execution_count": 250,
   "metadata": {},
   "outputs": [],
   "source": [
    "# Make some predictions\n",
    "predicted = model.predict(X_test)"
   ]
  },
  {
   "cell_type": "code",
   "execution_count": 251,
   "metadata": {},
   "outputs": [
    {
     "output_type": "execute_result",
     "data": {
      "text/plain": [
       "(162, 1)"
      ]
     },
     "metadata": {},
     "execution_count": 251
    }
   ],
   "source": [
    "predicted.shape"
   ]
  },
  {
   "cell_type": "code",
   "execution_count": 252,
   "metadata": {},
   "outputs": [],
   "source": [
    "# Recover the original prices instead of the scaled version\n",
    "predicted_prices = scaler.inverse_transform(predicted.reshape(-1, 2))\n",
    "real_prices = scaler.inverse_transform(y_test.reshape(-1, 1))"
   ]
  },
  {
   "cell_type": "code",
   "execution_count": 253,
   "metadata": {},
   "outputs": [
    {
     "output_type": "execute_result",
     "data": {
      "text/plain": [
       "                   Real    Predicted\n",
       "2019-02-18  3670.919922  3558.075684\n",
       "2019-02-19  3912.570068  3560.878906\n",
       "2019-02-20  3924.239990  3573.185303\n",
       "2019-02-21  3974.050049  3597.612061\n",
       "2019-02-22  3937.040039  3633.802490"
      ],
      "text/html": "<div>\n<style scoped>\n    .dataframe tbody tr th:only-of-type {\n        vertical-align: middle;\n    }\n\n    .dataframe tbody tr th {\n        vertical-align: top;\n    }\n\n    .dataframe thead th {\n        text-align: right;\n    }\n</style>\n<table border=\"1\" class=\"dataframe\">\n  <thead>\n    <tr style=\"text-align: right;\">\n      <th></th>\n      <th>Real</th>\n      <th>Predicted</th>\n    </tr>\n  </thead>\n  <tbody>\n    <tr>\n      <th>2019-02-18</th>\n      <td>3670.919922</td>\n      <td>3558.075684</td>\n    </tr>\n    <tr>\n      <th>2019-02-19</th>\n      <td>3912.570068</td>\n      <td>3560.878906</td>\n    </tr>\n    <tr>\n      <th>2019-02-20</th>\n      <td>3924.239990</td>\n      <td>3573.185303</td>\n    </tr>\n    <tr>\n      <th>2019-02-21</th>\n      <td>3974.050049</td>\n      <td>3597.612061</td>\n    </tr>\n    <tr>\n      <th>2019-02-22</th>\n      <td>3937.040039</td>\n      <td>3633.802490</td>\n    </tr>\n  </tbody>\n</table>\n</div>"
     },
     "metadata": {},
     "execution_count": 253
    }
   ],
   "source": [
    "# Create a DataFrame of Real and Predicted values\n",
    "stocks = pd.DataFrame({\n",
    "    \"Real\": real_prices.ravel(),\n",
    "    \"Predicted\": predicted_prices.ravel() }, \n",
    "    index = df.index[-len(real_prices): ])\n",
    "    \n",
    "stocks.head()"
   ]
  },
  {
   "cell_type": "code",
   "execution_count": 254,
   "metadata": {},
   "outputs": [
    {
     "output_type": "execute_result",
     "data": {
      "text/plain": [
       "<matplotlib.axes._subplots.AxesSubplot at 0x1ebca4f0708>"
      ]
     },
     "metadata": {},
     "execution_count": 254
    },
    {
     "output_type": "display_data",
     "data": {
      "text/plain": "<Figure size 432x288 with 1 Axes>",
      "image/svg+xml": "<?xml version=\"1.0\" encoding=\"utf-8\" standalone=\"no\"?>\r\n<!DOCTYPE svg PUBLIC \"-//W3C//DTD SVG 1.1//EN\"\r\n  \"http://www.w3.org/Graphics/SVG/1.1/DTD/svg11.dtd\">\r\n<!-- Created with matplotlib (https://matplotlib.org/) -->\r\n<svg height=\"263.215937pt\" version=\"1.1\" viewBox=\"0 0 391.5125 263.215937\" width=\"391.5125pt\" xmlns=\"http://www.w3.org/2000/svg\" xmlns:xlink=\"http://www.w3.org/1999/xlink\">\r\n <defs>\r\n  <style type=\"text/css\">\r\n*{stroke-linecap:butt;stroke-linejoin:round;}\r\n  </style>\r\n </defs>\r\n <g id=\"figure_1\">\r\n  <g id=\"patch_1\">\r\n   <path d=\"M 0 263.215937 \r\nL 391.5125 263.215937 \r\nL 391.5125 0 \r\nL 0 0 \r\nz\r\n\" style=\"fill:none;\"/>\r\n  </g>\r\n  <g id=\"axes_1\">\r\n   <g id=\"patch_2\">\r\n    <path d=\"M 46.0125 228.14 \r\nL 380.8125 228.14 \r\nL 380.8125 10.7 \r\nL 46.0125 10.7 \r\nz\r\n\" style=\"fill:#ffffff;\"/>\r\n   </g>\r\n   <g id=\"matplotlib.axis_1\">\r\n    <g id=\"xtick_1\">\r\n     <g id=\"line2d_1\">\r\n      <defs>\r\n       <path d=\"M 0 0 \r\nL 0 3.5 \r\n\" id=\"m6a44f07fd1\" style=\"stroke:#000000;stroke-width:0.8;\"/>\r\n      </defs>\r\n      <g>\r\n       <use style=\"stroke:#000000;stroke-width:0.8;\" x=\"46.0125\" xlink:href=\"#m6a44f07fd1\" y=\"228.14\"/>\r\n      </g>\r\n     </g>\r\n    </g>\r\n    <g id=\"xtick_2\">\r\n     <g id=\"line2d_2\">\r\n      <g>\r\n       <use style=\"stroke:#000000;stroke-width:0.8;\" x=\"68.887034\" xlink:href=\"#m6a44f07fd1\" y=\"228.14\"/>\r\n      </g>\r\n     </g>\r\n     <g id=\"text_1\">\r\n      <!-- Mar -->\r\n      <defs>\r\n       <path d=\"M 9.8125 72.90625 \r\nL 24.515625 72.90625 \r\nL 43.109375 23.296875 \r\nL 61.8125 72.90625 \r\nL 76.515625 72.90625 \r\nL 76.515625 0 \r\nL 66.890625 0 \r\nL 66.890625 64.015625 \r\nL 48.09375 14.015625 \r\nL 38.1875 14.015625 \r\nL 19.390625 64.015625 \r\nL 19.390625 0 \r\nL 9.8125 0 \r\nz\r\n\" id=\"DejaVuSans-77\"/>\r\n       <path d=\"M 34.28125 27.484375 \r\nQ 23.390625 27.484375 19.1875 25 \r\nQ 14.984375 22.515625 14.984375 16.5 \r\nQ 14.984375 11.71875 18.140625 8.90625 \r\nQ 21.296875 6.109375 26.703125 6.109375 \r\nQ 34.1875 6.109375 38.703125 11.40625 \r\nQ 43.21875 16.703125 43.21875 25.484375 \r\nL 43.21875 27.484375 \r\nz\r\nM 52.203125 31.203125 \r\nL 52.203125 0 \r\nL 43.21875 0 \r\nL 43.21875 8.296875 \r\nQ 40.140625 3.328125 35.546875 0.953125 \r\nQ 30.953125 -1.421875 24.3125 -1.421875 \r\nQ 15.921875 -1.421875 10.953125 3.296875 \r\nQ 6 8.015625 6 15.921875 \r\nQ 6 25.140625 12.171875 29.828125 \r\nQ 18.359375 34.515625 30.609375 34.515625 \r\nL 43.21875 34.515625 \r\nL 43.21875 35.40625 \r\nQ 43.21875 41.609375 39.140625 45 \r\nQ 35.0625 48.390625 27.6875 48.390625 \r\nQ 23 48.390625 18.546875 47.265625 \r\nQ 14.109375 46.140625 10.015625 43.890625 \r\nL 10.015625 52.203125 \r\nQ 14.9375 54.109375 19.578125 55.046875 \r\nQ 24.21875 56 28.609375 56 \r\nQ 40.484375 56 46.34375 49.84375 \r\nQ 52.203125 43.703125 52.203125 31.203125 \r\nz\r\n\" id=\"DejaVuSans-97\"/>\r\n       <path d=\"M 41.109375 46.296875 \r\nQ 39.59375 47.171875 37.8125 47.578125 \r\nQ 36.03125 48 33.890625 48 \r\nQ 26.265625 48 22.1875 43.046875 \r\nQ 18.109375 38.09375 18.109375 28.8125 \r\nL 18.109375 0 \r\nL 9.078125 0 \r\nL 9.078125 54.6875 \r\nL 18.109375 54.6875 \r\nL 18.109375 46.1875 \r\nQ 20.953125 51.171875 25.484375 53.578125 \r\nQ 30.03125 56 36.53125 56 \r\nQ 37.453125 56 38.578125 55.875 \r\nQ 39.703125 55.765625 41.0625 55.515625 \r\nz\r\n\" id=\"DejaVuSans-114\"/>\r\n      </defs>\r\n      <g transform=\"translate(59.45344 242.738438)scale(0.1 -0.1)\">\r\n       <use xlink:href=\"#DejaVuSans-77\"/>\r\n       <use x=\"86.279297\" xlink:href=\"#DejaVuSans-97\"/>\r\n       <use x=\"147.558594\" xlink:href=\"#DejaVuSans-114\"/>\r\n      </g>\r\n      <!-- 2019 -->\r\n      <defs>\r\n       <path d=\"M 19.1875 8.296875 \r\nL 53.609375 8.296875 \r\nL 53.609375 0 \r\nL 7.328125 0 \r\nL 7.328125 8.296875 \r\nQ 12.9375 14.109375 22.625 23.890625 \r\nQ 32.328125 33.6875 34.8125 36.53125 \r\nQ 39.546875 41.84375 41.421875 45.53125 \r\nQ 43.3125 49.21875 43.3125 52.78125 \r\nQ 43.3125 58.59375 39.234375 62.25 \r\nQ 35.15625 65.921875 28.609375 65.921875 \r\nQ 23.96875 65.921875 18.8125 64.3125 \r\nQ 13.671875 62.703125 7.8125 59.421875 \r\nL 7.8125 69.390625 \r\nQ 13.765625 71.78125 18.9375 73 \r\nQ 24.125 74.21875 28.421875 74.21875 \r\nQ 39.75 74.21875 46.484375 68.546875 \r\nQ 53.21875 62.890625 53.21875 53.421875 \r\nQ 53.21875 48.921875 51.53125 44.890625 \r\nQ 49.859375 40.875 45.40625 35.40625 \r\nQ 44.1875 33.984375 37.640625 27.21875 \r\nQ 31.109375 20.453125 19.1875 8.296875 \r\nz\r\n\" id=\"DejaVuSans-50\"/>\r\n       <path d=\"M 31.78125 66.40625 \r\nQ 24.171875 66.40625 20.328125 58.90625 \r\nQ 16.5 51.421875 16.5 36.375 \r\nQ 16.5 21.390625 20.328125 13.890625 \r\nQ 24.171875 6.390625 31.78125 6.390625 \r\nQ 39.453125 6.390625 43.28125 13.890625 \r\nQ 47.125 21.390625 47.125 36.375 \r\nQ 47.125 51.421875 43.28125 58.90625 \r\nQ 39.453125 66.40625 31.78125 66.40625 \r\nz\r\nM 31.78125 74.21875 \r\nQ 44.046875 74.21875 50.515625 64.515625 \r\nQ 56.984375 54.828125 56.984375 36.375 \r\nQ 56.984375 17.96875 50.515625 8.265625 \r\nQ 44.046875 -1.421875 31.78125 -1.421875 \r\nQ 19.53125 -1.421875 13.0625 8.265625 \r\nQ 6.59375 17.96875 6.59375 36.375 \r\nQ 6.59375 54.828125 13.0625 64.515625 \r\nQ 19.53125 74.21875 31.78125 74.21875 \r\nz\r\n\" id=\"DejaVuSans-48\"/>\r\n       <path d=\"M 12.40625 8.296875 \r\nL 28.515625 8.296875 \r\nL 28.515625 63.921875 \r\nL 10.984375 60.40625 \r\nL 10.984375 69.390625 \r\nL 28.421875 72.90625 \r\nL 38.28125 72.90625 \r\nL 38.28125 8.296875 \r\nL 54.390625 8.296875 \r\nL 54.390625 0 \r\nL 12.40625 0 \r\nz\r\n\" id=\"DejaVuSans-49\"/>\r\n       <path d=\"M 10.984375 1.515625 \r\nL 10.984375 10.5 \r\nQ 14.703125 8.734375 18.5 7.8125 \r\nQ 22.3125 6.890625 25.984375 6.890625 \r\nQ 35.75 6.890625 40.890625 13.453125 \r\nQ 46.046875 20.015625 46.78125 33.40625 \r\nQ 43.953125 29.203125 39.59375 26.953125 \r\nQ 35.25 24.703125 29.984375 24.703125 \r\nQ 19.046875 24.703125 12.671875 31.3125 \r\nQ 6.296875 37.9375 6.296875 49.421875 \r\nQ 6.296875 60.640625 12.9375 67.421875 \r\nQ 19.578125 74.21875 30.609375 74.21875 \r\nQ 43.265625 74.21875 49.921875 64.515625 \r\nQ 56.59375 54.828125 56.59375 36.375 \r\nQ 56.59375 19.140625 48.40625 8.859375 \r\nQ 40.234375 -1.421875 26.421875 -1.421875 \r\nQ 22.703125 -1.421875 18.890625 -0.6875 \r\nQ 15.09375 0.046875 10.984375 1.515625 \r\nz\r\nM 30.609375 32.421875 \r\nQ 37.25 32.421875 41.125 36.953125 \r\nQ 45.015625 41.5 45.015625 49.421875 \r\nQ 45.015625 57.28125 41.125 61.84375 \r\nQ 37.25 66.40625 30.609375 66.40625 \r\nQ 23.96875 66.40625 20.09375 61.84375 \r\nQ 16.21875 57.28125 16.21875 49.421875 \r\nQ 16.21875 41.5 20.09375 36.953125 \r\nQ 23.96875 32.421875 30.609375 32.421875 \r\nz\r\n\" id=\"DejaVuSans-57\"/>\r\n      </defs>\r\n      <g transform=\"translate(56.162034 253.93625)scale(0.1 -0.1)\">\r\n       <use xlink:href=\"#DejaVuSans-50\"/>\r\n       <use x=\"63.623047\" xlink:href=\"#DejaVuSans-48\"/>\r\n       <use x=\"127.246094\" xlink:href=\"#DejaVuSans-49\"/>\r\n       <use x=\"190.869141\" xlink:href=\"#DejaVuSans-57\"/>\r\n      </g>\r\n     </g>\r\n    </g>\r\n    <g id=\"xtick_3\">\r\n     <g id=\"line2d_3\">\r\n      <g>\r\n       <use style=\"stroke:#000000;stroke-width:0.8;\" x=\"133.35163\" xlink:href=\"#m6a44f07fd1\" y=\"228.14\"/>\r\n      </g>\r\n     </g>\r\n     <g id=\"text_2\">\r\n      <!-- Apr -->\r\n      <defs>\r\n       <path d=\"M 34.1875 63.1875 \r\nL 20.796875 26.90625 \r\nL 47.609375 26.90625 \r\nz\r\nM 28.609375 72.90625 \r\nL 39.796875 72.90625 \r\nL 67.578125 0 \r\nL 57.328125 0 \r\nL 50.6875 18.703125 \r\nL 17.828125 18.703125 \r\nL 11.1875 0 \r\nL 0.78125 0 \r\nz\r\n\" id=\"DejaVuSans-65\"/>\r\n       <path d=\"M 18.109375 8.203125 \r\nL 18.109375 -20.796875 \r\nL 9.078125 -20.796875 \r\nL 9.078125 54.6875 \r\nL 18.109375 54.6875 \r\nL 18.109375 46.390625 \r\nQ 20.953125 51.265625 25.265625 53.625 \r\nQ 29.59375 56 35.59375 56 \r\nQ 45.5625 56 51.78125 48.09375 \r\nQ 58.015625 40.1875 58.015625 27.296875 \r\nQ 58.015625 14.40625 51.78125 6.484375 \r\nQ 45.5625 -1.421875 35.59375 -1.421875 \r\nQ 29.59375 -1.421875 25.265625 0.953125 \r\nQ 20.953125 3.328125 18.109375 8.203125 \r\nz\r\nM 48.6875 27.296875 \r\nQ 48.6875 37.203125 44.609375 42.84375 \r\nQ 40.53125 48.484375 33.40625 48.484375 \r\nQ 26.265625 48.484375 22.1875 42.84375 \r\nQ 18.109375 37.203125 18.109375 27.296875 \r\nQ 18.109375 17.390625 22.1875 11.75 \r\nQ 26.265625 6.109375 33.40625 6.109375 \r\nQ 40.53125 6.109375 44.609375 11.75 \r\nQ 48.6875 17.390625 48.6875 27.296875 \r\nz\r\n\" id=\"DejaVuSans-112\"/>\r\n      </defs>\r\n      <g transform=\"translate(124.70163 242.738438)scale(0.1 -0.1)\">\r\n       <use xlink:href=\"#DejaVuSans-65\"/>\r\n       <use x=\"68.408203\" xlink:href=\"#DejaVuSans-112\"/>\r\n       <use x=\"131.884766\" xlink:href=\"#DejaVuSans-114\"/>\r\n      </g>\r\n     </g>\r\n    </g>\r\n    <g id=\"xtick_4\">\r\n     <g id=\"line2d_4\">\r\n      <g>\r\n       <use style=\"stroke:#000000;stroke-width:0.8;\" x=\"195.736724\" xlink:href=\"#m6a44f07fd1\" y=\"228.14\"/>\r\n      </g>\r\n     </g>\r\n     <g id=\"text_3\">\r\n      <!-- May -->\r\n      <defs>\r\n       <path d=\"M 32.171875 -5.078125 \r\nQ 28.375 -14.84375 24.75 -17.8125 \r\nQ 21.140625 -20.796875 15.09375 -20.796875 \r\nL 7.90625 -20.796875 \r\nL 7.90625 -13.28125 \r\nL 13.1875 -13.28125 \r\nQ 16.890625 -13.28125 18.9375 -11.515625 \r\nQ 21 -9.765625 23.484375 -3.21875 \r\nL 25.09375 0.875 \r\nL 2.984375 54.6875 \r\nL 12.5 54.6875 \r\nL 29.59375 11.921875 \r\nL 46.6875 54.6875 \r\nL 56.203125 54.6875 \r\nz\r\n\" id=\"DejaVuSans-121\"/>\r\n      </defs>\r\n      <g transform=\"translate(185.399224 242.738438)scale(0.1 -0.1)\">\r\n       <use xlink:href=\"#DejaVuSans-77\"/>\r\n       <use x=\"86.279297\" xlink:href=\"#DejaVuSans-97\"/>\r\n       <use x=\"147.558594\" xlink:href=\"#DejaVuSans-121\"/>\r\n      </g>\r\n     </g>\r\n    </g>\r\n    <g id=\"xtick_5\">\r\n     <g id=\"line2d_5\">\r\n      <g>\r\n       <use style=\"stroke:#000000;stroke-width:0.8;\" x=\"260.20132\" xlink:href=\"#m6a44f07fd1\" y=\"228.14\"/>\r\n      </g>\r\n     </g>\r\n     <g id=\"text_4\">\r\n      <!-- Jun -->\r\n      <defs>\r\n       <path d=\"M 9.8125 72.90625 \r\nL 19.671875 72.90625 \r\nL 19.671875 5.078125 \r\nQ 19.671875 -8.109375 14.671875 -14.0625 \r\nQ 9.671875 -20.015625 -1.421875 -20.015625 \r\nL -5.171875 -20.015625 \r\nL -5.171875 -11.71875 \r\nL -2.09375 -11.71875 \r\nQ 4.4375 -11.71875 7.125 -8.046875 \r\nQ 9.8125 -4.390625 9.8125 5.078125 \r\nz\r\n\" id=\"DejaVuSans-74\"/>\r\n       <path d=\"M 8.5 21.578125 \r\nL 8.5 54.6875 \r\nL 17.484375 54.6875 \r\nL 17.484375 21.921875 \r\nQ 17.484375 14.15625 20.5 10.265625 \r\nQ 23.53125 6.390625 29.59375 6.390625 \r\nQ 36.859375 6.390625 41.078125 11.03125 \r\nQ 45.3125 15.671875 45.3125 23.6875 \r\nL 45.3125 54.6875 \r\nL 54.296875 54.6875 \r\nL 54.296875 0 \r\nL 45.3125 0 \r\nL 45.3125 8.40625 \r\nQ 42.046875 3.421875 37.71875 1 \r\nQ 33.40625 -1.421875 27.6875 -1.421875 \r\nQ 18.265625 -1.421875 13.375 4.4375 \r\nQ 8.5 10.296875 8.5 21.578125 \r\nz\r\nM 31.109375 56 \r\nz\r\n\" id=\"DejaVuSans-117\"/>\r\n       <path d=\"M 54.890625 33.015625 \r\nL 54.890625 0 \r\nL 45.90625 0 \r\nL 45.90625 32.71875 \r\nQ 45.90625 40.484375 42.875 44.328125 \r\nQ 39.84375 48.1875 33.796875 48.1875 \r\nQ 26.515625 48.1875 22.3125 43.546875 \r\nQ 18.109375 38.921875 18.109375 30.90625 \r\nL 18.109375 0 \r\nL 9.078125 0 \r\nL 9.078125 54.6875 \r\nL 18.109375 54.6875 \r\nL 18.109375 46.1875 \r\nQ 21.34375 51.125 25.703125 53.5625 \r\nQ 30.078125 56 35.796875 56 \r\nQ 45.21875 56 50.046875 50.171875 \r\nQ 54.890625 44.34375 54.890625 33.015625 \r\nz\r\n\" id=\"DejaVuSans-110\"/>\r\n      </defs>\r\n      <g transform=\"translate(252.38882 242.738438)scale(0.1 -0.1)\">\r\n       <use xlink:href=\"#DejaVuSans-74\"/>\r\n       <use x=\"29.492188\" xlink:href=\"#DejaVuSans-117\"/>\r\n       <use x=\"92.871094\" xlink:href=\"#DejaVuSans-110\"/>\r\n      </g>\r\n     </g>\r\n    </g>\r\n    <g id=\"xtick_6\">\r\n     <g id=\"line2d_6\">\r\n      <g>\r\n       <use style=\"stroke:#000000;stroke-width:0.8;\" x=\"322.586413\" xlink:href=\"#m6a44f07fd1\" y=\"228.14\"/>\r\n      </g>\r\n     </g>\r\n     <g id=\"text_5\">\r\n      <!-- Jul -->\r\n      <defs>\r\n       <path d=\"M 9.421875 75.984375 \r\nL 18.40625 75.984375 \r\nL 18.40625 0 \r\nL 9.421875 0 \r\nz\r\n\" id=\"DejaVuSans-108\"/>\r\n      </defs>\r\n      <g transform=\"translate(316.553601 242.738438)scale(0.1 -0.1)\">\r\n       <use xlink:href=\"#DejaVuSans-74\"/>\r\n       <use x=\"29.492188\" xlink:href=\"#DejaVuSans-117\"/>\r\n       <use x=\"92.871094\" xlink:href=\"#DejaVuSans-108\"/>\r\n      </g>\r\n     </g>\r\n    </g>\r\n    <g id=\"xtick_7\">\r\n     <g id=\"line2d_7\">\r\n      <g>\r\n       <use style=\"stroke:#000000;stroke-width:0.8;\" x=\"380.8125\" xlink:href=\"#m6a44f07fd1\" y=\"228.14\"/>\r\n      </g>\r\n     </g>\r\n    </g>\r\n    <g id=\"xtick_8\">\r\n     <g id=\"line2d_8\">\r\n      <defs>\r\n       <path d=\"M 0 0 \r\nL 0 2 \r\n\" id=\"me557f8bb43\" style=\"stroke:#000000;stroke-width:0.6;\"/>\r\n      </defs>\r\n      <g>\r\n       <use style=\"stroke:#000000;stroke-width:0.6;\" x=\"46.0125\" xlink:href=\"#me557f8bb43\" y=\"228.14\"/>\r\n      </g>\r\n     </g>\r\n    </g>\r\n    <g id=\"xtick_9\">\r\n     <g id=\"line2d_9\">\r\n      <g>\r\n       <use style=\"stroke:#000000;stroke-width:0.6;\" x=\"60.569022\" xlink:href=\"#me557f8bb43\" y=\"228.14\"/>\r\n      </g>\r\n     </g>\r\n    </g>\r\n    <g id=\"xtick_10\">\r\n     <g id=\"line2d_10\">\r\n      <g>\r\n       <use style=\"stroke:#000000;stroke-width:0.6;\" x=\"75.125543\" xlink:href=\"#me557f8bb43\" y=\"228.14\"/>\r\n      </g>\r\n     </g>\r\n    </g>\r\n    <g id=\"xtick_11\">\r\n     <g id=\"line2d_11\">\r\n      <g>\r\n       <use style=\"stroke:#000000;stroke-width:0.6;\" x=\"89.682065\" xlink:href=\"#me557f8bb43\" y=\"228.14\"/>\r\n      </g>\r\n     </g>\r\n    </g>\r\n    <g id=\"xtick_12\">\r\n     <g id=\"line2d_12\">\r\n      <g>\r\n       <use style=\"stroke:#000000;stroke-width:0.6;\" x=\"104.238587\" xlink:href=\"#me557f8bb43\" y=\"228.14\"/>\r\n      </g>\r\n     </g>\r\n    </g>\r\n    <g id=\"xtick_13\">\r\n     <g id=\"line2d_13\">\r\n      <g>\r\n       <use style=\"stroke:#000000;stroke-width:0.6;\" x=\"118.795109\" xlink:href=\"#me557f8bb43\" y=\"228.14\"/>\r\n      </g>\r\n     </g>\r\n    </g>\r\n    <g id=\"xtick_14\">\r\n     <g id=\"line2d_14\">\r\n      <g>\r\n       <use style=\"stroke:#000000;stroke-width:0.6;\" x=\"147.908152\" xlink:href=\"#me557f8bb43\" y=\"228.14\"/>\r\n      </g>\r\n     </g>\r\n    </g>\r\n    <g id=\"xtick_15\">\r\n     <g id=\"line2d_15\">\r\n      <g>\r\n       <use style=\"stroke:#000000;stroke-width:0.6;\" x=\"162.464674\" xlink:href=\"#me557f8bb43\" y=\"228.14\"/>\r\n      </g>\r\n     </g>\r\n    </g>\r\n    <g id=\"xtick_16\">\r\n     <g id=\"line2d_16\">\r\n      <g>\r\n       <use style=\"stroke:#000000;stroke-width:0.6;\" x=\"177.021196\" xlink:href=\"#me557f8bb43\" y=\"228.14\"/>\r\n      </g>\r\n     </g>\r\n    </g>\r\n    <g id=\"xtick_17\">\r\n     <g id=\"line2d_17\">\r\n      <g>\r\n       <use style=\"stroke:#000000;stroke-width:0.6;\" x=\"191.577717\" xlink:href=\"#me557f8bb43\" y=\"228.14\"/>\r\n      </g>\r\n     </g>\r\n    </g>\r\n    <g id=\"xtick_18\">\r\n     <g id=\"line2d_18\">\r\n      <g>\r\n       <use style=\"stroke:#000000;stroke-width:0.6;\" x=\"206.134239\" xlink:href=\"#me557f8bb43\" y=\"228.14\"/>\r\n      </g>\r\n     </g>\r\n    </g>\r\n    <g id=\"xtick_19\">\r\n     <g id=\"line2d_19\">\r\n      <g>\r\n       <use style=\"stroke:#000000;stroke-width:0.6;\" x=\"220.690761\" xlink:href=\"#me557f8bb43\" y=\"228.14\"/>\r\n      </g>\r\n     </g>\r\n    </g>\r\n    <g id=\"xtick_20\">\r\n     <g id=\"line2d_20\">\r\n      <g>\r\n       <use style=\"stroke:#000000;stroke-width:0.6;\" x=\"235.247283\" xlink:href=\"#me557f8bb43\" y=\"228.14\"/>\r\n      </g>\r\n     </g>\r\n    </g>\r\n    <g id=\"xtick_21\">\r\n     <g id=\"line2d_21\">\r\n      <g>\r\n       <use style=\"stroke:#000000;stroke-width:0.6;\" x=\"249.803804\" xlink:href=\"#me557f8bb43\" y=\"228.14\"/>\r\n      </g>\r\n     </g>\r\n    </g>\r\n    <g id=\"xtick_22\">\r\n     <g id=\"line2d_22\">\r\n      <g>\r\n       <use style=\"stroke:#000000;stroke-width:0.6;\" x=\"264.360326\" xlink:href=\"#me557f8bb43\" y=\"228.14\"/>\r\n      </g>\r\n     </g>\r\n    </g>\r\n    <g id=\"xtick_23\">\r\n     <g id=\"line2d_23\">\r\n      <g>\r\n       <use style=\"stroke:#000000;stroke-width:0.6;\" x=\"278.916848\" xlink:href=\"#me557f8bb43\" y=\"228.14\"/>\r\n      </g>\r\n     </g>\r\n    </g>\r\n    <g id=\"xtick_24\">\r\n     <g id=\"line2d_24\">\r\n      <g>\r\n       <use style=\"stroke:#000000;stroke-width:0.6;\" x=\"293.47337\" xlink:href=\"#me557f8bb43\" y=\"228.14\"/>\r\n      </g>\r\n     </g>\r\n    </g>\r\n    <g id=\"xtick_25\">\r\n     <g id=\"line2d_25\">\r\n      <g>\r\n       <use style=\"stroke:#000000;stroke-width:0.6;\" x=\"308.029891\" xlink:href=\"#me557f8bb43\" y=\"228.14\"/>\r\n      </g>\r\n     </g>\r\n    </g>\r\n    <g id=\"xtick_26\">\r\n     <g id=\"line2d_26\">\r\n      <g>\r\n       <use style=\"stroke:#000000;stroke-width:0.6;\" x=\"337.142935\" xlink:href=\"#me557f8bb43\" y=\"228.14\"/>\r\n      </g>\r\n     </g>\r\n    </g>\r\n    <g id=\"xtick_27\">\r\n     <g id=\"line2d_27\">\r\n      <g>\r\n       <use style=\"stroke:#000000;stroke-width:0.6;\" x=\"351.699457\" xlink:href=\"#me557f8bb43\" y=\"228.14\"/>\r\n      </g>\r\n     </g>\r\n    </g>\r\n    <g id=\"xtick_28\">\r\n     <g id=\"line2d_28\">\r\n      <g>\r\n       <use style=\"stroke:#000000;stroke-width:0.6;\" x=\"366.255978\" xlink:href=\"#me557f8bb43\" y=\"228.14\"/>\r\n      </g>\r\n     </g>\r\n    </g>\r\n    <g id=\"xtick_29\">\r\n     <g id=\"line2d_29\">\r\n      <g>\r\n       <use style=\"stroke:#000000;stroke-width:0.6;\" x=\"380.8125\" xlink:href=\"#me557f8bb43\" y=\"228.14\"/>\r\n      </g>\r\n     </g>\r\n    </g>\r\n   </g>\r\n   <g id=\"matplotlib.axis_2\">\r\n    <g id=\"ytick_1\">\r\n     <g id=\"line2d_30\">\r\n      <defs>\r\n       <path d=\"M 0 0 \r\nL -3.5 0 \r\n\" id=\"m088d7e5824\" style=\"stroke:#000000;stroke-width:0.8;\"/>\r\n      </defs>\r\n      <g>\r\n       <use style=\"stroke:#000000;stroke-width:0.8;\" x=\"46.0125\" xlink:href=\"#m088d7e5824\" y=\"208.918633\"/>\r\n      </g>\r\n     </g>\r\n     <g id=\"text_6\">\r\n      <!-- 4000 -->\r\n      <defs>\r\n       <path d=\"M 37.796875 64.3125 \r\nL 12.890625 25.390625 \r\nL 37.796875 25.390625 \r\nz\r\nM 35.203125 72.90625 \r\nL 47.609375 72.90625 \r\nL 47.609375 25.390625 \r\nL 58.015625 25.390625 \r\nL 58.015625 17.1875 \r\nL 47.609375 17.1875 \r\nL 47.609375 0 \r\nL 37.796875 0 \r\nL 37.796875 17.1875 \r\nL 4.890625 17.1875 \r\nL 4.890625 26.703125 \r\nz\r\n\" id=\"DejaVuSans-52\"/>\r\n      </defs>\r\n      <g transform=\"translate(13.5625 212.717851)scale(0.1 -0.1)\">\r\n       <use xlink:href=\"#DejaVuSans-52\"/>\r\n       <use x=\"63.623047\" xlink:href=\"#DejaVuSans-48\"/>\r\n       <use x=\"127.246094\" xlink:href=\"#DejaVuSans-48\"/>\r\n       <use x=\"190.869141\" xlink:href=\"#DejaVuSans-48\"/>\r\n      </g>\r\n     </g>\r\n    </g>\r\n    <g id=\"ytick_2\">\r\n     <g id=\"line2d_31\">\r\n      <g>\r\n       <use style=\"stroke:#000000;stroke-width:0.8;\" x=\"46.0125\" xlink:href=\"#m088d7e5824\" y=\"166.65922\"/>\r\n      </g>\r\n     </g>\r\n     <g id=\"text_7\">\r\n      <!-- 6000 -->\r\n      <defs>\r\n       <path d=\"M 33.015625 40.375 \r\nQ 26.375 40.375 22.484375 35.828125 \r\nQ 18.609375 31.296875 18.609375 23.390625 \r\nQ 18.609375 15.53125 22.484375 10.953125 \r\nQ 26.375 6.390625 33.015625 6.390625 \r\nQ 39.65625 6.390625 43.53125 10.953125 \r\nQ 47.40625 15.53125 47.40625 23.390625 \r\nQ 47.40625 31.296875 43.53125 35.828125 \r\nQ 39.65625 40.375 33.015625 40.375 \r\nz\r\nM 52.59375 71.296875 \r\nL 52.59375 62.3125 \r\nQ 48.875 64.0625 45.09375 64.984375 \r\nQ 41.3125 65.921875 37.59375 65.921875 \r\nQ 27.828125 65.921875 22.671875 59.328125 \r\nQ 17.53125 52.734375 16.796875 39.40625 \r\nQ 19.671875 43.65625 24.015625 45.921875 \r\nQ 28.375 48.1875 33.59375 48.1875 \r\nQ 44.578125 48.1875 50.953125 41.515625 \r\nQ 57.328125 34.859375 57.328125 23.390625 \r\nQ 57.328125 12.15625 50.6875 5.359375 \r\nQ 44.046875 -1.421875 33.015625 -1.421875 \r\nQ 20.359375 -1.421875 13.671875 8.265625 \r\nQ 6.984375 17.96875 6.984375 36.375 \r\nQ 6.984375 53.65625 15.1875 63.9375 \r\nQ 23.390625 74.21875 37.203125 74.21875 \r\nQ 40.921875 74.21875 44.703125 73.484375 \r\nQ 48.484375 72.75 52.59375 71.296875 \r\nz\r\n\" id=\"DejaVuSans-54\"/>\r\n      </defs>\r\n      <g transform=\"translate(13.5625 170.458438)scale(0.1 -0.1)\">\r\n       <use xlink:href=\"#DejaVuSans-54\"/>\r\n       <use x=\"63.623047\" xlink:href=\"#DejaVuSans-48\"/>\r\n       <use x=\"127.246094\" xlink:href=\"#DejaVuSans-48\"/>\r\n       <use x=\"190.869141\" xlink:href=\"#DejaVuSans-48\"/>\r\n      </g>\r\n     </g>\r\n    </g>\r\n    <g id=\"ytick_3\">\r\n     <g id=\"line2d_32\">\r\n      <g>\r\n       <use style=\"stroke:#000000;stroke-width:0.8;\" x=\"46.0125\" xlink:href=\"#m088d7e5824\" y=\"124.399807\"/>\r\n      </g>\r\n     </g>\r\n     <g id=\"text_8\">\r\n      <!-- 8000 -->\r\n      <defs>\r\n       <path d=\"M 31.78125 34.625 \r\nQ 24.75 34.625 20.71875 30.859375 \r\nQ 16.703125 27.09375 16.703125 20.515625 \r\nQ 16.703125 13.921875 20.71875 10.15625 \r\nQ 24.75 6.390625 31.78125 6.390625 \r\nQ 38.8125 6.390625 42.859375 10.171875 \r\nQ 46.921875 13.96875 46.921875 20.515625 \r\nQ 46.921875 27.09375 42.890625 30.859375 \r\nQ 38.875 34.625 31.78125 34.625 \r\nz\r\nM 21.921875 38.8125 \r\nQ 15.578125 40.375 12.03125 44.71875 \r\nQ 8.5 49.078125 8.5 55.328125 \r\nQ 8.5 64.0625 14.71875 69.140625 \r\nQ 20.953125 74.21875 31.78125 74.21875 \r\nQ 42.671875 74.21875 48.875 69.140625 \r\nQ 55.078125 64.0625 55.078125 55.328125 \r\nQ 55.078125 49.078125 51.53125 44.71875 \r\nQ 48 40.375 41.703125 38.8125 \r\nQ 48.828125 37.15625 52.796875 32.3125 \r\nQ 56.78125 27.484375 56.78125 20.515625 \r\nQ 56.78125 9.90625 50.3125 4.234375 \r\nQ 43.84375 -1.421875 31.78125 -1.421875 \r\nQ 19.734375 -1.421875 13.25 4.234375 \r\nQ 6.78125 9.90625 6.78125 20.515625 \r\nQ 6.78125 27.484375 10.78125 32.3125 \r\nQ 14.796875 37.15625 21.921875 38.8125 \r\nz\r\nM 18.3125 54.390625 \r\nQ 18.3125 48.734375 21.84375 45.5625 \r\nQ 25.390625 42.390625 31.78125 42.390625 \r\nQ 38.140625 42.390625 41.71875 45.5625 \r\nQ 45.3125 48.734375 45.3125 54.390625 \r\nQ 45.3125 60.0625 41.71875 63.234375 \r\nQ 38.140625 66.40625 31.78125 66.40625 \r\nQ 25.390625 66.40625 21.84375 63.234375 \r\nQ 18.3125 60.0625 18.3125 54.390625 \r\nz\r\n\" id=\"DejaVuSans-56\"/>\r\n      </defs>\r\n      <g transform=\"translate(13.5625 128.199025)scale(0.1 -0.1)\">\r\n       <use xlink:href=\"#DejaVuSans-56\"/>\r\n       <use x=\"63.623047\" xlink:href=\"#DejaVuSans-48\"/>\r\n       <use x=\"127.246094\" xlink:href=\"#DejaVuSans-48\"/>\r\n       <use x=\"190.869141\" xlink:href=\"#DejaVuSans-48\"/>\r\n      </g>\r\n     </g>\r\n    </g>\r\n    <g id=\"ytick_4\">\r\n     <g id=\"line2d_33\">\r\n      <g>\r\n       <use style=\"stroke:#000000;stroke-width:0.8;\" x=\"46.0125\" xlink:href=\"#m088d7e5824\" y=\"82.140394\"/>\r\n      </g>\r\n     </g>\r\n     <g id=\"text_9\">\r\n      <!-- 10000 -->\r\n      <g transform=\"translate(7.2 85.939612)scale(0.1 -0.1)\">\r\n       <use xlink:href=\"#DejaVuSans-49\"/>\r\n       <use x=\"63.623047\" xlink:href=\"#DejaVuSans-48\"/>\r\n       <use x=\"127.246094\" xlink:href=\"#DejaVuSans-48\"/>\r\n       <use x=\"190.869141\" xlink:href=\"#DejaVuSans-48\"/>\r\n       <use x=\"254.492188\" xlink:href=\"#DejaVuSans-48\"/>\r\n      </g>\r\n     </g>\r\n    </g>\r\n    <g id=\"ytick_5\">\r\n     <g id=\"line2d_34\">\r\n      <g>\r\n       <use style=\"stroke:#000000;stroke-width:0.8;\" x=\"46.0125\" xlink:href=\"#m088d7e5824\" y=\"39.88098\"/>\r\n      </g>\r\n     </g>\r\n     <g id=\"text_10\">\r\n      <!-- 12000 -->\r\n      <g transform=\"translate(7.2 43.680199)scale(0.1 -0.1)\">\r\n       <use xlink:href=\"#DejaVuSans-49\"/>\r\n       <use x=\"63.623047\" xlink:href=\"#DejaVuSans-50\"/>\r\n       <use x=\"127.246094\" xlink:href=\"#DejaVuSans-48\"/>\r\n       <use x=\"190.869141\" xlink:href=\"#DejaVuSans-48\"/>\r\n       <use x=\"254.492188\" xlink:href=\"#DejaVuSans-48\"/>\r\n      </g>\r\n     </g>\r\n    </g>\r\n   </g>\r\n   <g id=\"line2d_35\">\r\n    <path clip-path=\"url(#p9a603107e1)\" d=\"M 46.0125 215.871998 \r\nL 48.092003 210.766001 \r\nL 50.171506 210.519419 \r\nL 52.251009 209.466947 \r\nL 54.330512 210.248958 \r\nL 56.410016 209.266638 \r\nL 58.489519 205.768408 \r\nL 60.569022 213.744232 \r\nL 62.648525 212.182961 \r\nL 64.728028 212.766777 \r\nL 66.807531 212.49547 \r\nL 68.887034 212.65077 \r\nL 73.04604 212.237265 \r\nL 75.125543 212.884466 \r\nL 77.205047 214.596607 \r\nL 79.28455 211.577174 \r\nL 81.364053 211.560269 \r\nL 83.443556 211.399047 \r\nL 85.523059 211.707331 \r\nL 87.602562 210.022871 \r\nL 89.682065 210.401091 \r\nL 91.761568 211.562172 \r\nL 93.841071 211.273114 \r\nL 95.920575 211.487161 \r\nL 98.000078 211.423772 \r\nL 100.079581 210.459409 \r\nL 102.159084 208.347919 \r\nL 104.238587 208.960892 \r\nL 106.31809 209.154227 \r\nL 110.477096 207.719522 \r\nL 112.556599 208.983502 \r\nL 116.715606 208.766288 \r\nL 118.795109 209.043084 \r\nL 120.874612 210.512868 \r\nL 122.954115 210.139508 \r\nL 125.033618 207.947089 \r\nL 127.113121 208.148456 \r\nL 129.192624 206.565208 \r\nL 131.272127 206.422583 \r\nL 133.35163 206.537527 \r\nL 135.431134 205.721289 \r\nL 137.510637 189.755464 \r\nL 139.59014 188.283576 \r\nL 141.669643 189.619607 \r\nL 143.749146 186.79097 \r\nL 145.828649 186.57925 \r\nL 147.908152 183.538471 \r\nL 149.987655 181.574894 \r\nL 152.067158 183.53552 \r\nL 154.146661 181.056999 \r\nL 156.226165 186.762866 \r\nL 158.305668 186.066855 \r\nL 160.385171 186.084601 \r\nL 162.464674 184.290061 \r\nL 164.544177 187.001421 \r\nL 166.62368 183.292312 \r\nL 168.703183 182.796827 \r\nL 170.782686 181.666594 \r\nL 172.862189 181.544468 \r\nL 174.941693 180.896835 \r\nL 177.021196 181.328725 \r\nL 179.100699 179.449666 \r\nL 181.180202 176.397899 \r\nL 183.259705 178.183782 \r\nL 185.339208 184.351758 \r\nL 187.418711 182.842676 \r\nL 189.498214 182.940081 \r\nL 191.577717 182.032133 \r\nL 193.65722 182.760902 \r\nL 195.736724 180.380003 \r\nL 197.816227 179.558059 \r\nL 199.89573 177.208855 \r\nL 201.975233 171.87023 \r\nL 204.054736 170.038281 \r\nL 208.213742 171.980315 \r\nL 210.293245 170.471656 \r\nL 216.531755 159.088656 \r\nL 218.611258 141.486135 \r\nL 220.690761 146.002187 \r\nL 222.770264 128.491366 \r\nL 224.849767 124.819656 \r\nL 226.92927 120.515531 \r\nL 229.008773 127.059828 \r\nL 231.088276 137.670108 \r\nL 233.16778 139.907319 \r\nL 235.247283 120.318822 \r\nL 237.326786 124.435937 \r\nL 239.406289 125.500027 \r\nL 241.485792 132.283508 \r\nL 243.565295 127.009325 \r\nL 245.644798 124.475876 \r\nL 247.724301 123.150409 \r\nL 249.803804 109.05477 \r\nL 251.883307 107.809397 \r\nL 253.962811 109.210725 \r\nL 256.042314 110.357858 \r\nL 258.121817 118.562725 \r\nL 260.20132 112.764313 \r\nL 262.280823 112.654434 \r\nL 264.360326 108.807981 \r\nL 266.439829 121.980661 \r\nL 268.519332 131.214766 \r\nL 270.598835 128.809787 \r\nL 272.678339 128.470236 \r\nL 274.757842 124.344238 \r\nL 276.837345 125.79902 \r\nL 278.916848 131.933816 \r\nL 280.996351 123.956083 \r\nL 283.075854 126.146814 \r\nL 285.155357 120.720277 \r\nL 287.23486 119.422275 \r\nL 289.314363 109.736636 \r\nL 291.393866 106.364343 \r\nL 293.47337 103.710027 \r\nL 295.552873 96.170312 \r\nL 297.632376 101.543593 \r\nL 299.711879 97.342371 \r\nL 301.791382 91.926625 \r\nL 303.870885 77.515732 \r\nL 305.950388 67.570615 \r\nL 308.029891 64.053571 \r\nL 310.109394 60.255506 \r\nL 312.188898 45.367523 \r\nL 314.268401 20.583636 \r\nL 316.347904 57.754814 \r\nL 318.427407 32.378676 \r\nL 320.50691 42.329922 \r\nL 322.586413 65.890597 \r\nL 324.665916 69.634352 \r\nL 326.745419 64.304177 \r\nL 328.824922 40.269548 \r\nL 330.904425 57.703475 \r\nL 332.983929 61.153313 \r\nL 335.063432 55.750649 \r\nL 337.142935 50.989284 \r\nL 339.222438 33.623203 \r\nL 341.301941 27.900024 \r\nL 343.381444 37.786602 \r\nL 345.460947 53.76066 \r\nL 347.54045 44.16249 \r\nL 349.619953 53.320113 \r\nL 351.699457 77.821267 \r\nL 353.77896 64.174654 \r\nL 355.858463 94.322928 \r\nL 357.937966 88.560647 \r\nL 360.017469 68.652254 \r\nL 362.096972 70.879519 \r\nL 364.176475 66.094073 \r\nL 366.255978 69.743384 \r\nL 368.335481 75.254854 \r\nL 370.414984 85.222153 \r\nL 372.494488 86.955016 \r\nL 374.573991 84.62462 \r\nL 376.653494 85.363726 \r\nL 378.732997 93.163332 \r\nL 380.8125 92.033966 \r\nL 380.8125 92.033966 \r\n\" style=\"fill:none;stroke:#1f77b4;stroke-linecap:square;stroke-width:1.5;\"/>\r\n   </g>\r\n   <g id=\"line2d_36\">\r\n    <path clip-path=\"url(#p9a603107e1)\" d=\"M 46.0125 218.256364 \r\nL 48.092003 218.197132 \r\nL 50.171506 217.937102 \r\nL 52.251009 217.420972 \r\nL 56.410016 215.787128 \r\nL 58.489519 214.755312 \r\nL 62.648525 214.240388 \r\nL 66.807531 214.417298 \r\nL 68.887034 214.932149 \r\nL 70.966537 216.121175 \r\nL 73.04604 215.920107 \r\nL 77.205047 215.936104 \r\nL 85.523059 216.136759 \r\nL 87.602562 215.957327 \r\nL 89.682065 215.401779 \r\nL 98.000078 214.962146 \r\nL 102.159084 215.353944 \r\nL 106.31809 215.018628 \r\nL 112.556599 213.864624 \r\nL 114.636102 213.894297 \r\nL 118.795109 213.701173 \r\nL 120.874612 213.775004 \r\nL 122.954115 214.024738 \r\nL 129.192624 214.349978 \r\nL 131.272127 214.263344 \r\nL 135.431134 213.149325 \r\nL 137.510637 212.880535 \r\nL 139.59014 212.089063 \r\nL 141.669643 210.516118 \r\nL 143.749146 207.673012 \r\nL 147.908152 199.613071 \r\nL 149.987655 198.829342 \r\nL 152.067158 197.885005 \r\nL 154.146661 196.346344 \r\nL 156.226165 195.238272 \r\nL 158.305668 194.415307 \r\nL 160.385171 194.689416 \r\nL 162.464674 195.666799 \r\nL 164.544177 196.254943 \r\nL 166.62368 197.331846 \r\nL 170.782686 196.55045 \r\nL 174.941693 195.301145 \r\nL 177.021196 193.973461 \r\nL 183.259705 192.379561 \r\nL 185.339208 191.54177 \r\nL 187.418711 191.12937 \r\nL 189.498214 191.147796 \r\nL 191.577717 192.052639 \r\nL 193.65722 193.683402 \r\nL 195.736724 194.707522 \r\nL 197.816227 194.132811 \r\nL 199.89573 193.678966 \r\nL 201.975233 192.836677 \r\nL 204.054736 191.480238 \r\nL 210.293245 184.443344 \r\nL 212.372748 182.908077 \r\nL 214.452252 182.401202 \r\nL 216.531755 181.539795 \r\nL 218.611258 179.347588 \r\nL 220.690761 174.50286 \r\nL 222.770264 168.161719 \r\nL 224.849767 160.228113 \r\nL 229.008773 142.516291 \r\nL 231.088276 137.859739 \r\nL 233.16778 135.394043 \r\nL 235.247283 137.940585 \r\nL 237.326786 139.664142 \r\nL 239.406289 140.151714 \r\nL 241.485792 138.569864 \r\nL 243.565295 136.383868 \r\nL 245.644798 135.095575 \r\nL 247.724301 136.289383 \r\nL 249.803804 135.999046 \r\nL 251.883307 133.367871 \r\nL 253.962811 128.448467 \r\nL 256.042314 124.356846 \r\nL 258.121817 121.524196 \r\nL 260.20132 120.931378 \r\nL 262.280823 122.244896 \r\nL 264.360326 123.273453 \r\nL 266.439829 123.227025 \r\nL 268.519332 123.930744 \r\nL 270.598835 125.967841 \r\nL 274.757842 133.638183 \r\nL 276.837345 136.609341 \r\nL 278.916848 136.829944 \r\nL 280.996351 136.308377 \r\nL 285.155357 135.79235 \r\nL 287.23486 135.274404 \r\nL 289.314363 133.727014 \r\nL 293.47337 126.58377 \r\nL 297.632376 118.116731 \r\nL 299.711879 114.945955 \r\nL 303.870885 111.354379 \r\nL 305.950388 108.068215 \r\nL 308.029891 103.446215 \r\nL 310.109394 98.085378 \r\nL 314.268401 89.545943 \r\nL 316.347904 84.293292 \r\nL 320.50691 81.130253 \r\nL 322.586413 80.750207 \r\nL 324.665916 82.991978 \r\nL 326.745419 86.532257 \r\nL 328.824922 89.028079 \r\nL 330.904425 88.651191 \r\nL 332.983929 87.760111 \r\nL 335.063432 87.250295 \r\nL 337.142935 87.109671 \r\nL 339.222438 86.806097 \r\nL 341.301941 84.943546 \r\nL 343.381444 81.705254 \r\nL 345.460947 79.737756 \r\nL 347.54045 80.384544 \r\nL 349.619953 81.458445 \r\nL 351.699457 83.144178 \r\nL 353.77896 86.702553 \r\nL 355.858463 89.444318 \r\nL 360.017469 98.460657 \r\nL 362.096972 99.906143 \r\nL 364.176475 98.64938 \r\nL 366.255978 96.836662 \r\nL 368.335481 94.290284 \r\nL 370.414984 93.805333 \r\nL 372.494488 95.740744 \r\nL 374.573991 98.29261 \r\nL 376.653494 100.591064 \r\nL 380.8125 103.514866 \r\nL 380.8125 103.514866 \r\n\" style=\"fill:none;stroke:#ff7f0e;stroke-linecap:square;stroke-width:1.5;\"/>\r\n   </g>\r\n   <g id=\"patch_3\">\r\n    <path d=\"M 46.0125 228.14 \r\nL 46.0125 10.7 \r\n\" style=\"fill:none;stroke:#000000;stroke-linecap:square;stroke-linejoin:miter;stroke-width:0.8;\"/>\r\n   </g>\r\n   <g id=\"patch_4\">\r\n    <path d=\"M 380.8125 228.14 \r\nL 380.8125 10.7 \r\n\" style=\"fill:none;stroke:#000000;stroke-linecap:square;stroke-linejoin:miter;stroke-width:0.8;\"/>\r\n   </g>\r\n   <g id=\"patch_5\">\r\n    <path d=\"M 46.0125 228.14 \r\nL 380.8125 228.14 \r\n\" style=\"fill:none;stroke:#000000;stroke-linecap:square;stroke-linejoin:miter;stroke-width:0.8;\"/>\r\n   </g>\r\n   <g id=\"patch_6\">\r\n    <path d=\"M 46.0125 10.7 \r\nL 380.8125 10.7 \r\n\" style=\"fill:none;stroke:#000000;stroke-linecap:square;stroke-linejoin:miter;stroke-width:0.8;\"/>\r\n   </g>\r\n   <g id=\"legend_1\">\r\n    <g id=\"patch_7\">\r\n     <path d=\"M 53.0125 48.05625 \r\nL 132.348437 48.05625 \r\nQ 134.348437 48.05625 134.348437 46.05625 \r\nL 134.348437 17.7 \r\nQ 134.348437 15.7 132.348437 15.7 \r\nL 53.0125 15.7 \r\nQ 51.0125 15.7 51.0125 17.7 \r\nL 51.0125 46.05625 \r\nQ 51.0125 48.05625 53.0125 48.05625 \r\nz\r\n\" style=\"fill:#ffffff;opacity:0.8;stroke:#cccccc;stroke-linejoin:miter;\"/>\r\n    </g>\r\n    <g id=\"line2d_37\">\r\n     <path d=\"M 55.0125 23.798437 \r\nL 75.0125 23.798437 \r\n\" style=\"fill:none;stroke:#1f77b4;stroke-linecap:square;stroke-width:1.5;\"/>\r\n    </g>\r\n    <g id=\"line2d_38\"/>\r\n    <g id=\"text_11\">\r\n     <!-- Real -->\r\n     <defs>\r\n      <path d=\"M 44.390625 34.1875 \r\nQ 47.5625 33.109375 50.5625 29.59375 \r\nQ 53.5625 26.078125 56.59375 19.921875 \r\nL 66.609375 0 \r\nL 56 0 \r\nL 46.6875 18.703125 \r\nQ 43.0625 26.03125 39.671875 28.421875 \r\nQ 36.28125 30.8125 30.421875 30.8125 \r\nL 19.671875 30.8125 \r\nL 19.671875 0 \r\nL 9.8125 0 \r\nL 9.8125 72.90625 \r\nL 32.078125 72.90625 \r\nQ 44.578125 72.90625 50.734375 67.671875 \r\nQ 56.890625 62.453125 56.890625 51.90625 \r\nQ 56.890625 45.015625 53.6875 40.46875 \r\nQ 50.484375 35.9375 44.390625 34.1875 \r\nz\r\nM 19.671875 64.796875 \r\nL 19.671875 38.921875 \r\nL 32.078125 38.921875 \r\nQ 39.203125 38.921875 42.84375 42.21875 \r\nQ 46.484375 45.515625 46.484375 51.90625 \r\nQ 46.484375 58.296875 42.84375 61.546875 \r\nQ 39.203125 64.796875 32.078125 64.796875 \r\nz\r\n\" id=\"DejaVuSans-82\"/>\r\n      <path d=\"M 56.203125 29.59375 \r\nL 56.203125 25.203125 \r\nL 14.890625 25.203125 \r\nQ 15.484375 15.921875 20.484375 11.0625 \r\nQ 25.484375 6.203125 34.421875 6.203125 \r\nQ 39.59375 6.203125 44.453125 7.46875 \r\nQ 49.3125 8.734375 54.109375 11.28125 \r\nL 54.109375 2.78125 \r\nQ 49.265625 0.734375 44.1875 -0.34375 \r\nQ 39.109375 -1.421875 33.890625 -1.421875 \r\nQ 20.796875 -1.421875 13.15625 6.1875 \r\nQ 5.515625 13.8125 5.515625 26.8125 \r\nQ 5.515625 40.234375 12.765625 48.109375 \r\nQ 20.015625 56 32.328125 56 \r\nQ 43.359375 56 49.78125 48.890625 \r\nQ 56.203125 41.796875 56.203125 29.59375 \r\nz\r\nM 47.21875 32.234375 \r\nQ 47.125 39.59375 43.09375 43.984375 \r\nQ 39.0625 48.390625 32.421875 48.390625 \r\nQ 24.90625 48.390625 20.390625 44.140625 \r\nQ 15.875 39.890625 15.1875 32.171875 \r\nz\r\n\" id=\"DejaVuSans-101\"/>\r\n     </defs>\r\n     <g transform=\"translate(83.0125 27.298437)scale(0.1 -0.1)\">\r\n      <use xlink:href=\"#DejaVuSans-82\"/>\r\n      <use x=\"69.419922\" xlink:href=\"#DejaVuSans-101\"/>\r\n      <use x=\"130.943359\" xlink:href=\"#DejaVuSans-97\"/>\r\n      <use x=\"192.222656\" xlink:href=\"#DejaVuSans-108\"/>\r\n     </g>\r\n    </g>\r\n    <g id=\"line2d_39\">\r\n     <path d=\"M 55.0125 38.476562 \r\nL 75.0125 38.476562 \r\n\" style=\"fill:none;stroke:#ff7f0e;stroke-linecap:square;stroke-width:1.5;\"/>\r\n    </g>\r\n    <g id=\"line2d_40\"/>\r\n    <g id=\"text_12\">\r\n     <!-- Predicted -->\r\n     <defs>\r\n      <path d=\"M 19.671875 64.796875 \r\nL 19.671875 37.40625 \r\nL 32.078125 37.40625 \r\nQ 38.96875 37.40625 42.71875 40.96875 \r\nQ 46.484375 44.53125 46.484375 51.125 \r\nQ 46.484375 57.671875 42.71875 61.234375 \r\nQ 38.96875 64.796875 32.078125 64.796875 \r\nz\r\nM 9.8125 72.90625 \r\nL 32.078125 72.90625 \r\nQ 44.34375 72.90625 50.609375 67.359375 \r\nQ 56.890625 61.8125 56.890625 51.125 \r\nQ 56.890625 40.328125 50.609375 34.8125 \r\nQ 44.34375 29.296875 32.078125 29.296875 \r\nL 19.671875 29.296875 \r\nL 19.671875 0 \r\nL 9.8125 0 \r\nz\r\n\" id=\"DejaVuSans-80\"/>\r\n      <path d=\"M 45.40625 46.390625 \r\nL 45.40625 75.984375 \r\nL 54.390625 75.984375 \r\nL 54.390625 0 \r\nL 45.40625 0 \r\nL 45.40625 8.203125 \r\nQ 42.578125 3.328125 38.25 0.953125 \r\nQ 33.9375 -1.421875 27.875 -1.421875 \r\nQ 17.96875 -1.421875 11.734375 6.484375 \r\nQ 5.515625 14.40625 5.515625 27.296875 \r\nQ 5.515625 40.1875 11.734375 48.09375 \r\nQ 17.96875 56 27.875 56 \r\nQ 33.9375 56 38.25 53.625 \r\nQ 42.578125 51.265625 45.40625 46.390625 \r\nz\r\nM 14.796875 27.296875 \r\nQ 14.796875 17.390625 18.875 11.75 \r\nQ 22.953125 6.109375 30.078125 6.109375 \r\nQ 37.203125 6.109375 41.296875 11.75 \r\nQ 45.40625 17.390625 45.40625 27.296875 \r\nQ 45.40625 37.203125 41.296875 42.84375 \r\nQ 37.203125 48.484375 30.078125 48.484375 \r\nQ 22.953125 48.484375 18.875 42.84375 \r\nQ 14.796875 37.203125 14.796875 27.296875 \r\nz\r\n\" id=\"DejaVuSans-100\"/>\r\n      <path d=\"M 9.421875 54.6875 \r\nL 18.40625 54.6875 \r\nL 18.40625 0 \r\nL 9.421875 0 \r\nz\r\nM 9.421875 75.984375 \r\nL 18.40625 75.984375 \r\nL 18.40625 64.59375 \r\nL 9.421875 64.59375 \r\nz\r\n\" id=\"DejaVuSans-105\"/>\r\n      <path d=\"M 48.78125 52.59375 \r\nL 48.78125 44.1875 \r\nQ 44.96875 46.296875 41.140625 47.34375 \r\nQ 37.3125 48.390625 33.40625 48.390625 \r\nQ 24.65625 48.390625 19.8125 42.84375 \r\nQ 14.984375 37.3125 14.984375 27.296875 \r\nQ 14.984375 17.28125 19.8125 11.734375 \r\nQ 24.65625 6.203125 33.40625 6.203125 \r\nQ 37.3125 6.203125 41.140625 7.25 \r\nQ 44.96875 8.296875 48.78125 10.40625 \r\nL 48.78125 2.09375 \r\nQ 45.015625 0.34375 40.984375 -0.53125 \r\nQ 36.96875 -1.421875 32.421875 -1.421875 \r\nQ 20.0625 -1.421875 12.78125 6.34375 \r\nQ 5.515625 14.109375 5.515625 27.296875 \r\nQ 5.515625 40.671875 12.859375 48.328125 \r\nQ 20.21875 56 33.015625 56 \r\nQ 37.15625 56 41.109375 55.140625 \r\nQ 45.0625 54.296875 48.78125 52.59375 \r\nz\r\n\" id=\"DejaVuSans-99\"/>\r\n      <path d=\"M 18.3125 70.21875 \r\nL 18.3125 54.6875 \r\nL 36.8125 54.6875 \r\nL 36.8125 47.703125 \r\nL 18.3125 47.703125 \r\nL 18.3125 18.015625 \r\nQ 18.3125 11.328125 20.140625 9.421875 \r\nQ 21.96875 7.515625 27.59375 7.515625 \r\nL 36.8125 7.515625 \r\nL 36.8125 0 \r\nL 27.59375 0 \r\nQ 17.1875 0 13.234375 3.875 \r\nQ 9.28125 7.765625 9.28125 18.015625 \r\nL 9.28125 47.703125 \r\nL 2.6875 47.703125 \r\nL 2.6875 54.6875 \r\nL 9.28125 54.6875 \r\nL 9.28125 70.21875 \r\nz\r\n\" id=\"DejaVuSans-116\"/>\r\n     </defs>\r\n     <g transform=\"translate(83.0125 41.976562)scale(0.1 -0.1)\">\r\n      <use xlink:href=\"#DejaVuSans-80\"/>\r\n      <use x=\"60.287109\" xlink:href=\"#DejaVuSans-114\"/>\r\n      <use x=\"101.369141\" xlink:href=\"#DejaVuSans-101\"/>\r\n      <use x=\"162.892578\" xlink:href=\"#DejaVuSans-100\"/>\r\n      <use x=\"226.369141\" xlink:href=\"#DejaVuSans-105\"/>\r\n      <use x=\"254.152344\" xlink:href=\"#DejaVuSans-99\"/>\r\n      <use x=\"309.132812\" xlink:href=\"#DejaVuSans-116\"/>\r\n      <use x=\"348.341797\" xlink:href=\"#DejaVuSans-101\"/>\r\n      <use x=\"409.865234\" xlink:href=\"#DejaVuSans-100\"/>\r\n     </g>\r\n    </g>\r\n   </g>\r\n  </g>\r\n </g>\r\n <defs>\r\n  <clipPath id=\"p9a603107e1\">\r\n   <rect height=\"217.44\" width=\"334.8\" x=\"46.0125\" y=\"10.7\"/>\r\n  </clipPath>\r\n </defs>\r\n</svg>\r\n",
      "image/png": "[encoded data removed]"
     },
     "metadata": {
      "needs_background": "light"
     }
    }
   ],
   "source": [
    "# Plot the real vs predicted values as a line chart\n",
    "stocks.plot()"
   ]
  },
  {
   "cell_type": "code",
   "execution_count": null,
   "metadata": {},
   "outputs": [],
   "source": []
  }
 ],
 "metadata": {
  "file_extension": ".py",
  "kernelspec": {
   "name": "python3",
   "display_name": "Python 3.7.9 64-bit ('pyvizenv': conda)",
   "metadata": {
    "interpreter": {
     "hash": "a3d83b3bb7a284bee10f9f12036d8156a359fe396990fa5060485ae25a957122"
    }
   }
  },
  "language_info": {
   "codemirror_mode": {
    "name": "ipython",
    "version": 3
   },
   "file_extension": ".py",
   "mimetype": "text/x-python",
   "name": "python",
   "nbconvert_exporter": "python",
   "pygments_lexer": "ipython3",
   "version": "3.7.9-final"
  },
  "mimetype": "text/x-python",
  "name": "python",
  "npconvert_exporter": "python",
  "pygments_lexer": "ipython3",
  "version": 3
 },
 "nbformat": 4,
 "nbformat_minor": 4
}