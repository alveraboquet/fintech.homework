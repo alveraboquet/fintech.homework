{
 "cells": [
  {
   "cell_type": "markdown",
   "metadata": {},
   "source": [
    "# LSTM Stock Predictor Using Fear and Greed Index\n",
    "\n",
    "In this notebook, you will build and train a custom LSTM RNN that uses a 10 day window of Bitcoin fear and greed index values to predict the 11th day closing price. \n",
    "\n",
    "You will need to:\n",
    "\n",
    "1. Prepare the data for training and testing\n",
    "2. Build and train a custom LSTM RNN\n",
    "3. Evaluate the performance of the model"
   ]
  },
  {
   "cell_type": "markdown",
   "metadata": {},
   "source": [
    "## Data Preparation\n",
    "\n",
    "In this section, you will need to prepare the training and testing data for the model. The model will use a rolling 10 day window to predict the 11th day closing price.\n",
    "\n",
    "You will need to:\n",
    "1. Use the `window_data` function to generate the X and y values for the model.\n",
    "2. Split the data into 70% training and 30% testing\n",
    "3. Apply the MinMaxScaler to the X and y values\n",
    "4. Reshape the X_train and X_test data for the model. Note: The required input format for the LSTM is:\n",
    "\n",
    "```python\n",
    "reshape((X_train.shape[0], X_train.shape[1], 1))\n",
    "```"
   ]
  },
  {
   "cell_type": "code",
   "execution_count": 160,
   "metadata": {},
   "outputs": [],
   "source": [
    "import numpy as np\n",
    "import pandas as pd\n",
    "import hvplot.pandas"
   ]
  },
  {
   "cell_type": "code",
   "execution_count": 161,
   "metadata": {},
   "outputs": [],
   "source": [
    "from pathlib import Path\n",
    "from numpy.random import seed"
   ]
  },
  {
   "cell_type": "code",
   "execution_count": 162,
   "metadata": {},
   "outputs": [],
   "source": [
    "from sklearn.preprocessing import MinMaxScaler"
   ]
  },
  {
   "cell_type": "code",
   "execution_count": 163,
   "metadata": {},
   "outputs": [],
   "source": [
    "from tensorflow import random\n",
    "from tensorflow.keras.models import Sequential\n",
    "from tensorflow.keras.layers import LSTM, Dense, Dropout"
   ]
  },
  {
   "cell_type": "code",
   "execution_count": 164,
   "metadata": {},
   "outputs": [],
   "source": [
    "# Set the random seed for reproducibility\n",
    "# Note: This is for the homework solution, but it is good practice to comment this out and run multiple experiments to evaluate your model\n",
    "seed(1)\n",
    "random.set_seed(2)"
   ]
  },
  {
   "cell_type": "code",
   "execution_count": 165,
   "metadata": {},
   "outputs": [
    {
     "output_type": "execute_result",
     "data": {
      "text/plain": [
       "             fng_value\n",
       "date                  \n",
       "2019-07-29          19\n",
       "2019-07-28          16\n",
       "2019-07-27          47\n",
       "2019-07-26          24\n",
       "2019-07-25          42"
      ],
      "text/html": "<div>\n<style scoped>\n    .dataframe tbody tr th:only-of-type {\n        vertical-align: middle;\n    }\n\n    .dataframe tbody tr th {\n        vertical-align: top;\n    }\n\n    .dataframe thead th {\n        text-align: right;\n    }\n</style>\n<table border=\"1\" class=\"dataframe\">\n  <thead>\n    <tr style=\"text-align: right;\">\n      <th></th>\n      <th>fng_value</th>\n    </tr>\n    <tr>\n      <th>date</th>\n      <th></th>\n    </tr>\n  </thead>\n  <tbody>\n    <tr>\n      <th>2019-07-29</th>\n      <td>19</td>\n    </tr>\n    <tr>\n      <th>2019-07-28</th>\n      <td>16</td>\n    </tr>\n    <tr>\n      <th>2019-07-27</th>\n      <td>47</td>\n    </tr>\n    <tr>\n      <th>2019-07-26</th>\n      <td>24</td>\n    </tr>\n    <tr>\n      <th>2019-07-25</th>\n      <td>42</td>\n    </tr>\n  </tbody>\n</table>\n</div>"
     },
     "metadata": {},
     "execution_count": 165
    }
   ],
   "source": [
    "# Load the fear and greed sentiment data for Bitcoin\n",
    "df = pd.read_csv(\n",
    "    Path('data/btc_sentiment.csv'),\n",
    "    index_col=\"date\",\n",
    "    infer_datetime_format=True,\n",
    "    parse_dates=True)\n",
    "\n",
    "df = df.drop(columns=\"fng_classification\")\n",
    "df.head()"
   ]
  },
  {
   "cell_type": "code",
   "execution_count": 166,
   "metadata": {},
   "outputs": [
    {
     "output_type": "execute_result",
     "data": {
      "text/plain": [
       "Date\n",
       "2019-07-25    9882.429688\n",
       "2019-07-26    9847.450195\n",
       "2019-07-27    9478.320313\n",
       "2019-07-28    9531.769531\n",
       "2019-07-29    9529.889648\n",
       "Name: Close, dtype: float64"
      ]
     },
     "metadata": {},
     "execution_count": 166
    }
   ],
   "source": [
    "# Load the historical closing prices for Bitcoin\n",
    "df2 = pd.read_csv(\n",
    "    Path('data/btc_historic.csv'),\n",
    "    index_col=\"Date\",\n",
    "    infer_datetime_format=True,\n",
    "    parse_dates=True)['Close']\n",
    "\n",
    "df2 = df2.sort_index()\n",
    "df2.tail()"
   ]
  },
  {
   "cell_type": "code",
   "execution_count": 167,
   "metadata": {},
   "outputs": [
    {
     "output_type": "execute_result",
     "data": {
      "text/plain": [
       "             fng_value        Close\n",
       "2019-07-25          42  9882.429688\n",
       "2019-07-26          24  9847.450195\n",
       "2019-07-27          47  9478.320313\n",
       "2019-07-28          16  9531.769531\n",
       "2019-07-29          19  9529.889648"
      ],
      "text/html": "<div>\n<style scoped>\n    .dataframe tbody tr th:only-of-type {\n        vertical-align: middle;\n    }\n\n    .dataframe tbody tr th {\n        vertical-align: top;\n    }\n\n    .dataframe thead th {\n        text-align: right;\n    }\n</style>\n<table border=\"1\" class=\"dataframe\">\n  <thead>\n    <tr style=\"text-align: right;\">\n      <th></th>\n      <th>fng_value</th>\n      <th>Close</th>\n    </tr>\n  </thead>\n  <tbody>\n    <tr>\n      <th>2019-07-25</th>\n      <td>42</td>\n      <td>9882.429688</td>\n    </tr>\n    <tr>\n      <th>2019-07-26</th>\n      <td>24</td>\n      <td>9847.450195</td>\n    </tr>\n    <tr>\n      <th>2019-07-27</th>\n      <td>47</td>\n      <td>9478.320313</td>\n    </tr>\n    <tr>\n      <th>2019-07-28</th>\n      <td>16</td>\n      <td>9531.769531</td>\n    </tr>\n    <tr>\n      <th>2019-07-29</th>\n      <td>19</td>\n      <td>9529.889648</td>\n    </tr>\n  </tbody>\n</table>\n</div>"
     },
     "metadata": {},
     "execution_count": 167
    }
   ],
   "source": [
    "# Join the data into a single DataFrame\n",
    "df = df.join(df2, how=\"inner\")\n",
    "df.tail()"
   ]
  },
  {
   "cell_type": "code",
   "execution_count": 168,
   "metadata": {},
   "outputs": [
    {
     "output_type": "execute_result",
     "data": {
      "text/plain": [
       "             fng_value        Close\n",
       "2018-02-01          30  9114.719727\n",
       "2018-02-02          15  8870.820313\n",
       "2018-02-03          40  9251.269531\n",
       "2018-02-04          24  8218.049805\n",
       "2018-02-05          11  6937.080078"
      ],
      "text/html": "<div>\n<style scoped>\n    .dataframe tbody tr th:only-of-type {\n        vertical-align: middle;\n    }\n\n    .dataframe tbody tr th {\n        vertical-align: top;\n    }\n\n    .dataframe thead th {\n        text-align: right;\n    }\n</style>\n<table border=\"1\" class=\"dataframe\">\n  <thead>\n    <tr style=\"text-align: right;\">\n      <th></th>\n      <th>fng_value</th>\n      <th>Close</th>\n    </tr>\n  </thead>\n  <tbody>\n    <tr>\n      <th>2018-02-01</th>\n      <td>30</td>\n      <td>9114.719727</td>\n    </tr>\n    <tr>\n      <th>2018-02-02</th>\n      <td>15</td>\n      <td>8870.820313</td>\n    </tr>\n    <tr>\n      <th>2018-02-03</th>\n      <td>40</td>\n      <td>9251.269531</td>\n    </tr>\n    <tr>\n      <th>2018-02-04</th>\n      <td>24</td>\n      <td>8218.049805</td>\n    </tr>\n    <tr>\n      <th>2018-02-05</th>\n      <td>11</td>\n      <td>6937.080078</td>\n    </tr>\n  </tbody>\n</table>\n</div>"
     },
     "metadata": {},
     "execution_count": 168
    }
   ],
   "source": [
    "df.head()"
   ]
  },
  {
   "cell_type": "code",
   "execution_count": 169,
   "metadata": {},
   "outputs": [],
   "source": [
    "# This function accepts the column number for the features (X) and the target (y)\n",
    "# It chunks the data up with a rolling window of Xt-n to predict Xt\n",
    "# It returns a numpy array of X any y\n",
    "def window_data(df, window, feature_col_number, target_col_number):\n",
    "    X = []\n",
    "    y = []\n",
    "    for i in range(len(df) - window - 1):\n",
    "        features = df.iloc[i:(i + window), feature_col_number]\n",
    "        target = df.iloc[(i + window), target_col_number]\n",
    "        X.append(features)\n",
    "        y.append(target)\n",
    "    return np.array(X), np.array(y).reshape(-1, 1)"
   ]
  },
  {
   "cell_type": "code",
   "execution_count": 170,
   "metadata": {},
   "outputs": [
    {
     "output_type": "stream",
     "name": "stdout",
     "text": [
      "Feature data type: <class 'numpy.ndarray'>\nTarget data type: <class 'numpy.ndarray'>\n"
     ]
    }
   ],
   "source": [
    "# Predict Closing Prices using a 10 day window of previous fng values\n",
    "# Then, experiment with window sizes anywhere from 1 to 10 and see how the model performance changes\n",
    "window_size = 10\n",
    "\n",
    "# Column index 0 is the 'fng_value' column\n",
    "# Column index 1 is the `Close` column\n",
    "feature_column = 0\n",
    "target_column = 1\n",
    "X, y = window_data(df, window_size, feature_column, target_column)\n",
    "\n",
    "# Inspect type\n",
    "print(f'Feature data type: {type(X)}\\nTarget data type: {type(y)}')"
   ]
  },
  {
   "cell_type": "code",
   "execution_count": 171,
   "metadata": {},
   "outputs": [
    {
     "output_type": "execute_result",
     "data": {
      "text/plain": [
       "(532, 10)"
      ]
     },
     "metadata": {},
     "execution_count": 171
    }
   ],
   "source": [
    "X.shape"
   ]
  },
  {
   "cell_type": "code",
   "execution_count": 172,
   "metadata": {},
   "outputs": [
    {
     "output_type": "execute_result",
     "data": {
      "text/plain": [
       "array([[30, 15, 40, 24, 11,  8, 36, 30, 44, 54],\n",
       "       [15, 40, 24, 11,  8, 36, 30, 44, 54, 31],\n",
       "       [40, 24, 11,  8, 36, 30, 44, 54, 31, 42]], dtype=int64)"
      ]
     },
     "metadata": {},
     "execution_count": 172
    }
   ],
   "source": [
    "# Inspect data\n",
    "X[:3]"
   ]
  },
  {
   "cell_type": "code",
   "execution_count": 173,
   "metadata": {},
   "outputs": [],
   "source": [
    "# Use 70% of the data for training and the remaineder for testing\n",
    "split = int(0.7 * len(X))\n",
    "X_train = X[: split]\n",
    "X_test = X[split:]\n",
    "y_train = y[: split]\n",
    "y_test = y[split:]"
   ]
  },
  {
   "cell_type": "code",
   "execution_count": 174,
   "metadata": {},
   "outputs": [],
   "source": [
    "# Use the MinMaxScaler to scale data between 0 and 1.\n",
    "scaler = MinMaxScaler()"
   ]
  },
  {
   "cell_type": "code",
   "execution_count": 175,
   "metadata": {},
   "outputs": [
    {
     "output_type": "execute_result",
     "data": {
      "text/plain": [
       "array([[0.25287356, 0.08045977, 0.36781609, 0.18390805, 0.03448276,\n",
       "        0.        , 0.31395349, 0.24418605, 0.40697674, 0.52325581],\n",
       "       [0.08045977, 0.36781609, 0.18390805, 0.03448276, 0.        ,\n",
       "        0.32183908, 0.24418605, 0.40697674, 0.52325581, 0.25581395],\n",
       "       [0.36781609, 0.18390805, 0.03448276, 0.        , 0.32183908,\n",
       "        0.25287356, 0.40697674, 0.52325581, 0.25581395, 0.38372093]])"
      ]
     },
     "metadata": {},
     "execution_count": 175
    }
   ],
   "source": [
    "# Reshape the features for the model\n",
    "scaler.fit(X)\n",
    "X_train = scaler.transform(X_train)\n",
    "X_test = scaler.transform(X_test)\n",
    "X_train[:3]"
   ]
  },
  {
   "cell_type": "code",
   "execution_count": 176,
   "metadata": {},
   "outputs": [
    {
     "output_type": "execute_result",
     "data": {
      "text/plain": [
       "array([[0.5012101 ],\n",
       "       [0.58660203],\n",
       "       [0.5487353 ]])"
      ]
     },
     "metadata": {},
     "execution_count": 176
    }
   ],
   "source": [
    "# Fit and scale target data\n",
    "scaler.fit(y)\n",
    "y_train = scaler.transform(y_train)\n",
    "y_test = scaler.transform(y_test)\n",
    "y_train[:3]"
   ]
  },
  {
   "cell_type": "code",
   "execution_count": 177,
   "metadata": {},
   "outputs": [
    {
     "output_type": "stream",
     "name": "stdout",
     "text": [
      "X_train shape: (372, 10)\nrows: 372\ncols: 10\n"
     ]
    }
   ],
   "source": [
    "# Make sure we understand np.array shape\n",
    "print (f'X_train shape: {X_train.shape}\\nrows: {X_train.shape[0]}\\ncols: {X_train.shape[1]}')"
   ]
  },
  {
   "cell_type": "code",
   "execution_count": 178,
   "metadata": {},
   "outputs": [],
   "source": [
    "# Reshape the features for the model\n",
    "# Keras needs vertical vector\n",
    "X_train = X_train.reshape((X_train.shape[0], X_train.shape[1], 1))\n",
    "X_test = X_test.reshape((X_test.shape[0], X_test.shape[1], 1))"
   ]
  },
  {
   "cell_type": "code",
   "execution_count": 179,
   "metadata": {},
   "outputs": [
    {
     "output_type": "stream",
     "name": "stdout",
     "text": [
      "X_train shape: (372, 10, 1)\nrows: 372\ncols: 10\n"
     ]
    }
   ],
   "source": [
    "print (f'X_train shape: {X_train.shape}\\nrows: {X_train.shape[0]}\\ncols: {X_train.shape[1]}')"
   ]
  },
  {
   "cell_type": "code",
   "execution_count": 180,
   "metadata": {},
   "outputs": [
    {
     "output_type": "stream",
     "name": "stdout",
     "text": [
      "X_train sample values:\n[[[0.25287356]\n  [0.08045977]\n  [0.36781609]\n  [0.18390805]\n  [0.03448276]\n  [0.        ]\n  [0.31395349]\n  [0.24418605]\n  [0.40697674]\n  [0.52325581]]\n\n [[0.08045977]\n  [0.36781609]\n  [0.18390805]\n  [0.03448276]\n  [0.        ]\n  [0.32183908]\n  [0.24418605]\n  [0.40697674]\n  [0.52325581]\n  [0.25581395]]] \n\nX_test sample values:\n[[[0.36781609]\n  [0.43678161]\n  [0.34482759]\n  [0.45977011]\n  [0.45977011]\n  [0.40229885]\n  [0.39534884]\n  [0.37209302]\n  [0.3372093 ]\n  [0.62790698]]\n\n [[0.43678161]\n  [0.34482759]\n  [0.45977011]\n  [0.45977011]\n  [0.40229885]\n  [0.40229885]\n  [0.37209302]\n  [0.3372093 ]\n  [0.62790698]\n  [0.65116279]]]\n"
     ]
    }
   ],
   "source": [
    "print (f\"X_train sample values:\\n{X_train[:2]} \\n\")\n",
    "print (f\"X_test sample values:\\n{X_test[:2]}\")"
   ]
  },
  {
   "cell_type": "markdown",
   "metadata": {},
   "source": [
    "---"
   ]
  },
  {
   "cell_type": "markdown",
   "metadata": {},
   "source": [
    "## Build and Train the LSTM RNN\n",
    "\n",
    "In this section, you will design a custom LSTM RNN and fit (train) it using the training data.\n",
    "\n",
    "You will need to:\n",
    "1. Define the model architecture\n",
    "2. Compile the model\n",
    "3. Fit the model to the training data\n",
    "\n",
    "### Hints:\n",
    "You will want to use the same model architecture and random seed for both notebooks. This is necessary to accurately compare the performance of the FNG model vs the closing price model. "
   ]
  },
  {
   "cell_type": "code",
   "execution_count": 181,
   "metadata": {},
   "outputs": [],
   "source": [
    "# Build the LSTM model. \n",
    "# The return sequences need to be set to True if you are adding additional LSTM layers, but \n",
    "# You don't have to do this for the final layer. \n",
    "# Note: The dropouts help prevent overfitting\n",
    "# Note: The input shape is the number of time steps and the number of indicators\n",
    "# Note: Batching inputs has a different input shape of Samples/TimeSteps/Features\n",
    "\n",
    "# Model params\n",
    "number_units = 10\n",
    "dropout_fraction = 0.2\n",
    "\n",
    "# Define LSTM RNN model.\n",
    "model = Sequential()\n",
    "\n",
    "# Layer 1\n",
    "model.add(LSTM(units=number_units, return_sequences=True, input_shape=(X_train.shape[1], 1)))\n",
    "model.add(Dropout(dropout_fraction))\n",
    "\n",
    "# Layer 2\n",
    "model.add(LSTM(units=number_units, return_sequences=True))\n",
    "model.add(Dropout(dropout_fraction))\n",
    "\n",
    "# Layer 3\n",
    "model.add(LSTM(units=number_units))\n",
    "model.add(Dropout(dropout_fraction))\n",
    "\n",
    "# Output layer\n",
    "model.add(Dense(1))"
   ]
  },
  {
   "cell_type": "code",
   "execution_count": 182,
   "metadata": {},
   "outputs": [],
   "source": [
    "# Compile the model\n",
    "model.compile(optimizer=\"adam\", loss=\"mean_squared_error\")"
   ]
  },
  {
   "cell_type": "code",
   "execution_count": 183,
   "metadata": {},
   "outputs": [
    {
     "output_type": "stream",
     "name": "stdout",
     "text": [
      "Model: \"sequential_6\"\n_________________________________________________________________\nLayer (type)                 Output Shape              Param #   \n=================================================================\nlstm_18 (LSTM)               (None, 10, 10)            480       \n_________________________________________________________________\ndropout_18 (Dropout)         (None, 10, 10)            0         \n_________________________________________________________________\nlstm_19 (LSTM)               (None, 10, 10)            840       \n_________________________________________________________________\ndropout_19 (Dropout)         (None, 10, 10)            0         \n_________________________________________________________________\nlstm_20 (LSTM)               (None, 10)                840       \n_________________________________________________________________\ndropout_20 (Dropout)         (None, 10)                0         \n_________________________________________________________________\ndense_6 (Dense)              (None, 1)                 11        \n=================================================================\nTotal params: 2,171\nTrainable params: 2,171\nNon-trainable params: 0\n_________________________________________________________________\n"
     ]
    }
   ],
   "source": [
    "# Summarize the model\n",
    "model.summary()"
   ]
  },
  {
   "cell_type": "code",
   "execution_count": 184,
   "metadata": {},
   "outputs": [
    {
     "output_type": "stream",
     "name": "stdout",
     "text": [
      "Epoch 1/100\n",
      "93/93 [==============================] - 4s 5ms/step - loss: 0.1794\n",
      "Epoch 2/100\n",
      "93/93 [==============================] - 0s 5ms/step - loss: 0.1245\n",
      "Epoch 3/100\n",
      "93/93 [==============================] - 0s 5ms/step - loss: 0.1120\n",
      "Epoch 4/100\n",
      "93/93 [==============================] - 0s 5ms/step - loss: 0.1032\n",
      "Epoch 5/100\n",
      "93/93 [==============================] - 0s 5ms/step - loss: 0.1080\n",
      "Epoch 6/100\n",
      "93/93 [==============================] - 0s 4ms/step - loss: 0.0983\n",
      "Epoch 7/100\n",
      "93/93 [==============================] - 0s 5ms/step - loss: 0.0939\n",
      "Epoch 8/100\n",
      "93/93 [==============================] - 0s 5ms/step - loss: 0.0915\n",
      "Epoch 9/100\n",
      "93/93 [==============================] - 0s 5ms/step - loss: 0.0850\n",
      "Epoch 10/100\n",
      "93/93 [==============================] - 0s 5ms/step - loss: 0.0863\n",
      "Epoch 11/100\n",
      "93/93 [==============================] - 0s 5ms/step - loss: 0.0825\n",
      "Epoch 12/100\n",
      "93/93 [==============================] - 0s 5ms/step - loss: 0.0814\n",
      "Epoch 13/100\n",
      "93/93 [==============================] - 0s 5ms/step - loss: 0.0815\n",
      "Epoch 14/100\n",
      "93/93 [==============================] - 0s 5ms/step - loss: 0.0782\n",
      "Epoch 15/100\n",
      "93/93 [==============================] - 0s 5ms/step - loss: 0.0799\n",
      "Epoch 16/100\n",
      "93/93 [==============================] - 0s 5ms/step - loss: 0.0724\n",
      "Epoch 17/100\n",
      "93/93 [==============================] - 0s 5ms/step - loss: 0.0700\n",
      "Epoch 18/100\n",
      "93/93 [==============================] - 0s 5ms/step - loss: 0.0715\n",
      "Epoch 19/100\n",
      "93/93 [==============================] - 0s 5ms/step - loss: 0.0711\n",
      "Epoch 20/100\n",
      "93/93 [==============================] - 0s 5ms/step - loss: 0.0693\n",
      "Epoch 21/100\n",
      "93/93 [==============================] - 0s 5ms/step - loss: 0.0677\n",
      "Epoch 22/100\n",
      "93/93 [==============================] - 0s 5ms/step - loss: 0.0688\n",
      "Epoch 23/100\n",
      "93/93 [==============================] - 0s 5ms/step - loss: 0.0650\n",
      "Epoch 24/100\n",
      "93/93 [==============================] - 0s 5ms/step - loss: 0.0673\n",
      "Epoch 25/100\n",
      "93/93 [==============================] - 0s 5ms/step - loss: 0.0666\n",
      "Epoch 26/100\n",
      "93/93 [==============================] - 0s 4ms/step - loss: 0.0650\n",
      "Epoch 27/100\n",
      "93/93 [==============================] - 0s 5ms/step - loss: 0.0624\n",
      "Epoch 28/100\n",
      "93/93 [==============================] - 0s 5ms/step - loss: 0.0619\n",
      "Epoch 29/100\n",
      "93/93 [==============================] - 0s 5ms/step - loss: 0.0621\n",
      "Epoch 30/100\n",
      "93/93 [==============================] - 0s 5ms/step - loss: 0.0626\n",
      "Epoch 31/100\n",
      "93/93 [==============================] - 0s 5ms/step - loss: 0.0602\n",
      "Epoch 32/100\n",
      "93/93 [==============================] - 0s 5ms/step - loss: 0.0624\n",
      "Epoch 33/100\n",
      "93/93 [==============================] - 0s 5ms/step - loss: 0.0614\n",
      "Epoch 34/100\n",
      "93/93 [==============================] - 0s 5ms/step - loss: 0.0585\n",
      "Epoch 35/100\n",
      "93/93 [==============================] - 0s 5ms/step - loss: 0.0560\n",
      "Epoch 36/100\n",
      "93/93 [==============================] - 0s 5ms/step - loss: 0.0573\n",
      "Epoch 37/100\n",
      "93/93 [==============================] - 0s 5ms/step - loss: 0.0590\n",
      "Epoch 38/100\n",
      "93/93 [==============================] - 0s 5ms/step - loss: 0.0575\n",
      "Epoch 39/100\n",
      "93/93 [==============================] - 0s 4ms/step - loss: 0.0583\n",
      "Epoch 40/100\n",
      "93/93 [==============================] - 0s 5ms/step - loss: 0.0548\n",
      "Epoch 41/100\n",
      "93/93 [==============================] - 1s 6ms/step - loss: 0.0577\n",
      "Epoch 42/100\n",
      "93/93 [==============================] - 1s 5ms/step - loss: 0.0560\n",
      "Epoch 43/100\n",
      "93/93 [==============================] - 1s 8ms/step - loss: 0.0538\n",
      "Epoch 44/100\n",
      "93/93 [==============================] - 1s 9ms/step - loss: 0.0591\n",
      "Epoch 45/100\n",
      "93/93 [==============================] - 1s 8ms/step - loss: 0.0554\n",
      "Epoch 46/100\n",
      "93/93 [==============================] - 1s 7ms/step - loss: 0.0541\n",
      "Epoch 47/100\n",
      "93/93 [==============================] - 1s 8ms/step - loss: 0.0514\n",
      "Epoch 48/100\n",
      "93/93 [==============================] - 1s 7ms/step - loss: 0.0522\n",
      "Epoch 49/100\n",
      "93/93 [==============================] - 1s 8ms/step - loss: 0.0549\n",
      "Epoch 50/100\n",
      "93/93 [==============================] - 1s 7ms/step - loss: 0.0533\n",
      "Epoch 51/100\n",
      "93/93 [==============================] - 1s 8ms/step - loss: 0.0540\n",
      "Epoch 52/100\n",
      "93/93 [==============================] - 1s 7ms/step - loss: 0.0515\n",
      "Epoch 53/100\n",
      "93/93 [==============================] - 1s 8ms/step - loss: 0.0500\n",
      "Epoch 54/100\n",
      "93/93 [==============================] - 1s 7ms/step - loss: 0.0546\n",
      "Epoch 55/100\n",
      "93/93 [==============================] - 1s 8ms/step - loss: 0.0526\n",
      "Epoch 56/100\n",
      "93/93 [==============================] - 1s 8ms/step - loss: 0.0526\n",
      "Epoch 57/100\n",
      "93/93 [==============================] - 1s 10ms/step - loss: 0.0507\n",
      "Epoch 58/100\n",
      "93/93 [==============================] - 1s 9ms/step - loss: 0.0503\n",
      "Epoch 59/100\n",
      "93/93 [==============================] - 1s 9ms/step - loss: 0.0495\n",
      "Epoch 60/100\n",
      "93/93 [==============================] - 1s 9ms/step - loss: 0.0502\n",
      "Epoch 61/100\n",
      "93/93 [==============================] - 1s 9ms/step - loss: 0.0507\n",
      "Epoch 62/100\n",
      "93/93 [==============================] - 1s 9ms/step - loss: 0.0491\n",
      "Epoch 63/100\n",
      "93/93 [==============================] - 1s 9ms/step - loss: 0.0540\n",
      "Epoch 64/100\n",
      "93/93 [==============================] - 1s 9ms/step - loss: 0.0502\n",
      "Epoch 65/100\n",
      "93/93 [==============================] - 1s 9ms/step - loss: 0.0486\n",
      "Epoch 66/100\n",
      "93/93 [==============================] - 1s 9ms/step - loss: 0.0526\n",
      "Epoch 67/100\n",
      "93/93 [==============================] - 1s 9ms/step - loss: 0.0493\n",
      "Epoch 68/100\n",
      "93/93 [==============================] - 1s 9ms/step - loss: 0.0489\n",
      "Epoch 69/100\n",
      "93/93 [==============================] - 1s 9ms/step - loss: 0.0528\n",
      "Epoch 70/100\n",
      "93/93 [==============================] - 1s 9ms/step - loss: 0.0467\n",
      "Epoch 71/100\n",
      "93/93 [==============================] - 1s 10ms/step - loss: 0.0486\n",
      "Epoch 72/100\n",
      "93/93 [==============================] - 1s 9ms/step - loss: 0.0498\n",
      "Epoch 73/100\n",
      "93/93 [==============================] - 1s 9ms/step - loss: 0.0500\n",
      "Epoch 74/100\n",
      "93/93 [==============================] - 1s 9ms/step - loss: 0.0502\n",
      "Epoch 75/100\n",
      "93/93 [==============================] - 1s 9ms/step - loss: 0.0479\n",
      "Epoch 76/100\n",
      "93/93 [==============================] - 1s 9ms/step - loss: 0.0496\n",
      "Epoch 77/100\n",
      "93/93 [==============================] - 1s 9ms/step - loss: 0.0482\n",
      "Epoch 78/100\n",
      "93/93 [==============================] - 1s 9ms/step - loss: 0.0463\n",
      "Epoch 79/100\n",
      "93/93 [==============================] - 1s 10ms/step - loss: 0.0499\n",
      "Epoch 80/100\n",
      "93/93 [==============================] - 1s 10ms/step - loss: 0.0489\n",
      "Epoch 81/100\n",
      "93/93 [==============================] - 1s 10ms/step - loss: 0.0472\n",
      "Epoch 82/100\n",
      "93/93 [==============================] - 1s 10ms/step - loss: 0.0496\n",
      "Epoch 83/100\n",
      "93/93 [==============================] - 1s 9ms/step - loss: 0.0477\n",
      "Epoch 84/100\n",
      "93/93 [==============================] - 1s 9ms/step - loss: 0.0485\n",
      "Epoch 85/100\n",
      "93/93 [==============================] - 1s 9ms/step - loss: 0.0456\n",
      "Epoch 86/100\n",
      "93/93 [==============================] - 1s 10ms/step - loss: 0.0477\n",
      "Epoch 87/100\n",
      "93/93 [==============================] - 1s 10ms/step - loss: 0.0465\n",
      "Epoch 88/100\n",
      "93/93 [==============================] - 1s 11ms/step - loss: 0.0474\n",
      "Epoch 89/100\n",
      "93/93 [==============================] - 1s 10ms/step - loss: 0.0483\n",
      "Epoch 90/100\n",
      "93/93 [==============================] - 1s 10ms/step - loss: 0.0471\n",
      "Epoch 91/100\n",
      "93/93 [==============================] - 1s 10ms/step - loss: 0.0471\n",
      "Epoch 92/100\n",
      "93/93 [==============================] - 1s 10ms/step - loss: 0.0448\n",
      "Epoch 93/100\n",
      "93/93 [==============================] - 1s 10ms/step - loss: 0.0481\n",
      "Epoch 94/100\n",
      "93/93 [==============================] - 1s 9ms/step - loss: 0.0475\n",
      "Epoch 95/100\n",
      "93/93 [==============================] - 1s 11ms/step - loss: 0.0455\n",
      "Epoch 96/100\n",
      "93/93 [==============================] - 1s 9ms/step - loss: 0.0482\n",
      "Epoch 97/100\n",
      "93/93 [==============================] - 1s 10ms/step - loss: 0.0476\n",
      "Epoch 98/100\n",
      "93/93 [==============================] - 1s 9ms/step - loss: 0.0470\n",
      "Epoch 99/100\n",
      "93/93 [==============================] - 1s 9ms/step - loss: 0.0461\n",
      "Epoch 100/100\n",
      "93/93 [==============================] - 1s 9ms/step - loss: 0.0454\n"
     ]
    },
    {
     "output_type": "execute_result",
     "data": {
      "text/plain": [
       "<tensorflow.python.keras.callbacks.History at 0x21730420a48>"
      ]
     },
     "metadata": {},
     "execution_count": 184
    }
   ],
   "source": [
    "# Train the model\n",
    "# Use at least 10 epochs\n",
    "# Do not shuffle the data\n",
    "# Experiement with the batch size, but a smaller batch size is recommended\n",
    "model.fit(X_train, y_train, epochs=100, shuffle=False, batch_size=4, verbose=1)"
   ]
  },
  {
   "cell_type": "markdown",
   "metadata": {},
   "source": [
    "---"
   ]
  },
  {
   "cell_type": "markdown",
   "metadata": {},
   "source": [
    "## Model Performance\n",
    "\n",
    "In this section, you will evaluate the model using the test data. \n",
    "\n",
    "You will need to:\n",
    "1. Evaluate the model using the `X_test` and `y_test` data.\n",
    "2. Use the X_test data to make predictions\n",
    "3. Create a DataFrame of Real (y_test) vs predicted values. \n",
    "4. Plot the Real vs predicted values as a line chart\n",
    "\n",
    "### Hints\n",
    "Remember to apply the `inverse_transform` function to the predicted and y_test values to recover the actual closing prices."
   ]
  },
  {
   "cell_type": "code",
   "execution_count": 185,
   "metadata": {},
   "outputs": [
    {
     "output_type": "stream",
     "name": "stdout",
     "text": [
      "5/5 [==============================] - 2s 4ms/step - loss: 0.0842\n"
     ]
    },
    {
     "output_type": "execute_result",
     "data": {
      "text/plain": [
       "0.08421817421913147"
      ]
     },
     "metadata": {},
     "execution_count": 185
    }
   ],
   "source": [
    "# Evaluate the model\n",
    "model.evaluate(X_test, y_test)"
   ]
  },
  {
   "cell_type": "code",
   "execution_count": 186,
   "metadata": {},
   "outputs": [],
   "source": [
    "# Make some predictions\n",
    "predicted = model.predict(X_test)"
   ]
  },
  {
   "cell_type": "code",
   "execution_count": 187,
   "metadata": {},
   "outputs": [],
   "source": [
    "# Recover the original prices instead of the scaled version\n",
    "predicted_prices = scaler.inverse_transform(predicted)\n",
    "real_prices = scaler.inverse_transform(y_test.reshape(-1, 1))"
   ]
  },
  {
   "cell_type": "code",
   "execution_count": 188,
   "metadata": {},
   "outputs": [
    {
     "output_type": "execute_result",
     "data": {
      "text/plain": [
       "                   Real    Predicted\n",
       "2019-02-20  3924.239990  7266.193848\n",
       "2019-02-21  3974.050049  7629.579102\n",
       "2019-02-22  3937.040039  7764.217285\n",
       "2019-02-23  3983.530029  7889.532715\n",
       "2019-02-24  4149.089844  7992.921387"
      ],
      "text/html": "<div>\n<style scoped>\n    .dataframe tbody tr th:only-of-type {\n        vertical-align: middle;\n    }\n\n    .dataframe tbody tr th {\n        vertical-align: top;\n    }\n\n    .dataframe thead th {\n        text-align: right;\n    }\n</style>\n<table border=\"1\" class=\"dataframe\">\n  <thead>\n    <tr style=\"text-align: right;\">\n      <th></th>\n      <th>Real</th>\n      <th>Predicted</th>\n    </tr>\n  </thead>\n  <tbody>\n    <tr>\n      <th>2019-02-20</th>\n      <td>3924.239990</td>\n      <td>7266.193848</td>\n    </tr>\n    <tr>\n      <th>2019-02-21</th>\n      <td>3974.050049</td>\n      <td>7629.579102</td>\n    </tr>\n    <tr>\n      <th>2019-02-22</th>\n      <td>3937.040039</td>\n      <td>7764.217285</td>\n    </tr>\n    <tr>\n      <th>2019-02-23</th>\n      <td>3983.530029</td>\n      <td>7889.532715</td>\n    </tr>\n    <tr>\n      <th>2019-02-24</th>\n      <td>4149.089844</td>\n      <td>7992.921387</td>\n    </tr>\n  </tbody>\n</table>\n</div>"
     },
     "metadata": {},
     "execution_count": 188
    }
   ],
   "source": [
    "# Create a DataFrame of Real and Predicted values\n",
    "stocks = pd.DataFrame({\n",
    "    \"Real\": real_prices.ravel(),\n",
    "    \"Predicted\": predicted_prices.ravel()}, \n",
    "    index = df.index[-len(real_prices): ]) \n",
    "    \n",
    "stocks.head()"
   ]
  },
  {
   "cell_type": "code",
   "execution_count": 189,
   "metadata": {},
   "outputs": [
    {
     "output_type": "execute_result",
     "data": {
      "text/plain": [
       "<matplotlib.axes._subplots.AxesSubplot at 0x21735c90a08>"
      ]
     },
     "metadata": {},
     "execution_count": 189
    },
    {
     "output_type": "display_data",
     "data": {
      "text/plain": "<Figure size 432x288 with 1 Axes>",
      "image/svg+xml": "<?xml version=\"1.0\" encoding=\"utf-8\" standalone=\"no\"?>\r\n<!DOCTYPE svg PUBLIC \"-//W3C//DTD SVG 1.1//EN\"\r\n  \"http://www.w3.org/Graphics/SVG/1.1/DTD/svg11.dtd\">\r\n<!-- Created with matplotlib (https://matplotlib.org/) -->\r\n<svg height=\"263.215937pt\" version=\"1.1\" viewBox=\"0 0 391.5125 263.215937\" width=\"391.5125pt\" xmlns=\"http://www.w3.org/2000/svg\" xmlns:xlink=\"http://www.w3.org/1999/xlink\">\r\n <defs>\r\n  <style type=\"text/css\">\r\n*{stroke-linecap:butt;stroke-linejoin:round;}\r\n  </style>\r\n </defs>\r\n <g id=\"figure_1\">\r\n  <g id=\"patch_1\">\r\n   <path d=\"M 0 263.215937 \r\nL 391.5125 263.215937 \r\nL 391.5125 0 \r\nL 0 0 \r\nz\r\n\" style=\"fill:none;\"/>\r\n  </g>\r\n  <g id=\"axes_1\">\r\n   <g id=\"patch_2\">\r\n    <path d=\"M 46.0125 228.14 \r\nL 380.8125 228.14 \r\nL 380.8125 10.7 \r\nL 46.0125 10.7 \r\nz\r\n\" style=\"fill:#ffffff;\"/>\r\n   </g>\r\n   <g id=\"matplotlib.axis_1\">\r\n    <g id=\"xtick_1\">\r\n     <g id=\"line2d_1\">\r\n      <defs>\r\n       <path d=\"M 0 0 \r\nL 0 3.5 \r\n\" id=\"mc85f230890\" style=\"stroke:#000000;stroke-width:0.8;\"/>\r\n      </defs>\r\n      <g>\r\n       <use style=\"stroke:#000000;stroke-width:0.8;\" x=\"46.0125\" xlink:href=\"#mc85f230890\" y=\"228.14\"/>\r\n      </g>\r\n     </g>\r\n    </g>\r\n    <g id=\"xtick_2\">\r\n     <g id=\"line2d_2\">\r\n      <g>\r\n       <use style=\"stroke:#000000;stroke-width:0.8;\" x=\"64.963443\" xlink:href=\"#mc85f230890\" y=\"228.14\"/>\r\n      </g>\r\n     </g>\r\n     <g id=\"text_1\">\r\n      <!-- Mar -->\r\n      <defs>\r\n       <path d=\"M 9.8125 72.90625 \r\nL 24.515625 72.90625 \r\nL 43.109375 23.296875 \r\nL 61.8125 72.90625 \r\nL 76.515625 72.90625 \r\nL 76.515625 0 \r\nL 66.890625 0 \r\nL 66.890625 64.015625 \r\nL 48.09375 14.015625 \r\nL 38.1875 14.015625 \r\nL 19.390625 64.015625 \r\nL 19.390625 0 \r\nL 9.8125 0 \r\nz\r\n\" id=\"DejaVuSans-77\"/>\r\n       <path d=\"M 34.28125 27.484375 \r\nQ 23.390625 27.484375 19.1875 25 \r\nQ 14.984375 22.515625 14.984375 16.5 \r\nQ 14.984375 11.71875 18.140625 8.90625 \r\nQ 21.296875 6.109375 26.703125 6.109375 \r\nQ 34.1875 6.109375 38.703125 11.40625 \r\nQ 43.21875 16.703125 43.21875 25.484375 \r\nL 43.21875 27.484375 \r\nz\r\nM 52.203125 31.203125 \r\nL 52.203125 0 \r\nL 43.21875 0 \r\nL 43.21875 8.296875 \r\nQ 40.140625 3.328125 35.546875 0.953125 \r\nQ 30.953125 -1.421875 24.3125 -1.421875 \r\nQ 15.921875 -1.421875 10.953125 3.296875 \r\nQ 6 8.015625 6 15.921875 \r\nQ 6 25.140625 12.171875 29.828125 \r\nQ 18.359375 34.515625 30.609375 34.515625 \r\nL 43.21875 34.515625 \r\nL 43.21875 35.40625 \r\nQ 43.21875 41.609375 39.140625 45 \r\nQ 35.0625 48.390625 27.6875 48.390625 \r\nQ 23 48.390625 18.546875 47.265625 \r\nQ 14.109375 46.140625 10.015625 43.890625 \r\nL 10.015625 52.203125 \r\nQ 14.9375 54.109375 19.578125 55.046875 \r\nQ 24.21875 56 28.609375 56 \r\nQ 40.484375 56 46.34375 49.84375 \r\nQ 52.203125 43.703125 52.203125 31.203125 \r\nz\r\n\" id=\"DejaVuSans-97\"/>\r\n       <path d=\"M 41.109375 46.296875 \r\nQ 39.59375 47.171875 37.8125 47.578125 \r\nQ 36.03125 48 33.890625 48 \r\nQ 26.265625 48 22.1875 43.046875 \r\nQ 18.109375 38.09375 18.109375 28.8125 \r\nL 18.109375 0 \r\nL 9.078125 0 \r\nL 9.078125 54.6875 \r\nL 18.109375 54.6875 \r\nL 18.109375 46.1875 \r\nQ 20.953125 51.171875 25.484375 53.578125 \r\nQ 30.03125 56 36.53125 56 \r\nQ 37.453125 56 38.578125 55.875 \r\nQ 39.703125 55.765625 41.0625 55.515625 \r\nz\r\n\" id=\"DejaVuSans-114\"/>\r\n      </defs>\r\n      <g transform=\"translate(55.52985 242.738438)scale(0.1 -0.1)\">\r\n       <use xlink:href=\"#DejaVuSans-77\"/>\r\n       <use x=\"86.279297\" xlink:href=\"#DejaVuSans-97\"/>\r\n       <use x=\"147.558594\" xlink:href=\"#DejaVuSans-114\"/>\r\n      </g>\r\n      <!-- 2019 -->\r\n      <defs>\r\n       <path d=\"M 19.1875 8.296875 \r\nL 53.609375 8.296875 \r\nL 53.609375 0 \r\nL 7.328125 0 \r\nL 7.328125 8.296875 \r\nQ 12.9375 14.109375 22.625 23.890625 \r\nQ 32.328125 33.6875 34.8125 36.53125 \r\nQ 39.546875 41.84375 41.421875 45.53125 \r\nQ 43.3125 49.21875 43.3125 52.78125 \r\nQ 43.3125 58.59375 39.234375 62.25 \r\nQ 35.15625 65.921875 28.609375 65.921875 \r\nQ 23.96875 65.921875 18.8125 64.3125 \r\nQ 13.671875 62.703125 7.8125 59.421875 \r\nL 7.8125 69.390625 \r\nQ 13.765625 71.78125 18.9375 73 \r\nQ 24.125 74.21875 28.421875 74.21875 \r\nQ 39.75 74.21875 46.484375 68.546875 \r\nQ 53.21875 62.890625 53.21875 53.421875 \r\nQ 53.21875 48.921875 51.53125 44.890625 \r\nQ 49.859375 40.875 45.40625 35.40625 \r\nQ 44.1875 33.984375 37.640625 27.21875 \r\nQ 31.109375 20.453125 19.1875 8.296875 \r\nz\r\n\" id=\"DejaVuSans-50\"/>\r\n       <path d=\"M 31.78125 66.40625 \r\nQ 24.171875 66.40625 20.328125 58.90625 \r\nQ 16.5 51.421875 16.5 36.375 \r\nQ 16.5 21.390625 20.328125 13.890625 \r\nQ 24.171875 6.390625 31.78125 6.390625 \r\nQ 39.453125 6.390625 43.28125 13.890625 \r\nQ 47.125 21.390625 47.125 36.375 \r\nQ 47.125 51.421875 43.28125 58.90625 \r\nQ 39.453125 66.40625 31.78125 66.40625 \r\nz\r\nM 31.78125 74.21875 \r\nQ 44.046875 74.21875 50.515625 64.515625 \r\nQ 56.984375 54.828125 56.984375 36.375 \r\nQ 56.984375 17.96875 50.515625 8.265625 \r\nQ 44.046875 -1.421875 31.78125 -1.421875 \r\nQ 19.53125 -1.421875 13.0625 8.265625 \r\nQ 6.59375 17.96875 6.59375 36.375 \r\nQ 6.59375 54.828125 13.0625 64.515625 \r\nQ 19.53125 74.21875 31.78125 74.21875 \r\nz\r\n\" id=\"DejaVuSans-48\"/>\r\n       <path d=\"M 12.40625 8.296875 \r\nL 28.515625 8.296875 \r\nL 28.515625 63.921875 \r\nL 10.984375 60.40625 \r\nL 10.984375 69.390625 \r\nL 28.421875 72.90625 \r\nL 38.28125 72.90625 \r\nL 38.28125 8.296875 \r\nL 54.390625 8.296875 \r\nL 54.390625 0 \r\nL 12.40625 0 \r\nz\r\n\" id=\"DejaVuSans-49\"/>\r\n       <path d=\"M 10.984375 1.515625 \r\nL 10.984375 10.5 \r\nQ 14.703125 8.734375 18.5 7.8125 \r\nQ 22.3125 6.890625 25.984375 6.890625 \r\nQ 35.75 6.890625 40.890625 13.453125 \r\nQ 46.046875 20.015625 46.78125 33.40625 \r\nQ 43.953125 29.203125 39.59375 26.953125 \r\nQ 35.25 24.703125 29.984375 24.703125 \r\nQ 19.046875 24.703125 12.671875 31.3125 \r\nQ 6.296875 37.9375 6.296875 49.421875 \r\nQ 6.296875 60.640625 12.9375 67.421875 \r\nQ 19.578125 74.21875 30.609375 74.21875 \r\nQ 43.265625 74.21875 49.921875 64.515625 \r\nQ 56.59375 54.828125 56.59375 36.375 \r\nQ 56.59375 19.140625 48.40625 8.859375 \r\nQ 40.234375 -1.421875 26.421875 -1.421875 \r\nQ 22.703125 -1.421875 18.890625 -0.6875 \r\nQ 15.09375 0.046875 10.984375 1.515625 \r\nz\r\nM 30.609375 32.421875 \r\nQ 37.25 32.421875 41.125 36.953125 \r\nQ 45.015625 41.5 45.015625 49.421875 \r\nQ 45.015625 57.28125 41.125 61.84375 \r\nQ 37.25 66.40625 30.609375 66.40625 \r\nQ 23.96875 66.40625 20.09375 61.84375 \r\nQ 16.21875 57.28125 16.21875 49.421875 \r\nQ 16.21875 41.5 20.09375 36.953125 \r\nQ 23.96875 32.421875 30.609375 32.421875 \r\nz\r\n\" id=\"DejaVuSans-57\"/>\r\n      </defs>\r\n      <g transform=\"translate(52.238443 253.93625)scale(0.1 -0.1)\">\r\n       <use xlink:href=\"#DejaVuSans-50\"/>\r\n       <use x=\"63.623047\" xlink:href=\"#DejaVuSans-48\"/>\r\n       <use x=\"127.246094\" xlink:href=\"#DejaVuSans-49\"/>\r\n       <use x=\"190.869141\" xlink:href=\"#DejaVuSans-57\"/>\r\n      </g>\r\n     </g>\r\n    </g>\r\n    <g id=\"xtick_3\">\r\n     <g id=\"line2d_3\">\r\n      <g>\r\n       <use style=\"stroke:#000000;stroke-width:0.8;\" x=\"130.238915\" xlink:href=\"#mc85f230890\" y=\"228.14\"/>\r\n      </g>\r\n     </g>\r\n     <g id=\"text_2\">\r\n      <!-- Apr -->\r\n      <defs>\r\n       <path d=\"M 34.1875 63.1875 \r\nL 20.796875 26.90625 \r\nL 47.609375 26.90625 \r\nz\r\nM 28.609375 72.90625 \r\nL 39.796875 72.90625 \r\nL 67.578125 0 \r\nL 57.328125 0 \r\nL 50.6875 18.703125 \r\nL 17.828125 18.703125 \r\nL 11.1875 0 \r\nL 0.78125 0 \r\nz\r\n\" id=\"DejaVuSans-65\"/>\r\n       <path d=\"M 18.109375 8.203125 \r\nL 18.109375 -20.796875 \r\nL 9.078125 -20.796875 \r\nL 9.078125 54.6875 \r\nL 18.109375 54.6875 \r\nL 18.109375 46.390625 \r\nQ 20.953125 51.265625 25.265625 53.625 \r\nQ 29.59375 56 35.59375 56 \r\nQ 45.5625 56 51.78125 48.09375 \r\nQ 58.015625 40.1875 58.015625 27.296875 \r\nQ 58.015625 14.40625 51.78125 6.484375 \r\nQ 45.5625 -1.421875 35.59375 -1.421875 \r\nQ 29.59375 -1.421875 25.265625 0.953125 \r\nQ 20.953125 3.328125 18.109375 8.203125 \r\nz\r\nM 48.6875 27.296875 \r\nQ 48.6875 37.203125 44.609375 42.84375 \r\nQ 40.53125 48.484375 33.40625 48.484375 \r\nQ 26.265625 48.484375 22.1875 42.84375 \r\nQ 18.109375 37.203125 18.109375 27.296875 \r\nQ 18.109375 17.390625 22.1875 11.75 \r\nQ 26.265625 6.109375 33.40625 6.109375 \r\nQ 40.53125 6.109375 44.609375 11.75 \r\nQ 48.6875 17.390625 48.6875 27.296875 \r\nz\r\n\" id=\"DejaVuSans-112\"/>\r\n      </defs>\r\n      <g transform=\"translate(121.588915 242.738438)scale(0.1 -0.1)\">\r\n       <use xlink:href=\"#DejaVuSans-65\"/>\r\n       <use x=\"68.408203\" xlink:href=\"#DejaVuSans-112\"/>\r\n       <use x=\"131.884766\" xlink:href=\"#DejaVuSans-114\"/>\r\n      </g>\r\n     </g>\r\n    </g>\r\n    <g id=\"xtick_4\">\r\n     <g id=\"line2d_4\">\r\n      <g>\r\n       <use style=\"stroke:#000000;stroke-width:0.8;\" x=\"193.408726\" xlink:href=\"#mc85f230890\" y=\"228.14\"/>\r\n      </g>\r\n     </g>\r\n     <g id=\"text_3\">\r\n      <!-- May -->\r\n      <defs>\r\n       <path d=\"M 32.171875 -5.078125 \r\nQ 28.375 -14.84375 24.75 -17.8125 \r\nQ 21.140625 -20.796875 15.09375 -20.796875 \r\nL 7.90625 -20.796875 \r\nL 7.90625 -13.28125 \r\nL 13.1875 -13.28125 \r\nQ 16.890625 -13.28125 18.9375 -11.515625 \r\nQ 21 -9.765625 23.484375 -3.21875 \r\nL 25.09375 0.875 \r\nL 2.984375 54.6875 \r\nL 12.5 54.6875 \r\nL 29.59375 11.921875 \r\nL 46.6875 54.6875 \r\nL 56.203125 54.6875 \r\nz\r\n\" id=\"DejaVuSans-121\"/>\r\n      </defs>\r\n      <g transform=\"translate(183.071226 242.738438)scale(0.1 -0.1)\">\r\n       <use xlink:href=\"#DejaVuSans-77\"/>\r\n       <use x=\"86.279297\" xlink:href=\"#DejaVuSans-97\"/>\r\n       <use x=\"147.558594\" xlink:href=\"#DejaVuSans-121\"/>\r\n      </g>\r\n     </g>\r\n    </g>\r\n    <g id=\"xtick_5\">\r\n     <g id=\"line2d_5\">\r\n      <g>\r\n       <use style=\"stroke:#000000;stroke-width:0.8;\" x=\"258.684198\" xlink:href=\"#mc85f230890\" y=\"228.14\"/>\r\n      </g>\r\n     </g>\r\n     <g id=\"text_4\">\r\n      <!-- Jun -->\r\n      <defs>\r\n       <path d=\"M 9.8125 72.90625 \r\nL 19.671875 72.90625 \r\nL 19.671875 5.078125 \r\nQ 19.671875 -8.109375 14.671875 -14.0625 \r\nQ 9.671875 -20.015625 -1.421875 -20.015625 \r\nL -5.171875 -20.015625 \r\nL -5.171875 -11.71875 \r\nL -2.09375 -11.71875 \r\nQ 4.4375 -11.71875 7.125 -8.046875 \r\nQ 9.8125 -4.390625 9.8125 5.078125 \r\nz\r\n\" id=\"DejaVuSans-74\"/>\r\n       <path d=\"M 8.5 21.578125 \r\nL 8.5 54.6875 \r\nL 17.484375 54.6875 \r\nL 17.484375 21.921875 \r\nQ 17.484375 14.15625 20.5 10.265625 \r\nQ 23.53125 6.390625 29.59375 6.390625 \r\nQ 36.859375 6.390625 41.078125 11.03125 \r\nQ 45.3125 15.671875 45.3125 23.6875 \r\nL 45.3125 54.6875 \r\nL 54.296875 54.6875 \r\nL 54.296875 0 \r\nL 45.3125 0 \r\nL 45.3125 8.40625 \r\nQ 42.046875 3.421875 37.71875 1 \r\nQ 33.40625 -1.421875 27.6875 -1.421875 \r\nQ 18.265625 -1.421875 13.375 4.4375 \r\nQ 8.5 10.296875 8.5 21.578125 \r\nz\r\nM 31.109375 56 \r\nz\r\n\" id=\"DejaVuSans-117\"/>\r\n       <path d=\"M 54.890625 33.015625 \r\nL 54.890625 0 \r\nL 45.90625 0 \r\nL 45.90625 32.71875 \r\nQ 45.90625 40.484375 42.875 44.328125 \r\nQ 39.84375 48.1875 33.796875 48.1875 \r\nQ 26.515625 48.1875 22.3125 43.546875 \r\nQ 18.109375 38.921875 18.109375 30.90625 \r\nL 18.109375 0 \r\nL 9.078125 0 \r\nL 9.078125 54.6875 \r\nL 18.109375 54.6875 \r\nL 18.109375 46.1875 \r\nQ 21.34375 51.125 25.703125 53.5625 \r\nQ 30.078125 56 35.796875 56 \r\nQ 45.21875 56 50.046875 50.171875 \r\nQ 54.890625 44.34375 54.890625 33.015625 \r\nz\r\n\" id=\"DejaVuSans-110\"/>\r\n      </defs>\r\n      <g transform=\"translate(250.871698 242.738438)scale(0.1 -0.1)\">\r\n       <use xlink:href=\"#DejaVuSans-74\"/>\r\n       <use x=\"29.492188\" xlink:href=\"#DejaVuSans-117\"/>\r\n       <use x=\"92.871094\" xlink:href=\"#DejaVuSans-110\"/>\r\n      </g>\r\n     </g>\r\n    </g>\r\n    <g id=\"xtick_6\">\r\n     <g id=\"line2d_6\">\r\n      <g>\r\n       <use style=\"stroke:#000000;stroke-width:0.8;\" x=\"321.854009\" xlink:href=\"#mc85f230890\" y=\"228.14\"/>\r\n      </g>\r\n     </g>\r\n     <g id=\"text_5\">\r\n      <!-- Jul -->\r\n      <defs>\r\n       <path d=\"M 9.421875 75.984375 \r\nL 18.40625 75.984375 \r\nL 18.40625 0 \r\nL 9.421875 0 \r\nz\r\n\" id=\"DejaVuSans-108\"/>\r\n      </defs>\r\n      <g transform=\"translate(315.821197 242.738438)scale(0.1 -0.1)\">\r\n       <use xlink:href=\"#DejaVuSans-74\"/>\r\n       <use x=\"29.492188\" xlink:href=\"#DejaVuSans-117\"/>\r\n       <use x=\"92.871094\" xlink:href=\"#DejaVuSans-108\"/>\r\n      </g>\r\n     </g>\r\n    </g>\r\n    <g id=\"xtick_7\">\r\n     <g id=\"line2d_7\">\r\n      <g>\r\n       <use style=\"stroke:#000000;stroke-width:0.8;\" x=\"380.8125\" xlink:href=\"#mc85f230890\" y=\"228.14\"/>\r\n      </g>\r\n     </g>\r\n    </g>\r\n    <g id=\"xtick_8\">\r\n     <g id=\"line2d_8\">\r\n      <defs>\r\n       <path d=\"M 0 0 \r\nL 0 2 \r\n\" id=\"md1f4bc7b3a\" style=\"stroke:#000000;stroke-width:0.6;\"/>\r\n      </defs>\r\n      <g>\r\n       <use style=\"stroke:#000000;stroke-width:0.6;\" x=\"56.540802\" xlink:href=\"#md1f4bc7b3a\" y=\"228.14\"/>\r\n      </g>\r\n     </g>\r\n    </g>\r\n    <g id=\"xtick_9\">\r\n     <g id=\"line2d_9\">\r\n      <g>\r\n       <use style=\"stroke:#000000;stroke-width:0.6;\" x=\"71.280425\" xlink:href=\"#md1f4bc7b3a\" y=\"228.14\"/>\r\n      </g>\r\n     </g>\r\n    </g>\r\n    <g id=\"xtick_10\">\r\n     <g id=\"line2d_10\">\r\n      <g>\r\n       <use style=\"stroke:#000000;stroke-width:0.6;\" x=\"86.020047\" xlink:href=\"#md1f4bc7b3a\" y=\"228.14\"/>\r\n      </g>\r\n     </g>\r\n    </g>\r\n    <g id=\"xtick_11\">\r\n     <g id=\"line2d_11\">\r\n      <g>\r\n       <use style=\"stroke:#000000;stroke-width:0.6;\" x=\"100.75967\" xlink:href=\"#md1f4bc7b3a\" y=\"228.14\"/>\r\n      </g>\r\n     </g>\r\n    </g>\r\n    <g id=\"xtick_12\">\r\n     <g id=\"line2d_12\">\r\n      <g>\r\n       <use style=\"stroke:#000000;stroke-width:0.6;\" x=\"115.499292\" xlink:href=\"#md1f4bc7b3a\" y=\"228.14\"/>\r\n      </g>\r\n     </g>\r\n    </g>\r\n    <g id=\"xtick_13\">\r\n     <g id=\"line2d_13\">\r\n      <g>\r\n       <use style=\"stroke:#000000;stroke-width:0.6;\" x=\"144.978538\" xlink:href=\"#md1f4bc7b3a\" y=\"228.14\"/>\r\n      </g>\r\n     </g>\r\n    </g>\r\n    <g id=\"xtick_14\">\r\n     <g id=\"line2d_14\">\r\n      <g>\r\n       <use style=\"stroke:#000000;stroke-width:0.6;\" x=\"159.71816\" xlink:href=\"#md1f4bc7b3a\" y=\"228.14\"/>\r\n      </g>\r\n     </g>\r\n    </g>\r\n    <g id=\"xtick_15\">\r\n     <g id=\"line2d_15\">\r\n      <g>\r\n       <use style=\"stroke:#000000;stroke-width:0.6;\" x=\"174.457783\" xlink:href=\"#md1f4bc7b3a\" y=\"228.14\"/>\r\n      </g>\r\n     </g>\r\n    </g>\r\n    <g id=\"xtick_16\">\r\n     <g id=\"line2d_16\">\r\n      <g>\r\n       <use style=\"stroke:#000000;stroke-width:0.6;\" x=\"189.197406\" xlink:href=\"#md1f4bc7b3a\" y=\"228.14\"/>\r\n      </g>\r\n     </g>\r\n    </g>\r\n    <g id=\"xtick_17\">\r\n     <g id=\"line2d_17\">\r\n      <g>\r\n       <use style=\"stroke:#000000;stroke-width:0.6;\" x=\"203.937028\" xlink:href=\"#md1f4bc7b3a\" y=\"228.14\"/>\r\n      </g>\r\n     </g>\r\n    </g>\r\n    <g id=\"xtick_18\">\r\n     <g id=\"line2d_18\">\r\n      <g>\r\n       <use style=\"stroke:#000000;stroke-width:0.6;\" x=\"218.676651\" xlink:href=\"#md1f4bc7b3a\" y=\"228.14\"/>\r\n      </g>\r\n     </g>\r\n    </g>\r\n    <g id=\"xtick_19\">\r\n     <g id=\"line2d_19\">\r\n      <g>\r\n       <use style=\"stroke:#000000;stroke-width:0.6;\" x=\"233.416274\" xlink:href=\"#md1f4bc7b3a\" y=\"228.14\"/>\r\n      </g>\r\n     </g>\r\n    </g>\r\n    <g id=\"xtick_20\">\r\n     <g id=\"line2d_20\">\r\n      <g>\r\n       <use style=\"stroke:#000000;stroke-width:0.6;\" x=\"248.155896\" xlink:href=\"#md1f4bc7b3a\" y=\"228.14\"/>\r\n      </g>\r\n     </g>\r\n    </g>\r\n    <g id=\"xtick_21\">\r\n     <g id=\"line2d_21\">\r\n      <g>\r\n       <use style=\"stroke:#000000;stroke-width:0.6;\" x=\"262.895519\" xlink:href=\"#md1f4bc7b3a\" y=\"228.14\"/>\r\n      </g>\r\n     </g>\r\n    </g>\r\n    <g id=\"xtick_22\">\r\n     <g id=\"line2d_22\">\r\n      <g>\r\n       <use style=\"stroke:#000000;stroke-width:0.6;\" x=\"277.635142\" xlink:href=\"#md1f4bc7b3a\" y=\"228.14\"/>\r\n      </g>\r\n     </g>\r\n    </g>\r\n    <g id=\"xtick_23\">\r\n     <g id=\"line2d_23\">\r\n      <g>\r\n       <use style=\"stroke:#000000;stroke-width:0.6;\" x=\"292.374764\" xlink:href=\"#md1f4bc7b3a\" y=\"228.14\"/>\r\n      </g>\r\n     </g>\r\n    </g>\r\n    <g id=\"xtick_24\">\r\n     <g id=\"line2d_24\">\r\n      <g>\r\n       <use style=\"stroke:#000000;stroke-width:0.6;\" x=\"307.114387\" xlink:href=\"#md1f4bc7b3a\" y=\"228.14\"/>\r\n      </g>\r\n     </g>\r\n    </g>\r\n    <g id=\"xtick_25\">\r\n     <g id=\"line2d_25\">\r\n      <g>\r\n       <use style=\"stroke:#000000;stroke-width:0.6;\" x=\"336.593632\" xlink:href=\"#md1f4bc7b3a\" y=\"228.14\"/>\r\n      </g>\r\n     </g>\r\n    </g>\r\n    <g id=\"xtick_26\">\r\n     <g id=\"line2d_26\">\r\n      <g>\r\n       <use style=\"stroke:#000000;stroke-width:0.6;\" x=\"351.333255\" xlink:href=\"#md1f4bc7b3a\" y=\"228.14\"/>\r\n      </g>\r\n     </g>\r\n    </g>\r\n    <g id=\"xtick_27\">\r\n     <g id=\"line2d_27\">\r\n      <g>\r\n       <use style=\"stroke:#000000;stroke-width:0.6;\" x=\"366.072877\" xlink:href=\"#md1f4bc7b3a\" y=\"228.14\"/>\r\n      </g>\r\n     </g>\r\n    </g>\r\n    <g id=\"xtick_28\">\r\n     <g id=\"line2d_28\">\r\n      <g>\r\n       <use style=\"stroke:#000000;stroke-width:0.6;\" x=\"380.8125\" xlink:href=\"#md1f4bc7b3a\" y=\"228.14\"/>\r\n      </g>\r\n     </g>\r\n    </g>\r\n   </g>\r\n   <g id=\"matplotlib.axis_2\">\r\n    <g id=\"ytick_1\">\r\n     <g id=\"line2d_29\">\r\n      <defs>\r\n       <path d=\"M 0 0 \r\nL -3.5 0 \r\n\" id=\"m372f877452\" style=\"stroke:#000000;stroke-width:0.8;\"/>\r\n      </defs>\r\n      <g>\r\n       <use style=\"stroke:#000000;stroke-width:0.8;\" x=\"46.0125\" xlink:href=\"#m372f877452\" y=\"212.471283\"/>\r\n      </g>\r\n     </g>\r\n     <g id=\"text_6\">\r\n      <!-- 4000 -->\r\n      <defs>\r\n       <path d=\"M 37.796875 64.3125 \r\nL 12.890625 25.390625 \r\nL 37.796875 25.390625 \r\nz\r\nM 35.203125 72.90625 \r\nL 47.609375 72.90625 \r\nL 47.609375 25.390625 \r\nL 58.015625 25.390625 \r\nL 58.015625 17.1875 \r\nL 47.609375 17.1875 \r\nL 47.609375 0 \r\nL 37.796875 0 \r\nL 37.796875 17.1875 \r\nL 4.890625 17.1875 \r\nL 4.890625 26.703125 \r\nz\r\n\" id=\"DejaVuSans-52\"/>\r\n      </defs>\r\n      <g transform=\"translate(13.5625 216.270502)scale(0.1 -0.1)\">\r\n       <use xlink:href=\"#DejaVuSans-52\"/>\r\n       <use x=\"63.623047\" xlink:href=\"#DejaVuSans-48\"/>\r\n       <use x=\"127.246094\" xlink:href=\"#DejaVuSans-48\"/>\r\n       <use x=\"190.869141\" xlink:href=\"#DejaVuSans-48\"/>\r\n      </g>\r\n     </g>\r\n    </g>\r\n    <g id=\"ytick_2\">\r\n     <g id=\"line2d_30\">\r\n      <g>\r\n       <use style=\"stroke:#000000;stroke-width:0.8;\" x=\"46.0125\" xlink:href=\"#m372f877452\" y=\"169.414711\"/>\r\n      </g>\r\n     </g>\r\n     <g id=\"text_7\">\r\n      <!-- 6000 -->\r\n      <defs>\r\n       <path d=\"M 33.015625 40.375 \r\nQ 26.375 40.375 22.484375 35.828125 \r\nQ 18.609375 31.296875 18.609375 23.390625 \r\nQ 18.609375 15.53125 22.484375 10.953125 \r\nQ 26.375 6.390625 33.015625 6.390625 \r\nQ 39.65625 6.390625 43.53125 10.953125 \r\nQ 47.40625 15.53125 47.40625 23.390625 \r\nQ 47.40625 31.296875 43.53125 35.828125 \r\nQ 39.65625 40.375 33.015625 40.375 \r\nz\r\nM 52.59375 71.296875 \r\nL 52.59375 62.3125 \r\nQ 48.875 64.0625 45.09375 64.984375 \r\nQ 41.3125 65.921875 37.59375 65.921875 \r\nQ 27.828125 65.921875 22.671875 59.328125 \r\nQ 17.53125 52.734375 16.796875 39.40625 \r\nQ 19.671875 43.65625 24.015625 45.921875 \r\nQ 28.375 48.1875 33.59375 48.1875 \r\nQ 44.578125 48.1875 50.953125 41.515625 \r\nQ 57.328125 34.859375 57.328125 23.390625 \r\nQ 57.328125 12.15625 50.6875 5.359375 \r\nQ 44.046875 -1.421875 33.015625 -1.421875 \r\nQ 20.359375 -1.421875 13.671875 8.265625 \r\nQ 6.984375 17.96875 6.984375 36.375 \r\nQ 6.984375 53.65625 15.1875 63.9375 \r\nQ 23.390625 74.21875 37.203125 74.21875 \r\nQ 40.921875 74.21875 44.703125 73.484375 \r\nQ 48.484375 72.75 52.59375 71.296875 \r\nz\r\n\" id=\"DejaVuSans-54\"/>\r\n      </defs>\r\n      <g transform=\"translate(13.5625 173.21393)scale(0.1 -0.1)\">\r\n       <use xlink:href=\"#DejaVuSans-54\"/>\r\n       <use x=\"63.623047\" xlink:href=\"#DejaVuSans-48\"/>\r\n       <use x=\"127.246094\" xlink:href=\"#DejaVuSans-48\"/>\r\n       <use x=\"190.869141\" xlink:href=\"#DejaVuSans-48\"/>\r\n      </g>\r\n     </g>\r\n    </g>\r\n    <g id=\"ytick_3\">\r\n     <g id=\"line2d_31\">\r\n      <g>\r\n       <use style=\"stroke:#000000;stroke-width:0.8;\" x=\"46.0125\" xlink:href=\"#m372f877452\" y=\"126.358139\"/>\r\n      </g>\r\n     </g>\r\n     <g id=\"text_8\">\r\n      <!-- 8000 -->\r\n      <defs>\r\n       <path d=\"M 31.78125 34.625 \r\nQ 24.75 34.625 20.71875 30.859375 \r\nQ 16.703125 27.09375 16.703125 20.515625 \r\nQ 16.703125 13.921875 20.71875 10.15625 \r\nQ 24.75 6.390625 31.78125 6.390625 \r\nQ 38.8125 6.390625 42.859375 10.171875 \r\nQ 46.921875 13.96875 46.921875 20.515625 \r\nQ 46.921875 27.09375 42.890625 30.859375 \r\nQ 38.875 34.625 31.78125 34.625 \r\nz\r\nM 21.921875 38.8125 \r\nQ 15.578125 40.375 12.03125 44.71875 \r\nQ 8.5 49.078125 8.5 55.328125 \r\nQ 8.5 64.0625 14.71875 69.140625 \r\nQ 20.953125 74.21875 31.78125 74.21875 \r\nQ 42.671875 74.21875 48.875 69.140625 \r\nQ 55.078125 64.0625 55.078125 55.328125 \r\nQ 55.078125 49.078125 51.53125 44.71875 \r\nQ 48 40.375 41.703125 38.8125 \r\nQ 48.828125 37.15625 52.796875 32.3125 \r\nQ 56.78125 27.484375 56.78125 20.515625 \r\nQ 56.78125 9.90625 50.3125 4.234375 \r\nQ 43.84375 -1.421875 31.78125 -1.421875 \r\nQ 19.734375 -1.421875 13.25 4.234375 \r\nQ 6.78125 9.90625 6.78125 20.515625 \r\nQ 6.78125 27.484375 10.78125 32.3125 \r\nQ 14.796875 37.15625 21.921875 38.8125 \r\nz\r\nM 18.3125 54.390625 \r\nQ 18.3125 48.734375 21.84375 45.5625 \r\nQ 25.390625 42.390625 31.78125 42.390625 \r\nQ 38.140625 42.390625 41.71875 45.5625 \r\nQ 45.3125 48.734375 45.3125 54.390625 \r\nQ 45.3125 60.0625 41.71875 63.234375 \r\nQ 38.140625 66.40625 31.78125 66.40625 \r\nQ 25.390625 66.40625 21.84375 63.234375 \r\nQ 18.3125 60.0625 18.3125 54.390625 \r\nz\r\n\" id=\"DejaVuSans-56\"/>\r\n      </defs>\r\n      <g transform=\"translate(13.5625 130.157358)scale(0.1 -0.1)\">\r\n       <use xlink:href=\"#DejaVuSans-56\"/>\r\n       <use x=\"63.623047\" xlink:href=\"#DejaVuSans-48\"/>\r\n       <use x=\"127.246094\" xlink:href=\"#DejaVuSans-48\"/>\r\n       <use x=\"190.869141\" xlink:href=\"#DejaVuSans-48\"/>\r\n      </g>\r\n     </g>\r\n    </g>\r\n    <g id=\"ytick_4\">\r\n     <g id=\"line2d_32\">\r\n      <g>\r\n       <use style=\"stroke:#000000;stroke-width:0.8;\" x=\"46.0125\" xlink:href=\"#m372f877452\" y=\"83.301567\"/>\r\n      </g>\r\n     </g>\r\n     <g id=\"text_9\">\r\n      <!-- 10000 -->\r\n      <g transform=\"translate(7.2 87.100786)scale(0.1 -0.1)\">\r\n       <use xlink:href=\"#DejaVuSans-49\"/>\r\n       <use x=\"63.623047\" xlink:href=\"#DejaVuSans-48\"/>\r\n       <use x=\"127.246094\" xlink:href=\"#DejaVuSans-48\"/>\r\n       <use x=\"190.869141\" xlink:href=\"#DejaVuSans-48\"/>\r\n       <use x=\"254.492188\" xlink:href=\"#DejaVuSans-48\"/>\r\n      </g>\r\n     </g>\r\n    </g>\r\n    <g id=\"ytick_5\">\r\n     <g id=\"line2d_33\">\r\n      <g>\r\n       <use style=\"stroke:#000000;stroke-width:0.8;\" x=\"46.0125\" xlink:href=\"#m372f877452\" y=\"40.244995\"/>\r\n      </g>\r\n     </g>\r\n     <g id=\"text_10\">\r\n      <!-- 12000 -->\r\n      <g transform=\"translate(7.2 44.044214)scale(0.1 -0.1)\">\r\n       <use xlink:href=\"#DejaVuSans-49\"/>\r\n       <use x=\"63.623047\" xlink:href=\"#DejaVuSans-50\"/>\r\n       <use x=\"127.246094\" xlink:href=\"#DejaVuSans-48\"/>\r\n       <use x=\"190.869141\" xlink:href=\"#DejaVuSans-48\"/>\r\n       <use x=\"254.492188\" xlink:href=\"#DejaVuSans-48\"/>\r\n      </g>\r\n     </g>\r\n    </g>\r\n   </g>\r\n   <g id=\"line2d_34\">\r\n    <path clip-path=\"url(#pb956a1c8f9)\" d=\"M 46.0125 214.102266 \r\nL 48.11816 213.029941 \r\nL 50.223821 213.826703 \r\nL 52.329481 212.825853 \r\nL 54.435142 209.261634 \r\nL 56.540802 217.387911 \r\nL 58.646462 215.797188 \r\nL 60.752123 216.392017 \r\nL 62.857783 216.115592 \r\nL 64.963443 216.273822 \r\nL 69.174764 215.852517 \r\nL 71.280425 216.511926 \r\nL 73.386085 218.256364 \r\nL 75.491745 215.179974 \r\nL 77.597406 215.16275 \r\nL 79.703066 214.998486 \r\nL 81.808726 215.312586 \r\nL 83.914387 213.596352 \r\nL 86.020047 213.981706 \r\nL 88.125708 215.164689 \r\nL 90.231368 214.870179 \r\nL 92.337028 215.088263 \r\nL 94.442689 215.023678 \r\nL 96.548349 214.041124 \r\nL 98.654009 211.889804 \r\nL 100.75967 212.51434 \r\nL 102.86533 212.711322 \r\nL 107.076651 211.249553 \r\nL 109.182311 212.537377 \r\nL 113.393632 212.316065 \r\nL 115.499292 212.598083 \r\nL 117.604953 214.095591 \r\nL 119.710613 213.715188 \r\nL 121.816274 211.481413 \r\nL 123.921934 211.686578 \r\nL 126.027594 210.073465 \r\nL 128.133255 209.928149 \r\nL 130.238915 210.045262 \r\nL 132.344575 209.213627 \r\nL 134.450236 192.946631 \r\nL 136.555896 191.446978 \r\nL 138.661557 192.808211 \r\nL 140.767217 189.926217 \r\nL 142.872877 189.710503 \r\nL 144.978538 186.612364 \r\nL 147.084198 184.611747 \r\nL 149.189858 186.609357 \r\nL 151.295519 184.084083 \r\nL 153.401179 189.897582 \r\nL 155.50684 189.188442 \r\nL 157.6125 189.206522 \r\nL 159.71816 187.378132 \r\nL 161.823821 190.140638 \r\nL 163.929481 186.361561 \r\nL 166.035142 185.856729 \r\nL 168.140802 184.705176 \r\nL 170.246462 184.580748 \r\nL 172.352123 183.920897 \r\nL 174.457783 184.360934 \r\nL 176.563443 182.44643 \r\nL 178.669104 179.337096 \r\nL 180.774764 181.156667 \r\nL 182.880425 187.440993 \r\nL 184.986085 185.903444 \r\nL 187.091745 186.002687 \r\nL 189.197406 185.077612 \r\nL 191.303066 185.820127 \r\nL 193.408726 183.394316 \r\nL 195.514387 182.556868 \r\nL 197.620047 180.163349 \r\nL 199.725708 174.72402 \r\nL 201.831368 172.857513 \r\nL 206.042689 174.836181 \r\nL 208.148349 173.299064 \r\nL 214.46533 161.701341 \r\nL 216.570991 143.766775 \r\nL 218.676651 148.368016 \r\nL 220.782311 130.52688 \r\nL 222.887972 126.785909 \r\nL 224.993632 122.400593 \r\nL 227.099292 129.068338 \r\nL 229.204953 139.878765 \r\nL 231.310613 142.158177 \r\nL 233.416274 122.200174 \r\nL 235.521934 126.394952 \r\nL 237.627594 127.479113 \r\nL 239.733255 134.390555 \r\nL 241.838915 129.016883 \r\nL 243.944575 126.435643 \r\nL 246.050236 125.085174 \r\nL 248.155896 110.723642 \r\nL 250.261557 109.454777 \r\nL 252.367217 110.882539 \r\nL 254.472877 112.051311 \r\nL 256.578538 120.41095 \r\nL 258.684198 114.50316 \r\nL 260.789858 114.391208 \r\nL 262.895519 110.472198 \r\nL 265.001179 123.893361 \r\nL 267.10684 133.301653 \r\nL 269.2125 130.851307 \r\nL 271.31816 130.505351 \r\nL 273.423821 126.301522 \r\nL 275.529481 127.783747 \r\nL 277.635142 134.034266 \r\nL 279.740802 125.906045 \r\nL 281.846462 128.138102 \r\nL 283.952123 122.609201 \r\nL 286.057783 121.286714 \r\nL 288.163443 111.418371 \r\nL 290.269104 107.982465 \r\nL 292.374764 105.278079 \r\nL 294.480425 97.596139 \r\nL 296.586085 103.070778 \r\nL 298.691745 98.790307 \r\nL 300.797406 93.272401 \r\nL 302.903066 78.589669 \r\nL 305.008726 68.456952 \r\nL 307.114387 64.873565 \r\nL 309.220047 61.003855 \r\nL 311.325708 45.835033 \r\nL 313.431368 20.583636 \r\nL 315.537028 58.455991 \r\nL 317.642689 32.601171 \r\nL 319.748349 42.740132 \r\nL 321.854009 66.745243 \r\nL 323.95967 70.559618 \r\nL 326.06533 65.128898 \r\nL 328.170991 40.640893 \r\nL 330.276651 58.403684 \r\nL 332.382311 61.918597 \r\nL 334.487972 56.41402 \r\nL 336.593632 51.56284 \r\nL 338.699292 33.869175 \r\nL 340.804953 28.038037 \r\nL 342.910613 38.111109 \r\nL 345.016274 54.386493 \r\nL 347.121934 44.607269 \r\nL 349.227594 53.937637 \r\nL 351.333255 78.900967 \r\nL 353.438915 64.996932 \r\nL 355.544575 95.713907 \r\nL 357.650236 89.842929 \r\nL 359.755896 69.558994 \r\nL 361.861557 71.828273 \r\nL 363.967217 66.952558 \r\nL 366.072877 70.670707 \r\nL 368.178538 76.286142 \r\nL 370.284198 86.441459 \r\nL 372.389858 88.20701 \r\nL 374.495519 85.832655 \r\nL 376.601179 86.585703 \r\nL 378.70684 94.532437 \r\nL 380.8125 93.381767 \r\nL 380.8125 93.381767 \r\n\" style=\"fill:none;stroke:#1f77b4;stroke-linecap:square;stroke-width:1.5;\"/>\r\n   </g>\r\n   <g id=\"line2d_35\">\r\n    <path clip-path=\"url(#pb956a1c8f9)\" d=\"M 46.0125 142.155728 \r\nL 48.11816 134.332666 \r\nL 50.223821 131.434137 \r\nL 52.329481 128.736311 \r\nL 56.540802 124.160761 \r\nL 58.646462 120.822195 \r\nL 60.752123 123.341846 \r\nL 62.857783 126.187216 \r\nL 64.963443 128.594085 \r\nL 67.069104 132.821019 \r\nL 71.280425 139.83554 \r\nL 73.386085 142.16501 \r\nL 77.597406 152.869225 \r\nL 79.703066 155.136843 \r\nL 81.808726 149.203666 \r\nL 83.914387 144.015412 \r\nL 86.020047 139.863165 \r\nL 88.125708 136.711857 \r\nL 90.231368 133.991714 \r\nL 92.337028 131.668993 \r\nL 94.442689 130.496111 \r\nL 96.548349 128.635218 \r\nL 98.654009 127.013901 \r\nL 100.75967 126.333552 \r\nL 102.86533 125.498889 \r\nL 107.076651 125.259534 \r\nL 109.182311 125.437595 \r\nL 111.287972 123.767229 \r\nL 113.393632 124.17551 \r\nL 115.499292 125.698478 \r\nL 117.604953 128.613721 \r\nL 119.710613 130.492705 \r\nL 123.921934 135.719212 \r\nL 126.027594 136.227807 \r\nL 128.133255 136.470484 \r\nL 130.238915 134.246343 \r\nL 132.344575 133.428962 \r\nL 134.450236 130.248431 \r\nL 136.555896 128.136809 \r\nL 138.661557 123.14786 \r\nL 142.872877 121.622148 \r\nL 147.084198 117.893718 \r\nL 149.189858 117.372077 \r\nL 151.295519 117.142225 \r\nL 153.401179 117.207335 \r\nL 155.50684 116.855735 \r\nL 157.6125 120.600836 \r\nL 159.71816 119.654265 \r\nL 161.823821 121.558509 \r\nL 163.929481 120.757064 \r\nL 166.035142 123.230693 \r\nL 168.140802 122.704081 \r\nL 170.246462 121.895435 \r\nL 172.352123 121.935948 \r\nL 174.457783 121.511479 \r\nL 176.563443 121.249439 \r\nL 178.669104 120.238009 \r\nL 180.774764 118.801101 \r\nL 182.880425 118.129246 \r\nL 184.986085 118.9091 \r\nL 187.091745 122.344975 \r\nL 189.197406 125.345669 \r\nL 191.303066 129.234625 \r\nL 193.408726 132.37807 \r\nL 195.514387 135.883659 \r\nL 197.620047 136.315255 \r\nL 199.725708 137.216836 \r\nL 201.831368 134.003393 \r\nL 203.937028 130.149693 \r\nL 206.042689 126.559357 \r\nL 208.148349 125.892979 \r\nL 210.254009 121.873297 \r\nL 212.35967 120.612378 \r\nL 214.46533 118.213194 \r\nL 218.676651 114.908833 \r\nL 222.887972 113.356757 \r\nL 224.993632 112.961448 \r\nL 229.204953 112.531492 \r\nL 231.310613 113.297996 \r\nL 233.416274 113.323813 \r\nL 235.521934 113.210264 \r\nL 237.627594 112.965212 \r\nL 239.733255 113.43465 \r\nL 241.838915 113.574038 \r\nL 246.050236 114.801612 \r\nL 248.155896 114.682765 \r\nL 250.261557 114.975016 \r\nL 252.367217 114.583281 \r\nL 254.472877 114.359589 \r\nL 256.578538 114.259243 \r\nL 258.684198 114.020287 \r\nL 260.789858 115.150522 \r\nL 262.895519 115.530652 \r\nL 265.001179 115.701406 \r\nL 267.10684 115.440944 \r\nL 269.2125 119.150095 \r\nL 271.31816 125.427672 \r\nL 273.423821 130.672469 \r\nL 275.529481 139.315876 \r\nL 277.635142 136.301769 \r\nL 279.740802 133.717323 \r\nL 281.846462 136.643541 \r\nL 283.952123 133.754525 \r\nL 286.057783 131.829425 \r\nL 288.163443 129.146462 \r\nL 290.269104 124.845052 \r\nL 292.374764 119.734176 \r\nL 294.480425 116.249999 \r\nL 296.586085 113.757533 \r\nL 298.691745 112.943515 \r\nL 302.903066 111.877676 \r\nL 305.008726 111.391355 \r\nL 309.220047 110.924376 \r\nL 311.325708 111.027014 \r\nL 315.537028 110.166661 \r\nL 317.642689 110.140003 \r\nL 319.748349 111.718421 \r\nL 323.95967 111.378068 \r\nL 326.06533 112.23735 \r\nL 328.170991 112.8438 \r\nL 330.276651 112.048998 \r\nL 332.382311 112.169464 \r\nL 334.487972 113.001709 \r\nL 336.593632 113.18861 \r\nL 338.699292 113.984967 \r\nL 340.804953 113.298375 \r\nL 342.910613 112.375286 \r\nL 345.016274 112.089511 \r\nL 347.121934 113.426619 \r\nL 349.227594 117.436893 \r\nL 351.333255 116.0426 \r\nL 353.438915 116.618272 \r\nL 355.544575 125.235746 \r\nL 357.650236 130.066281 \r\nL 359.755896 140.603274 \r\nL 363.967217 151.630297 \r\nL 366.072877 157.916483 \r\nL 368.178538 158.411592 \r\nL 370.284198 156.400158 \r\nL 372.389858 157.598195 \r\nL 374.495519 164.217691 \r\nL 376.601179 162.783652 \r\nL 378.70684 165.758708 \r\nL 380.8125 161.504233 \r\nL 380.8125 161.504233 \r\n\" style=\"fill:none;stroke:#ff7f0e;stroke-linecap:square;stroke-width:1.5;\"/>\r\n   </g>\r\n   <g id=\"patch_3\">\r\n    <path d=\"M 46.0125 228.14 \r\nL 46.0125 10.7 \r\n\" style=\"fill:none;stroke:#000000;stroke-linecap:square;stroke-linejoin:miter;stroke-width:0.8;\"/>\r\n   </g>\r\n   <g id=\"patch_4\">\r\n    <path d=\"M 380.8125 228.14 \r\nL 380.8125 10.7 \r\n\" style=\"fill:none;stroke:#000000;stroke-linecap:square;stroke-linejoin:miter;stroke-width:0.8;\"/>\r\n   </g>\r\n   <g id=\"patch_5\">\r\n    <path d=\"M 46.0125 228.14 \r\nL 380.8125 228.14 \r\n\" style=\"fill:none;stroke:#000000;stroke-linecap:square;stroke-linejoin:miter;stroke-width:0.8;\"/>\r\n   </g>\r\n   <g id=\"patch_6\">\r\n    <path d=\"M 46.0125 10.7 \r\nL 380.8125 10.7 \r\n\" style=\"fill:none;stroke:#000000;stroke-linecap:square;stroke-linejoin:miter;stroke-width:0.8;\"/>\r\n   </g>\r\n   <g id=\"legend_1\">\r\n    <g id=\"patch_7\">\r\n     <path d=\"M 53.0125 48.05625 \r\nL 132.348437 48.05625 \r\nQ 134.348437 48.05625 134.348437 46.05625 \r\nL 134.348437 17.7 \r\nQ 134.348437 15.7 132.348437 15.7 \r\nL 53.0125 15.7 \r\nQ 51.0125 15.7 51.0125 17.7 \r\nL 51.0125 46.05625 \r\nQ 51.0125 48.05625 53.0125 48.05625 \r\nz\r\n\" style=\"fill:#ffffff;opacity:0.8;stroke:#cccccc;stroke-linejoin:miter;\"/>\r\n    </g>\r\n    <g id=\"line2d_36\">\r\n     <path d=\"M 55.0125 23.798437 \r\nL 75.0125 23.798437 \r\n\" style=\"fill:none;stroke:#1f77b4;stroke-linecap:square;stroke-width:1.5;\"/>\r\n    </g>\r\n    <g id=\"line2d_37\"/>\r\n    <g id=\"text_11\">\r\n     <!-- Real -->\r\n     <defs>\r\n      <path d=\"M 44.390625 34.1875 \r\nQ 47.5625 33.109375 50.5625 29.59375 \r\nQ 53.5625 26.078125 56.59375 19.921875 \r\nL 66.609375 0 \r\nL 56 0 \r\nL 46.6875 18.703125 \r\nQ 43.0625 26.03125 39.671875 28.421875 \r\nQ 36.28125 30.8125 30.421875 30.8125 \r\nL 19.671875 30.8125 \r\nL 19.671875 0 \r\nL 9.8125 0 \r\nL 9.8125 72.90625 \r\nL 32.078125 72.90625 \r\nQ 44.578125 72.90625 50.734375 67.671875 \r\nQ 56.890625 62.453125 56.890625 51.90625 \r\nQ 56.890625 45.015625 53.6875 40.46875 \r\nQ 50.484375 35.9375 44.390625 34.1875 \r\nz\r\nM 19.671875 64.796875 \r\nL 19.671875 38.921875 \r\nL 32.078125 38.921875 \r\nQ 39.203125 38.921875 42.84375 42.21875 \r\nQ 46.484375 45.515625 46.484375 51.90625 \r\nQ 46.484375 58.296875 42.84375 61.546875 \r\nQ 39.203125 64.796875 32.078125 64.796875 \r\nz\r\n\" id=\"DejaVuSans-82\"/>\r\n      <path d=\"M 56.203125 29.59375 \r\nL 56.203125 25.203125 \r\nL 14.890625 25.203125 \r\nQ 15.484375 15.921875 20.484375 11.0625 \r\nQ 25.484375 6.203125 34.421875 6.203125 \r\nQ 39.59375 6.203125 44.453125 7.46875 \r\nQ 49.3125 8.734375 54.109375 11.28125 \r\nL 54.109375 2.78125 \r\nQ 49.265625 0.734375 44.1875 -0.34375 \r\nQ 39.109375 -1.421875 33.890625 -1.421875 \r\nQ 20.796875 -1.421875 13.15625 6.1875 \r\nQ 5.515625 13.8125 5.515625 26.8125 \r\nQ 5.515625 40.234375 12.765625 48.109375 \r\nQ 20.015625 56 32.328125 56 \r\nQ 43.359375 56 49.78125 48.890625 \r\nQ 56.203125 41.796875 56.203125 29.59375 \r\nz\r\nM 47.21875 32.234375 \r\nQ 47.125 39.59375 43.09375 43.984375 \r\nQ 39.0625 48.390625 32.421875 48.390625 \r\nQ 24.90625 48.390625 20.390625 44.140625 \r\nQ 15.875 39.890625 15.1875 32.171875 \r\nz\r\n\" id=\"DejaVuSans-101\"/>\r\n     </defs>\r\n     <g transform=\"translate(83.0125 27.298437)scale(0.1 -0.1)\">\r\n      <use xlink:href=\"#DejaVuSans-82\"/>\r\n      <use x=\"69.419922\" xlink:href=\"#DejaVuSans-101\"/>\r\n      <use x=\"130.943359\" xlink:href=\"#DejaVuSans-97\"/>\r\n      <use x=\"192.222656\" xlink:href=\"#DejaVuSans-108\"/>\r\n     </g>\r\n    </g>\r\n    <g id=\"line2d_38\">\r\n     <path d=\"M 55.0125 38.476562 \r\nL 75.0125 38.476562 \r\n\" style=\"fill:none;stroke:#ff7f0e;stroke-linecap:square;stroke-width:1.5;\"/>\r\n    </g>\r\n    <g id=\"line2d_39\"/>\r\n    <g id=\"text_12\">\r\n     <!-- Predicted -->\r\n     <defs>\r\n      <path d=\"M 19.671875 64.796875 \r\nL 19.671875 37.40625 \r\nL 32.078125 37.40625 \r\nQ 38.96875 37.40625 42.71875 40.96875 \r\nQ 46.484375 44.53125 46.484375 51.125 \r\nQ 46.484375 57.671875 42.71875 61.234375 \r\nQ 38.96875 64.796875 32.078125 64.796875 \r\nz\r\nM 9.8125 72.90625 \r\nL 32.078125 72.90625 \r\nQ 44.34375 72.90625 50.609375 67.359375 \r\nQ 56.890625 61.8125 56.890625 51.125 \r\nQ 56.890625 40.328125 50.609375 34.8125 \r\nQ 44.34375 29.296875 32.078125 29.296875 \r\nL 19.671875 29.296875 \r\nL 19.671875 0 \r\nL 9.8125 0 \r\nz\r\n\" id=\"DejaVuSans-80\"/>\r\n      <path d=\"M 45.40625 46.390625 \r\nL 45.40625 75.984375 \r\nL 54.390625 75.984375 \r\nL 54.390625 0 \r\nL 45.40625 0 \r\nL 45.40625 8.203125 \r\nQ 42.578125 3.328125 38.25 0.953125 \r\nQ 33.9375 -1.421875 27.875 -1.421875 \r\nQ 17.96875 -1.421875 11.734375 6.484375 \r\nQ 5.515625 14.40625 5.515625 27.296875 \r\nQ 5.515625 40.1875 11.734375 48.09375 \r\nQ 17.96875 56 27.875 56 \r\nQ 33.9375 56 38.25 53.625 \r\nQ 42.578125 51.265625 45.40625 46.390625 \r\nz\r\nM 14.796875 27.296875 \r\nQ 14.796875 17.390625 18.875 11.75 \r\nQ 22.953125 6.109375 30.078125 6.109375 \r\nQ 37.203125 6.109375 41.296875 11.75 \r\nQ 45.40625 17.390625 45.40625 27.296875 \r\nQ 45.40625 37.203125 41.296875 42.84375 \r\nQ 37.203125 48.484375 30.078125 48.484375 \r\nQ 22.953125 48.484375 18.875 42.84375 \r\nQ 14.796875 37.203125 14.796875 27.296875 \r\nz\r\n\" id=\"DejaVuSans-100\"/>\r\n      <path d=\"M 9.421875 54.6875 \r\nL 18.40625 54.6875 \r\nL 18.40625 0 \r\nL 9.421875 0 \r\nz\r\nM 9.421875 75.984375 \r\nL 18.40625 75.984375 \r\nL 18.40625 64.59375 \r\nL 9.421875 64.59375 \r\nz\r\n\" id=\"DejaVuSans-105\"/>\r\n      <path d=\"M 48.78125 52.59375 \r\nL 48.78125 44.1875 \r\nQ 44.96875 46.296875 41.140625 47.34375 \r\nQ 37.3125 48.390625 33.40625 48.390625 \r\nQ 24.65625 48.390625 19.8125 42.84375 \r\nQ 14.984375 37.3125 14.984375 27.296875 \r\nQ 14.984375 17.28125 19.8125 11.734375 \r\nQ 24.65625 6.203125 33.40625 6.203125 \r\nQ 37.3125 6.203125 41.140625 7.25 \r\nQ 44.96875 8.296875 48.78125 10.40625 \r\nL 48.78125 2.09375 \r\nQ 45.015625 0.34375 40.984375 -0.53125 \r\nQ 36.96875 -1.421875 32.421875 -1.421875 \r\nQ 20.0625 -1.421875 12.78125 6.34375 \r\nQ 5.515625 14.109375 5.515625 27.296875 \r\nQ 5.515625 40.671875 12.859375 48.328125 \r\nQ 20.21875 56 33.015625 56 \r\nQ 37.15625 56 41.109375 55.140625 \r\nQ 45.0625 54.296875 48.78125 52.59375 \r\nz\r\n\" id=\"DejaVuSans-99\"/>\r\n      <path d=\"M 18.3125 70.21875 \r\nL 18.3125 54.6875 \r\nL 36.8125 54.6875 \r\nL 36.8125 47.703125 \r\nL 18.3125 47.703125 \r\nL 18.3125 18.015625 \r\nQ 18.3125 11.328125 20.140625 9.421875 \r\nQ 21.96875 7.515625 27.59375 7.515625 \r\nL 36.8125 7.515625 \r\nL 36.8125 0 \r\nL 27.59375 0 \r\nQ 17.1875 0 13.234375 3.875 \r\nQ 9.28125 7.765625 9.28125 18.015625 \r\nL 9.28125 47.703125 \r\nL 2.6875 47.703125 \r\nL 2.6875 54.6875 \r\nL 9.28125 54.6875 \r\nL 9.28125 70.21875 \r\nz\r\n\" id=\"DejaVuSans-116\"/>\r\n     </defs>\r\n     <g transform=\"translate(83.0125 41.976562)scale(0.1 -0.1)\">\r\n      <use xlink:href=\"#DejaVuSans-80\"/>\r\n      <use x=\"60.287109\" xlink:href=\"#DejaVuSans-114\"/>\r\n      <use x=\"101.369141\" xlink:href=\"#DejaVuSans-101\"/>\r\n      <use x=\"162.892578\" xlink:href=\"#DejaVuSans-100\"/>\r\n      <use x=\"226.369141\" xlink:href=\"#DejaVuSans-105\"/>\r\n      <use x=\"254.152344\" xlink:href=\"#DejaVuSans-99\"/>\r\n      <use x=\"309.132812\" xlink:href=\"#DejaVuSans-116\"/>\r\n      <use x=\"348.341797\" xlink:href=\"#DejaVuSans-101\"/>\r\n      <use x=\"409.865234\" xlink:href=\"#DejaVuSans-100\"/>\r\n     </g>\r\n    </g>\r\n   </g>\r\n  </g>\r\n </g>\r\n <defs>\r\n  <clipPath id=\"pb956a1c8f9\">\r\n   <rect height=\"217.44\" width=\"334.8\" x=\"46.0125\" y=\"10.7\"/>\r\n  </clipPath>\r\n </defs>\r\n</svg>\r\n",
      "image/png": "[encoded data removed]"
     },
     "metadata": {
      "needs_background": "light"
     }
    }
   ],
   "source": [
    "# Plot the real vs predicted values as a line chart\n",
    "stocks.plot()"
   ]
  },
  {
   "cell_type": "code",
   "execution_count": null,
   "metadata": {},
   "outputs": [],
   "source": []
  }
 ],
 "metadata": {
  "file_extension": ".py",
  "kernelspec": {
   "display_name": "Python 3",
   "language": "python",
   "name": "python3"
  },
  "language_info": {
   "codemirror_mode": {
    "name": "ipython",
    "version": 3
   },
   "file_extension": ".py",
   "mimetype": "text/x-python",
   "name": "python",
   "nbconvert_exporter": "python",
   "pygments_lexer": "ipython3",
   "version": "3.7.9-final"
  },
  "mimetype": "text/x-python",
  "name": "python",
  "npconvert_exporter": "python",
  "pygments_lexer": "ipython3",
  "version": 3
 },
 "nbformat": 4,
 "nbformat_minor": 4
}