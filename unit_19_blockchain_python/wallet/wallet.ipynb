{
 "cells": [
  {
   "cell_type": "code",
   "execution_count": 1,
   "metadata": {},
   "outputs": [
    {
     "name": "stdout",
     "output_type": "stream",
     "text": [
      "Requirement already satisfied: web3 in c:\\users\\nospm\\anaconda3\\envs\\ethenv\\lib\\site-packages (5.17.0)\n",
      "Requirement already satisfied: eth-account<0.6.0,>=0.5.3 in c:\\users\\nospm\\anaconda3\\envs\\ethenv\\lib\\site-packages (from web3) (0.5.4)\n",
      "Requirement already satisfied: requests<3.0.0,>=2.16.0 in c:\\users\\nospm\\anaconda3\\envs\\ethenv\\lib\\site-packages (from web3) (2.24.0)\n",
      "Requirement already satisfied: eth-abi<3.0.0,>=2.0.0b6 in c:\\users\\nospm\\anaconda3\\envs\\ethenv\\lib\\site-packages (from web3) (2.1.1)\n",
      "Requirement already satisfied: eth-hash[pycryptodome]<1.0.0,>=0.2.0 in c:\\users\\nospm\\anaconda3\\envs\\ethenv\\lib\\site-packages (from web3) (0.3.1)\n",
      "Requirement already satisfied: lru-dict<2.0.0,>=1.1.6 in c:\\users\\nospm\\anaconda3\\envs\\ethenv\\lib\\site-packages (from web3) (1.1.7)\n",
      "Requirement already satisfied: jsonschema<4.0.0,>=3.2.0 in c:\\users\\nospm\\anaconda3\\envs\\ethenv\\lib\\site-packages (from web3) (3.2.0)\n",
      "Requirement already satisfied: typing-extensions<4,>=3.7.4.1; python_version < \"3.8\" in c:\\users\\nospm\\anaconda3\\envs\\ethenv\\lib\\site-packages (from web3) (3.7.4.3)\n",
      "Requirement already satisfied: pypiwin32>=223; platform_system == \"Windows\" in c:\\users\\nospm\\anaconda3\\envs\\ethenv\\lib\\site-packages (from web3) (223)\n",
      "Requirement already satisfied: eth-utils<2.0.0,>=1.9.5 in c:\\users\\nospm\\anaconda3\\envs\\ethenv\\lib\\site-packages (from web3) (1.10.0)\n",
      "Requirement already satisfied: ipfshttpclient==0.7.0a1 in c:\\users\\nospm\\anaconda3\\envs\\ethenv\\lib\\site-packages (from web3) (0.7.0a1)\n",
      "Requirement already satisfied: hexbytes<1.0.0,>=0.1.0 in c:\\users\\nospm\\anaconda3\\envs\\ethenv\\lib\\site-packages (from web3) (0.2.1)\n",
      "Requirement already satisfied: eth-typing<3.0.0,>=2.0.0 in c:\\users\\nospm\\anaconda3\\envs\\ethenv\\lib\\site-packages (from web3) (2.2.2)\n",
      "Requirement already satisfied: websockets<9.0.0,>=8.1.0 in c:\\users\\nospm\\anaconda3\\envs\\ethenv\\lib\\site-packages (from web3) (8.1)\n",
      "Requirement already satisfied: protobuf<4,>=3.10.0 in c:\\users\\nospm\\anaconda3\\envs\\ethenv\\lib\\site-packages (from web3) (3.15.7)\n",
      "Requirement already satisfied: bitarray<1.3.0,>=1.2.1 in c:\\users\\nospm\\anaconda3\\envs\\ethenv\\lib\\site-packages (from eth-account<0.6.0,>=0.5.3->web3) (1.2.2)\n",
      "Requirement already satisfied: eth-keys!=0.3.2,<0.4.0,>=0.2.1 in c:\\users\\nospm\\anaconda3\\envs\\ethenv\\lib\\site-packages (from eth-account<0.6.0,>=0.5.3->web3) (0.3.3)\n",
      "Requirement already satisfied: eth-keyfile<0.6.0,>=0.5.0 in c:\\users\\nospm\\anaconda3\\envs\\ethenv\\lib\\site-packages (from eth-account<0.6.0,>=0.5.3->web3) (0.5.1)\n",
      "Requirement already satisfied: rlp<3,>=1.0.0 in c:\\users\\nospm\\anaconda3\\envs\\ethenv\\lib\\site-packages (from eth-account<0.6.0,>=0.5.3->web3) (2.0.1)\n",
      "Requirement already satisfied: eth-rlp<2,>=0.1.2 in c:\\users\\nospm\\anaconda3\\envs\\ethenv\\lib\\site-packages (from eth-account<0.6.0,>=0.5.3->web3) (0.2.1)\n",
      "Requirement already satisfied: certifi>=2017.4.17 in c:\\users\\nospm\\appdata\\roaming\\python\\python37\\site-packages (from requests<3.0.0,>=2.16.0->web3) (2020.12.5)\n",
      "Requirement already satisfied: urllib3!=1.25.0,!=1.25.1,<1.26,>=1.21.1 in c:\\users\\nospm\\anaconda3\\envs\\ethenv\\lib\\site-packages (from requests<3.0.0,>=2.16.0->web3) (1.25.11)\n",
      "Requirement already satisfied: idna<3,>=2.5 in c:\\users\\nospm\\anaconda3\\envs\\ethenv\\lib\\site-packages (from requests<3.0.0,>=2.16.0->web3) (2.10)\n",
      "Requirement already satisfied: chardet<4,>=3.0.2 in c:\\users\\nospm\\anaconda3\\envs\\ethenv\\lib\\site-packages (from requests<3.0.0,>=2.16.0->web3) (3.0.4)\n",
      "Requirement already satisfied: parsimonious<0.9.0,>=0.8.0 in c:\\users\\nospm\\anaconda3\\envs\\ethenv\\lib\\site-packages (from eth-abi<3.0.0,>=2.0.0b6->web3) (0.8.1)\n",
      "Requirement already satisfied: pycryptodome<4,>=3.6.6; extra == \"pycryptodome\" in c:\\users\\nospm\\anaconda3\\envs\\ethenv\\lib\\site-packages (from eth-hash[pycryptodome]<1.0.0,>=0.2.0->web3) (3.10.1)\n",
      "Requirement already satisfied: setuptools in c:\\users\\nospm\\anaconda3\\envs\\ethenv\\lib\\site-packages (from jsonschema<4.0.0,>=3.2.0->web3) (50.3.1.post20201107)\n",
      "Requirement already satisfied: importlib-metadata; python_version < \"3.8\" in c:\\users\\nospm\\anaconda3\\envs\\ethenv\\lib\\site-packages (from jsonschema<4.0.0,>=3.2.0->web3) (2.0.0)\n",
      "Requirement already satisfied: attrs>=17.4.0 in c:\\users\\nospm\\anaconda3\\envs\\ethenv\\lib\\site-packages (from jsonschema<4.0.0,>=3.2.0->web3) (20.3.0)\n",
      "Requirement already satisfied: six>=1.11.0 in c:\\users\\nospm\\anaconda3\\envs\\ethenv\\lib\\site-packages (from jsonschema<4.0.0,>=3.2.0->web3) (1.15.0)\n",
      "Requirement already satisfied: pyrsistent>=0.14.0 in c:\\users\\nospm\\anaconda3\\envs\\ethenv\\lib\\site-packages (from jsonschema<4.0.0,>=3.2.0->web3) (0.17.3)\n",
      "Requirement already satisfied: pywin32>=223 in c:\\users\\nospm\\anaconda3\\envs\\ethenv\\lib\\site-packages (from pypiwin32>=223; platform_system == \"Windows\"->web3) (227)\n",
      "Requirement already satisfied: cytoolz<1.0.0,>=0.10.1; implementation_name == \"cpython\" in c:\\users\\nospm\\anaconda3\\envs\\ethenv\\lib\\site-packages (from eth-utils<2.0.0,>=1.9.5->web3) (0.11.0)\n",
      "Requirement already satisfied: multiaddr>=0.0.7 in c:\\users\\nospm\\anaconda3\\envs\\ethenv\\lib\\site-packages (from ipfshttpclient==0.7.0a1->web3) (0.0.9)\n",
      "Requirement already satisfied: zipp>=0.5 in c:\\users\\nospm\\anaconda3\\envs\\ethenv\\lib\\site-packages (from importlib-metadata; python_version < \"3.8\"->jsonschema<4.0.0,>=3.2.0->web3) (3.4.0)\n",
      "Requirement already satisfied: toolz>=0.8.0 in c:\\users\\nospm\\anaconda3\\envs\\ethenv\\lib\\site-packages (from cytoolz<1.0.0,>=0.10.1; implementation_name == \"cpython\"->eth-utils<2.0.0,>=1.9.5->web3) (0.11.1)\n",
      "Requirement already satisfied: varint in c:\\users\\nospm\\anaconda3\\envs\\ethenv\\lib\\site-packages (from multiaddr>=0.0.7->ipfshttpclient==0.7.0a1->web3) (1.0.2)\n",
      "Requirement already satisfied: base58 in c:\\users\\nospm\\anaconda3\\envs\\ethenv\\lib\\site-packages (from multiaddr>=0.0.7->ipfshttpclient==0.7.0a1->web3) (2.1.0)\n",
      "Requirement already satisfied: netaddr in c:\\users\\nospm\\anaconda3\\envs\\ethenv\\lib\\site-packages (from multiaddr>=0.0.7->ipfshttpclient==0.7.0a1->web3) (0.8.0)\n",
      "Requirement already satisfied: bit in c:\\users\\nospm\\anaconda3\\envs\\ethenv\\lib\\site-packages (0.7.2)\n",
      "Requirement already satisfied: coincurve>=4.3.0 in c:\\users\\nospm\\anaconda3\\envs\\ethenv\\lib\\site-packages (from bit) (15.0.0)\n",
      "Requirement already satisfied: requests in c:\\users\\nospm\\anaconda3\\envs\\ethenv\\lib\\site-packages (from bit) (2.24.0)\n",
      "Requirement already satisfied: cffi>=1.3.0 in c:\\users\\nospm\\anaconda3\\envs\\ethenv\\lib\\site-packages (from coincurve>=4.3.0->bit) (1.14.3)\n",
      "Requirement already satisfied: asn1crypto in c:\\users\\nospm\\anaconda3\\envs\\ethenv\\lib\\site-packages (from coincurve>=4.3.0->bit) (1.4.0)\n",
      "Requirement already satisfied: urllib3!=1.25.0,!=1.25.1,<1.26,>=1.21.1 in c:\\users\\nospm\\anaconda3\\envs\\ethenv\\lib\\site-packages (from requests->bit) (1.25.11)\n",
      "Requirement already satisfied: idna<3,>=2.5 in c:\\users\\nospm\\anaconda3\\envs\\ethenv\\lib\\site-packages (from requests->bit) (2.10)\n",
      "Requirement already satisfied: chardet<4,>=3.0.2 in c:\\users\\nospm\\anaconda3\\envs\\ethenv\\lib\\site-packages (from requests->bit) (3.0.4)\n",
      "Requirement already satisfied: certifi>=2017.4.17 in c:\\users\\nospm\\appdata\\roaming\\python\\python37\\site-packages (from requests->bit) (2020.12.5)\n",
      "Requirement already satisfied: pycparser in c:\\users\\nospm\\anaconda3\\envs\\ethenv\\lib\\site-packages (from cffi>=1.3.0->coincurve>=4.3.0->bit) (2.20)\n"
     ]
    }
   ],
   "source": [
    "!pip install web3\n",
    "!pip install bit"
   ]
  },
  {
   "cell_type": "markdown",
   "metadata": {},
   "source": [
    "# Imports"
   ]
  },
  {
   "cell_type": "code",
   "execution_count": 2,
   "metadata": {},
   "outputs": [],
   "source": [
    "import subprocess\n",
    "import json\n",
    "import os\n",
    "from dotenv import load_dotenv\n",
    "from constants import *"
   ]
  },
  {
   "cell_type": "code",
   "execution_count": 3,
   "metadata": {},
   "outputs": [],
   "source": [
    "from web3 import Web3\n",
    "from eth_account import Account"
   ]
  },
  {
   "cell_type": "code",
   "execution_count": 35,
   "metadata": {},
   "outputs": [],
   "source": [
    "from bit import wif_to_key, PrivateKeyTestnet\n",
    "from bit.network import NetworkAPI"
   ]
  },
  {
   "cell_type": "code",
   "execution_count": 5,
   "metadata": {},
   "outputs": [
    {
     "data": {
      "text/plain": [
       "True"
      ]
     },
     "execution_count": 5,
     "metadata": {},
     "output_type": "execute_result"
    }
   ],
   "source": [
    "load_dotenv()"
   ]
  },
  {
   "cell_type": "markdown",
   "metadata": {},
   "source": [
    "# Functions"
   ]
  },
  {
   "cell_type": "code",
   "execution_count": 6,
   "metadata": {},
   "outputs": [],
   "source": [
    "def derive_wallets(mnemonic, coin_list):\n",
    "    \n",
    "    wallets = {}\n",
    "\n",
    "    for i in range(len(coin_list)):        \n",
    "        \n",
    "        # Get current coin\n",
    "        coin = coin_list[i]        \n",
    "       \n",
    "        # Build command args\n",
    "        cmd = 'php derive -g --mnemonic=\"' + mnemonic + '\" --cols=address,index,path,privkey,pubkey,pubkeyhash,xprv,xpub --coin=' + coin + ' --numderive=10 --format=json'\n",
    "    \n",
    "        # Connect to hd-wallet process, pipe results\n",
    "        p = subprocess.Popen(cmd, stdout=subprocess.PIPE, shell=True)\n",
    "        output, err = p.communicate()\n",
    "        p_status = p.wait()\n",
    "\n",
    "        # Get keys in json\n",
    "        keys = json.loads(output)\n",
    "        \n",
    "        # Add coind specific wallets\n",
    "        wallets[coin] = keys\n",
    "\n",
    "    return wallets"
   ]
  },
  {
   "cell_type": "code",
   "execution_count": 7,
   "metadata": {},
   "outputs": [],
   "source": [
    "def priv_key_to_account(coin, priv_key):\n",
    "    \n",
    "    if (coin == ETH):\n",
    "        return Account.privateKeyToAccount(priv_key)\n",
    "    elif (coin == BTCTEST):\n",
    "        return PrivateKeyTestnet(priv_key)\n",
    "    \n",
    "    return None"
   ]
  },
  {
   "cell_type": "code",
   "execution_count": 31,
   "metadata": {},
   "outputs": [],
   "source": [
    "def create_tx(coin, account, to, amount):\n",
    "    \n",
    "    if (coin == ETH):\n",
    "        \n",
    "        gasEstimate = w3.eth.estimateGas({ \"from\": account.address, \"to\": to, \"value\": amount})\n",
    "            \n",
    "        return {\n",
    "            \"from\": account.address,\n",
    "            \"to\": to,\n",
    "            \"value\": amount,\n",
    "            \"gasPrice\": w3.eth.gasPrice,\n",
    "            \"gas\": gasEstimate,\n",
    "            \"nonce\": w3.eth.getTransactionCount(account.address) \n",
    "        }\n",
    "\n",
    "    elif (coin == BTCTEST):\n",
    "        \n",
    "        return PrivateKeyTestnet.prepare_transaction(\n",
    "            account.address, \n",
    "            [(to, amount, BTC)])\n",
    "    \n",
    "    return None"
   ]
  },
  {
   "cell_type": "code",
   "execution_count": 37,
   "metadata": {},
   "outputs": [],
   "source": [
    "def send_tx(coin, account, to, amount):\n",
    "    \n",
    "    raw_tx = create_tx(coin, account, to, amount)\n",
    "    signed_tx = signed_tx = account.sign_transaction(raw_tx)\n",
    "    \n",
    "    if (coin == ETH):  \n",
    "        w3.eth.sendRawTransaction(signed_tx.rawTransaction)\n",
    "        \n",
    "    elif (coin == BTCTEST):\n",
    "        NetworkAPI.broadcast_tx_testnet(signed_tx)\n",
    "    \n",
    "    return signed_tx"
   ]
  },
  {
   "cell_type": "markdown",
   "metadata": {},
   "source": [
    "# Configuration"
   ]
  },
  {
   "cell_type": "code",
   "execution_count": 10,
   "metadata": {},
   "outputs": [],
   "source": [
    "# Get mnemonic from env vars but use default value if not found\n",
    "mnemonic = os.getenv('MNEMONIC_HW19', 'improve lion original smoke tail reveal boy ability weird lawsuit immune quality')"
   ]
  },
  {
   "cell_type": "code",
   "execution_count": 41,
   "metadata": {},
   "outputs": [],
   "source": [
    "# Init w3\n",
    "w3 = Web3(Web3.HTTPProvider(\"http://127.0.0.1:8545\"))"
   ]
  },
  {
   "cell_type": "code",
   "execution_count": 12,
   "metadata": {},
   "outputs": [],
   "source": [
    "# Init coin list\n",
    "coin_list = [BTC, BTCTEST, ETH]"
   ]
  },
  {
   "cell_type": "code",
   "execution_count": 13,
   "metadata": {},
   "outputs": [],
   "source": [
    "# Init coins dictionary for fast lookup\n",
    "coins = derive_wallets(mnemonic, coin_list)"
   ]
  },
  {
   "cell_type": "code",
   "execution_count": 15,
   "metadata": {},
   "outputs": [
    {
     "name": "stdout",
     "output_type": "stream",
     "text": [
      "*** Bitcoin TestNet ***\n",
      "- from address: mtUYCvJjnb5gCf1ifC3zTFpf2gCSSP9aBH\n",
      "- to address: mhRfsyWnTzcSUzUbCcV4UrAiWVSc1P9skM\n"
     ]
    }
   ],
   "source": [
    "# Bitcoin TestNet addresses\n",
    "btc_test_from = coins[BTCTEST][0]['address']\n",
    "btc_test_to = coins[BTCTEST][1]['address']\n",
    "\n",
    "print(f'*** Bitcoin TestNet ***')\n",
    "print(f'- from address: {btc_test_from}')\n",
    "print(f'- to address: {btc_test_to}')"
   ]
  },
  {
   "cell_type": "code",
   "execution_count": 16,
   "metadata": {},
   "outputs": [
    {
     "name": "stdout",
     "output_type": "stream",
     "text": [
      "*** Ethereum Test ***\n",
      "- from address: 0xcBc170C299E841dB273c23262570B63DD5Fe5531\n",
      "- to address: 0x00Cd84679Fab56696Baf12314Bfc4F9fBd946EC8\n"
     ]
    }
   ],
   "source": [
    "# Ethereum addresses\n",
    "eth_from = coins[ETH][0]['address']\n",
    "eth_to = coins[ETH][1]['address']\n",
    "\n",
    "print(f'*** Ethereum Test ***')\n",
    "print(f'- from address: {eth_from}')\n",
    "print(f'- to address: {eth_to}')"
   ]
  },
  {
   "cell_type": "markdown",
   "metadata": {},
   "source": [
    "# Bitcoin TestNet Transactions"
   ]
  },
  {
   "cell_type": "code",
   "execution_count": 17,
   "metadata": {},
   "outputs": [
    {
     "data": {
      "text/plain": [
       "<PrivateKeyTestnet: mtUYCvJjnb5gCf1ifC3zTFpf2gCSSP9aBH>"
      ]
     },
     "execution_count": 17,
     "metadata": {},
     "output_type": "execute_result"
    }
   ],
   "source": [
    "# Init acct for add1\n",
    "btc_test_act = priv_key_to_account(BTCTEST, coins[BTCTEST][0]['privkey'])\n",
    "btc_test_act"
   ]
  },
  {
   "cell_type": "code",
   "execution_count": 39,
   "metadata": {},
   "outputs": [
    {
     "data": {
      "text/plain": [
       "'01000000018f138fa04f0bbe5ff8eb93b137bfe369ff5f5d8d506292fe61d4263a6050ad6f010000006a473044022062d52144254654fd6101e11504547bfec242a26e458f3194758d10821e44998e02206f9493cd626c825f008e49a3e54e3d0312de1e3fd17e5dc1271008f2658d0b0701210314dfd94b0fa01bd8f7a37b9a43bbf5c1fddfa4e1b37298df65bced4fdebe9dd9ffffffff0240420f00000000001976a91414f07815989b9a2bbaeb6e817defe1ae6e100a2f88ac52e0d001000000001976a9148e24b1f7723e9923590453dfd6a02a100b8287f188ac00000000'"
      ]
     },
     "execution_count": 39,
     "metadata": {},
     "output_type": "execute_result"
    }
   ],
   "source": [
    "# Send .01 BTC from add1 to add2\n",
    "result = send_tx(BTCTEST, btc_test_act, btc_test_to, .01)\n",
    "\n",
    "# Output signed transaction\n",
    "result"
   ]
  },
  {
   "cell_type": "markdown",
   "metadata": {},
   "source": [
    "# Ethereum Test Transactions"
   ]
  },
  {
   "cell_type": "code",
   "execution_count": 46,
   "metadata": {},
   "outputs": [
    {
     "data": {
      "text/plain": [
       "<eth_account.signers.local.LocalAccount at 0x2ae2802ac08>"
      ]
     },
     "execution_count": 46,
     "metadata": {},
     "output_type": "execute_result"
    }
   ],
   "source": [
    "# Init acct for add1\n",
    "eth_act = priv_key_to_account(ETH, coins[ETH][0]['privkey'])\n",
    "eth_act"
   ]
  },
  {
   "cell_type": "code",
   "execution_count": 51,
   "metadata": {},
   "outputs": [
    {
     "data": {
      "text/plain": [
       "SignedTransaction(rawTransaction=HexBytes('0xf864808504a817c8008252089400cd84679fab56696baf12314bfc4f9fbd946ec805801ba0641b65d4d78f3142dd1afe337ceaa674c7c9f3e050afaeb136585967f65fca6fa057cc32b64bfdbece0533e8081bbbadbdd3328df1b67b5ec5785d944ab9a1a965'), hash=HexBytes('0x5997dde8695732733f21550853d4d5a87a7116181806d681a9ac45e57ee4629d'), r=45279692543666423153447733559079796413807271053891692071877935643416323934831, s=39712004629989405791151302262367807160848092398002048164199108688998530394469, v=27)"
      ]
     },
     "execution_count": 51,
     "metadata": {},
     "output_type": "execute_result"
    }
   ],
   "source": [
    "# Send 5 ETH from add1 to add2\n",
    "eth_result = send_tx(ETH, eth_act, eth_to, 5)\n",
    "\n",
    "# Output signed transaction\n",
    "eth_result"
   ]
  },
  {
   "cell_type": "markdown",
   "metadata": {},
   "source": [
    "# Testing"
   ]
  },
  {
   "cell_type": "code",
   "execution_count": null,
   "metadata": {},
   "outputs": [],
   "source": [
    "# signed_tx = signed_tx = account.sign_transaction(raw_tx)"
   ]
  },
  {
   "cell_type": "code",
   "execution_count": null,
   "metadata": {},
   "outputs": [],
   "source": [
    "# raw_tx = create_tx(BTCTEST, btc_test_act, btc_test_to, .01)"
   ]
  },
  {
   "cell_type": "code",
   "execution_count": null,
   "metadata": {},
   "outputs": [],
   "source": [
    "# signed_tx = account.sign_transaction(raw_tx)"
   ]
  },
  {
   "cell_type": "code",
   "execution_count": null,
   "metadata": {},
   "outputs": [],
   "source": [
    "# NetworkAPI.broadcast_tx_testnet(signed)"
   ]
  },
  {
   "cell_type": "code",
   "execution_count": null,
   "metadata": {},
   "outputs": [],
   "source": [
    "# w3.eth.getBalance(coins[ETH][0]['privkey'])"
   ]
  },
  {
   "cell_type": "code",
   "execution_count": null,
   "metadata": {},
   "outputs": [],
   "source": []
  }
 ],
 "metadata": {
  "kernelspec": {
   "display_name": "Python 3",
   "language": "python",
   "name": "python3"
  },
  "language_info": {
   "codemirror_mode": {
    "name": "ipython",
    "version": 3
   },
   "file_extension": ".py",
   "mimetype": "text/x-python",
   "name": "python",
   "nbconvert_exporter": "python",
   "pygments_lexer": "ipython3",
   "version": "3.7.9"
  }
 },
 "nbformat": 4,
 "nbformat_minor": 5
}
